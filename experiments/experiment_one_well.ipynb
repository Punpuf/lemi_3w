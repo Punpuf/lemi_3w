{
 "cells": [
  {
   "cell_type": "markdown",
   "metadata": {},
   "source": [
    "# Experimento com dados de 1 único poço\n",
    "\n",
    "Nesse notebook será realizado as tarefas de obtenção de dados, tratamento, modelagem, e validação de dados.\n",
    "O objetivo aqui é obter um classificador de anomalias para dados de 1 único poço.\n",
    "\n",
    "A hipótese é que utilizando dados de apenas 1 poço, seja mais viável identificar padrões de anomalias."
   ]
  },
  {
   "cell_type": "markdown",
   "metadata": {},
   "source": [
    "**Dados do poço de id 5**:\n",
    "- 68 normal events (979.530), 33 flow instability (271.487)\n",
    "- 2 / 1 ou ( 3,6 / 1 )\n",
    "\n",
    "Para uso nos testes preliminares de modelagem, será utilizado o poço de id 5. Motivos:\n",
    "- possui boa quantidade de arquivos, e instâncias, normal e de anomalia;\n",
    "- não tão desbalanceado em termos normal vs. anomalia;"
   ]
  },
  {
   "cell_type": "markdown",
   "metadata": {},
   "source": [
    "## Aquisição de dados"
   ]
  },
  {
   "cell_type": "code",
   "execution_count": 1,
   "metadata": {},
   "outputs": [
    {
     "name": "stderr",
     "output_type": "stream",
     "text": [
      "2023-09-11 13:28:34.327090: I tensorflow/core/util/port.cc:110] oneDNN custom operations are on. You may see slightly different numerical results due to floating-point round-off errors from different computation orders. To turn them off, set the environment variable `TF_ENABLE_ONEDNN_OPTS=0`.\n",
      "2023-09-11 13:28:34.330238: I tensorflow/tsl/cuda/cudart_stub.cc:28] Could not find cuda drivers on your machine, GPU will not be used.\n",
      "2023-09-11 13:28:34.398142: I tensorflow/tsl/cuda/cudart_stub.cc:28] Could not find cuda drivers on your machine, GPU will not be used.\n",
      "2023-09-11 13:28:34.400355: I tensorflow/core/platform/cpu_feature_guard.cc:182] This TensorFlow binary is optimized to use available CPU instructions in performance-critical operations.\n",
      "To enable the following instructions: AVX2 AVX512F AVX512_VNNI FMA, in other operations, rebuild TensorFlow with the appropriate compiler flags.\n",
      "2023-09-11 13:28:35.704979: W tensorflow/compiler/tf2tensorrt/utils/py_utils.cc:38] TF-TRT Warning: Could not find TensorRT\n"
     ]
    }
   ],
   "source": [
    "# Environment configuration\n",
    "import raw_data_manager.raw_data_acquisition as rda\n",
    "import raw_data_manager.raw_data_inspector as rdi\n",
    "import raw_data_manager.raw_data_splitter as rds\n",
    "from data_exploration.metric_acquisition import MetricAcquisition\n",
    "from data_preparation.transformation_manager import TransformationManager\n",
    "from constants import utils, config\n",
    "import pathlib\n",
    "\n",
    "# Set default logging level.\n",
    "from absl import logging\n",
    "logging.set_verbosity(logging.DEBUG)"
   ]
  },
  {
   "cell_type": "code",
   "execution_count": 2,
   "metadata": {},
   "outputs": [
    {
     "name": "stderr",
     "output_type": "stream",
     "text": [
      "INFO:absl:Directory with the biggest version: /home/ubuntu/lemi_3w/data/dataset_converted_v10101\n",
      "INFO:absl:Version: 10101\n",
      "INFO:absl:Latest local version is 10101\n",
      "INFO:absl:Going to fetch config file from $https://raw.githubusercontent.com/petrobras/3W/main/dataset/dataset.ini\n",
      "  % Total    % Received % Xferd  Average Speed   Time    Time     Time  Current\n",
      "                                 Dload  Upload   Total   Spent    Left  Speed\n",
      "100  2786  100  2786    0     0   4433      0 --:--:-- --:--:-- --:--:--  4436\n",
      "INFO:absl:Latest online version is 10101\n",
      "INFO:absl:Found existing converted data with dataset version of 10101\n",
      "INFO:absl:Directory with the biggest version: /home/ubuntu/lemi_3w/data/dataset_converted_v10101\n",
      "INFO:absl:Version: 10101\n"
     ]
    },
    {
     "data": {
      "text/html": [
       "<div>\n",
       "<style scoped>\n",
       "    .dataframe tbody tr th:only-of-type {\n",
       "        vertical-align: middle;\n",
       "    }\n",
       "\n",
       "    .dataframe tbody tr th {\n",
       "        vertical-align: top;\n",
       "    }\n",
       "\n",
       "    .dataframe thead th {\n",
       "        text-align: right;\n",
       "    }\n",
       "</style>\n",
       "<table border=\"1\" class=\"dataframe\">\n",
       "  <thead>\n",
       "    <tr style=\"text-align: right;\">\n",
       "      <th></th>\n",
       "      <th>class_type</th>\n",
       "      <th>source</th>\n",
       "      <th>well_id</th>\n",
       "      <th>path</th>\n",
       "      <th>timestamp</th>\n",
       "      <th>file_size</th>\n",
       "      <th>num_timesteps</th>\n",
       "    </tr>\n",
       "    <tr>\n",
       "      <th>hash_id</th>\n",
       "      <th></th>\n",
       "      <th></th>\n",
       "      <th></th>\n",
       "      <th></th>\n",
       "      <th></th>\n",
       "      <th></th>\n",
       "      <th></th>\n",
       "    </tr>\n",
       "  </thead>\n",
       "  <tbody>\n",
       "    <tr>\n",
       "      <th>74203bb</th>\n",
       "      <td>NORMAL</td>\n",
       "      <td>REAL</td>\n",
       "      <td>1.0</td>\n",
       "      <td>/home/ubuntu/lemi_3w/data/dataset_converted_v1...</td>\n",
       "      <td>2017-05-24 03:00:00</td>\n",
       "      <td>491415</td>\n",
       "      <td>17885</td>\n",
       "    </tr>\n",
       "    <tr>\n",
       "      <th>9fbd6f9</th>\n",
       "      <td>NORMAL</td>\n",
       "      <td>REAL</td>\n",
       "      <td>2.0</td>\n",
       "      <td>/home/ubuntu/lemi_3w/data/dataset_converted_v1...</td>\n",
       "      <td>2017-08-09 06:00:00</td>\n",
       "      <td>520154</td>\n",
       "      <td>17933</td>\n",
       "    </tr>\n",
       "    <tr>\n",
       "      <th>28804c5</th>\n",
       "      <td>NORMAL</td>\n",
       "      <td>REAL</td>\n",
       "      <td>6.0</td>\n",
       "      <td>/home/ubuntu/lemi_3w/data/dataset_converted_v1...</td>\n",
       "      <td>2017-05-08 09:00:31</td>\n",
       "      <td>349162</td>\n",
       "      <td>17970</td>\n",
       "    </tr>\n",
       "    <tr>\n",
       "      <th>42afe91</th>\n",
       "      <td>NORMAL</td>\n",
       "      <td>REAL</td>\n",
       "      <td>8.0</td>\n",
       "      <td>/home/ubuntu/lemi_3w/data/dataset_converted_v1...</td>\n",
       "      <td>2017-07-01 14:01:35</td>\n",
       "      <td>251880</td>\n",
       "      <td>17799</td>\n",
       "    </tr>\n",
       "    <tr>\n",
       "      <th>fa71d94</th>\n",
       "      <td>NORMAL</td>\n",
       "      <td>REAL</td>\n",
       "      <td>6.0</td>\n",
       "      <td>/home/ubuntu/lemi_3w/data/dataset_converted_v1...</td>\n",
       "      <td>2017-08-23 19:00:00</td>\n",
       "      <td>279737</td>\n",
       "      <td>17949</td>\n",
       "    </tr>\n",
       "    <tr>\n",
       "      <th>...</th>\n",
       "      <td>...</td>\n",
       "      <td>...</td>\n",
       "      <td>...</td>\n",
       "      <td>...</td>\n",
       "      <td>...</td>\n",
       "      <td>...</td>\n",
       "      <td>...</td>\n",
       "    </tr>\n",
       "    <tr>\n",
       "      <th>ea66cf6</th>\n",
       "      <td>SEVERE_SLUGGING</td>\n",
       "      <td>SIMULATED</td>\n",
       "      <td>NaN</td>\n",
       "      <td>/home/ubuntu/lemi_3w/data/dataset_converted_v1...</td>\n",
       "      <td>NaT</td>\n",
       "      <td>2315903</td>\n",
       "      <td>61999</td>\n",
       "    </tr>\n",
       "    <tr>\n",
       "      <th>34f032a</th>\n",
       "      <td>SEVERE_SLUGGING</td>\n",
       "      <td>SIMULATED</td>\n",
       "      <td>NaN</td>\n",
       "      <td>/home/ubuntu/lemi_3w/data/dataset_converted_v1...</td>\n",
       "      <td>NaT</td>\n",
       "      <td>2259539</td>\n",
       "      <td>61999</td>\n",
       "    </tr>\n",
       "    <tr>\n",
       "      <th>876a969</th>\n",
       "      <td>SEVERE_SLUGGING</td>\n",
       "      <td>REAL</td>\n",
       "      <td>14.0</td>\n",
       "      <td>/home/ubuntu/lemi_3w/data/dataset_converted_v1...</td>\n",
       "      <td>2017-09-25 06:00:42</td>\n",
       "      <td>1005717</td>\n",
       "      <td>17959</td>\n",
       "    </tr>\n",
       "    <tr>\n",
       "      <th>deac7ec</th>\n",
       "      <td>SEVERE_SLUGGING</td>\n",
       "      <td>SIMULATED</td>\n",
       "      <td>NaN</td>\n",
       "      <td>/home/ubuntu/lemi_3w/data/dataset_converted_v1...</td>\n",
       "      <td>NaT</td>\n",
       "      <td>2045137</td>\n",
       "      <td>61999</td>\n",
       "    </tr>\n",
       "    <tr>\n",
       "      <th>c8867fa</th>\n",
       "      <td>SEVERE_SLUGGING</td>\n",
       "      <td>SIMULATED</td>\n",
       "      <td>NaN</td>\n",
       "      <td>/home/ubuntu/lemi_3w/data/dataset_converted_v1...</td>\n",
       "      <td>NaT</td>\n",
       "      <td>2359418</td>\n",
       "      <td>61999</td>\n",
       "    </tr>\n",
       "  </tbody>\n",
       "</table>\n",
       "<p>1978 rows × 7 columns</p>\n",
       "</div>"
      ],
      "text/plain": [
       "              class_type     source  well_id  \\\n",
       "hash_id                                        \n",
       "74203bb           NORMAL       REAL      1.0   \n",
       "9fbd6f9           NORMAL       REAL      2.0   \n",
       "28804c5           NORMAL       REAL      6.0   \n",
       "42afe91           NORMAL       REAL      8.0   \n",
       "fa71d94           NORMAL       REAL      6.0   \n",
       "...                  ...        ...      ...   \n",
       "ea66cf6  SEVERE_SLUGGING  SIMULATED      NaN   \n",
       "34f032a  SEVERE_SLUGGING  SIMULATED      NaN   \n",
       "876a969  SEVERE_SLUGGING       REAL     14.0   \n",
       "deac7ec  SEVERE_SLUGGING  SIMULATED      NaN   \n",
       "c8867fa  SEVERE_SLUGGING  SIMULATED      NaN   \n",
       "\n",
       "                                                      path  \\\n",
       "hash_id                                                      \n",
       "74203bb  /home/ubuntu/lemi_3w/data/dataset_converted_v1...   \n",
       "9fbd6f9  /home/ubuntu/lemi_3w/data/dataset_converted_v1...   \n",
       "28804c5  /home/ubuntu/lemi_3w/data/dataset_converted_v1...   \n",
       "42afe91  /home/ubuntu/lemi_3w/data/dataset_converted_v1...   \n",
       "fa71d94  /home/ubuntu/lemi_3w/data/dataset_converted_v1...   \n",
       "...                                                    ...   \n",
       "ea66cf6  /home/ubuntu/lemi_3w/data/dataset_converted_v1...   \n",
       "34f032a  /home/ubuntu/lemi_3w/data/dataset_converted_v1...   \n",
       "876a969  /home/ubuntu/lemi_3w/data/dataset_converted_v1...   \n",
       "deac7ec  /home/ubuntu/lemi_3w/data/dataset_converted_v1...   \n",
       "c8867fa  /home/ubuntu/lemi_3w/data/dataset_converted_v1...   \n",
       "\n",
       "                  timestamp  file_size  num_timesteps  \n",
       "hash_id                                                \n",
       "74203bb 2017-05-24 03:00:00     491415          17885  \n",
       "9fbd6f9 2017-08-09 06:00:00     520154          17933  \n",
       "28804c5 2017-05-08 09:00:31     349162          17970  \n",
       "42afe91 2017-07-01 14:01:35     251880          17799  \n",
       "fa71d94 2017-08-23 19:00:00     279737          17949  \n",
       "...                     ...        ...            ...  \n",
       "ea66cf6                 NaT    2315903          61999  \n",
       "34f032a                 NaT    2259539          61999  \n",
       "876a969 2017-09-25 06:00:42    1005717          17959  \n",
       "deac7ec                 NaT    2045137          61999  \n",
       "c8867fa                 NaT    2359418          61999  \n",
       "\n",
       "[1978 rows x 7 columns]"
      ]
     },
     "execution_count": 2,
     "metadata": {},
     "output_type": "execute_result"
    }
   ],
   "source": [
    "## Acquire data (of entire 3W dataset)\n",
    "rda.acquire_dataset_if_needed()\n",
    "latest_converted_data_path, latest_converted_data_version = (\n",
    "    rda.get_latest_local_converted_data_version(config.DIR_PROJECT_DATA)\n",
    ")\n",
    "\n",
    "# Helper to overview metadata (of entire 3W dataset)\n",
    "inspector_test_single_well_transformed = rdi.RawDataInspector(\n",
    "    latest_converted_data_path,\n",
    "    config.PATH_DATA_INSPECTOR_CACHE,\n",
    "    True\n",
    ")\n",
    "metadata_train_single_well_transformed = inspector_test_single_well_transformed.get_metadata_table()\n",
    "metadata_train_single_well_transformed"
   ]
  },
  {
   "cell_type": "code",
   "execution_count": 3,
   "metadata": {},
   "outputs": [
    {
     "name": "stderr",
     "output_type": "stream",
     "text": [
      "DEBUG:absl:size of train data: 95 --- size of test data: 24\n",
      "DEBUG:absl:train path /home/ubuntu/lemi_3w/data/dataset_converted_v10101_split-20_source-all_class-all_well-5_train --- test path /home/ubuntu/lemi_3w/data/dataset_converted_v10101_split-20_source-all_class-all_well-5_test\n"
     ]
    },
    {
     "data": {
      "application/vnd.jupyter.widget-view+json": {
       "model_id": "d133aa282e7a421da1576dfee7f7ad32",
       "version_major": 2,
       "version_minor": 0
      },
      "text/plain": [
       "DONE:   0%|          | 0/95 [00:00<?, ?it/s]"
      ]
     },
     "metadata": {},
     "output_type": "display_data"
    },
    {
     "data": {
      "application/vnd.jupyter.widget-view+json": {
       "model_id": "c193cee24261448b94348fb231afec22",
       "version_major": 2,
       "version_minor": 0
      },
      "text/plain": [
       "DONE:   0%|          | 0/24 [00:00<?, ?it/s]"
      ]
     },
     "metadata": {},
     "output_type": "display_data"
    }
   ],
   "source": [
    "selected_well_id = 5\n",
    "\n",
    "# splits data, from the selected well, into train and test datasets\n",
    "splitter = rds.RawDataSplitter(metadata_train_single_well_transformed, latest_converted_data_version)\n",
    "split_train_dir_single_well, split_test_dir_single_well = splitter.stratefy_split_of_data(\n",
    "    data_dir=config.DIR_PROJECT_DATA, \n",
    "    test_size=0.20,\n",
    "    well_ids=[selected_well_id],\n",
    ")\n",
    "\n",
    "# generates metadata tables for split data\n",
    "train_metadata_single_well = rdi.RawDataInspector(\n",
    "    dataset_dir=split_train_dir_single_well,\n",
    "    cache_file_path=config.DIR_PROJECT_CACHE / \"train_metadata_single_well.parquet\",\n",
    "    use_cached=True\n",
    ")\n",
    "test_metadata_single_well = rdi.RawDataInspector(\n",
    "    dataset_dir=split_test_dir_single_well,\n",
    "    cache_file_path=config.DIR_PROJECT_CACHE / \"test_metadata_single_well.parquet\",\n",
    "    use_cached=True\n",
    ")"
   ]
  },
  {
   "cell_type": "code",
   "execution_count": 4,
   "metadata": {},
   "outputs": [
    {
     "data": {
      "text/html": [
       "<div>\n",
       "<style scoped>\n",
       "    .dataframe tbody tr th:only-of-type {\n",
       "        vertical-align: middle;\n",
       "    }\n",
       "\n",
       "    .dataframe tbody tr th {\n",
       "        vertical-align: top;\n",
       "    }\n",
       "\n",
       "    .dataframe thead th {\n",
       "        text-align: right;\n",
       "    }\n",
       "</style>\n",
       "<table border=\"1\" class=\"dataframe\">\n",
       "  <thead>\n",
       "    <tr style=\"text-align: right;\">\n",
       "      <th></th>\n",
       "      <th>real_count</th>\n",
       "      <th>simul_count</th>\n",
       "      <th>drawn_count</th>\n",
       "      <th>soma</th>\n",
       "    </tr>\n",
       "    <tr>\n",
       "      <th>anomaly</th>\n",
       "      <th></th>\n",
       "      <th></th>\n",
       "      <th></th>\n",
       "      <th></th>\n",
       "    </tr>\n",
       "  </thead>\n",
       "  <tbody>\n",
       "    <tr>\n",
       "      <th>NORMAL</th>\n",
       "      <td>65</td>\n",
       "      <td>0</td>\n",
       "      <td>0</td>\n",
       "      <td>65</td>\n",
       "    </tr>\n",
       "    <tr>\n",
       "      <th>ABRUPT_INCREASE_BSW</th>\n",
       "      <td>0</td>\n",
       "      <td>0</td>\n",
       "      <td>0</td>\n",
       "      <td>0</td>\n",
       "    </tr>\n",
       "    <tr>\n",
       "      <th>SPURIOUS_CLOSURE_DHSV</th>\n",
       "      <td>0</td>\n",
       "      <td>0</td>\n",
       "      <td>0</td>\n",
       "      <td>0</td>\n",
       "    </tr>\n",
       "    <tr>\n",
       "      <th>SEVERE_SLUGGING</th>\n",
       "      <td>0</td>\n",
       "      <td>0</td>\n",
       "      <td>0</td>\n",
       "      <td>0</td>\n",
       "    </tr>\n",
       "    <tr>\n",
       "      <th>FLOW_INSTABILITY</th>\n",
       "      <td>30</td>\n",
       "      <td>0</td>\n",
       "      <td>0</td>\n",
       "      <td>30</td>\n",
       "    </tr>\n",
       "    <tr>\n",
       "      <th>RAPID_PRODUCTIVITY_LOSS</th>\n",
       "      <td>0</td>\n",
       "      <td>0</td>\n",
       "      <td>0</td>\n",
       "      <td>0</td>\n",
       "    </tr>\n",
       "    <tr>\n",
       "      <th>QUICK_RESTRICTION_PCK</th>\n",
       "      <td>0</td>\n",
       "      <td>0</td>\n",
       "      <td>0</td>\n",
       "      <td>0</td>\n",
       "    </tr>\n",
       "    <tr>\n",
       "      <th>SCALING_IN_PCK</th>\n",
       "      <td>0</td>\n",
       "      <td>0</td>\n",
       "      <td>0</td>\n",
       "      <td>0</td>\n",
       "    </tr>\n",
       "    <tr>\n",
       "      <th>HYDRATE_IN_PRODUCTION_LINE</th>\n",
       "      <td>0</td>\n",
       "      <td>0</td>\n",
       "      <td>0</td>\n",
       "      <td>0</td>\n",
       "    </tr>\n",
       "    <tr>\n",
       "      <th>Total</th>\n",
       "      <td>95</td>\n",
       "      <td>0</td>\n",
       "      <td>0</td>\n",
       "      <td>95</td>\n",
       "    </tr>\n",
       "  </tbody>\n",
       "</table>\n",
       "</div>"
      ],
      "text/plain": [
       "                            real_count  simul_count  drawn_count  soma\n",
       "anomaly                                                               \n",
       "NORMAL                              65            0            0    65\n",
       "ABRUPT_INCREASE_BSW                  0            0            0     0\n",
       "SPURIOUS_CLOSURE_DHSV                0            0            0     0\n",
       "SEVERE_SLUGGING                      0            0            0     0\n",
       "FLOW_INSTABILITY                    30            0            0    30\n",
       "RAPID_PRODUCTIVITY_LOSS              0            0            0     0\n",
       "QUICK_RESTRICTION_PCK                0            0            0     0\n",
       "SCALING_IN_PCK                       0            0            0     0\n",
       "HYDRATE_IN_PRODUCTION_LINE           0            0            0     0\n",
       "Total                               95            0            0    95"
      ]
     },
     "execution_count": 4,
     "metadata": {},
     "output_type": "execute_result"
    }
   ],
   "source": [
    "rdi.RawDataInspector.generate_table_by_anomaly_source(train_metadata_single_well.get_metadata_table())"
   ]
  },
  {
   "cell_type": "code",
   "execution_count": 5,
   "metadata": {},
   "outputs": [
    {
     "data": {
      "text/html": [
       "<div>\n",
       "<style scoped>\n",
       "    .dataframe tbody tr th:only-of-type {\n",
       "        vertical-align: middle;\n",
       "    }\n",
       "\n",
       "    .dataframe tbody tr th {\n",
       "        vertical-align: top;\n",
       "    }\n",
       "\n",
       "    .dataframe thead th {\n",
       "        text-align: right;\n",
       "    }\n",
       "</style>\n",
       "<table border=\"1\" class=\"dataframe\">\n",
       "  <thead>\n",
       "    <tr style=\"text-align: right;\">\n",
       "      <th></th>\n",
       "      <th>real_count</th>\n",
       "      <th>simul_count</th>\n",
       "      <th>drawn_count</th>\n",
       "      <th>soma</th>\n",
       "    </tr>\n",
       "    <tr>\n",
       "      <th>anomaly</th>\n",
       "      <th></th>\n",
       "      <th></th>\n",
       "      <th></th>\n",
       "      <th></th>\n",
       "    </tr>\n",
       "  </thead>\n",
       "  <tbody>\n",
       "    <tr>\n",
       "      <th>NORMAL</th>\n",
       "      <td>16</td>\n",
       "      <td>0</td>\n",
       "      <td>0</td>\n",
       "      <td>16</td>\n",
       "    </tr>\n",
       "    <tr>\n",
       "      <th>ABRUPT_INCREASE_BSW</th>\n",
       "      <td>0</td>\n",
       "      <td>0</td>\n",
       "      <td>0</td>\n",
       "      <td>0</td>\n",
       "    </tr>\n",
       "    <tr>\n",
       "      <th>SPURIOUS_CLOSURE_DHSV</th>\n",
       "      <td>0</td>\n",
       "      <td>0</td>\n",
       "      <td>0</td>\n",
       "      <td>0</td>\n",
       "    </tr>\n",
       "    <tr>\n",
       "      <th>SEVERE_SLUGGING</th>\n",
       "      <td>0</td>\n",
       "      <td>0</td>\n",
       "      <td>0</td>\n",
       "      <td>0</td>\n",
       "    </tr>\n",
       "    <tr>\n",
       "      <th>FLOW_INSTABILITY</th>\n",
       "      <td>8</td>\n",
       "      <td>0</td>\n",
       "      <td>0</td>\n",
       "      <td>8</td>\n",
       "    </tr>\n",
       "    <tr>\n",
       "      <th>RAPID_PRODUCTIVITY_LOSS</th>\n",
       "      <td>0</td>\n",
       "      <td>0</td>\n",
       "      <td>0</td>\n",
       "      <td>0</td>\n",
       "    </tr>\n",
       "    <tr>\n",
       "      <th>QUICK_RESTRICTION_PCK</th>\n",
       "      <td>0</td>\n",
       "      <td>0</td>\n",
       "      <td>0</td>\n",
       "      <td>0</td>\n",
       "    </tr>\n",
       "    <tr>\n",
       "      <th>SCALING_IN_PCK</th>\n",
       "      <td>0</td>\n",
       "      <td>0</td>\n",
       "      <td>0</td>\n",
       "      <td>0</td>\n",
       "    </tr>\n",
       "    <tr>\n",
       "      <th>HYDRATE_IN_PRODUCTION_LINE</th>\n",
       "      <td>0</td>\n",
       "      <td>0</td>\n",
       "      <td>0</td>\n",
       "      <td>0</td>\n",
       "    </tr>\n",
       "    <tr>\n",
       "      <th>Total</th>\n",
       "      <td>24</td>\n",
       "      <td>0</td>\n",
       "      <td>0</td>\n",
       "      <td>24</td>\n",
       "    </tr>\n",
       "  </tbody>\n",
       "</table>\n",
       "</div>"
      ],
      "text/plain": [
       "                            real_count  simul_count  drawn_count  soma\n",
       "anomaly                                                               \n",
       "NORMAL                              16            0            0    16\n",
       "ABRUPT_INCREASE_BSW                  0            0            0     0\n",
       "SPURIOUS_CLOSURE_DHSV                0            0            0     0\n",
       "SEVERE_SLUGGING                      0            0            0     0\n",
       "FLOW_INSTABILITY                     8            0            0     8\n",
       "RAPID_PRODUCTIVITY_LOSS              0            0            0     0\n",
       "QUICK_RESTRICTION_PCK                0            0            0     0\n",
       "SCALING_IN_PCK                       0            0            0     0\n",
       "HYDRATE_IN_PRODUCTION_LINE           0            0            0     0\n",
       "Total                               24            0            0    24"
      ]
     },
     "execution_count": 5,
     "metadata": {},
     "output_type": "execute_result"
    }
   ],
   "source": [
    "rdi.RawDataInspector.generate_table_by_anomaly_source(test_metadata_single_well.get_metadata_table())"
   ]
  },
  {
   "cell_type": "markdown",
   "metadata": {},
   "source": [
    "## Processamento dos dados"
   ]
  },
  {
   "cell_type": "code",
   "execution_count": 6,
   "metadata": {},
   "outputs": [
    {
     "data": {
      "text/html": [
       "<div>\n",
       "<style scoped>\n",
       "    .dataframe tbody tr th:only-of-type {\n",
       "        vertical-align: middle;\n",
       "    }\n",
       "\n",
       "    .dataframe tbody tr th {\n",
       "        vertical-align: top;\n",
       "    }\n",
       "\n",
       "    .dataframe thead th {\n",
       "        text-align: right;\n",
       "    }\n",
       "</style>\n",
       "<table border=\"1\" class=\"dataframe\">\n",
       "  <thead>\n",
       "    <tr style=\"text-align: right;\">\n",
       "      <th></th>\n",
       "      <th>mean_of_means</th>\n",
       "      <th>mean_of_stds</th>\n",
       "    </tr>\n",
       "  </thead>\n",
       "  <tbody>\n",
       "    <tr>\n",
       "      <th>P-PDG</th>\n",
       "      <td>1.650749e+07</td>\n",
       "      <td>1.201552e+07</td>\n",
       "    </tr>\n",
       "    <tr>\n",
       "      <th>P-TPT</th>\n",
       "      <td>1.517584e+07</td>\n",
       "      <td>3.687992e+06</td>\n",
       "    </tr>\n",
       "    <tr>\n",
       "      <th>T-TPT</th>\n",
       "      <td>1.061237e+02</td>\n",
       "      <td>1.629953e+01</td>\n",
       "    </tr>\n",
       "    <tr>\n",
       "      <th>P-MON-CKP</th>\n",
       "      <td>4.729793e+06</td>\n",
       "      <td>3.068575e+06</td>\n",
       "    </tr>\n",
       "    <tr>\n",
       "      <th>T-JUS-CKP</th>\n",
       "      <td>7.843213e+01</td>\n",
       "      <td>1.830099e+01</td>\n",
       "    </tr>\n",
       "    <tr>\n",
       "      <th>P-JUS-CKGL</th>\n",
       "      <td>3.501117e+08</td>\n",
       "      <td>2.450589e+08</td>\n",
       "    </tr>\n",
       "    <tr>\n",
       "      <th>QGL</th>\n",
       "      <td>2.603752e-01</td>\n",
       "      <td>1.638849e-01</td>\n",
       "    </tr>\n",
       "  </tbody>\n",
       "</table>\n",
       "</div>"
      ],
      "text/plain": [
       "            mean_of_means  mean_of_stds\n",
       "P-PDG        1.650749e+07  1.201552e+07\n",
       "P-TPT        1.517584e+07  3.687992e+06\n",
       "T-TPT        1.061237e+02  1.629953e+01\n",
       "P-MON-CKP    4.729793e+06  3.068575e+06\n",
       "T-JUS-CKP    7.843213e+01  1.830099e+01\n",
       "P-JUS-CKGL   3.501117e+08  2.450589e+08\n",
       "QGL          2.603752e-01  1.638849e-01"
      ]
     },
     "execution_count": 6,
     "metadata": {},
     "output_type": "execute_result"
    }
   ],
   "source": [
    "# Get cached metrics---standard deviation and average---to be used for data transformation\n",
    "cache_file_name = config.CACHE_NAME_TRAIN_MEAN_STD_DEV\n",
    "mean_and_std_metric_table = MetricAcquisition.get_mean_and_std_metric_from_cache(\n",
    "    cache_file_name\n",
    ")\n",
    "mean_metric_list = mean_and_std_metric_table['mean_of_means']\n",
    "std_metric_list = mean_and_std_metric_table['mean_of_stds']\n",
    "\n",
    "mean_and_std_metric_table"
   ]
  },
  {
   "cell_type": "code",
   "execution_count": 7,
   "metadata": {},
   "outputs": [
    {
     "name": "stderr",
     "output_type": "stream",
     "text": [
      "DEBUG:absl:TransformationManager initialized with 95 items.\n",
      "            Folder name is dataset_converted_v10101_split-20_source-all_class-all_well-5_train.\n"
     ]
    }
   ],
   "source": [
    "tranformed_train_folder_name = split_train_dir_single_well.name\n",
    "transformation_manager_single_well_train = TransformationManager(\n",
    "    train_metadata_single_well.get_metadata_table(), \n",
    "    output_folder_base_name=tranformed_train_folder_name\n",
    ")"
   ]
  },
  {
   "cell_type": "code",
   "execution_count": 8,
   "metadata": {},
   "outputs": [
    {
     "data": {
      "application/vnd.jupyter.widget-view+json": {
       "model_id": "1b9182e97dd9426cb12a79abefb58ac1",
       "version_major": 2,
       "version_minor": 0
      },
      "text/plain": [
       "DONE:   0%|          | 0/95 [00:00<?, ?it/s]"
      ]
     },
     "metadata": {},
     "output_type": "display_data"
    }
   ],
   "source": [
    "transformation_param_sample_interval_seconds=60\n",
    "transformation_param_num_timesteps_for_window=20\n",
    "\n",
    "transformation_manager_single_well_train.apply_transformations_to_table(\n",
    "    output_parent_dir=config.DIR_PROJECT_DATA,\n",
    "    sample_interval_seconds=transformation_param_sample_interval_seconds,\n",
    "    num_timesteps_for_window=transformation_param_num_timesteps_for_window,\n",
    "    avg_variable_mean=mean_metric_list,\n",
    "    avg_variable_std_dev=std_metric_list,\n",
    ")"
   ]
  },
  {
   "cell_type": "code",
   "execution_count": 9,
   "metadata": {},
   "outputs": [
    {
     "data": {
      "text/plain": [
       "array([[-1.37384759,  1.52859103,  0.01403122,  2.22876907, -0.62375169,\n",
       "         3.98697753, -1.58876885],\n",
       "       [-1.37384759,  1.52841926,  0.01463482,  2.22580157, -0.62377898,\n",
       "         3.98298019, -1.58876885],\n",
       "       [-1.37384759,  1.52863934,  0.0145748 ,  2.22632863, -0.62380631,\n",
       "         3.9805199 , -1.58876885],\n",
       "       [-1.37384759,  1.52838622,  0.01474771,  2.22651357, -0.62383364,\n",
       "         3.98600218, -1.58876885],\n",
       "       [-1.37384759,  1.52843263,  0.01436324,  2.2260393 , -0.62386097,\n",
       "         3.98502466, -1.58876885],\n",
       "       [-1.37384759,  1.52873343,  0.0143935 ,  2.22543929, -0.62388828,\n",
       "         3.98273188, -1.58876885],\n",
       "       [-1.37384759,  1.52850458,  0.01523085,  2.2249339 , -0.6239156 ,\n",
       "         3.98187229, -1.58876885],\n",
       "       [-1.37384759,  1.52816315,  0.01513964,  2.22489398, -0.62394291,\n",
       "         3.98494196, -1.58876885],\n",
       "       [-1.37384759,  1.52820554,  0.01515774,  2.22466325, -0.62397023,\n",
       "         3.98119042, -1.58876885],\n",
       "       [-1.37384759,  1.52845252,  0.01511449,  2.22467428, -0.62399756,\n",
       "         3.98561507, -1.58876885],\n",
       "       [-1.37384759,  1.52834369,  0.01539445,  2.22362515, -0.62402489,\n",
       "         3.98356692, -1.58876885],\n",
       "       [-1.37384759,  1.52866203,  0.01505753,  2.22511449, -0.62405222,\n",
       "         3.98394962, -1.58876885],\n",
       "       [-1.37384759,  1.52857711,  0.01484229,  2.22407916, -0.62407951,\n",
       "         3.98336928, -1.58876885],\n",
       "       [-1.37384759,  1.52839083,  0.01443134,  2.22353113, -0.62410685,\n",
       "         3.98237891, -1.58876885],\n",
       "       [-1.37384759,  1.52847669,  0.01520416,  2.22495682, -0.62413415,\n",
       "         3.98594125, -1.58876885],\n",
       "       [-1.37384759,  1.52853359,  0.01537278,  2.22377755, -0.62416151,\n",
       "         3.98234068, -1.58876885],\n",
       "       [-1.37384759,  1.52839083,  0.01470333,  2.22348703, -0.6241888 ,\n",
       "         3.98394975, -1.58876885],\n",
       "       [-1.37384759,  1.52861945,  0.01521275,  2.22370048, -0.62421613,\n",
       "         3.98301998, -1.58876885],\n",
       "       [-1.37384759,  1.52822977,  0.015528  ,  2.22313616, -0.62424344,\n",
       "         3.98052493, -1.58876885],\n",
       "       [-1.37384759,  1.52846811,  0.01506203,  2.22385533, -0.62427076,\n",
       "         3.9832555 , -1.58876885]])"
      ]
     },
     "execution_count": 9,
     "metadata": {},
     "output_type": "execute_result"
    }
   ],
   "source": [
    "import pathlib\n",
    "\n",
    "X, y = TransformationManager.retrieve_pair_array(pathlib.Path(\"data/transform-isdt-dataset_converted_v10101_split-20_source-all_class-all_well-5_train/0/WELL-00005_20170331160000.npz\"))\n",
    "X[0]"
   ]
  },
  {
   "cell_type": "markdown",
   "metadata": {},
   "source": [
    "# Modelagem"
   ]
  },
  {
   "cell_type": "code",
   "execution_count": 10,
   "metadata": {},
   "outputs": [
    {
     "name": "stdout",
     "output_type": "stream",
     "text": [
      "Model: \"sequential\"\n",
      "_________________________________________________________________\n",
      " Layer (type)                Output Shape              Param #   \n",
      "=================================================================\n",
      " lstm (LSTM)                 (None, 50)                11600     \n",
      "                                                                 \n",
      " dropout (Dropout)           (None, 50)                0         \n",
      "                                                                 \n",
      " dense (Dense)               (None, 100)               5100      \n",
      "                                                                 \n",
      " dense_1 (Dense)             (None, 9)                 909       \n",
      "                                                                 \n",
      "=================================================================\n",
      "Total params: 17609 (68.79 KB)\n",
      "Trainable params: 17609 (68.79 KB)\n",
      "Non-trainable params: 0 (0.00 Byte)\n",
      "_________________________________________________________________\n"
     ]
    }
   ],
   "source": [
    "from tensorflow.keras import Sequential\n",
    "from tensorflow.keras.layers import LSTM, Dense, Dropout\n",
    "from constants import module_constants\n",
    "\n",
    "num_features = X.shape[2]\n",
    "num_outputs = module_constants.num_class_types\n",
    "\n",
    "model = Sequential()\n",
    "model.add(LSTM(50, activation='relu', input_shape=(transformation_param_num_timesteps_for_window, num_features)))\n",
    "model.add(Dropout(0.5))\n",
    "model.add(Dense(100, activation='relu'))\n",
    "model.add(Dense(num_outputs, activation='softmax'))\n",
    "\n",
    "model.compile(loss='categorical_crossentropy', optimizer='adam', metrics=['accuracy'])\n",
    "model.summary()"
   ]
  },
  {
   "cell_type": "code",
   "execution_count": 18,
   "metadata": {},
   "outputs": [],
   "source": [
    "# Get transformed files paths\n",
    "TRANSFORMATION_NAME_PREFIX = \"transform-isdt-\"\n",
    "tranformed_train_single_well_dataset_dir = config.DIR_PROJECT_DATA / (TRANSFORMATION_NAME_PREFIX + tranformed_train_folder_name)\n",
    "\n",
    "inspector_test_single_well_transformed = rdi.RawDataInspector(\n",
    "    tranformed_train_single_well_dataset_dir,\n",
    "    config.DIR_PROJECT_CACHE / \"single_well_transformed.parquet\",\n",
    "    True\n",
    ")\n",
    "metadata_train_single_well_transformed = inspector_test_single_well_transformed.get_metadata_table()\n",
    "transformed_train_data_single_well_file_path_list = metadata_train_single_well_transformed[\"path\"]\n",
    "\n",
    "\n",
    "def data_generator_loop(file_path_list):\n",
    "    \"\"\"Generator returning batches of data for each file path\"\"\"\n",
    "    while True:\n",
    "        for file_path in file_path_list:\n",
    "            X, y = TransformationManager.retrieve_pair_array(pathlib.Path(file_path))\n",
    "            yield X, y\n",
    "\n",
    "def data_generator_non_loop(file_path_list):\n",
    "    \"\"\"Generator returning batches of data for each file path\"\"\"\n",
    "    \n",
    "    for file_path in file_path_list:\n",
    "        X, y = TransformationManager.retrieve_pair_array(pathlib.Path(file_path))\n",
    "        yield X, y"
   ]
  },
  {
   "cell_type": "code",
   "execution_count": 12,
   "metadata": {},
   "outputs": [
    {
     "name": "stdout",
     "output_type": "stream",
     "text": [
      "Epoch 1/15\n",
      "95/95 [==============================] - 3s 16ms/step - loss: 0.5588 - accuracy: 0.8736\n",
      "Epoch 2/15\n",
      "95/95 [==============================] - 1s 14ms/step - loss: 0.1831 - accuracy: 0.9477\n",
      "Epoch 3/15\n",
      "95/95 [==============================] - 1s 13ms/step - loss: 0.0849 - accuracy: 0.9929\n",
      "Epoch 4/15\n",
      "95/95 [==============================] - 1s 15ms/step - loss: 0.0578 - accuracy: 0.9931\n",
      "Epoch 5/15\n",
      "95/95 [==============================] - 1s 13ms/step - loss: 0.0530 - accuracy: 0.9931\n",
      "Epoch 6/15\n",
      "95/95 [==============================] - 1s 15ms/step - loss: 0.0543 - accuracy: 0.9931\n",
      "Epoch 7/15\n",
      "95/95 [==============================] - 2s 17ms/step - loss: 0.0547 - accuracy: 0.9931\n",
      "Epoch 8/15\n",
      "95/95 [==============================] - 2s 16ms/step - loss: 0.0530 - accuracy: 0.9931\n",
      "Epoch 9/15\n",
      "95/95 [==============================] - 2s 16ms/step - loss: 0.0535 - accuracy: 0.9931\n",
      "Epoch 10/15\n",
      "95/95 [==============================] - 2s 18ms/step - loss: 0.0550 - accuracy: 0.9931\n",
      "Epoch 11/15\n",
      "95/95 [==============================] - 2s 18ms/step - loss: 0.0537 - accuracy: 0.9929\n",
      "Epoch 12/15\n",
      "95/95 [==============================] - 2s 17ms/step - loss: 0.0525 - accuracy: 0.9929\n",
      "Epoch 13/15\n",
      "95/95 [==============================] - 1s 15ms/step - loss: 0.9074 - accuracy: 0.9930\n",
      "Epoch 14/15\n",
      "95/95 [==============================] - 1s 14ms/step - loss: 0.3503 - accuracy: 0.9481\n",
      "Epoch 15/15\n",
      "95/95 [==============================] - 1s 14ms/step - loss: 0.0724 - accuracy: 0.9924\n"
     ]
    },
    {
     "data": {
      "text/plain": [
       "<keras.src.callbacks.History at 0x7f4160703760>"
      ]
     },
     "execution_count": 12,
     "metadata": {},
     "output_type": "execute_result"
    }
   ],
   "source": [
    "num_epochs = 15\n",
    "# times the generator (data_gen) should be called to complete one full pass through your training dataset\n",
    "steps_per_epoch = len(transformed_train_data_single_well_file_path_list)\n",
    "\n",
    "\n",
    "train_data_gen = data_generator_loop(transformed_train_data_single_well_file_path_list)\n",
    "\n",
    "\n",
    "# Train the model\n",
    "model.fit(\n",
    "    train_data_gen, \n",
    "    steps_per_epoch=steps_per_epoch,\n",
    "    epochs=num_epochs, \n",
    "    verbose=1\n",
    ")"
   ]
  },
  {
   "cell_type": "code",
   "execution_count": 13,
   "metadata": {},
   "outputs": [
    {
     "name": "stdout",
     "output_type": "stream",
     "text": [
      "/home/ubuntu/lemi_3w/data/transform-isdt-dataset_converted_v10101_split-20_source-all_class-all_well-5_train/4/WELL-00005_20170624060038.npz\n",
      "True value: [0. 0. 0. 0. 1. 0. 0. 0. 0.]\n",
      "1/1 [==============================] - 0s 264ms/step\n",
      "Predicted value: [[0. 0. 0. 0. 1. 0. 0. 0. 0.]]\n"
     ]
    }
   ],
   "source": [
    "import numpy as np\n",
    "test_file = transformed_train_data_single_well_file_path_list[-1]\n",
    "print(test_file)\n",
    "\n",
    "Xhat, yhat = TransformationManager.retrieve_pair_array(pathlib.Path(test_file))\n",
    "print(f\"True value: {yhat[0]}\")\n",
    "\n",
    "Xhat0 = Xhat[0].reshape(1, transformation_param_num_timesteps_for_window, num_features)\n",
    "print(f\"Predicted value: {model.predict(Xhat0)}\")"
   ]
  },
  {
   "attachments": {},
   "cell_type": "markdown",
   "metadata": {},
   "source": [
    "# Validação\n",
    "\n",
    "Aqui pegaremos nosso banco de testes, o transformaremos, para então o utilizar para validar a perfomance do nosso modelo."
   ]
  },
  {
   "cell_type": "code",
   "execution_count": 14,
   "metadata": {},
   "outputs": [
    {
     "name": "stderr",
     "output_type": "stream",
     "text": [
      "DEBUG:absl:TransformationManager initialized with 24 items.\n",
      "            Folder name is dataset_converted_v10101_split-20_source-all_class-all_well-5_test.\n"
     ]
    },
    {
     "data": {
      "application/vnd.jupyter.widget-view+json": {
       "model_id": "ff5b2b19d69345d2b77877a821de5f47",
       "version_major": 2,
       "version_minor": 0
      },
      "text/plain": [
       "DONE:   0%|          | 0/24 [00:00<?, ?it/s]"
      ]
     },
     "metadata": {},
     "output_type": "display_data"
    },
    {
     "name": "stderr",
     "output_type": "stream",
     "text": [
      "INFO:absl:Processing 16 events of class type 0.\n"
     ]
    },
    {
     "data": {
      "application/vnd.jupyter.widget-view+json": {
       "model_id": "15900a01596245adbca3bf8dca0f28d6",
       "version_major": 2,
       "version_minor": 0
      },
      "text/plain": [
       "DONE:   0%|          | 0/16 [00:00<?, ?it/s]"
      ]
     },
     "metadata": {},
     "output_type": "display_data"
    },
    {
     "name": "stderr",
     "output_type": "stream",
     "text": [
      "INFO:absl:Processing 8 events of class type 4.\n"
     ]
    },
    {
     "data": {
      "application/vnd.jupyter.widget-view+json": {
       "model_id": "6b2baef98b3c493d8f9b4d593a2ee689",
       "version_major": 2,
       "version_minor": 0
      },
      "text/plain": [
       "DONE:   0%|          | 0/8 [00:00<?, ?it/s]"
      ]
     },
     "metadata": {},
     "output_type": "display_data"
    },
    {
     "name": "stderr",
     "output_type": "stream",
     "text": [
      "INFO:absl:Processing 0 events of class type 5.\n",
      "INFO:absl:Processing 0 events of class type 1.\n",
      "INFO:absl:Processing 0 events of class type 7.\n",
      "INFO:absl:Processing 0 events of class type 6.\n",
      "INFO:absl:Processing 0 events of class type 8.\n",
      "INFO:absl:Processing 0 events of class type 2.\n",
      "INFO:absl:Processing 0 events of class type 3.\n",
      "INFO:absl:Found 2. The first one is [EventMetadata(hash_id='e8e74a1747e0d4b5f4d0ccf5b0373835f6a1aade9d5a8f93f123b8a0b45c6b72', class_type='NORMAL', source='REAL', well_id=5, path='/home/ubuntu/lemi_3w/data/transform-isdt-dataset_converted_v10101_split-20_source-all_class-all_well-5_test/0/WELL-00005_20170817200000.npz', timestamp=Timestamp('2017-08-17 20:00:00'), file_size=184294, num_timesteps=None), EventMetadata(hash_id='26547637056cd68fcef5f4c043e13182935b0062fc33c72b0287ad561c687ec6', class_type='NORMAL', source='REAL', well_id=5, path='/home/ubuntu/lemi_3w/data/transform-isdt-dataset_converted_v10101_split-20_source-all_class-all_well-5_test/0/WELL-00005_20170516230000.npz', timestamp=Timestamp('2017-05-16 23:00:00'), file_size=186606, num_timesteps=None), EventMetadata(hash_id='49e631984f7de0c1ae7607293533564c286a92b4efda08ae6024ef5a07efb969', class_type='NORMAL', source='REAL', well_id=5, path='/home/ubuntu/lemi_3w/data/transform-isdt-dataset_converted_v10101_split-20_source-all_class-all_well-5_test/0/WELL-00005_20170816080000.npz', timestamp=Timestamp('2017-08-16 08:00:00'), file_size=185450, num_timesteps=None), EventMetadata(hash_id='42bfced55dee29c0a88cdda60fb510b643c0e5bb7c85b90f95ce7d7716f798f3', class_type='NORMAL', source='REAL', well_id=5, path='/home/ubuntu/lemi_3w/data/transform-isdt-dataset_converted_v10101_split-20_source-all_class-all_well-5_test/0/WELL-00005_20170815140000.npz', timestamp=Timestamp('2017-08-15 14:00:00'), file_size=184294, num_timesteps=None), EventMetadata(hash_id='ea7aff17af31f336c278617f999d6cf7df8f2e11f83815cd8160ccd1b9c96c1d', class_type='NORMAL', source='REAL', well_id=5, path='/home/ubuntu/lemi_3w/data/transform-isdt-dataset_converted_v10101_split-20_source-all_class-all_well-5_test/0/WELL-00005_20170402080043.npz', timestamp=Timestamp('2017-04-02 08:00:43'), file_size=324170, num_timesteps=None), EventMetadata(hash_id='9979b51075bdd71e62a62a395148b6968ddb10aea0b16e7bb8d8e913be596f10', class_type='NORMAL', source='REAL', well_id=5, path='/home/ubuntu/lemi_3w/data/transform-isdt-dataset_converted_v10101_split-20_source-all_class-all_well-5_test/0/WELL-00005_20170402180043.npz', timestamp=Timestamp('2017-04-02 18:00:43'), file_size=323014, num_timesteps=None), EventMetadata(hash_id='307eb1b408e8530d22c4e5f905a9e6be0615fdf418958d9483dab3bcbde6b800', class_type='NORMAL', source='REAL', well_id=5, path='/home/ubuntu/lemi_3w/data/transform-isdt-dataset_converted_v10101_split-20_source-all_class-all_well-5_test/0/WELL-00005_20170813200000.npz', timestamp=Timestamp('2017-08-13 20:00:00'), file_size=185450, num_timesteps=None), EventMetadata(hash_id='5e3b2f6a65013b3c5111e5742976f604560f6a37dca3a10e907f497791f74282', class_type='NORMAL', source='REAL', well_id=5, path='/home/ubuntu/lemi_3w/data/transform-isdt-dataset_converted_v10101_split-20_source-all_class-all_well-5_test/0/WELL-00005_20170812230000.npz', timestamp=Timestamp('2017-08-12 23:00:00'), file_size=186606, num_timesteps=None), EventMetadata(hash_id='d19ab4f3e5204d3d165d06a40c5a2cc9e70ac019951172cb3d8f8f0c6c009336', class_type='NORMAL', source='REAL', well_id=5, path='/home/ubuntu/lemi_3w/data/transform-isdt-dataset_converted_v10101_split-20_source-all_class-all_well-5_test/0/WELL-00005_20170814200000.npz', timestamp=Timestamp('2017-08-14 20:00:00'), file_size=186606, num_timesteps=None), EventMetadata(hash_id='f236799d0e260bf41f7f8bee21cec72bcbd39df231ce20551ab38f38d4c5c58a', class_type='NORMAL', source='REAL', well_id=5, path='/home/ubuntu/lemi_3w/data/transform-isdt-dataset_converted_v10101_split-20_source-all_class-all_well-5_test/0/WELL-00005_20170516170000.npz', timestamp=Timestamp('2017-05-16 17:00:00'), file_size=185450, num_timesteps=None), EventMetadata(hash_id='59047d94843f42ea0713b2f5bf34d872fcb8a1c779be5fd59b3295f3a9c0d366', class_type='NORMAL', source='REAL', well_id=5, path='/home/ubuntu/lemi_3w/data/transform-isdt-dataset_converted_v10101_split-20_source-all_class-all_well-5_test/0/WELL-00005_20170402130029.npz', timestamp=Timestamp('2017-04-02 13:00:29'), file_size=323014, num_timesteps=None), EventMetadata(hash_id='ea143882baccaf68a197b75e8572eafdcf7a697af61d6c67c7515b4ccf056aa9', class_type='NORMAL', source='REAL', well_id=5, path='/home/ubuntu/lemi_3w/data/transform-isdt-dataset_converted_v10101_split-20_source-all_class-all_well-5_test/0/WELL-00005_20170817050000.npz', timestamp=Timestamp('2017-08-17 05:00:00'), file_size=183138, num_timesteps=None), EventMetadata(hash_id='d537387679bdc94d673fee175ee9f9dfc6d85491a55e470ea3adc187269a5635', class_type='NORMAL', source='REAL', well_id=5, path='/home/ubuntu/lemi_3w/data/transform-isdt-dataset_converted_v10101_split-20_source-all_class-all_well-5_test/0/WELL-00005_20170814050000.npz', timestamp=Timestamp('2017-08-14 05:00:00'), file_size=185450, num_timesteps=None), EventMetadata(hash_id='1880c706f655b6e08b60b6b63ce9dc05feaf55ebea5f68f225c070319c3d9a20', class_type='NORMAL', source='REAL', well_id=5, path='/home/ubuntu/lemi_3w/data/transform-isdt-dataset_converted_v10101_split-20_source-all_class-all_well-5_test/0/WELL-00005_20170817110000.npz', timestamp=Timestamp('2017-08-17 11:00:00'), file_size=184294, num_timesteps=None), EventMetadata(hash_id='dcb0ebd198ae272fd0f9c246680a215cd7cfba022a26f0ecfbfba8dc1459ae83', class_type='NORMAL', source='REAL', well_id=5, path='/home/ubuntu/lemi_3w/data/transform-isdt-dataset_converted_v10101_split-20_source-all_class-all_well-5_test/0/WELL-00005_20170402030029.npz', timestamp=Timestamp('2017-04-02 03:00:29'), file_size=323014, num_timesteps=None), EventMetadata(hash_id='ef75e984da5ec22cb1024bf4107b0213072ea1d098c105172caf01cc62df6b2a', class_type='NORMAL', source='REAL', well_id=5, path='/home/ubuntu/lemi_3w/data/transform-isdt-dataset_converted_v10101_split-20_source-all_class-all_well-5_test/0/WELL-00005_20170331060014.npz', timestamp=Timestamp('2017-03-31 06:00:14'), file_size=324170, num_timesteps=None)]\n"
     ]
    },
    {
     "data": {
      "text/plain": [
       "hash_id\n",
       "e8e74a1    /home/ubuntu/lemi_3w/data/transform-isdt-datas...\n",
       "2654763    /home/ubuntu/lemi_3w/data/transform-isdt-datas...\n",
       "49e6319    /home/ubuntu/lemi_3w/data/transform-isdt-datas...\n",
       "42bfced    /home/ubuntu/lemi_3w/data/transform-isdt-datas...\n",
       "ea7aff1    /home/ubuntu/lemi_3w/data/transform-isdt-datas...\n",
       "9979b51    /home/ubuntu/lemi_3w/data/transform-isdt-datas...\n",
       "307eb1b    /home/ubuntu/lemi_3w/data/transform-isdt-datas...\n",
       "5e3b2f6    /home/ubuntu/lemi_3w/data/transform-isdt-datas...\n",
       "d19ab4f    /home/ubuntu/lemi_3w/data/transform-isdt-datas...\n",
       "f236799    /home/ubuntu/lemi_3w/data/transform-isdt-datas...\n",
       "59047d9    /home/ubuntu/lemi_3w/data/transform-isdt-datas...\n",
       "ea14388    /home/ubuntu/lemi_3w/data/transform-isdt-datas...\n",
       "d537387    /home/ubuntu/lemi_3w/data/transform-isdt-datas...\n",
       "1880c70    /home/ubuntu/lemi_3w/data/transform-isdt-datas...\n",
       "dcb0ebd    /home/ubuntu/lemi_3w/data/transform-isdt-datas...\n",
       "ef75e98    /home/ubuntu/lemi_3w/data/transform-isdt-datas...\n",
       "657563a    /home/ubuntu/lemi_3w/data/transform-isdt-datas...\n",
       "8602d00    /home/ubuntu/lemi_3w/data/transform-isdt-datas...\n",
       "0241033    /home/ubuntu/lemi_3w/data/transform-isdt-datas...\n",
       "94ce677    /home/ubuntu/lemi_3w/data/transform-isdt-datas...\n",
       "1537ed4    /home/ubuntu/lemi_3w/data/transform-isdt-datas...\n",
       "e9822c0    /home/ubuntu/lemi_3w/data/transform-isdt-datas...\n",
       "9ceaba0    /home/ubuntu/lemi_3w/data/transform-isdt-datas...\n",
       "f657863    /home/ubuntu/lemi_3w/data/transform-isdt-datas...\n",
       "Name: path, dtype: object"
      ]
     },
     "execution_count": 14,
     "metadata": {},
     "output_type": "execute_result"
    }
   ],
   "source": [
    "tranformed_test_folder_name = split_test_dir_single_well.name\n",
    "\n",
    "test_transformation_manager_single_well = TransformationManager(\n",
    "    test_metadata_single_well.get_metadata_table(), \n",
    "    output_folder_base_name=tranformed_test_folder_name\n",
    ")\n",
    "\n",
    "test_transformation_manager_single_well.apply_transformations_to_table(\n",
    "    output_parent_dir=config.DIR_PROJECT_DATA,\n",
    "    sample_interval_seconds=transformation_param_sample_interval_seconds,\n",
    "    num_timesteps_for_window=transformation_param_num_timesteps_for_window,\n",
    "    avg_variable_mean=mean_metric_list,\n",
    "    avg_variable_std_dev=std_metric_list,\n",
    ")\n",
    "\n",
    "# Get transformed files paths\n",
    "test_tranformed_single_well_dataset_dir = config.DIR_PROJECT_DATA / (TRANSFORMATION_NAME_PREFIX + tranformed_test_folder_name)\n",
    "\n",
    "inspector_test_single_well_transformed = rdi.RawDataInspector(\n",
    "    test_tranformed_single_well_dataset_dir,\n",
    "    config.DIR_PROJECT_CACHE / \"single_well_transformed_test.parquet\",\n",
    "    True\n",
    ")\n",
    "test_metadata_single_well_transformed = inspector_test_single_well_transformed.get_metadata_table()\n",
    "test_transformed_data_single_well_file_path_list = test_metadata_single_well_transformed[\"path\"]\n",
    "test_transformed_data_single_well_file_path_list"
   ]
  },
  {
   "cell_type": "code",
   "execution_count": 19,
   "metadata": {},
   "outputs": [
    {
     "name": "stdout",
     "output_type": "stream",
     "text": [
      "24/24 [==============================] - 0s 10ms/step - loss: 0.0142 - accuracy: 1.0000\n"
     ]
    },
    {
     "data": {
      "text/plain": [
       "[0.01415830198675394, 1.0]"
      ]
     },
     "execution_count": 19,
     "metadata": {},
     "output_type": "execute_result"
    }
   ],
   "source": [
    "test_data_gen = data_generator_non_loop(test_transformed_data_single_well_file_path_list)\n",
    "num_steps = len(test_transformed_data_single_well_file_path_list)\n",
    "\n",
    "model.evaluate(\n",
    "    test_data_gen,\n",
    "    verbose=1,\n",
    "    #steps=num_steps,\n",
    ")"
   ]
  },
  {
   "cell_type": "code",
   "execution_count": 28,
   "metadata": {},
   "outputs": [
    {
     "name": "stdout",
     "output_type": "stream",
     "text": [
      "24/24 [==============================] - 0s 13ms/step\n"
     ]
    },
    {
     "data": {
      "text/plain": [
       "('Number of predictions: 3962',\n",
       " 'Shape of y array: (3962, 9)',\n",
       " array([9.9505484e-01, 6.3994203e-06, 1.5943642e-06, 1.3502416e-05,\n",
       "        4.8980555e-03, 1.7195862e-05, 2.3623995e-06, 1.1378401e-06,\n",
       "        4.9455612e-06], dtype=float32))"
      ]
     },
     "execution_count": 28,
     "metadata": {},
     "output_type": "execute_result"
    }
   ],
   "source": [
    "test_data_gen = data_generator_non_loop(test_transformed_data_single_well_file_path_list)\n",
    "\n",
    "y_test_predictions = model.predict(\n",
    "    test_data_gen,\n",
    ")\n",
    "\n",
    "f\"Number of predictions: {len(y_test_predictions)}\", f\"Shape of y array: {y_test_predictions.shape}\", y_test_predictions[0]"
   ]
  },
  {
   "cell_type": "code",
   "execution_count": 30,
   "metadata": {},
   "outputs": [
    {
     "data": {
      "text/plain": [
       "('Number of predictions: 3962',\n",
       " 'Shape of y array: (3962, 9)',\n",
       " array([1., 0., 0., 0., 0., 0., 0., 0., 0.], dtype=float32))"
      ]
     },
     "execution_count": 30,
     "metadata": {},
     "output_type": "execute_result"
    }
   ],
   "source": [
    "test_data_gen = data_generator_non_loop(test_transformed_data_single_well_file_path_list)\n",
    "y_test_labels = []\n",
    "\n",
    "for X, y in test_data_gen:\n",
    "    y_test_labels.append(y)\n",
    "\n",
    "y_test_labels = np.concatenate(y_test_labels, axis=0)\n",
    "\n",
    "f\"Number of predictions: {len(y_test_labels)}\", f\"Shape of y array: {y_test_labels.shape}\", y_test_labels[0]"
   ]
  },
  {
   "cell_type": "code",
   "execution_count": 37,
   "metadata": {},
   "outputs": [
    {
     "data": {
      "text/plain": [
       "<tf.Tensor: shape=(9, 9), dtype=int32, numpy=\n",
       "array([[3155,    0,    0,    0,    0,    0,    0,    0,    0],\n",
       "       [   0,    0,    0,    0,    0,    0,    0,    0,    0],\n",
       "       [   0,    0,    0,    0,    0,    0,    0,    0,    0],\n",
       "       [   0,    0,    0,    0,    0,    0,    0,    0,    0],\n",
       "       [   0,    0,    0,    0,  807,    0,    0,    0,    0],\n",
       "       [   0,    0,    0,    0,    0,    0,    0,    0,    0],\n",
       "       [   0,    0,    0,    0,    0,    0,    0,    0,    0],\n",
       "       [   0,    0,    0,    0,    0,    0,    0,    0,    0],\n",
       "       [   0,    0,    0,    0,    0,    0,    0,    0,    0]],\n",
       "      dtype=int32)>"
      ]
     },
     "execution_count": 37,
     "metadata": {},
     "output_type": "execute_result"
    }
   ],
   "source": [
    "from tensorflow.math import confusion_matrix\n",
    "\n",
    "y_test_labels_1d = np.argmax(y_test_labels, axis=1)\n",
    "y_test_predictions_1d = np.argmax(y_test_predictions, axis=1)\n",
    "\n",
    "confusion_matrix(\n",
    "    y_test_labels_1d,\n",
    "    y_test_predictions_1d,\n",
    "    num_classes=num_outputs,\n",
    ")"
   ]
  },
  {
   "cell_type": "code",
   "execution_count": 1,
   "metadata": {},
   "outputs": [
    {
     "data": {
      "image/png": "[encoded data removed]",
      "text/plain": [
       "<Figure size 800x600 with 2 Axes>"
      ]
     },
     "metadata": {},
     "output_type": "display_data"
    }
   ],
   "source": [
    "import numpy as np\n",
    "import pandas as pd\n",
    "import matplotlib.pyplot as plt\n",
    "import seaborn as sns\n",
    "from raw_data_manager.models import EventClassType\n",
    "\n",
    "consusion_array = np.array([[3155,    0,    0,    0,    0,    0,    0,    0,    0],\n",
    "       [   0,    0,    0,    0,    0,    0,    0,    0,    0],\n",
    "       [   0,    0,    0,    0,    0,    0,    0,    0,    0],\n",
    "       [   0,    0,    0,    0,    0,    0,    0,    0,    0],\n",
    "       [   0,    0,    0,    0,  807,    0,    0,    0,    0],\n",
    "       [   0,    0,    0,    0,    0,    0,    0,    0,    0],\n",
    "       [   0,    0,    0,    0,    0,    0,    0,    0,    0],\n",
    "       [   0,    0,    0,    0,    0,    0,    0,    0,    0],\n",
    "       [   0,    0,    0,    0,    0,    0,    0,    0,    0]],)\n",
    "\n",
    "fig, ax = plt.subplots(figsize=(8,6))\n",
    "heatmap = sns.heatmap(consusion_array, annot=True, fmt='d', xticklabels=[e.value for e in EventClassType], yticklabels=[e.value for e in EventClassType], annot_kws={\"size\": 12})\n",
    "heatmap.set_xticklabels(heatmap.get_xmajorticklabels(), fontsize = 14)\n",
    "heatmap.set_yticklabels(heatmap.get_ymajorticklabels(), fontsize = 14)\n",
    "\n",
    "\n",
    "plt.ylabel('Real', fontsize=18)\n",
    "plt.xlabel('Previsto', fontsize=19)\n",
    "plt.show()\n",
    "\n"
   ]
  }
 ],
 "metadata": {
  "kernelspec": {
   "display_name": ".venv",
   "language": "python",
   "name": "python3"
  },
  "language_info": {
   "codemirror_mode": {
    "name": "ipython",
    "version": 3
   },
   "file_extension": ".py",
   "mimetype": "text/x-python",
   "name": "python",
   "nbconvert_exporter": "python",
   "pygments_lexer": "ipython3",
   "version": "3.10.12"
  },
  "orig_nbformat": 4,
  "vscode": {
   "interpreter": {
    "hash": "f76451b3a7719b8fd32adab79b436fd06da7a0268f14fa2684341b59d3c3b3e7"
   }
  }
 },
 "nbformat": 4,
 "nbformat_minor": 2
}
