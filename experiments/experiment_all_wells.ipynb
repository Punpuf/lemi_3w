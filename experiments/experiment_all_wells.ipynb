{
 "cells": [
  {
   "attachments": {},
   "cell_type": "markdown",
   "metadata": {},
   "source": [
    "# Experimento com dados de todos os poços\n",
    "\n",
    "Nesse notebook será realizado as tarefas de obtenção de dados, tratamento, modelagem, e validação de dados.\n",
    "O objetivo aqui é obter um classificador de anomalias para dados de todos os poços (aqui será incluido todos os tipos de dados: inclusive dados de fontes simulação e desenhados)."
   ]
  },
  {
   "attachments": {},
   "cell_type": "markdown",
   "metadata": {},
   "source": [
    "# Aquisição de dados"
   ]
  },
  {
   "attachments": {},
   "cell_type": "markdown",
   "metadata": {},
   "source": [
    "Configurando ambiente: "
   ]
  },
  {
   "cell_type": "code",
   "execution_count": 5,
   "metadata": {},
   "outputs": [],
   "source": [
    "import sys\n",
    "sys.path.append(\"..\")\n",
    "\n",
    "# Environment configuration\n",
    "import raw_data_manager.raw_data_acquisition as rda\n",
    "import raw_data_manager.raw_data_inspector as rdi\n",
    "import raw_data_manager.raw_data_splitter as rds\n",
    "from data_exploration.metric_acquisition import MetricAcquisition\n",
    "from data_preparation.transformation_manager import TransformationManager\n",
    "from constants import storage_config\n",
    "import pathlib\n",
    "import numpy as np\n",
    "import random\n",
    "import pickle\n",
    "\n",
    "# Set default logging level.\n",
    "from absl import logging\n",
    "logging.set_verbosity(logging.DEBUG)"
   ]
  },
  {
   "attachments": {},
   "cell_type": "markdown",
   "metadata": {},
   "source": [
    "Baixar dataset 3W (se não disponível) & gerar tabela de metadados."
   ]
  },
  {
   "cell_type": "code",
   "execution_count": 6,
   "metadata": {},
   "outputs": [
    {
     "name": "stderr",
     "output_type": "stream",
     "text": [
      "INFO:absl:Directory with the biggest version: /home/ubuntu/lemi_3w/data/dataset_converted_v10101\n",
      "INFO:absl:Version: 10101\n",
      "INFO:absl:Latest local version is 10101\n",
      "INFO:absl:Going to fetch config file from $https://raw.githubusercontent.com/petrobras/3W/main/dataset/dataset.ini\n",
      "  % Total    % Received % Xferd  Average Speed   Time    Time     Time  Current\n",
      "                                 Dload  Upload   Total   Spent    Left  Speed\n",
      "100  2786  100  2786    0     0   4382      0 --:--:-- --:--:-- --:--:--  4380\n",
      "INFO:absl:Latest online version is 10101\n",
      "INFO:absl:Found existing converted data with dataset version of 10101\n",
      "INFO:absl:Directory with the biggest version: /home/ubuntu/lemi_3w/data/dataset_converted_v10101\n",
      "INFO:absl:Version: 10101\n"
     ]
    },
    {
     "data": {
      "text/html": [
       "<div>\n",
       "<style scoped>\n",
       "    .dataframe tbody tr th:only-of-type {\n",
       "        vertical-align: middle;\n",
       "    }\n",
       "\n",
       "    .dataframe tbody tr th {\n",
       "        vertical-align: top;\n",
       "    }\n",
       "\n",
       "    .dataframe thead th {\n",
       "        text-align: right;\n",
       "    }\n",
       "</style>\n",
       "<table border=\"1\" class=\"dataframe\">\n",
       "  <thead>\n",
       "    <tr style=\"text-align: right;\">\n",
       "      <th></th>\n",
       "      <th>class_type</th>\n",
       "      <th>source</th>\n",
       "      <th>well_id</th>\n",
       "      <th>path</th>\n",
       "      <th>timestamp</th>\n",
       "      <th>file_size</th>\n",
       "      <th>num_timesteps</th>\n",
       "    </tr>\n",
       "    <tr>\n",
       "      <th>hash_id</th>\n",
       "      <th></th>\n",
       "      <th></th>\n",
       "      <th></th>\n",
       "      <th></th>\n",
       "      <th></th>\n",
       "      <th></th>\n",
       "      <th></th>\n",
       "    </tr>\n",
       "  </thead>\n",
       "  <tbody>\n",
       "    <tr>\n",
       "      <th>74203bb</th>\n",
       "      <td>NORMAL</td>\n",
       "      <td>REAL</td>\n",
       "      <td>1.0</td>\n",
       "      <td>/home/ubuntu/lemi_3w/data/dataset_converted_v1...</td>\n",
       "      <td>2017-05-24 03:00:00</td>\n",
       "      <td>491415</td>\n",
       "      <td>17885</td>\n",
       "    </tr>\n",
       "    <tr>\n",
       "      <th>9fbd6f9</th>\n",
       "      <td>NORMAL</td>\n",
       "      <td>REAL</td>\n",
       "      <td>2.0</td>\n",
       "      <td>/home/ubuntu/lemi_3w/data/dataset_converted_v1...</td>\n",
       "      <td>2017-08-09 06:00:00</td>\n",
       "      <td>520154</td>\n",
       "      <td>17933</td>\n",
       "    </tr>\n",
       "    <tr>\n",
       "      <th>28804c5</th>\n",
       "      <td>NORMAL</td>\n",
       "      <td>REAL</td>\n",
       "      <td>6.0</td>\n",
       "      <td>/home/ubuntu/lemi_3w/data/dataset_converted_v1...</td>\n",
       "      <td>2017-05-08 09:00:31</td>\n",
       "      <td>349162</td>\n",
       "      <td>17970</td>\n",
       "    </tr>\n",
       "    <tr>\n",
       "      <th>42afe91</th>\n",
       "      <td>NORMAL</td>\n",
       "      <td>REAL</td>\n",
       "      <td>8.0</td>\n",
       "      <td>/home/ubuntu/lemi_3w/data/dataset_converted_v1...</td>\n",
       "      <td>2017-07-01 14:01:35</td>\n",
       "      <td>251880</td>\n",
       "      <td>17799</td>\n",
       "    </tr>\n",
       "    <tr>\n",
       "      <th>fa71d94</th>\n",
       "      <td>NORMAL</td>\n",
       "      <td>REAL</td>\n",
       "      <td>6.0</td>\n",
       "      <td>/home/ubuntu/lemi_3w/data/dataset_converted_v1...</td>\n",
       "      <td>2017-08-23 19:00:00</td>\n",
       "      <td>279737</td>\n",
       "      <td>17949</td>\n",
       "    </tr>\n",
       "    <tr>\n",
       "      <th>...</th>\n",
       "      <td>...</td>\n",
       "      <td>...</td>\n",
       "      <td>...</td>\n",
       "      <td>...</td>\n",
       "      <td>...</td>\n",
       "      <td>...</td>\n",
       "      <td>...</td>\n",
       "    </tr>\n",
       "    <tr>\n",
       "      <th>ea66cf6</th>\n",
       "      <td>SEVERE_SLUGGING</td>\n",
       "      <td>SIMULATED</td>\n",
       "      <td>NaN</td>\n",
       "      <td>/home/ubuntu/lemi_3w/data/dataset_converted_v1...</td>\n",
       "      <td>NaT</td>\n",
       "      <td>2315903</td>\n",
       "      <td>61999</td>\n",
       "    </tr>\n",
       "    <tr>\n",
       "      <th>34f032a</th>\n",
       "      <td>SEVERE_SLUGGING</td>\n",
       "      <td>SIMULATED</td>\n",
       "      <td>NaN</td>\n",
       "      <td>/home/ubuntu/lemi_3w/data/dataset_converted_v1...</td>\n",
       "      <td>NaT</td>\n",
       "      <td>2259539</td>\n",
       "      <td>61999</td>\n",
       "    </tr>\n",
       "    <tr>\n",
       "      <th>876a969</th>\n",
       "      <td>SEVERE_SLUGGING</td>\n",
       "      <td>REAL</td>\n",
       "      <td>14.0</td>\n",
       "      <td>/home/ubuntu/lemi_3w/data/dataset_converted_v1...</td>\n",
       "      <td>2017-09-25 06:00:42</td>\n",
       "      <td>1005717</td>\n",
       "      <td>17959</td>\n",
       "    </tr>\n",
       "    <tr>\n",
       "      <th>deac7ec</th>\n",
       "      <td>SEVERE_SLUGGING</td>\n",
       "      <td>SIMULATED</td>\n",
       "      <td>NaN</td>\n",
       "      <td>/home/ubuntu/lemi_3w/data/dataset_converted_v1...</td>\n",
       "      <td>NaT</td>\n",
       "      <td>2045137</td>\n",
       "      <td>61999</td>\n",
       "    </tr>\n",
       "    <tr>\n",
       "      <th>c8867fa</th>\n",
       "      <td>SEVERE_SLUGGING</td>\n",
       "      <td>SIMULATED</td>\n",
       "      <td>NaN</td>\n",
       "      <td>/home/ubuntu/lemi_3w/data/dataset_converted_v1...</td>\n",
       "      <td>NaT</td>\n",
       "      <td>2359418</td>\n",
       "      <td>61999</td>\n",
       "    </tr>\n",
       "  </tbody>\n",
       "</table>\n",
       "<p>1978 rows × 7 columns</p>\n",
       "</div>"
      ],
      "text/plain": [
       "              class_type     source  well_id  \\\n",
       "hash_id                                        \n",
       "74203bb           NORMAL       REAL      1.0   \n",
       "9fbd6f9           NORMAL       REAL      2.0   \n",
       "28804c5           NORMAL       REAL      6.0   \n",
       "42afe91           NORMAL       REAL      8.0   \n",
       "fa71d94           NORMAL       REAL      6.0   \n",
       "...                  ...        ...      ...   \n",
       "ea66cf6  SEVERE_SLUGGING  SIMULATED      NaN   \n",
       "34f032a  SEVERE_SLUGGING  SIMULATED      NaN   \n",
       "876a969  SEVERE_SLUGGING       REAL     14.0   \n",
       "deac7ec  SEVERE_SLUGGING  SIMULATED      NaN   \n",
       "c8867fa  SEVERE_SLUGGING  SIMULATED      NaN   \n",
       "\n",
       "                                                      path  \\\n",
       "hash_id                                                      \n",
       "74203bb  /home/ubuntu/lemi_3w/data/dataset_converted_v1...   \n",
       "9fbd6f9  /home/ubuntu/lemi_3w/data/dataset_converted_v1...   \n",
       "28804c5  /home/ubuntu/lemi_3w/data/dataset_converted_v1...   \n",
       "42afe91  /home/ubuntu/lemi_3w/data/dataset_converted_v1...   \n",
       "fa71d94  /home/ubuntu/lemi_3w/data/dataset_converted_v1...   \n",
       "...                                                    ...   \n",
       "ea66cf6  /home/ubuntu/lemi_3w/data/dataset_converted_v1...   \n",
       "34f032a  /home/ubuntu/lemi_3w/data/dataset_converted_v1...   \n",
       "876a969  /home/ubuntu/lemi_3w/data/dataset_converted_v1...   \n",
       "deac7ec  /home/ubuntu/lemi_3w/data/dataset_converted_v1...   \n",
       "c8867fa  /home/ubuntu/lemi_3w/data/dataset_converted_v1...   \n",
       "\n",
       "                  timestamp  file_size  num_timesteps  \n",
       "hash_id                                                \n",
       "74203bb 2017-05-24 03:00:00     491415          17885  \n",
       "9fbd6f9 2017-08-09 06:00:00     520154          17933  \n",
       "28804c5 2017-05-08 09:00:31     349162          17970  \n",
       "42afe91 2017-07-01 14:01:35     251880          17799  \n",
       "fa71d94 2017-08-23 19:00:00     279737          17949  \n",
       "...                     ...        ...            ...  \n",
       "ea66cf6                 NaT    2315903          61999  \n",
       "34f032a                 NaT    2259539          61999  \n",
       "876a969 2017-09-25 06:00:42    1005717          17959  \n",
       "deac7ec                 NaT    2045137          61999  \n",
       "c8867fa                 NaT    2359418          61999  \n",
       "\n",
       "[1978 rows x 7 columns]"
      ]
     },
     "execution_count": 6,
     "metadata": {},
     "output_type": "execute_result"
    }
   ],
   "source": [
    "## Acquire data (of entire 3W dataset)\n",
    "rda.acquire_dataset_if_needed()\n",
    "latest_converted_data_path, latest_converted_data_version = (\n",
    "    rda.get_latest_local_converted_data_version(storage_config.DIR_PROJECT_DATA)\n",
    ")\n",
    "\n",
    "# Helper to overview metadata (of entire 3W dataset)\n",
    "inspector_all_data = rdi.RawDataInspector(\n",
    "    dataset_dir=latest_converted_data_path,\n",
    "    cache_file_path=storage_config.PATH_DATA_INSPECTOR_CACHE,\n",
    "    use_cached=True\n",
    ")\n",
    "metadata_all_data = inspector_all_data.get_metadata_table()\n",
    "metadata_all_data"
   ]
  },
  {
   "attachments": {},
   "cell_type": "markdown",
   "metadata": {},
   "source": [
    "Dividir dados (de forma estratificada) em treinamento e teste."
   ]
  },
  {
   "cell_type": "code",
   "execution_count": 7,
   "metadata": {},
   "outputs": [
    {
     "name": "stderr",
     "output_type": "stream",
     "text": [
      "DEBUG:absl:validation_size 0.1\n",
      "DEBUG:absl:size of train data: 1384. val: 198. test: 396\n",
      "DEBUG:absl:train path /home/ubuntu/lemi_3w/data/dataset_converted_v10101_split-20_source-all_class-all_well-all_train -/- val: /home/ubuntu/lemi_3w/data/dataset_converted_v10101_split-20_source-all_class-all_well-all_validation -/- test: /home/ubuntu/lemi_3w/data/dataset_converted_v10101_split-20_source-all_class-all_well-all_test\n",
      "DONE: 100%|██████████| 1384/1384 [00:00<00:00, 1757.41it/s]\n",
      "DONE: 100%|██████████| 396/396 [00:00<00:00, 1157.54it/s]\n",
      "DONE: 100%|██████████| 198/198 [00:00<00:00, 637.51it/s]\n"
     ]
    }
   ],
   "source": [
    "# splits data, from the selected well, into train and test datasets\n",
    "splitter = rds.RawDataSplitter(metadata_all_data, latest_converted_data_version)\n",
    "split_train_dir, split_validation_dir, split_test_dir = splitter.stratefy_split_of_data(\n",
    "    data_dir=storage_config.DIR_PROJECT_DATA, \n",
    "    validation_size=0.10,\n",
    "    test_size=0.20,\n",
    ")"
   ]
  },
  {
   "cell_type": "code",
   "execution_count": 8,
   "metadata": {},
   "outputs": [
    {
     "name": "stderr",
     "output_type": "stream",
     "text": [
      "INFO:absl:Processing 416 events of class type 0.\n",
      "DONE: 100%|██████████| 416/416 [00:02<00:00, 199.28it/s]\n",
      "INFO:absl:Processing 241 events of class type 4.\n",
      "DONE: 100%|██████████| 241/241 [00:00<00:00, 293.35it/s]\n",
      "INFO:absl:Processing 315 events of class type 5.\n",
      "DONE: 100%|██████████| 315/315 [00:02<00:00, 141.12it/s]INFO:absl:Processing 90 events of class type 1.\n",
      "\n",
      "DONE: 100%|██████████| 90/90 [00:01<00:00, 59.97it/s]INFO:absl:Processing 10 events of class type 7.\n",
      "DONE: 100%|██████████| 90/90 [00:01<00:00, 48.32it/s]\n",
      "DONE: 100%|██████████| 10/10 [00:00<00:00, 12.05it/s]\n",
      "INFO:absl:Processing 154 events of class type 6.\n",
      "DONE: 100%|██████████| 154/154 [00:01<00:00, 133.72it/s]\n",
      "INFO:absl:Processing 57 events of class type 8.\n",
      "DONE: 100%|██████████| 57/57 [00:00<00:00, 130.95it/s]INFO:absl:Processing 27 events of class type 2.\n",
      "DONE: 100%|██████████| 57/57 [00:00<00:00, 102.00it/s]\n",
      "DONE: 100%|██████████| 27/27 [00:00<00:00, 77.17it/s]\n",
      "INFO:absl:Processing 74 events of class type 3.\n",
      "DONE: 100%|██████████| 74/74 [00:01<00:00, 118.84it/s]INFO:absl:Found 9.\n",
      "DONE: 100%|██████████| 74/74 [00:01<00:00, 72.35it/s] \n",
      "INFO:absl:Processing 59 events of class type 0.\n",
      "DONE: 100%|██████████| 59/59 [00:00<00:00, 111.00it/s]\n",
      "INFO:absl:Processing 34 events of class type 4.\n",
      "DONE: 100%|██████████| 34/34 [00:00<00:00, 125.80it/s]INFO:absl:Processing 45 events of class type 5.\n",
      "\n",
      "DONE: 100%|██████████| 45/45 [00:00<00:00, 88.08it/s]INFO:absl:Processing 13 events of class type 1.\n",
      "\n",
      "DONE: 100%|██████████| 13/13 [00:00<00:00, 28.57it/s]\n",
      "INFO:absl:Processing 2 events of class type 7.\n",
      "DONE: 100%|██████████| 2/2 [00:00<00:00,  5.05it/s]\n",
      "INFO:absl:Processing 23 events of class type 6.\n",
      "DONE:  74%|███████▍  | 17/23 [00:00<00:00, 85.25it/s]INFO:absl:Processing 8 events of class type 8.\n",
      "DONE: 100%|██████████| 23/23 [00:00<00:00, 80.72it/s]\n",
      "DONE:  12%|█▎        | 1/8 [00:00<00:00,  7.62it/s]INFO:absl:Processing 4 events of class type 2.\n",
      "DONE: 100%|██████████| 8/8 [00:00<00:00, 36.25it/s]\n",
      "DONE: 100%|██████████| 4/4 [00:00<00:00, 25.27it/s]INFO:absl:Processing 10 events of class type 3.\n",
      "\n",
      "DONE: 100%|██████████| 10/10 [00:00<00:00, 38.28it/s]INFO:absl:Found 9.\n",
      "\n",
      "INFO:absl:Processing 119 events of class type 0.\n",
      "DONE: 100%|██████████| 119/119 [00:00<00:00, 163.34it/s]INFO:absl:Processing 69 events of class type 4.\n",
      "\n",
      "DONE:  43%|████▎     | 30/69 [00:00<00:00, 103.37it/s]INFO:absl:Processing 90 events of class type 5.\n",
      "DONE: 100%|██████████| 69/69 [00:00<00:00, 178.95it/s]\n",
      "DONE:  29%|██▉       | 26/90 [00:00<00:01, 45.73it/s]INFO:absl:Processing 26 events of class type 1.\n",
      "DONE: 100%|██████████| 90/90 [00:00<00:00, 113.27it/s]\n",
      "DONE: 100%|██████████| 26/26 [00:00<00:00, 33.37it/s]\n",
      "INFO:absl:Processing 3 events of class type 7.\n",
      "DONE: 100%|██████████| 3/3 [00:00<00:00,  6.96it/s]INFO:absl:Processing 44 events of class type 6.\n",
      "\n",
      "DONE: 100%|██████████| 44/44 [00:00<00:00, 101.16it/s]INFO:absl:Processing 16 events of class type 8.\n",
      "\n",
      "DONE: 100%|██████████| 16/16 [00:00<00:00, 58.86it/s]\n",
      "INFO:absl:Processing 7 events of class type 2.\n",
      "DONE: 100%|██████████| 7/7 [00:00<00:00, 44.14it/s]\n",
      "INFO:absl:Processing 22 events of class type 3.\n",
      "DONE: 100%|██████████| 22/22 [00:00<00:00, 55.45it/s]INFO:absl:Found 9.\n",
      "\n"
     ]
    }
   ],
   "source": [
    "# generates metadata tables for split data\n",
    "train_metadata = rdi.RawDataInspector(\n",
    "    dataset_dir=split_train_dir,\n",
    "    cache_file_path=storage_config.DIR_PROJECT_CACHE / \"train_metadata_all_data.parquet\",\n",
    "    use_cached=False,\n",
    ")\n",
    "validation_metadata = rdi.RawDataInspector(\n",
    "    dataset_dir=split_validation_dir,\n",
    "    cache_file_path=storage_config.DIR_PROJECT_CACHE / \"validation_metadata_all_data.parquet\",\n",
    "    use_cached=False,\n",
    ")\n",
    "test_metadata = rdi.RawDataInspector(\n",
    "    dataset_dir=split_test_dir,\n",
    "    cache_file_path=storage_config.DIR_PROJECT_CACHE / \"test_metadata_all_data.parquet\",\n",
    "    use_cached=False,\n",
    ")"
   ]
  },
  {
   "attachments": {},
   "cell_type": "markdown",
   "metadata": {},
   "source": [
    "Tabela de anomalias por tipo de fonte - treinamento."
   ]
  },
  {
   "cell_type": "code",
   "execution_count": 9,
   "metadata": {},
   "outputs": [
    {
     "data": {
      "text/html": [
       "<div>\n",
       "<style scoped>\n",
       "    .dataframe tbody tr th:only-of-type {\n",
       "        vertical-align: middle;\n",
       "    }\n",
       "\n",
       "    .dataframe tbody tr th {\n",
       "        vertical-align: top;\n",
       "    }\n",
       "\n",
       "    .dataframe thead th {\n",
       "        text-align: right;\n",
       "    }\n",
       "</style>\n",
       "<table border=\"1\" class=\"dataframe\">\n",
       "  <thead>\n",
       "    <tr style=\"text-align: right;\">\n",
       "      <th></th>\n",
       "      <th>real_count</th>\n",
       "      <th>simul_count</th>\n",
       "      <th>drawn_count</th>\n",
       "      <th>soma</th>\n",
       "    </tr>\n",
       "    <tr>\n",
       "      <th>anomaly</th>\n",
       "      <th></th>\n",
       "      <th></th>\n",
       "      <th></th>\n",
       "      <th></th>\n",
       "    </tr>\n",
       "  </thead>\n",
       "  <tbody>\n",
       "    <tr>\n",
       "      <th>NORMAL</th>\n",
       "      <td>416</td>\n",
       "      <td>0</td>\n",
       "      <td>0</td>\n",
       "      <td>416</td>\n",
       "    </tr>\n",
       "    <tr>\n",
       "      <th>ABRUPT_INCREASE_BSW</th>\n",
       "      <td>3</td>\n",
       "      <td>80</td>\n",
       "      <td>7</td>\n",
       "      <td>90</td>\n",
       "    </tr>\n",
       "    <tr>\n",
       "      <th>SPURIOUS_CLOSURE_DHSV</th>\n",
       "      <td>16</td>\n",
       "      <td>11</td>\n",
       "      <td>0</td>\n",
       "      <td>27</td>\n",
       "    </tr>\n",
       "    <tr>\n",
       "      <th>SEVERE_SLUGGING</th>\n",
       "      <td>22</td>\n",
       "      <td>52</td>\n",
       "      <td>0</td>\n",
       "      <td>74</td>\n",
       "    </tr>\n",
       "    <tr>\n",
       "      <th>FLOW_INSTABILITY</th>\n",
       "      <td>241</td>\n",
       "      <td>0</td>\n",
       "      <td>0</td>\n",
       "      <td>241</td>\n",
       "    </tr>\n",
       "    <tr>\n",
       "      <th>RAPID_PRODUCTIVITY_LOSS</th>\n",
       "      <td>8</td>\n",
       "      <td>307</td>\n",
       "      <td>0</td>\n",
       "      <td>315</td>\n",
       "    </tr>\n",
       "    <tr>\n",
       "      <th>QUICK_RESTRICTION_PCK</th>\n",
       "      <td>4</td>\n",
       "      <td>150</td>\n",
       "      <td>0</td>\n",
       "      <td>154</td>\n",
       "    </tr>\n",
       "    <tr>\n",
       "      <th>SCALING_IN_PCK</th>\n",
       "      <td>3</td>\n",
       "      <td>0</td>\n",
       "      <td>7</td>\n",
       "      <td>10</td>\n",
       "    </tr>\n",
       "    <tr>\n",
       "      <th>HYDRATE_IN_PRODUCTION_LINE</th>\n",
       "      <td>0</td>\n",
       "      <td>57</td>\n",
       "      <td>0</td>\n",
       "      <td>57</td>\n",
       "    </tr>\n",
       "    <tr>\n",
       "      <th>Total</th>\n",
       "      <td>713</td>\n",
       "      <td>657</td>\n",
       "      <td>14</td>\n",
       "      <td>1384</td>\n",
       "    </tr>\n",
       "  </tbody>\n",
       "</table>\n",
       "</div>"
      ],
      "text/plain": [
       "                            real_count  simul_count  drawn_count  soma\n",
       "anomaly                                                               \n",
       "NORMAL                             416            0            0   416\n",
       "ABRUPT_INCREASE_BSW                  3           80            7    90\n",
       "SPURIOUS_CLOSURE_DHSV               16           11            0    27\n",
       "SEVERE_SLUGGING                     22           52            0    74\n",
       "FLOW_INSTABILITY                   241            0            0   241\n",
       "RAPID_PRODUCTIVITY_LOSS              8          307            0   315\n",
       "QUICK_RESTRICTION_PCK                4          150            0   154\n",
       "SCALING_IN_PCK                       3            0            7    10\n",
       "HYDRATE_IN_PRODUCTION_LINE           0           57            0    57\n",
       "Total                              713          657           14  1384"
      ]
     },
     "execution_count": 9,
     "metadata": {},
     "output_type": "execute_result"
    }
   ],
   "source": [
    "rdi.RawDataInspector.generate_table_by_anomaly_source(train_metadata.get_metadata_table())"
   ]
  },
  {
   "attachments": {},
   "cell_type": "markdown",
   "metadata": {},
   "source": [
    "Tabela de anomalias por tipo de fonte - validação."
   ]
  },
  {
   "cell_type": "code",
   "execution_count": 10,
   "metadata": {},
   "outputs": [
    {
     "data": {
      "text/html": [
       "<div>\n",
       "<style scoped>\n",
       "    .dataframe tbody tr th:only-of-type {\n",
       "        vertical-align: middle;\n",
       "    }\n",
       "\n",
       "    .dataframe tbody tr th {\n",
       "        vertical-align: top;\n",
       "    }\n",
       "\n",
       "    .dataframe thead th {\n",
       "        text-align: right;\n",
       "    }\n",
       "</style>\n",
       "<table border=\"1\" class=\"dataframe\">\n",
       "  <thead>\n",
       "    <tr style=\"text-align: right;\">\n",
       "      <th></th>\n",
       "      <th>real_count</th>\n",
       "      <th>simul_count</th>\n",
       "      <th>drawn_count</th>\n",
       "      <th>soma</th>\n",
       "    </tr>\n",
       "    <tr>\n",
       "      <th>anomaly</th>\n",
       "      <th></th>\n",
       "      <th></th>\n",
       "      <th></th>\n",
       "      <th></th>\n",
       "    </tr>\n",
       "  </thead>\n",
       "  <tbody>\n",
       "    <tr>\n",
       "      <th>NORMAL</th>\n",
       "      <td>59</td>\n",
       "      <td>0</td>\n",
       "      <td>0</td>\n",
       "      <td>59</td>\n",
       "    </tr>\n",
       "    <tr>\n",
       "      <th>ABRUPT_INCREASE_BSW</th>\n",
       "      <td>1</td>\n",
       "      <td>11</td>\n",
       "      <td>1</td>\n",
       "      <td>13</td>\n",
       "    </tr>\n",
       "    <tr>\n",
       "      <th>SPURIOUS_CLOSURE_DHSV</th>\n",
       "      <td>2</td>\n",
       "      <td>2</td>\n",
       "      <td>0</td>\n",
       "      <td>4</td>\n",
       "    </tr>\n",
       "    <tr>\n",
       "      <th>SEVERE_SLUGGING</th>\n",
       "      <td>3</td>\n",
       "      <td>7</td>\n",
       "      <td>0</td>\n",
       "      <td>10</td>\n",
       "    </tr>\n",
       "    <tr>\n",
       "      <th>FLOW_INSTABILITY</th>\n",
       "      <td>34</td>\n",
       "      <td>0</td>\n",
       "      <td>0</td>\n",
       "      <td>34</td>\n",
       "    </tr>\n",
       "    <tr>\n",
       "      <th>RAPID_PRODUCTIVITY_LOSS</th>\n",
       "      <td>1</td>\n",
       "      <td>44</td>\n",
       "      <td>0</td>\n",
       "      <td>45</td>\n",
       "    </tr>\n",
       "    <tr>\n",
       "      <th>QUICK_RESTRICTION_PCK</th>\n",
       "      <td>1</td>\n",
       "      <td>22</td>\n",
       "      <td>0</td>\n",
       "      <td>23</td>\n",
       "    </tr>\n",
       "    <tr>\n",
       "      <th>SCALING_IN_PCK</th>\n",
       "      <td>1</td>\n",
       "      <td>0</td>\n",
       "      <td>1</td>\n",
       "      <td>2</td>\n",
       "    </tr>\n",
       "    <tr>\n",
       "      <th>HYDRATE_IN_PRODUCTION_LINE</th>\n",
       "      <td>0</td>\n",
       "      <td>8</td>\n",
       "      <td>0</td>\n",
       "      <td>8</td>\n",
       "    </tr>\n",
       "    <tr>\n",
       "      <th>Total</th>\n",
       "      <td>102</td>\n",
       "      <td>94</td>\n",
       "      <td>2</td>\n",
       "      <td>198</td>\n",
       "    </tr>\n",
       "  </tbody>\n",
       "</table>\n",
       "</div>"
      ],
      "text/plain": [
       "                            real_count  simul_count  drawn_count  soma\n",
       "anomaly                                                               \n",
       "NORMAL                              59            0            0    59\n",
       "ABRUPT_INCREASE_BSW                  1           11            1    13\n",
       "SPURIOUS_CLOSURE_DHSV                2            2            0     4\n",
       "SEVERE_SLUGGING                      3            7            0    10\n",
       "FLOW_INSTABILITY                    34            0            0    34\n",
       "RAPID_PRODUCTIVITY_LOSS              1           44            0    45\n",
       "QUICK_RESTRICTION_PCK                1           22            0    23\n",
       "SCALING_IN_PCK                       1            0            1     2\n",
       "HYDRATE_IN_PRODUCTION_LINE           0            8            0     8\n",
       "Total                              102           94            2   198"
      ]
     },
     "execution_count": 10,
     "metadata": {},
     "output_type": "execute_result"
    }
   ],
   "source": [
    "rdi.RawDataInspector.generate_table_by_anomaly_source(validation_metadata.get_metadata_table())"
   ]
  },
  {
   "attachments": {},
   "cell_type": "markdown",
   "metadata": {},
   "source": [
    "Tabela de anomalias por tipo de fonte - teste."
   ]
  },
  {
   "cell_type": "code",
   "execution_count": 11,
   "metadata": {},
   "outputs": [
    {
     "data": {
      "text/html": [
       "<div>\n",
       "<style scoped>\n",
       "    .dataframe tbody tr th:only-of-type {\n",
       "        vertical-align: middle;\n",
       "    }\n",
       "\n",
       "    .dataframe tbody tr th {\n",
       "        vertical-align: top;\n",
       "    }\n",
       "\n",
       "    .dataframe thead th {\n",
       "        text-align: right;\n",
       "    }\n",
       "</style>\n",
       "<table border=\"1\" class=\"dataframe\">\n",
       "  <thead>\n",
       "    <tr style=\"text-align: right;\">\n",
       "      <th></th>\n",
       "      <th>real_count</th>\n",
       "      <th>simul_count</th>\n",
       "      <th>drawn_count</th>\n",
       "      <th>soma</th>\n",
       "    </tr>\n",
       "    <tr>\n",
       "      <th>anomaly</th>\n",
       "      <th></th>\n",
       "      <th></th>\n",
       "      <th></th>\n",
       "      <th></th>\n",
       "    </tr>\n",
       "  </thead>\n",
       "  <tbody>\n",
       "    <tr>\n",
       "      <th>NORMAL</th>\n",
       "      <td>119</td>\n",
       "      <td>0</td>\n",
       "      <td>0</td>\n",
       "      <td>119</td>\n",
       "    </tr>\n",
       "    <tr>\n",
       "      <th>ABRUPT_INCREASE_BSW</th>\n",
       "      <td>1</td>\n",
       "      <td>23</td>\n",
       "      <td>2</td>\n",
       "      <td>26</td>\n",
       "    </tr>\n",
       "    <tr>\n",
       "      <th>SPURIOUS_CLOSURE_DHSV</th>\n",
       "      <td>4</td>\n",
       "      <td>3</td>\n",
       "      <td>0</td>\n",
       "      <td>7</td>\n",
       "    </tr>\n",
       "    <tr>\n",
       "      <th>SEVERE_SLUGGING</th>\n",
       "      <td>7</td>\n",
       "      <td>15</td>\n",
       "      <td>0</td>\n",
       "      <td>22</td>\n",
       "    </tr>\n",
       "    <tr>\n",
       "      <th>FLOW_INSTABILITY</th>\n",
       "      <td>69</td>\n",
       "      <td>0</td>\n",
       "      <td>0</td>\n",
       "      <td>69</td>\n",
       "    </tr>\n",
       "    <tr>\n",
       "      <th>RAPID_PRODUCTIVITY_LOSS</th>\n",
       "      <td>2</td>\n",
       "      <td>88</td>\n",
       "      <td>0</td>\n",
       "      <td>90</td>\n",
       "    </tr>\n",
       "    <tr>\n",
       "      <th>QUICK_RESTRICTION_PCK</th>\n",
       "      <td>1</td>\n",
       "      <td>43</td>\n",
       "      <td>0</td>\n",
       "      <td>44</td>\n",
       "    </tr>\n",
       "    <tr>\n",
       "      <th>SCALING_IN_PCK</th>\n",
       "      <td>1</td>\n",
       "      <td>0</td>\n",
       "      <td>2</td>\n",
       "      <td>3</td>\n",
       "    </tr>\n",
       "    <tr>\n",
       "      <th>HYDRATE_IN_PRODUCTION_LINE</th>\n",
       "      <td>0</td>\n",
       "      <td>16</td>\n",
       "      <td>0</td>\n",
       "      <td>16</td>\n",
       "    </tr>\n",
       "    <tr>\n",
       "      <th>Total</th>\n",
       "      <td>204</td>\n",
       "      <td>188</td>\n",
       "      <td>4</td>\n",
       "      <td>396</td>\n",
       "    </tr>\n",
       "  </tbody>\n",
       "</table>\n",
       "</div>"
      ],
      "text/plain": [
       "                            real_count  simul_count  drawn_count  soma\n",
       "anomaly                                                               \n",
       "NORMAL                             119            0            0   119\n",
       "ABRUPT_INCREASE_BSW                  1           23            2    26\n",
       "SPURIOUS_CLOSURE_DHSV                4            3            0     7\n",
       "SEVERE_SLUGGING                      7           15            0    22\n",
       "FLOW_INSTABILITY                    69            0            0    69\n",
       "RAPID_PRODUCTIVITY_LOSS              2           88            0    90\n",
       "QUICK_RESTRICTION_PCK                1           43            0    44\n",
       "SCALING_IN_PCK                       1            0            2     3\n",
       "HYDRATE_IN_PRODUCTION_LINE           0           16            0    16\n",
       "Total                              204          188            4   396"
      ]
     },
     "execution_count": 11,
     "metadata": {},
     "output_type": "execute_result"
    }
   ],
   "source": [
    "rdi.RawDataInspector.generate_table_by_anomaly_source(test_metadata.get_metadata_table())"
   ]
  },
  {
   "attachments": {},
   "cell_type": "markdown",
   "metadata": {},
   "source": [
    "# Procesamento de dados"
   ]
  },
  {
   "attachments": {},
   "cell_type": "markdown",
   "metadata": {},
   "source": [
    "Remoção de valores extremos."
   ]
  },
  {
   "cell_type": "code",
   "execution_count": 12,
   "metadata": {},
   "outputs": [
    {
     "name": "stderr",
     "output_type": "stream",
     "text": [
      "DONE: 100%|██████████| 1384/1384 [00:18<00:00, 88.02it/s]"
     ]
    },
    {
     "data": {
      "text/plain": [
       "[681, 702, 821, 1054, 1068, 1285, 1290, 1297, 1301]"
      ]
     },
     "execution_count": 12,
     "metadata": {},
     "output_type": "execute_result"
    }
   ],
   "source": [
    "from parallelbar import progress_map\n",
    "\n",
    "def is_event_path_values_valid(event_path):\n",
    "    event = rda.get_event(event_path)\n",
    "    return TransformationManager.is_event_values_valid(event)\n",
    "\n",
    "valid_index_list = progress_map(is_event_path_values_valid, train_metadata.get_metadata_table()['path'].to_list())\n",
    "\n",
    "non_valid_ids = [index for index, value in enumerate(valid_index_list) if value == False]\n",
    "non_valid_ids"
   ]
  },
  {
   "cell_type": "code",
   "execution_count": 13,
   "metadata": {},
   "outputs": [
    {
     "name": "stderr",
     "output_type": "stream",
     "text": [
      "DONE: 100%|██████████| 1384/1384 [00:18<00:00, 75.92it/s]\n"
     ]
    },
    {
     "name": "stdout",
     "output_type": "stream",
     "text": [
      "stating size is: 1384\n",
      "final size is: 1375\n"
     ]
    }
   ],
   "source": [
    "valid_train_metadata = train_metadata.get_metadata_table().copy()\n",
    "print(\"stating size is:\", len(valid_train_metadata))\n",
    "\n",
    "valid_train_metadata.drop(valid_train_metadata.index[non_valid_ids], inplace=True, axis='index')\n",
    "print(\"final size is:\", len(valid_train_metadata))"
   ]
  },
  {
   "attachments": {},
   "cell_type": "markdown",
   "metadata": {},
   "source": [
    "Calcular valores da média dos valores e do desvio padrão."
   ]
  },
  {
   "cell_type": "code",
   "execution_count": 14,
   "metadata": {},
   "outputs": [
    {
     "name": "stderr",
     "output_type": "stream",
     "text": [
      "DONE: 100%|██████████| 1375/1375 [00:07<00:00, 178.34it/s]\n",
      "DEBUG:absl:Mean of means was adquired\n",
      "             P-PDG         P-TPT       T-TPT     P-MON-CKP   T-JUS-CKP  \\\n",
      "0     0.000000e+00  8.715824e+06  117.581821  1.539264e+06   77.332955   \n",
      "1     4.203851e+07  1.806945e+07  118.569073  2.492268e+06   79.545939   \n",
      "2     4.485805e+07  2.114707e+07  116.569785  1.224582e+07   61.885166   \n",
      "3     0.000000e+00  2.078830e+07  106.345925  1.150086e+07   67.224899   \n",
      "4     0.000000e+00  7.431188e+06  115.475035  1.654020e+06   68.952580   \n",
      "...            ...           ...         ...           ...         ...   \n",
      "1370  2.424625e+07  1.511253e+07   44.579236  2.051035e+06   26.684643   \n",
      "1371  1.539201e+07  8.925425e+06  120.387588  4.042629e+06   94.437207   \n",
      "1372  2.077121e+07  1.138257e+07  119.183729  4.102729e+06   88.286792   \n",
      "1373  1.660494e+07  9.154420e+06  122.202564  4.044520e+06  101.257945   \n",
      "1374  1.898863e+07  1.076657e+07  116.316665  4.090173e+06   78.424427   \n",
      "\n",
      "        P-JUS-CKGL       QGL  \n",
      "0     2.320418e+06  0.000000  \n",
      "1     6.233022e+06  0.000000  \n",
      "2     1.446720e+05  0.000000  \n",
      "3     1.326475e+09       NaN  \n",
      "4     2.330222e+06  0.000000  \n",
      "...            ...       ...  \n",
      "1370  1.865296e+07  1.154268  \n",
      "1371           NaN       NaN  \n",
      "1372           NaN       NaN  \n",
      "1373           NaN       NaN  \n",
      "1374           NaN       NaN  \n",
      "\n",
      "[1375 rows x 7 columns]\n",
      "DEBUG:absl:Processed means was adquired\n",
      "P-PDG         1.647858e+07\n",
      "P-TPT         1.517916e+07\n",
      "T-TPT         1.061071e+02\n",
      "P-MON-CKP     4.741109e+06\n",
      "T-JUS-CKP     7.889183e+01\n",
      "P-JUS-CKGL    3.574706e+08\n",
      "QGL           2.570021e-01\n",
      "dtype: float64\n",
      "DONE: 100%|██████████| 1375/1375 [00:08<00:00, 158.77it/s]\n",
      "DEBUG:absl:Mean of stds was adquired\n",
      "             P-PDG         P-TPT      T-TPT     P-MON-CKP  T-JUS-CKP  \\\n",
      "0     1.647904e+07  6.463903e+06  11.478982  3.212530e+06   1.727077   \n",
      "1     2.701387e+07  2.890380e+06  12.462322  2.248905e+06   0.654169   \n",
      "2     2.838026e+07  5.968078e+06  10.462980  7.504916e+06  17.007236   \n",
      "3     1.647904e+07  5.609292e+06   0.240751  6.759939e+06  11.667263   \n",
      "4     1.647904e+07  7.748507e+06   9.369548  3.095773e+06   9.971827   \n",
      "...            ...           ...        ...           ...        ...   \n",
      "1370  7.776290e+06  1.085233e+06  62.735812  3.047972e+06  52.606847   \n",
      "1371  1.278025e+06  6.280455e+06  14.289148  6.988569e+05  15.673318   \n",
      "1372  4.494980e+06  4.038515e+06  13.110020  6.441687e+05   9.821022   \n",
      "1373  7.071998e+05  6.052875e+06  16.097921  6.969077e+05  22.403965   \n",
      "1374  2.736071e+06  4.562892e+06  10.304955  6.571536e+05   4.655479   \n",
      "\n",
      "        P-JUS-CKGL       QGL  \n",
      "0     3.551601e+08  0.257009  \n",
      "1     3.512474e+08  0.257009  \n",
      "2     3.573359e+08  0.257009  \n",
      "3     9.690322e+08 -0.000000  \n",
      "4     3.551503e+08  0.257009  \n",
      "...            ...       ...  \n",
      "1370  3.388336e+08  1.066863  \n",
      "1371 -0.000000e+00 -0.000000  \n",
      "1372 -0.000000e+00 -0.000000  \n",
      "1373 -0.000000e+00 -0.000000  \n",
      "1374 -0.000000e+00 -0.000000  \n",
      "\n",
      "[1375 rows x 7 columns]\n",
      "DEBUG:absl:Processed stds was adquired\n",
      "P-PDG         1.203992e+07\n",
      "P-TPT         3.679432e+06\n",
      "T-TPT         1.639070e+01\n",
      "P-MON-CKP     3.069288e+06\n",
      "T-JUS-CKP     1.881297e+01\n",
      "P-JUS-CKGL    2.496955e+08\n",
      "QGL           1.625997e-01\n",
      "dtype: float64\n"
     ]
    },
    {
     "data": {
      "text/html": [
       "<div>\n",
       "<style scoped>\n",
       "    .dataframe tbody tr th:only-of-type {\n",
       "        vertical-align: middle;\n",
       "    }\n",
       "\n",
       "    .dataframe tbody tr th {\n",
       "        vertical-align: top;\n",
       "    }\n",
       "\n",
       "    .dataframe thead th {\n",
       "        text-align: right;\n",
       "    }\n",
       "</style>\n",
       "<table border=\"1\" class=\"dataframe\">\n",
       "  <thead>\n",
       "    <tr style=\"text-align: right;\">\n",
       "      <th></th>\n",
       "      <th>mean_of_means</th>\n",
       "      <th>mean_of_stds</th>\n",
       "    </tr>\n",
       "  </thead>\n",
       "  <tbody>\n",
       "    <tr>\n",
       "      <th>P-PDG</th>\n",
       "      <td>1.647858e+07</td>\n",
       "      <td>1.203992e+07</td>\n",
       "    </tr>\n",
       "    <tr>\n",
       "      <th>P-TPT</th>\n",
       "      <td>1.517916e+07</td>\n",
       "      <td>3.679432e+06</td>\n",
       "    </tr>\n",
       "    <tr>\n",
       "      <th>T-TPT</th>\n",
       "      <td>1.061071e+02</td>\n",
       "      <td>1.639070e+01</td>\n",
       "    </tr>\n",
       "    <tr>\n",
       "      <th>P-MON-CKP</th>\n",
       "      <td>4.741109e+06</td>\n",
       "      <td>3.069288e+06</td>\n",
       "    </tr>\n",
       "    <tr>\n",
       "      <th>T-JUS-CKP</th>\n",
       "      <td>7.889183e+01</td>\n",
       "      <td>1.881297e+01</td>\n",
       "    </tr>\n",
       "    <tr>\n",
       "      <th>P-JUS-CKGL</th>\n",
       "      <td>3.574706e+08</td>\n",
       "      <td>2.496955e+08</td>\n",
       "    </tr>\n",
       "    <tr>\n",
       "      <th>QGL</th>\n",
       "      <td>2.570021e-01</td>\n",
       "      <td>1.625997e-01</td>\n",
       "    </tr>\n",
       "  </tbody>\n",
       "</table>\n",
       "</div>"
      ],
      "text/plain": [
       "            mean_of_means  mean_of_stds\n",
       "P-PDG        1.647858e+07  1.203992e+07\n",
       "P-TPT        1.517916e+07  3.679432e+06\n",
       "T-TPT        1.061071e+02  1.639070e+01\n",
       "P-MON-CKP    4.741109e+06  3.069288e+06\n",
       "T-JUS-CKP    7.889183e+01  1.881297e+01\n",
       "P-JUS-CKGL   3.574706e+08  2.496955e+08\n",
       "QGL          2.570021e-01  1.625997e-01"
      ]
     },
     "execution_count": 14,
     "metadata": {},
     "output_type": "execute_result"
    }
   ],
   "source": [
    "from data_exploration.metric_acquisition import MetricAcquisition\n",
    "\n",
    "cache_file_name = \"all_data_metrics\"\n",
    "\n",
    "metric_aquisition = MetricAcquisition(valid_train_metadata)\n",
    "mean_and_std_metric_table = metric_aquisition.get_mean_and_std_metric(\n",
    "    cache_file_name=cache_file_name,\n",
    "    use_cache=False\n",
    ")\n",
    "\n",
    "mean_metric_list = mean_and_std_metric_table['mean_of_means']\n",
    "std_metric_list = mean_and_std_metric_table['mean_of_stds']\n",
    "mean_and_std_metric_table"
   ]
  },
  {
   "attachments": {},
   "cell_type": "markdown",
   "metadata": {},
   "source": [
    "Realizar a transformação dos dados."
   ]
  },
  {
   "cell_type": "code",
   "execution_count": 15,
   "metadata": {},
   "outputs": [],
   "source": [
    "selected_variables = [\"P-PDG\", \"P-TPT\", \"T-TPT\", \"P-MON-CKP\", \n",
    "                      \"T-JUS-CKP\", \"P-JUS-CKGL\", \"class\"]\n",
    "transformation_param_sample_interval_seconds=60\n",
    "transformation_param_num_timesteps_for_window=20"
   ]
  },
  {
   "attachments": {},
   "cell_type": "markdown",
   "metadata": {},
   "source": [
    "Transformar conjunto de dados para treinamento."
   ]
  },
  {
   "cell_type": "code",
   "execution_count": 16,
   "metadata": {},
   "outputs": [
    {
     "name": "stderr",
     "output_type": "stream",
     "text": [
      "DEBUG:absl:TransformationManager initialized with 1375 items.\n",
      "            Folder name is dataset_converted_v10101_split-20_source-all_class-all_well-all_train.\n",
      "DONE: 100%|██████████| 1375/1375 [00:25<00:00, 53.03it/s]\n"
     ]
    }
   ],
   "source": [
    "train_tranformed_folder_name = split_train_dir.name\n",
    "\n",
    "train_transformation_manager = TransformationManager(\n",
    "    valid_train_metadata, \n",
    "    output_folder_base_name=train_tranformed_folder_name\n",
    ")\n",
    "\n",
    "train_transformation_manager.apply_transformations_to_table(\n",
    "    output_parent_dir=storage_config.DIR_PROJECT_DATA,\n",
    "    selected_variables=selected_variables,\n",
    "    sample_interval_seconds=transformation_param_sample_interval_seconds,\n",
    "    num_timesteps_for_window=transformation_param_num_timesteps_for_window,\n",
    "    avg_variable_mean=mean_metric_list,\n",
    "    avg_variable_std_dev=std_metric_list,\n",
    ")"
   ]
  },
  {
   "attachments": {},
   "cell_type": "markdown",
   "metadata": {},
   "source": [
    "Transformar conjunto de dados para validação."
   ]
  },
  {
   "cell_type": "code",
   "execution_count": 17,
   "metadata": {},
   "outputs": [
    {
     "name": "stderr",
     "output_type": "stream",
     "text": [
      "DEBUG:absl:TransformationManager initialized with 198 items.\n",
      "            Folder name is dataset_converted_v10101_split-20_source-all_class-all_well-all_validation.\n",
      "DONE: 100%|██████████| 198/198 [00:03<00:00, 50.14it/s]\n"
     ]
    }
   ],
   "source": [
    "validation_tranformed_folder_name = split_validation_dir.name\n",
    "\n",
    "validation_transformation_manager = TransformationManager(\n",
    "    validation_metadata.get_metadata_table(), \n",
    "    output_folder_base_name=validation_tranformed_folder_name\n",
    ")\n",
    "\n",
    "validation_transformation_manager.apply_transformations_to_table(\n",
    "    output_parent_dir=storage_config.DIR_PROJECT_DATA,\n",
    "    selected_variables=selected_variables,\n",
    "    sample_interval_seconds=transformation_param_sample_interval_seconds,\n",
    "    num_timesteps_for_window=transformation_param_num_timesteps_for_window,\n",
    "    avg_variable_mean=mean_metric_list,\n",
    "    avg_variable_std_dev=std_metric_list,\n",
    ")"
   ]
  },
  {
   "attachments": {},
   "cell_type": "markdown",
   "metadata": {},
   "source": [
    "Transformar conjunto de dados para testagem."
   ]
  },
  {
   "cell_type": "code",
   "execution_count": 18,
   "metadata": {},
   "outputs": [
    {
     "name": "stderr",
     "output_type": "stream",
     "text": [
      "DEBUG:absl:TransformationManager initialized with 396 items.\n",
      "            Folder name is dataset_converted_v10101_split-20_source-all_class-all_well-all_test.\n",
      "DONE:   0%|          | 0/396 [00:00<?, ?it/s]INFO:absl:Skipping the following event due to invalid data: /home/ubuntu/lemi_3w/data/dataset_converted_v10101_split-20_source-all_class-all_well-all_test/7/WELL-00006_20180620155728.parquet\n",
      "DONE: 100%|██████████| 396/396 [00:07<00:00, 50.14it/s]\n"
     ]
    }
   ],
   "source": [
    "test_tranformed_folder_name = split_test_dir.name\n",
    "\n",
    "test_transformation_manager = TransformationManager(\n",
    "    test_metadata.get_metadata_table(),\n",
    "    output_folder_base_name=test_tranformed_folder_name\n",
    ")\n",
    "\n",
    "test_transformation_manager.apply_transformations_to_table(\n",
    "    output_parent_dir=storage_config.DIR_PROJECT_DATA,\n",
    "    selected_variables=selected_variables,\n",
    "    sample_interval_seconds=transformation_param_sample_interval_seconds,\n",
    "    num_timesteps_for_window=transformation_param_num_timesteps_for_window,\n",
    "    avg_variable_mean=mean_metric_list,\n",
    "    avg_variable_std_dev=std_metric_list,\n",
    ")"
   ]
  },
  {
   "attachments": {},
   "cell_type": "markdown",
   "metadata": {},
   "source": [
    "# Verificação dos dados\n",
    "\n",
    "Garantir que os dados processados estão dentro das especificações esperadas."
   ]
  },
  {
   "attachments": {},
   "cell_type": "markdown",
   "metadata": {},
   "source": [
    "Obter lista dos arquivos a serem usados no treinamento, validação e testagem."
   ]
  },
  {
   "cell_type": "code",
   "execution_count": 19,
   "metadata": {},
   "outputs": [
    {
     "name": "stderr",
     "output_type": "stream",
     "text": [
      "INFO:absl:Processing 416 events of class type 0.\n",
      "DONE:   4%|▍         | 16/416 [00:00<00:02, 159.91it/s]INFO:absl:Processing 241 events of class type 4.\n",
      "DONE: 100%|██████████| 416/416 [00:00<00:00, 2357.72it/s]\n",
      "DONE: 100%|██████████| 241/241 [00:00<00:00, 1329.21it/s]\n",
      "INFO:absl:Processing 312 events of class type 5.\n",
      "DONE: 100%|██████████| 312/312 [00:00<00:00, 2015.88it/s]INFO:absl:Processing 89 events of class type 1.\n",
      "\n",
      "DONE: 100%|██████████| 89/89 [00:00<00:00, 624.89it/s]INFO:absl:Processing 9 events of class type 7.\n",
      "\n",
      "DONE: 100%|██████████| 9/9 [00:00<00:00, 66.77it/s]INFO:absl:Processing 154 events of class type 6.\n",
      "\n",
      "DONE: 100%|██████████| 154/154 [00:00<00:00, 968.37it/s]\n",
      "INFO:absl:Processing 57 events of class type 8.\n",
      "DONE: 100%|██████████| 57/57 [00:00<00:00, 362.50it/s]INFO:absl:Processing 23 events of class type 2.\n",
      "\n",
      "DONE: 100%|██████████| 23/23 [00:00<00:00, 172.14it/s]INFO:absl:Processing 74 events of class type 3.\n",
      "\n",
      "DONE: 100%|██████████| 74/74 [00:00<00:00, 476.14it/s]INFO:absl:Found 9.\n",
      "\n",
      "INFO:absl:Processing 59 events of class type 0.\n",
      "DONE: 100%|██████████| 59/59 [00:00<00:00, 382.89it/s]\n",
      "INFO:absl:Processing 34 events of class type 4.\n",
      "DONE: 100%|██████████| 34/34 [00:00<00:00, 243.30it/s]\n",
      "INFO:absl:Processing 45 events of class type 5.\n",
      "DONE: 100%|██████████| 45/45 [00:00<00:00, 313.80it/s]INFO:absl:Processing 13 events of class type 1.\n",
      "\n",
      "DONE: 100%|██████████| 13/13 [00:00<00:00, 88.96it/s]\n",
      "INFO:absl:Processing 2 events of class type 7.\n",
      "DONE: 100%|██████████| 2/2 [00:00<00:00, 15.08it/s]INFO:absl:Processing 23 events of class type 6.\n",
      "\n",
      "DONE: 100%|██████████| 23/23 [00:00<00:00, 153.39it/s]\n",
      "INFO:absl:Processing 8 events of class type 8.\n",
      "DONE: 100%|██████████| 8/8 [00:00<00:00, 47.84it/s]\n",
      "INFO:absl:Processing 4 events of class type 2.\n",
      "DONE: 100%|██████████| 4/4 [00:00<00:00, 42.63it/s]\n",
      "INFO:absl:Processing 10 events of class type 3.\n",
      "DONE:   0%|          | 0/10 [00:00<?, ?it/s]INFO:absl:Found 9.\n",
      "DONE: 100%|██████████| 10/10 [00:00<00:00, 92.02it/s]\n",
      "INFO:absl:Processing 119 events of class type 0.\n",
      "DONE: 100%|██████████| 119/119 [00:00<00:00, 827.95it/s]\n",
      "INFO:absl:Processing 69 events of class type 4.\n",
      "DONE: 100%|██████████| 69/69 [00:00<00:00, 521.90it/s]\n",
      "INFO:absl:Processing 90 events of class type 5.\n",
      "DONE: 100%|██████████| 90/90 [00:00<00:00, 604.94it/s]INFO:absl:Processing 26 events of class type 1.\n",
      "\n",
      "DONE: 100%|██████████| 26/26 [00:00<00:00, 203.37it/s]\n",
      "INFO:absl:Processing 2 events of class type 7.\n",
      "DONE: 100%|██████████| 2/2 [00:00<00:00, 29.69it/s]\n",
      "INFO:absl:Processing 44 events of class type 6.\n",
      "DONE: 100%|██████████| 44/44 [00:00<00:00, 306.02it/s]\n",
      "INFO:absl:Processing 16 events of class type 8.\n",
      "DONE: 100%|██████████| 16/16 [00:00<00:00, 134.66it/s]INFO:absl:Processing 7 events of class type 2.\n",
      "\n",
      "DONE: 100%|██████████| 7/7 [00:00<00:00, 55.90it/s]INFO:absl:Processing 22 events of class type 3.\n",
      "\n",
      "DONE: 100%|██████████| 22/22 [00:00<00:00, 190.01it/s]\n",
      "INFO:absl:Found 9.\n"
     ]
    }
   ],
   "source": [
    "# Get transformed files paths\n",
    "TRANSFORMATION_NAME_PREFIX = \"transform-isdt-\"\n",
    "train_tranformed_dataset_dir = storage_config.DIR_PROJECT_DATA / (TRANSFORMATION_NAME_PREFIX + train_tranformed_folder_name)\n",
    "validation_tranformed_dataset_dir = storage_config.DIR_PROJECT_DATA / (TRANSFORMATION_NAME_PREFIX + validation_tranformed_folder_name)\n",
    "test_tranformed_dataset_dir = storage_config.DIR_PROJECT_DATA / (TRANSFORMATION_NAME_PREFIX + test_tranformed_folder_name)\n",
    "\n",
    "# Generate inspectors for the transformed data\n",
    "train_inspector_converted = rdi.RawDataInspector(\n",
    "    train_tranformed_dataset_dir,\n",
    "    storage_config.DIR_PROJECT_CACHE / \"all_wells_transformed-train.parquet\",\n",
    "    use_cached=False\n",
    ")\n",
    "validation_inspector_transformed = rdi.RawDataInspector(\n",
    "    validation_tranformed_dataset_dir,\n",
    "    storage_config.DIR_PROJECT_CACHE / \"all_wells_transformed-validation.parquet\",\n",
    "    use_cached=False\n",
    ")\n",
    "test_inspector_transformed = rdi.RawDataInspector(\n",
    "    test_tranformed_dataset_dir,\n",
    "    storage_config.DIR_PROJECT_CACHE / \"all_wells_transformed-test.parquet\",\n",
    "    use_cached=False\n",
    ")\n",
    "\n",
    "# Get list of paths for the events in each of the data groups (train, val, test)\n",
    "train_metadata_converted = train_inspector_converted.get_metadata_table()\n",
    "train_transformed_file_path_list = train_metadata_converted[\"path\"].to_list()\n",
    "\n",
    "validation_metadata_transformed = validation_inspector_transformed.get_metadata_table()\n",
    "validation_transformed_file_path_list = validation_metadata_transformed[\"path\"].to_list()\n",
    "\n",
    "test_metadata_transformed = test_inspector_transformed.get_metadata_table()\n",
    "test_transformed_file_path_list = test_metadata_transformed[\"path\"].to_list()\n",
    "\n",
    "# shuffle\n",
    "random.shuffle(train_transformed_file_path_list)\n",
    "random.shuffle(validation_transformed_file_path_list)\n",
    "random.shuffle(test_transformed_file_path_list)"
   ]
  },
  {
   "attachments": {},
   "cell_type": "markdown",
   "metadata": {},
   "source": [
    "Exemplo de um par X, y."
   ]
  },
  {
   "cell_type": "code",
   "execution_count": 20,
   "metadata": {},
   "outputs": [
    {
     "data": {
      "text/plain": [
       "(array([[ 0.75668036, -0.4816226 ,  0.25837865, -1.54469333, -4.19348076,\n",
       "          0.33552255],\n",
       "        [ 0.7566371 , -0.48219832,  0.25808713, -1.54469333, -4.19348076,\n",
       "          0.33555366],\n",
       "        [ 0.75667311, -0.48239292,  0.25817467, -1.54469333, -4.19348076,\n",
       "          0.33585617],\n",
       "        [ 0.75664859, -0.48180673,  0.25880949, -1.54469333, -4.19348076,\n",
       "          0.33585617],\n",
       "        [ 0.75672386, -0.48150519,  0.25917229, -1.54469333, -4.19348076,\n",
       "          0.33585617],\n",
       "        [ 0.75674147, -0.48195223,  0.25922324, -1.54469333, -4.19348076,\n",
       "          0.33585617],\n",
       "        [ 0.75672167, -0.48166137,  0.2583997 , -1.54469333, -4.19348076,\n",
       "          0.33585617],\n",
       "        [ 0.75663108, -0.48191649,  0.25977233, -1.54469333, -4.19348076,\n",
       "          0.33585617],\n",
       "        [ 0.75662537, -0.48162935,  0.25947135, -1.54469333, -4.19348076,\n",
       "          0.33585617],\n",
       "        [ 0.75666335, -0.48188718,  0.25782366, -1.54469333, -4.19348076,\n",
       "          0.33584404],\n",
       "        [ 0.75664279, -0.48210112,  0.25922151, -1.54469333, -4.19348076,\n",
       "          0.33567256],\n",
       "        [ 0.75668518, -0.48199725,  0.25945355, -1.54469333, -4.19348076,\n",
       "          0.33566933],\n",
       "        [ 0.75666392, -0.48187436,  0.2600787 , -1.54469333, -4.19348076,\n",
       "          0.33532232],\n",
       "        [ 0.75664034, -0.48174853,  0.25879057, -1.54469333, -4.19348076,\n",
       "          0.33532232],\n",
       "        [ 0.75663946, -0.48230966,  0.25906441, -1.54469333, -4.19348076,\n",
       "          0.33532232],\n",
       "        [ 0.75661965, -0.48205745,  0.25886328, -1.54469333, -4.19348076,\n",
       "          0.33532232],\n",
       "        [ 0.75662253, -0.48157382,  0.25902495, -1.54469333, -4.19348076,\n",
       "          0.33532232],\n",
       "        [ 0.75663291, -0.48320151,  0.26021679, -1.54469333, -4.19348076,\n",
       "          0.33500195],\n",
       "        [ 0.75664397, -0.48284743,  0.25989587, -1.54469333, -4.19348076,\n",
       "          0.33425422],\n",
       "        [ 0.75663697, -0.48233562,  0.25910823, -1.54469333, -4.19348076,\n",
       "          0.33425422]]),\n",
       " array([1, 0, 0, 0, 0, 0, 0, 0, 0]))"
      ]
     },
     "execution_count": 20,
     "metadata": {},
     "output_type": "execute_result"
    }
   ],
   "source": [
    "example_transformed_file_path = train_transformed_file_path_list[0]\n",
    "X_transformed_ex, y_transformed_ex = TransformationManager.retrieve_pair_array(pathlib.Path(example_transformed_file_path))\n",
    "\n",
    "X_transformed_ex[0], y_transformed_ex[0]"
   ]
  },
  {
   "attachments": {},
   "cell_type": "markdown",
   "metadata": {},
   "source": [
    "Verificar valores mínimos e máximos dos dados."
   ]
  },
  {
   "cell_type": "code",
   "execution_count": 21,
   "metadata": {},
   "outputs": [],
   "source": [
    "X_min_list = []\n",
    "X_max_list = []\n",
    "y_avg = []\n",
    "\n",
    "for path in train_transformed_file_path_list:\n",
    "    X, y = TransformationManager.retrieve_pair_array(pathlib.Path(path))\n",
    "    X_min_list.append(np.min(np.min(X, axis=0), axis=0))\n",
    "    X_max_list.append(np.max(np.max(X, axis=0), axis=0))\n",
    "    y_avg.append(np.sum(y, axis=0) / len(y))\n",
    "\n",
    "X_min_list = np.array(X_min_list)\n",
    "X_max_list = np.array(X_max_list)\n",
    "y_avg = np.array(y_avg)"
   ]
  },
  {
   "cell_type": "code",
   "execution_count": 22,
   "metadata": {},
   "outputs": [
    {
     "name": "stdout",
     "output_type": "stream",
     "text": [
      "Minimum minimum values:\n",
      " [-10.71080204  -4.12540926  -6.473617    -1.54469333  -4.28256808\n",
      "  -1.43361965]\n",
      "\n",
      "\n",
      "Minimum average values:\n",
      " [-0.09719078 -0.27618909 -0.99923993 -0.23979083 -0.46219262 -0.77418881]\n",
      "\n",
      "\n",
      "Minimum maximum values:\n",
      " [2.35711471 2.04841386 1.30146381 2.45695393 5.00741041 6.83255803]\n"
     ]
    }
   ],
   "source": [
    "# Regarding minimum values of X\n",
    "print(\"Minimum minimum values:\\n\", X_min_list.min(axis=0))\n",
    "\n",
    "print(\"\\n\\nMinimum average values:\\n\", X_min_list.mean(axis=0))\n",
    "\n",
    "print(\"\\n\\nMinimum maximum values:\\n\", X_min_list.max(axis=0))"
   ]
  },
  {
   "cell_type": "code",
   "execution_count": 23,
   "metadata": {},
   "outputs": [
    {
     "name": "stdout",
     "output_type": "stream",
     "text": [
      "Maximum minimum values:\n",
      " [-1.94074765 -4.12540926 -6.473617   -1.54469333 -4.19348076 -1.43361965]\n",
      "\n",
      "\n",
      "Maximum average values:\n",
      " [ 0.08808272  0.24910569 -0.45527722  0.02975588  0.05582485 -0.7683222 ]\n",
      "\n",
      "\n",
      "Maximum maximum values:\n",
      " [2.35711471 4.71106719 1.31983226 2.70258949 5.00741041 7.0175901 ]\n"
     ]
    }
   ],
   "source": [
    "# Regarding max values of X\n",
    "print(\"Maximum minimum values:\\n\", X_max_list.min(axis=0))\n",
    "\n",
    "print(\"\\n\\nMaximum average values:\\n\", X_max_list.mean(axis=0))\n",
    "\n",
    "print(\"\\n\\nMaximum maximum values:\\n\", X_max_list.max(axis=0))"
   ]
  },
  {
   "cell_type": "code",
   "execution_count": 24,
   "metadata": {},
   "outputs": [
    {
     "data": {
      "text/plain": [
       "<matplotlib.collections.PathCollection at 0x7f0fc1dad390>"
      ]
     },
     "execution_count": 24,
     "metadata": {},
     "output_type": "execute_result"
    },
    {
     "data": {
      "image/png": "[encoded data removed]",
      "text/plain": [
       "<Figure size 640x480 with 1 Axes>"
      ]
     },
     "metadata": {},
     "output_type": "display_data"
    }
   ],
   "source": [
    "import matplotlib.pyplot as plt\n",
    "\n",
    "variable_index = 0\n",
    "plt.scatter(X_max_list[:, variable_index], X_max_list[:, variable_index], alpha=0.2)"
   ]
  },
  {
   "cell_type": "code",
   "execution_count": 25,
   "metadata": {},
   "outputs": [
    {
     "name": "stdout",
     "output_type": "stream",
     "text": [
      "Mean y minimum values:\n",
      " [0. 0. 0. 0. 0. 0. 0. 0. 0.]\n",
      "\n",
      "\n",
      "Mean y average values:\n",
      " [0.32044563 0.05865368 0.01284887 0.05381818 0.17527273 0.2257795\n",
      " 0.10753178 0.00525308 0.04039654]\n",
      "\n",
      "\n",
      "Mean y maximum values:\n",
      " [1.         0.98573466 0.95211268 1.         1.         1.\n",
      " 0.97447796 0.94654088 0.97447796]\n"
     ]
    }
   ],
   "source": [
    "# Regarding mean values of y\n",
    "print(\"Mean y minimum values:\\n\", y_avg.min(axis=0))\n",
    "\n",
    "print(\"\\n\\nMean y average values:\\n\", y_avg.mean(axis=0))\n",
    "\n",
    "print(\"\\n\\nMean y maximum values:\\n\", y_avg.max(axis=0))"
   ]
  },
  {
   "cell_type": "code",
   "execution_count": 26,
   "metadata": {},
   "outputs": [
    {
     "data": {
      "text/plain": [
       "array([440.61274558,  80.64880342,  17.66719879,  74.        ,\n",
       "       241.        , 310.44681926, 147.85619858,   7.22299075,\n",
       "        55.54524362])"
      ]
     },
     "execution_count": 26,
     "metadata": {},
     "output_type": "execute_result"
    }
   ],
   "source": [
    "y_avg.sum(axis=0)"
   ]
  },
  {
   "attachments": {},
   "cell_type": "markdown",
   "metadata": {},
   "source": [
    "# Modelagem"
   ]
  },
  {
   "cell_type": "code",
   "execution_count": 27,
   "metadata": {},
   "outputs": [],
   "source": [
    "from tensorflow import keras, math\n",
    "import keras_tuner\n",
    "from raw_data_manager.models import EventClassType"
   ]
  },
  {
   "attachments": {},
   "cell_type": "markdown",
   "metadata": {},
   "source": [
    "Função responsável por gerar modelos de acordo com uma lista de hyperparâmetros de entrada."
   ]
  },
  {
   "cell_type": "code",
   "execution_count": 28,
   "metadata": {},
   "outputs": [
    {
     "data": {
      "text/plain": [
       "<keras.src.engine.sequential.Sequential at 0x7f0fc1132770>"
      ]
     },
     "execution_count": 28,
     "metadata": {},
     "output_type": "execute_result"
    }
   ],
   "source": [
    "num_features = X_transformed_ex.shape[2]\n",
    "num_outputs = len(EventClassType)\n",
    "\n",
    "def build_model(hp: keras_tuner.HyperParameters):\n",
    "    model_type = hp.Choice(\"model_type\", \n",
    "                           [\"lstm-vanilla\", \n",
    "                            \"lstm-stacked\", \n",
    "                            \"lstm-bidirectional\"])\n",
    "\n",
    "    model = keras.Sequential()\n",
    "    match model_type:\n",
    "        case \"lstm-vanilla\":\n",
    "            model.add(keras.layers.LSTM(\n",
    "                hp.Int('lstm_vanilla_units', min_value=5, max_value=100, step=5), \n",
    "                activation='relu', \n",
    "                input_shape=(transformation_param_num_timesteps_for_window, num_features)))\n",
    "        case \"lstm-stacked\":\n",
    "            model.add(keras.layers.LSTM(\n",
    "                hp.Int('lstm_stacked_1_units', min_value=5, max_value=100, step=5), \n",
    "                activation='relu', \n",
    "                return_sequences=True,\n",
    "                input_shape=(transformation_param_num_timesteps_for_window, num_features)))\n",
    "            \n",
    "            model.add(keras.layers.LSTM(\n",
    "                hp.Int('lstm_stacked_2_units', min_value=5, max_value=100, step=5), \n",
    "                activation='relu', ))\n",
    "        case \"lstm-bidirectional\":\n",
    "            model.add(keras.layers.Bidirectional(keras.layers.LSTM(\n",
    "                hp.Int('lstm_bidirectional_units', min_value=5, max_value=100, step=5), \n",
    "                activation='relu', \n",
    "                input_shape=(transformation_param_num_timesteps_for_window, num_features))))\n",
    "            \n",
    "    if hp.Boolean(\"dropout\"):\n",
    "        model.add(keras.layers.Dropout(0.5))\n",
    "    \n",
    "    model.add(keras.layers.Dense(\n",
    "        hp.Int('dense_units', min_value=20, max_value=200, step=10),\n",
    "        activation='relu'))\n",
    "    \n",
    "    model.add(keras.layers.Dense(num_outputs, activation='softmax'))\n",
    "\n",
    "    # compiling model\n",
    "    learning_rate = hp.Float(\"lr\", min_value=1e-5, max_value=1e-1, sampling=\"log\")\n",
    "    model.compile(\n",
    "        loss='categorical_crossentropy', \n",
    "        optimizer=keras.optimizers.Adam(learning_rate=learning_rate), \n",
    "        metrics=['accuracy'],\n",
    "    )\n",
    "    return model\n",
    "\n",
    "# check the model can compile\n",
    "build_model(keras_tuner.HyperParameters())"
   ]
  },
  {
   "cell_type": "code",
   "execution_count": 30,
   "metadata": {},
   "outputs": [
    {
     "name": "stdout",
     "output_type": "stream",
     "text": [
      "Search space summary\n",
      "Default search space size: 5\n",
      "model_type (Choice)\n",
      "{'default': 'lstm-vanilla', 'conditions': [], 'values': ['lstm-vanilla', 'lstm-stacked', 'lstm-bidirectional'], 'ordered': False}\n",
      "lstm_vanilla_units (Int)\n",
      "{'default': None, 'conditions': [], 'min_value': 5, 'max_value': 100, 'step': 5, 'sampling': 'linear'}\n",
      "dropout (Boolean)\n",
      "{'default': False, 'conditions': []}\n",
      "dense_units (Int)\n",
      "{'default': None, 'conditions': [], 'min_value': 20, 'max_value': 200, 'step': 10, 'sampling': 'linear'}\n",
      "lr (Float)\n",
      "{'default': 1e-05, 'conditions': [], 'min_value': 1e-05, 'max_value': 0.1, 'step': None, 'sampling': 'log'}\n"
     ]
    }
   ],
   "source": [
    "tuner = keras_tuner.Hyperband(\n",
    "    hypermodel=build_model,\n",
    "    objective=\"val_accuracy\",\n",
    "    max_epochs=9, # experiments for each model\n",
    "    hyperband_iterations=3, # times to cycle through the hyperband algorithm\n",
    "    seed=1331,\n",
    "    overwrite=True,\n",
    "    directory=storage_config.DIR_PROJECT_DATA / \"keras_tuner\",\n",
    "    project_name=\"lstm_vanilla\",\n",
    ")\n",
    "\n",
    "tuner.search_space_summary()"
   ]
  },
  {
   "attachments": {},
   "cell_type": "markdown",
   "metadata": {},
   "source": [
    "Realizar a pesquisa pelos melhores hyperparâmetros."
   ]
  },
  {
   "cell_type": "code",
   "execution_count": 26,
   "metadata": {},
   "outputs": [
    {
     "data": {
      "text/plain": [
       "ERROR: Failed to launch TensorBoard (exited with 1).\n",
       "Contents of stderr:\n",
       "2023-11-14 22:31:19.363977: I tensorflow/core/util/port.cc:111] oneDNN custom operations are on. You may see slightly different numerical results due to floating-point round-off errors from different computation orders. To turn them off, set the environment variable `TF_ENABLE_ONEDNN_OPTS=0`.\n",
       "2023-11-14 22:31:19.366656: I tensorflow/tsl/cuda/cudart_stub.cc:28] Could not find cuda drivers on your machine, GPU will not be used.\n",
       "2023-11-14 22:31:19.413839: E tensorflow/compiler/xla/stream_executor/cuda/cuda_dnn.cc:9342] Unable to register cuDNN factory: Attempting to register factory for plugin cuDNN when one has already been registered\n",
       "2023-11-14 22:31:19.413903: E tensorflow/compiler/xla/stream_executor/cuda/cuda_fft.cc:609] Unable to register cuFFT factory: Attempting to register factory for plugin cuFFT when one has already been registered\n",
       "2023-11-14 22:31:19.413932: E tensorflow/compiler/xla/stream_executor/cuda/cuda_blas.cc:1518] Unable to register cuBLAS factory: Attempting to register factory for plugin cuBLAS when one has already been registered\n",
       "2023-11-14 22:31:19.423549: I tensorflow/tsl/cuda/cudart_stub.cc:28] Could not find cuda drivers on your machine, GPU will not be used.\n",
       "2023-11-14 22:31:19.423955: I tensorflow/core/platform/cpu_feature_guard.cc:182] This TensorFlow binary is optimized to use available CPU instructions in performance-critical operations.\n",
       "To enable the following instructions: AVX2 AVX512F AVX512_VNNI FMA, in other operations, rebuild TensorFlow with the appropriate compiler flags.\n",
       "2023-11-14 22:31:20.470546: W tensorflow/compiler/tf2tensorrt/utils/py_utils.cc:38] TF-TRT Warning: Could not find TensorRT\n",
       "\n",
       "NOTE: Using experimental fast data loading logic. To disable, pass\n",
       "    \"--load_fast=false\" and report issues on GitHub. More details:\n",
       "    https://github.com/tensorflow/tensorboard/issues/4784\n",
       "\n",
       "Address already in use\n",
       "Port 6006 is in use by another program. Either identify and stop that program, or start the server with a different port."
      ]
     },
     "metadata": {},
     "output_type": "display_data"
    }
   ],
   "source": [
    "%load_ext tensorboard\n",
    "%tensorboard --logdir logs"
   ]
  },
  {
   "cell_type": "code",
   "execution_count": 27,
   "metadata": {},
   "outputs": [
    {
     "name": "stdout",
     "output_type": "stream",
     "text": [
      "The tensorboard extension is already loaded. To reload it, use:\n",
      "  %reload_ext tensorboard\n"
     ]
    },
    {
     "data": {
      "text/plain": [
       "ERROR: Failed to launch TensorBoard (exited with 1).\n",
       "Contents of stderr:\n",
       "2023-11-14 22:31:24.462931: I tensorflow/core/util/port.cc:111] oneDNN custom operations are on. You may see slightly different numerical results due to floating-point round-off errors from different computation orders. To turn them off, set the environment variable `TF_ENABLE_ONEDNN_OPTS=0`.\n",
       "2023-11-14 22:31:24.465599: I tensorflow/tsl/cuda/cudart_stub.cc:28] Could not find cuda drivers on your machine, GPU will not be used.\n",
       "2023-11-14 22:31:24.512190: E tensorflow/compiler/xla/stream_executor/cuda/cuda_dnn.cc:9342] Unable to register cuDNN factory: Attempting to register factory for plugin cuDNN when one has already been registered\n",
       "2023-11-14 22:31:24.512249: E tensorflow/compiler/xla/stream_executor/cuda/cuda_fft.cc:609] Unable to register cuFFT factory: Attempting to register factory for plugin cuFFT when one has already been registered\n",
       "2023-11-14 22:31:24.512275: E tensorflow/compiler/xla/stream_executor/cuda/cuda_blas.cc:1518] Unable to register cuBLAS factory: Attempting to register factory for plugin cuBLAS when one has already been registered\n",
       "2023-11-14 22:31:24.521052: I tensorflow/tsl/cuda/cudart_stub.cc:28] Could not find cuda drivers on your machine, GPU will not be used.\n",
       "2023-11-14 22:31:24.521371: I tensorflow/core/platform/cpu_feature_guard.cc:182] This TensorFlow binary is optimized to use available CPU instructions in performance-critical operations.\n",
       "To enable the following instructions: AVX2 AVX512F AVX512_VNNI FMA, in other operations, rebuild TensorFlow with the appropriate compiler flags.\n",
       "2023-11-14 22:31:25.532769: W tensorflow/compiler/tf2tensorrt/utils/py_utils.cc:38] TF-TRT Warning: Could not find TensorRT\n",
       "\n",
       "NOTE: Using experimental fast data loading logic. To disable, pass\n",
       "    \"--load_fast=false\" and report issues on GitHub. More details:\n",
       "    https://github.com/tensorflow/tensorboard/issues/4784\n",
       "\n",
       "Address already in use\n",
       "Port 6006 is in use by another program. Either identify and stop that program, or start the server with a different port."
      ]
     },
     "metadata": {},
     "output_type": "display_data"
    }
   ],
   "source": [
    "%load_ext tensorboard\n",
    "\n",
    "%tensorboard --logdir /tmp/tb_logs"
   ]
  },
  {
   "cell_type": "code",
   "execution_count": 30,
   "metadata": {},
   "outputs": [
    {
     "name": "stdout",
     "output_type": "stream",
     "text": [
      "Trial 8 Complete [00h 03m 16s]\n",
      "val_accuracy: 0.861832857131958\n",
      "\n",
      "Best val_accuracy So Far: 0.861832857131958\n",
      "Total elapsed time: 00h 17m 48s\n"
     ]
    }
   ],
   "source": [
    "import datetime\n",
    "current_run_datatime = datetime.datetime.now().strftime(\"%Y%m%d-%H%M%S\")\n",
    "logdir = pathlib.Path(\"logs\") / current_run_datatime\n",
    "logdir.mkdir(parents=True, exist_ok=True)\n",
    "\n",
    "num_epochs = 5\n",
    "steps_per_epoch = len(train_transformed_file_path_list)\n",
    "\n",
    "train_data_gen = TransformationManager.data_generator_loop(train_transformed_file_path_list)\n",
    "validation_data_gen = TransformationManager.data_generator_loop(validation_transformed_file_path_list)\n",
    "test_data_gen = TransformationManager.data_generator_loop(test_transformed_file_path_list)\n",
    "\n",
    "tuner.search(\n",
    "    train_data_gen,\n",
    "    validation_data=validation_data_gen,\n",
    "    validation_steps=len(validation_transformed_file_path_list),\n",
    "    steps_per_epoch=steps_per_epoch,\n",
    "    verbose=1,\n",
    "    callbacks=[keras.callbacks.TensorBoard(logdir)],\n",
    ")"
   ]
  },
  {
   "cell_type": "code",
   "execution_count": 34,
   "metadata": {},
   "outputs": [
    {
     "data": {
      "text/plain": [
       "{'model_type': 'lstm-vanilla',\n",
       " 'lstm_vanilla_units': 50,\n",
       " 'dropout': False,\n",
       " 'dense_units': 20,\n",
       " 'lr': 0.007357662934729744,\n",
       " 'lstm_stacked_1_units': 70,\n",
       " 'lstm_stacked_2_units': 100,\n",
       " 'lstm_bidirectional_units': 70,\n",
       " 'tuner/epochs': 5,\n",
       " 'tuner/initial_epoch': 0,\n",
       " 'tuner/bracket': 0,\n",
       " 'tuner/round': 0}"
      ]
     },
     "execution_count": 34,
     "metadata": {},
     "output_type": "execute_result"
    }
   ],
   "source": [
    "# Safe to cache best found parameters\n",
    "path_best_params = storage_config.DIR_PROJECT_CACHE / \"param_search\" / f\"all_data_{current_run_datatime}.pkl\"\n",
    "path_best_params.parent.mkdir(parents=True, exist_ok=True)\n",
    "best_params = tuner.get_best_hyperparameters(5)[0]\n",
    "\n",
    "with open(path_best_params,'wb') as file:\n",
    "    pickle.dump(best_params, file)\n",
    "\n",
    "print(best_params.values)"
   ]
  },
  {
   "cell_type": "code",
   "execution_count": 35,
   "metadata": {},
   "outputs": [
    {
     "data": {
      "text/plain": [
       "{'model_type': 'lstm-vanilla',\n",
       " 'lstm_vanilla_units': 50,\n",
       " 'dropout': False,\n",
       " 'dense_units': 20,\n",
       " 'lr': 0.007357662934729744,\n",
       " 'lstm_stacked_1_units': 70,\n",
       " 'lstm_stacked_2_units': 100,\n",
       " 'lstm_bidirectional_units': 70,\n",
       " 'tuner/epochs': 5,\n",
       " 'tuner/initial_epoch': 0,\n",
       " 'tuner/bracket': 0,\n",
       " 'tuner/round': 0}"
      ]
     },
     "execution_count": 35,
     "metadata": {},
     "output_type": "execute_result"
    }
   ],
   "source": [
    "best_params.values"
   ]
  },
  {
   "attachments": {},
   "cell_type": "markdown",
   "metadata": {},
   "source": [
    "Utilizar os parâmetros obtidos que tiveram os melhores resultados para treinar um modelo.\n",
    "\n",
    "Dessa vez, o modelo será treinado com uma quantidade maior de épocas."
   ]
  },
  {
   "cell_type": "code",
   "execution_count": 37,
   "metadata": {},
   "outputs": [
    {
     "name": "stdout",
     "output_type": "stream",
     "text": [
      "Epoch 1/50\n",
      "1375/1375 [==============================] - 39s 28ms/step - loss: 2.0330 - accuracy: 0.5784 - val_loss: 1.2601 - val_accuracy: 0.5658\n",
      "Epoch 2/50\n",
      "1375/1375 [==============================] - 37s 27ms/step - loss: 0.8334 - accuracy: 0.7368 - val_loss: 0.7920 - val_accuracy: 0.7428\n",
      "Epoch 3/50\n",
      "1375/1375 [==============================] - 38s 27ms/step - loss: 0.5809 - accuracy: 0.8193 - val_loss: 1.1871 - val_accuracy: 0.6303\n",
      "Epoch 4/50\n",
      "1375/1375 [==============================] - 40s 29ms/step - loss: 1.0638 - accuracy: 0.7689 - val_loss: 0.6826 - val_accuracy: 0.8148\n",
      "Epoch 5/50\n",
      "1375/1375 [==============================] - 37s 27ms/step - loss: 1.7343 - accuracy: 0.4535 - val_loss: 1.8801 - val_accuracy: 0.2874\n",
      "Epoch 6/50\n",
      "1375/1375 [==============================] - 37s 27ms/step - loss: 646.4379 - accuracy: 0.3002 - val_loss: 2.0105 - val_accuracy: 0.2355\n",
      "Epoch 7/50\n",
      "1375/1375 [==============================] - 38s 27ms/step - loss: 2.0307 - accuracy: 0.2412 - val_loss: 2.1808 - val_accuracy: 0.2242\n",
      "Epoch 8/50\n",
      "1375/1375 [==============================] - 38s 28ms/step - loss: 2.1588 - accuracy: 0.2216 - val_loss: 2.2071 - val_accuracy: 0.2242\n",
      "Epoch 9/50\n",
      "1375/1375 [==============================] - 38s 28ms/step - loss: 2.1485 - accuracy: 0.2216 - val_loss: 2.2115 - val_accuracy: 0.2242\n",
      "Epoch 10/50\n",
      "1375/1375 [==============================] - 37s 27ms/step - loss: 10.2221 - accuracy: 0.2367 - val_loss: 2.2079 - val_accuracy: 0.2242\n",
      "Epoch 11/50\n",
      "1375/1375 [==============================] - 41s 30ms/step - loss: 2.1175 - accuracy: 0.2299 - val_loss: 2.1582 - val_accuracy: 0.2374\n",
      "Epoch 12/50\n",
      " 513/1375 [==========>...................] - ETA: 22s - loss: 2.0438 - accuracy: 0.2358"
     ]
    },
    {
     "ename": "KeyboardInterrupt",
     "evalue": "",
     "output_type": "error",
     "traceback": [
      "\u001b[0;31m---------------------------------------------------------------------------\u001b[0m",
      "\u001b[0;31mKeyboardInterrupt\u001b[0m                         Traceback (most recent call last)",
      "Cell \u001b[0;32mIn[37], line 19\u001b[0m\n\u001b[1;32m     16\u001b[0m \u001b[39m# Train model\u001b[39;00m\n\u001b[1;32m     17\u001b[0m best_model \u001b[39m=\u001b[39m build_model(best_params)\n\u001b[0;32m---> 19\u001b[0m training_history \u001b[39m=\u001b[39m best_model\u001b[39m.\u001b[39;49mfit(\n\u001b[1;32m     20\u001b[0m     train_data_gen, \n\u001b[1;32m     21\u001b[0m     steps_per_epoch\u001b[39m=\u001b[39;49msteps_per_epoch,\n\u001b[1;32m     22\u001b[0m     epochs\u001b[39m=\u001b[39;49mnum_epochs,\n\u001b[1;32m     23\u001b[0m     validation_data\u001b[39m=\u001b[39;49mvalidation_data_gen,\n\u001b[1;32m     24\u001b[0m     validation_steps\u001b[39m=\u001b[39;49m\u001b[39mlen\u001b[39;49m(validation_transformed_file_path_list),\n\u001b[1;32m     25\u001b[0m     callbacks\u001b[39m=\u001b[39;49m[early_stopping_callback, model_checkpoint_callback],\n\u001b[1;32m     26\u001b[0m     verbose\u001b[39m=\u001b[39;49m\u001b[39m1\u001b[39;49m\n\u001b[1;32m     27\u001b[0m )\n\u001b[1;32m     29\u001b[0m \u001b[39m# Graph of training results history\u001b[39;00m\n\u001b[1;32m     30\u001b[0m plt\u001b[39m.\u001b[39mplot(training_history\u001b[39m.\u001b[39mhistory[\u001b[39m'\u001b[39m\u001b[39maccuracy\u001b[39m\u001b[39m'\u001b[39m])\n",
      "File \u001b[0;32m~/lemi_3w/.venv/lib/python3.10/site-packages/keras/src/utils/traceback_utils.py:65\u001b[0m, in \u001b[0;36mfilter_traceback.<locals>.error_handler\u001b[0;34m(*args, **kwargs)\u001b[0m\n\u001b[1;32m     63\u001b[0m filtered_tb \u001b[39m=\u001b[39m \u001b[39mNone\u001b[39;00m\n\u001b[1;32m     64\u001b[0m \u001b[39mtry\u001b[39;00m:\n\u001b[0;32m---> 65\u001b[0m     \u001b[39mreturn\u001b[39;00m fn(\u001b[39m*\u001b[39;49margs, \u001b[39m*\u001b[39;49m\u001b[39m*\u001b[39;49mkwargs)\n\u001b[1;32m     66\u001b[0m \u001b[39mexcept\u001b[39;00m \u001b[39mException\u001b[39;00m \u001b[39mas\u001b[39;00m e:\n\u001b[1;32m     67\u001b[0m     filtered_tb \u001b[39m=\u001b[39m _process_traceback_frames(e\u001b[39m.\u001b[39m__traceback__)\n",
      "File \u001b[0;32m~/lemi_3w/.venv/lib/python3.10/site-packages/keras/src/engine/training.py:1783\u001b[0m, in \u001b[0;36mModel.fit\u001b[0;34m(self, x, y, batch_size, epochs, verbose, callbacks, validation_split, validation_data, shuffle, class_weight, sample_weight, initial_epoch, steps_per_epoch, validation_steps, validation_batch_size, validation_freq, max_queue_size, workers, use_multiprocessing)\u001b[0m\n\u001b[1;32m   1775\u001b[0m \u001b[39mwith\u001b[39;00m tf\u001b[39m.\u001b[39mprofiler\u001b[39m.\u001b[39mexperimental\u001b[39m.\u001b[39mTrace(\n\u001b[1;32m   1776\u001b[0m     \u001b[39m\"\u001b[39m\u001b[39mtrain\u001b[39m\u001b[39m\"\u001b[39m,\n\u001b[1;32m   1777\u001b[0m     epoch_num\u001b[39m=\u001b[39mepoch,\n\u001b[0;32m   (...)\u001b[0m\n\u001b[1;32m   1780\u001b[0m     _r\u001b[39m=\u001b[39m\u001b[39m1\u001b[39m,\n\u001b[1;32m   1781\u001b[0m ):\n\u001b[1;32m   1782\u001b[0m     callbacks\u001b[39m.\u001b[39mon_train_batch_begin(step)\n\u001b[0;32m-> 1783\u001b[0m     tmp_logs \u001b[39m=\u001b[39m \u001b[39mself\u001b[39;49m\u001b[39m.\u001b[39;49mtrain_function(iterator)\n\u001b[1;32m   1784\u001b[0m     \u001b[39mif\u001b[39;00m data_handler\u001b[39m.\u001b[39mshould_sync:\n\u001b[1;32m   1785\u001b[0m         context\u001b[39m.\u001b[39masync_wait()\n",
      "File \u001b[0;32m~/lemi_3w/.venv/lib/python3.10/site-packages/tensorflow/python/util/traceback_utils.py:150\u001b[0m, in \u001b[0;36mfilter_traceback.<locals>.error_handler\u001b[0;34m(*args, **kwargs)\u001b[0m\n\u001b[1;32m    148\u001b[0m filtered_tb \u001b[39m=\u001b[39m \u001b[39mNone\u001b[39;00m\n\u001b[1;32m    149\u001b[0m \u001b[39mtry\u001b[39;00m:\n\u001b[0;32m--> 150\u001b[0m   \u001b[39mreturn\u001b[39;00m fn(\u001b[39m*\u001b[39;49margs, \u001b[39m*\u001b[39;49m\u001b[39m*\u001b[39;49mkwargs)\n\u001b[1;32m    151\u001b[0m \u001b[39mexcept\u001b[39;00m \u001b[39mException\u001b[39;00m \u001b[39mas\u001b[39;00m e:\n\u001b[1;32m    152\u001b[0m   filtered_tb \u001b[39m=\u001b[39m _process_traceback_frames(e\u001b[39m.\u001b[39m__traceback__)\n",
      "File \u001b[0;32m~/lemi_3w/.venv/lib/python3.10/site-packages/tensorflow/python/eager/polymorphic_function/polymorphic_function.py:831\u001b[0m, in \u001b[0;36mFunction.__call__\u001b[0;34m(self, *args, **kwds)\u001b[0m\n\u001b[1;32m    828\u001b[0m compiler \u001b[39m=\u001b[39m \u001b[39m\"\u001b[39m\u001b[39mxla\u001b[39m\u001b[39m\"\u001b[39m \u001b[39mif\u001b[39;00m \u001b[39mself\u001b[39m\u001b[39m.\u001b[39m_jit_compile \u001b[39melse\u001b[39;00m \u001b[39m\"\u001b[39m\u001b[39mnonXla\u001b[39m\u001b[39m\"\u001b[39m\n\u001b[1;32m    830\u001b[0m \u001b[39mwith\u001b[39;00m OptionalXlaContext(\u001b[39mself\u001b[39m\u001b[39m.\u001b[39m_jit_compile):\n\u001b[0;32m--> 831\u001b[0m   result \u001b[39m=\u001b[39m \u001b[39mself\u001b[39;49m\u001b[39m.\u001b[39;49m_call(\u001b[39m*\u001b[39;49margs, \u001b[39m*\u001b[39;49m\u001b[39m*\u001b[39;49mkwds)\n\u001b[1;32m    833\u001b[0m new_tracing_count \u001b[39m=\u001b[39m \u001b[39mself\u001b[39m\u001b[39m.\u001b[39mexperimental_get_tracing_count()\n\u001b[1;32m    834\u001b[0m without_tracing \u001b[39m=\u001b[39m (tracing_count \u001b[39m==\u001b[39m new_tracing_count)\n",
      "File \u001b[0;32m~/lemi_3w/.venv/lib/python3.10/site-packages/tensorflow/python/eager/polymorphic_function/polymorphic_function.py:867\u001b[0m, in \u001b[0;36mFunction._call\u001b[0;34m(self, *args, **kwds)\u001b[0m\n\u001b[1;32m    864\u001b[0m   \u001b[39mself\u001b[39m\u001b[39m.\u001b[39m_lock\u001b[39m.\u001b[39mrelease()\n\u001b[1;32m    865\u001b[0m   \u001b[39m# In this case we have created variables on the first call, so we run the\u001b[39;00m\n\u001b[1;32m    866\u001b[0m   \u001b[39m# defunned version which is guaranteed to never create variables.\u001b[39;00m\n\u001b[0;32m--> 867\u001b[0m   \u001b[39mreturn\u001b[39;00m tracing_compilation\u001b[39m.\u001b[39;49mcall_function(\n\u001b[1;32m    868\u001b[0m       args, kwds, \u001b[39mself\u001b[39;49m\u001b[39m.\u001b[39;49m_no_variable_creation_config\n\u001b[1;32m    869\u001b[0m   )\n\u001b[1;32m    870\u001b[0m \u001b[39melif\u001b[39;00m \u001b[39mself\u001b[39m\u001b[39m.\u001b[39m_variable_creation_config \u001b[39mis\u001b[39;00m \u001b[39mnot\u001b[39;00m \u001b[39mNone\u001b[39;00m:\n\u001b[1;32m    871\u001b[0m   \u001b[39m# Release the lock early so that multiple threads can perform the call\u001b[39;00m\n\u001b[1;32m    872\u001b[0m   \u001b[39m# in parallel.\u001b[39;00m\n\u001b[1;32m    873\u001b[0m   \u001b[39mself\u001b[39m\u001b[39m.\u001b[39m_lock\u001b[39m.\u001b[39mrelease()\n",
      "File \u001b[0;32m~/lemi_3w/.venv/lib/python3.10/site-packages/tensorflow/python/eager/polymorphic_function/tracing_compilation.py:139\u001b[0m, in \u001b[0;36mcall_function\u001b[0;34m(args, kwargs, tracing_options)\u001b[0m\n\u001b[1;32m    137\u001b[0m bound_args \u001b[39m=\u001b[39m function\u001b[39m.\u001b[39mfunction_type\u001b[39m.\u001b[39mbind(\u001b[39m*\u001b[39margs, \u001b[39m*\u001b[39m\u001b[39m*\u001b[39mkwargs)\n\u001b[1;32m    138\u001b[0m flat_inputs \u001b[39m=\u001b[39m function\u001b[39m.\u001b[39mfunction_type\u001b[39m.\u001b[39munpack_inputs(bound_args)\n\u001b[0;32m--> 139\u001b[0m \u001b[39mreturn\u001b[39;00m function\u001b[39m.\u001b[39;49m_call_flat(  \u001b[39m# pylint: disable=protected-access\u001b[39;49;00m\n\u001b[1;32m    140\u001b[0m     flat_inputs, captured_inputs\u001b[39m=\u001b[39;49mfunction\u001b[39m.\u001b[39;49mcaptured_inputs\n\u001b[1;32m    141\u001b[0m )\n",
      "File \u001b[0;32m~/lemi_3w/.venv/lib/python3.10/site-packages/tensorflow/python/eager/polymorphic_function/concrete_function.py:1264\u001b[0m, in \u001b[0;36mConcreteFunction._call_flat\u001b[0;34m(self, tensor_inputs, captured_inputs)\u001b[0m\n\u001b[1;32m   1260\u001b[0m possible_gradient_type \u001b[39m=\u001b[39m gradients_util\u001b[39m.\u001b[39mPossibleTapeGradientTypes(args)\n\u001b[1;32m   1261\u001b[0m \u001b[39mif\u001b[39;00m (possible_gradient_type \u001b[39m==\u001b[39m gradients_util\u001b[39m.\u001b[39mPOSSIBLE_GRADIENT_TYPES_NONE\n\u001b[1;32m   1262\u001b[0m     \u001b[39mand\u001b[39;00m executing_eagerly):\n\u001b[1;32m   1263\u001b[0m   \u001b[39m# No tape is watching; skip to running the function.\u001b[39;00m\n\u001b[0;32m-> 1264\u001b[0m   \u001b[39mreturn\u001b[39;00m \u001b[39mself\u001b[39;49m\u001b[39m.\u001b[39;49m_inference_function\u001b[39m.\u001b[39;49mflat_call(args)\n\u001b[1;32m   1265\u001b[0m forward_backward \u001b[39m=\u001b[39m \u001b[39mself\u001b[39m\u001b[39m.\u001b[39m_select_forward_and_backward_functions(\n\u001b[1;32m   1266\u001b[0m     args,\n\u001b[1;32m   1267\u001b[0m     possible_gradient_type,\n\u001b[1;32m   1268\u001b[0m     executing_eagerly)\n\u001b[1;32m   1269\u001b[0m forward_function, args_with_tangents \u001b[39m=\u001b[39m forward_backward\u001b[39m.\u001b[39mforward()\n",
      "File \u001b[0;32m~/lemi_3w/.venv/lib/python3.10/site-packages/tensorflow/python/eager/polymorphic_function/atomic_function.py:217\u001b[0m, in \u001b[0;36mAtomicFunction.flat_call\u001b[0;34m(self, args)\u001b[0m\n\u001b[1;32m    215\u001b[0m \u001b[39mdef\u001b[39;00m \u001b[39mflat_call\u001b[39m(\u001b[39mself\u001b[39m, args: Sequence[core\u001b[39m.\u001b[39mTensor]) \u001b[39m-\u001b[39m\u001b[39m>\u001b[39m Any:\n\u001b[1;32m    216\u001b[0m \u001b[39m  \u001b[39m\u001b[39m\"\"\"Calls with tensor inputs and returns the structured output.\"\"\"\u001b[39;00m\n\u001b[0;32m--> 217\u001b[0m   flat_outputs \u001b[39m=\u001b[39m \u001b[39mself\u001b[39;49m(\u001b[39m*\u001b[39;49margs)\n\u001b[1;32m    218\u001b[0m   \u001b[39mreturn\u001b[39;00m \u001b[39mself\u001b[39m\u001b[39m.\u001b[39mfunction_type\u001b[39m.\u001b[39mpack_output(flat_outputs)\n",
      "File \u001b[0;32m~/lemi_3w/.venv/lib/python3.10/site-packages/tensorflow/python/eager/polymorphic_function/atomic_function.py:252\u001b[0m, in \u001b[0;36mAtomicFunction.__call__\u001b[0;34m(self, *args)\u001b[0m\n\u001b[1;32m    250\u001b[0m \u001b[39mwith\u001b[39;00m record\u001b[39m.\u001b[39mstop_recording():\n\u001b[1;32m    251\u001b[0m   \u001b[39mif\u001b[39;00m \u001b[39mself\u001b[39m\u001b[39m.\u001b[39m_bound_context\u001b[39m.\u001b[39mexecuting_eagerly():\n\u001b[0;32m--> 252\u001b[0m     outputs \u001b[39m=\u001b[39m \u001b[39mself\u001b[39;49m\u001b[39m.\u001b[39;49m_bound_context\u001b[39m.\u001b[39;49mcall_function(\n\u001b[1;32m    253\u001b[0m         \u001b[39mself\u001b[39;49m\u001b[39m.\u001b[39;49mname,\n\u001b[1;32m    254\u001b[0m         \u001b[39mlist\u001b[39;49m(args),\n\u001b[1;32m    255\u001b[0m         \u001b[39mlen\u001b[39;49m(\u001b[39mself\u001b[39;49m\u001b[39m.\u001b[39;49mfunction_type\u001b[39m.\u001b[39;49mflat_outputs),\n\u001b[1;32m    256\u001b[0m     )\n\u001b[1;32m    257\u001b[0m   \u001b[39melse\u001b[39;00m:\n\u001b[1;32m    258\u001b[0m     outputs \u001b[39m=\u001b[39m make_call_op_in_graph(\n\u001b[1;32m    259\u001b[0m         \u001b[39mself\u001b[39m,\n\u001b[1;32m    260\u001b[0m         \u001b[39mlist\u001b[39m(args),\n\u001b[1;32m    261\u001b[0m         \u001b[39mself\u001b[39m\u001b[39m.\u001b[39m_bound_context\u001b[39m.\u001b[39mfunction_call_options\u001b[39m.\u001b[39mas_attrs(),\n\u001b[1;32m    262\u001b[0m     )\n",
      "File \u001b[0;32m~/lemi_3w/.venv/lib/python3.10/site-packages/tensorflow/python/eager/context.py:1479\u001b[0m, in \u001b[0;36mContext.call_function\u001b[0;34m(self, name, tensor_inputs, num_outputs)\u001b[0m\n\u001b[1;32m   1477\u001b[0m cancellation_context \u001b[39m=\u001b[39m cancellation\u001b[39m.\u001b[39mcontext()\n\u001b[1;32m   1478\u001b[0m \u001b[39mif\u001b[39;00m cancellation_context \u001b[39mis\u001b[39;00m \u001b[39mNone\u001b[39;00m:\n\u001b[0;32m-> 1479\u001b[0m   outputs \u001b[39m=\u001b[39m execute\u001b[39m.\u001b[39;49mexecute(\n\u001b[1;32m   1480\u001b[0m       name\u001b[39m.\u001b[39;49mdecode(\u001b[39m\"\u001b[39;49m\u001b[39mutf-8\u001b[39;49m\u001b[39m\"\u001b[39;49m),\n\u001b[1;32m   1481\u001b[0m       num_outputs\u001b[39m=\u001b[39;49mnum_outputs,\n\u001b[1;32m   1482\u001b[0m       inputs\u001b[39m=\u001b[39;49mtensor_inputs,\n\u001b[1;32m   1483\u001b[0m       attrs\u001b[39m=\u001b[39;49mattrs,\n\u001b[1;32m   1484\u001b[0m       ctx\u001b[39m=\u001b[39;49m\u001b[39mself\u001b[39;49m,\n\u001b[1;32m   1485\u001b[0m   )\n\u001b[1;32m   1486\u001b[0m \u001b[39melse\u001b[39;00m:\n\u001b[1;32m   1487\u001b[0m   outputs \u001b[39m=\u001b[39m execute\u001b[39m.\u001b[39mexecute_with_cancellation(\n\u001b[1;32m   1488\u001b[0m       name\u001b[39m.\u001b[39mdecode(\u001b[39m\"\u001b[39m\u001b[39mutf-8\u001b[39m\u001b[39m\"\u001b[39m),\n\u001b[1;32m   1489\u001b[0m       num_outputs\u001b[39m=\u001b[39mnum_outputs,\n\u001b[0;32m   (...)\u001b[0m\n\u001b[1;32m   1493\u001b[0m       cancellation_manager\u001b[39m=\u001b[39mcancellation_context,\n\u001b[1;32m   1494\u001b[0m   )\n",
      "File \u001b[0;32m~/lemi_3w/.venv/lib/python3.10/site-packages/tensorflow/python/eager/execute.py:60\u001b[0m, in \u001b[0;36mquick_execute\u001b[0;34m(op_name, num_outputs, inputs, attrs, ctx, name)\u001b[0m\n\u001b[1;32m     53\u001b[0m   \u001b[39m# Convert any objects of type core_types.Tensor to Tensor.\u001b[39;00m\n\u001b[1;32m     54\u001b[0m   inputs \u001b[39m=\u001b[39m [\n\u001b[1;32m     55\u001b[0m       tensor_conversion_registry\u001b[39m.\u001b[39mconvert(t)\n\u001b[1;32m     56\u001b[0m       \u001b[39mif\u001b[39;00m \u001b[39misinstance\u001b[39m(t, core_types\u001b[39m.\u001b[39mTensor)\n\u001b[1;32m     57\u001b[0m       \u001b[39melse\u001b[39;00m t\n\u001b[1;32m     58\u001b[0m       \u001b[39mfor\u001b[39;00m t \u001b[39min\u001b[39;00m inputs\n\u001b[1;32m     59\u001b[0m   ]\n\u001b[0;32m---> 60\u001b[0m   tensors \u001b[39m=\u001b[39m pywrap_tfe\u001b[39m.\u001b[39;49mTFE_Py_Execute(ctx\u001b[39m.\u001b[39;49m_handle, device_name, op_name,\n\u001b[1;32m     61\u001b[0m                                       inputs, attrs, num_outputs)\n\u001b[1;32m     62\u001b[0m \u001b[39mexcept\u001b[39;00m core\u001b[39m.\u001b[39m_NotOkStatusException \u001b[39mas\u001b[39;00m e:\n\u001b[1;32m     63\u001b[0m   \u001b[39mif\u001b[39;00m name \u001b[39mis\u001b[39;00m \u001b[39mnot\u001b[39;00m \u001b[39mNone\u001b[39;00m:\n",
      "\u001b[0;31mKeyboardInterrupt\u001b[0m: "
     ]
    }
   ],
   "source": [
    "# Training configurations\n",
    "num_epochs = 50\n",
    "steps_per_epoch = len(train_transformed_file_path_list)\n",
    "train_data_gen = TransformationManager.data_generator_loop(train_transformed_file_path_list)\n",
    "early_stopping_callback = keras.callbacks.EarlyStopping(monitor='val_accuracy', patience=10)\n",
    "\n",
    "checkpoint_filepath = storage_config.DIR_PROJECT_CACHE / \"model_weights\" / \"weights.{epoch:02d}-{val_loss:.2f}.hdf5\"\n",
    "checkpoint_filepath.parent.mkdir(parents=True, exist_ok=True)\n",
    "model_checkpoint_callback = keras.callbacks.ModelCheckpoint(\n",
    "    filepath=checkpoint_filepath,\n",
    "    save_weights_only=True,\n",
    "    monitor='val_accuracy',\n",
    "    mode='max',\n",
    "    save_best_only=True)\n",
    "\n",
    "# Train model\n",
    "best_model = build_model(best_params)\n",
    "\n",
    "training_history = best_model.fit(\n",
    "    train_data_gen, \n",
    "    steps_per_epoch=steps_per_epoch,\n",
    "    epochs=num_epochs,\n",
    "    validation_data=validation_data_gen,\n",
    "    validation_steps=len(validation_transformed_file_path_list),\n",
    "    callbacks=[early_stopping_callback, model_checkpoint_callback],\n",
    "    verbose=1\n",
    ")\n",
    "\n",
    "# Graph of training results history\n",
    "plt.plot(training_history.history['accuracy'])\n",
    "plt.plot(training_history.history['val_accuracy'])\n",
    "plt.title('Model accuracy')\n",
    "plt.ylabel('Accuracy')\n",
    "plt.xlabel('epoch')\n",
    "plt.legend(['train', 'val'], loc='upper left')\n",
    "plt.show()"
   ]
  },
  {
   "attachments": {},
   "cell_type": "markdown",
   "metadata": {},
   "source": [
    "Ver se está funcionando com um exemplo."
   ]
  },
  {
   "cell_type": "code",
   "execution_count": null,
   "metadata": {},
   "outputs": [
    {
     "name": "stdout",
     "output_type": "stream",
     "text": [
      "/home/ubuntu/lemi_3w/data/transform-isdt-dataset_converted_v10101_split-20_source-all_class-all_well-all_train/5/SIMULATED_00309.npz\n",
      "True value: [0 0 0 0 0 1 0 0 0]\n",
      "1/1 [==============================] - 0s 236ms/step\n",
      "Predicted value: [[4.3571442e-02 2.0396810e-04 2.0068900e-03 1.7219167e-03 4.4720280e-03\n",
      "  8.0223334e-01 1.2927955e-05 1.4973553e-07 1.4577736e-01]]\n"
     ]
    }
   ],
   "source": [
    "import numpy as np\n",
    "test_file = train_transformed_file_path_list[-1]\n",
    "print(test_file)\n",
    "\n",
    "Xhat, yhat = TransformationManager.retrieve_pair_array(pathlib.Path(test_file))\n",
    "print(f\"True value: {yhat[0]}\")\n",
    "\n",
    "Xhat0 = Xhat[0].reshape(1, transformation_param_num_timesteps_for_window, num_features)\n",
    "print(f\"Predicted value: {best_model.predict(Xhat0)}\")"
   ]
  },
  {
   "attachments": {},
   "cell_type": "markdown",
   "metadata": {},
   "source": [
    "# Validação\n",
    "Aqui pegaremos nosso banco de testes, o transformaremos, para então o utilizar para validar a perfomance do nosso modelo."
   ]
  },
  {
   "cell_type": "code",
   "execution_count": null,
   "metadata": {},
   "outputs": [
    {
     "name": "stdout",
     "output_type": "stream",
     "text": [
      "395/395 [==============================] - 4s 11ms/step - loss: 0.4356 - accuracy: 0.9185\n"
     ]
    },
    {
     "data": {
      "text/plain": [
       "[0.43560388684272766, 0.918455958366394]"
      ]
     },
     "execution_count": 31,
     "metadata": {},
     "output_type": "execute_result"
    }
   ],
   "source": [
    "test_data_gen = TransformationManager.data_generator_non_loop(test_transformed_file_path_list)\n",
    "num_steps = len(test_transformed_file_path_list)\n",
    "\n",
    "best_model.evaluate(\n",
    "    test_data_gen,\n",
    "    steps=num_steps,\n",
    "    verbose=1,\n",
    ")"
   ]
  },
  {
   "cell_type": "code",
   "execution_count": null,
   "metadata": {},
   "outputs": [
    {
     "name": "stdout",
     "output_type": "stream",
     "text": [
      "395/395 [==============================] - 4s 10ms/step\n"
     ]
    },
    {
     "data": {
      "text/plain": [
       "('Number of predictions: 162636',\n",
       " 'Shape of y array: (162636, 9)',\n",
       " array([2.6884058e-01, 1.8618914e-05, 8.8015827e-04, 6.7459204e-04,\n",
       "        1.3789049e-02, 2.5097156e-04, 7.1493304e-01, 1.0168498e-06,\n",
       "        6.1201805e-04], dtype=float32))"
      ]
     },
     "execution_count": 32,
     "metadata": {},
     "output_type": "execute_result"
    }
   ],
   "source": [
    "test_data_gen = TransformationManager.data_generator_non_loop(test_transformed_file_path_list)\n",
    "\n",
    "y_test_predictions = best_model.predict(\n",
    "    test_data_gen,\n",
    ")\n",
    "\n",
    "(\n",
    "    f\"Number of predictions: {len(y_test_predictions)}\", \n",
    "    f\"Shape of y array: {y_test_predictions.shape}\", \n",
    "    y_test_predictions[0]\n",
    ")"
   ]
  },
  {
   "cell_type": "code",
   "execution_count": null,
   "metadata": {},
   "outputs": [
    {
     "data": {
      "text/plain": [
       "('Number of predictions: 162636',\n",
       " 'Shape of y array: (162636, 9)',\n",
       " array([1, 0, 0, 0, 0, 0, 0, 0, 0]))"
      ]
     },
     "execution_count": 33,
     "metadata": {},
     "output_type": "execute_result"
    }
   ],
   "source": [
    "test_data_gen = TransformationManager.data_generator_non_loop(test_transformed_file_path_list)\n",
    "y_test_labels = []\n",
    "\n",
    "for X, y in test_data_gen:\n",
    "    y_test_labels.append(y)\n",
    "\n",
    "y_test_labels = np.concatenate(y_test_labels, axis=0)\n",
    "\n",
    "(\n",
    "    f\"Number of predictions: {len(y_test_labels)}\", \n",
    "    f\"Shape of y array: {y_test_labels.shape}\", \n",
    "    y_test_labels[0],\n",
    ")"
   ]
  },
  {
   "cell_type": "code",
   "execution_count": null,
   "metadata": {},
   "outputs": [
    {
     "data": {
      "text/plain": [
       "<tf.Tensor: shape=(9, 9), dtype=int32, numpy=\n",
       "array([[31146,  2060,    78,     7,   603,   457,   473,   883,   233],\n",
       "       [  669, 25849,     0,  1091,     0,     0,     0,  2973,     0],\n",
       "       [   31,    20,  1379,    25,     0,     2,     3,     0,    14],\n",
       "       [    0,     0,     0, 13869,   278,  1009,     0,     0,    15],\n",
       "       [  975,     0,     0,     1,  5981,     0,     0,     0,     0],\n",
       "       [    3,    13,     0,    87,    20, 41808,     0,     0,     0],\n",
       "       [   11,     0,     0,     0,     0,     0, 18060,     0,     0],\n",
       "       [    0,     0,     0,     0,     0,     0,     0,  5790,     0],\n",
       "       [  111,     0,     0,     0,    15,  1102,     0,     0,  5492]],\n",
       "      dtype=int32)>"
      ]
     },
     "execution_count": 34,
     "metadata": {},
     "output_type": "execute_result"
    }
   ],
   "source": [
    "y_test_labels_1d = np.argmax(y_test_labels, axis=1)\n",
    "y_test_predictions_1d = np.argmax(y_test_predictions, axis=1)\n",
    "\n",
    "math.confusion_matrix(\n",
    "    y_test_labels_1d,\n",
    "    y_test_predictions_1d,\n",
    "    num_classes=num_outputs,\n",
    ")"
   ]
  },
  {
   "cell_type": "code",
   "execution_count": null,
   "metadata": {},
   "outputs": [
    {
     "data": {
      "image/png": "[encoded data removed]",
      "text/plain": [
       "<Figure size 800x600 with 2 Axes>"
      ]
     },
     "metadata": {},
     "output_type": "display_data"
    }
   ],
   "source": [
    "import pandas as pd\n",
    "import matplotlib.pyplot as plt\n",
    "import seaborn as sns\n",
    "from raw_data_manager.models import EventClassType\n",
    "\n",
    "consusion_array = np.array([[31146,  2060,    78,     7,   603,   457,   473,   883,   233],\n",
    "       [  669, 25849,     0,  1091,     0,     0,     0,  2973,     0],\n",
    "       [   31,    20,  1379,    25,     0,     2,     3,     0,    14],\n",
    "       [    0,     0,     0, 13869,   278,  1009,     0,     0,    15],\n",
    "       [  975,     0,     0,     1,  5981,     0,     0,     0,     0],\n",
    "       [    3,    13,     0,    87,    20, 41808,     0,     0,     0],\n",
    "       [   11,     0,     0,     0,     0,     0, 18060,     0,     0],\n",
    "       [    0,     0,     0,     0,     0,     0,     0,  5790,     0],\n",
    "       [  111,     0,     0,     0,    15,  1102,     0,     0,  5492]],)\n",
    "\n",
    "fig, ax = plt.subplots(figsize=(8,6))\n",
    "heatmap = sns.heatmap(consusion_array, annot=True, fmt='d', xticklabels=[e.value for e in EventClassType], yticklabels=[e.value for e in EventClassType], annot_kws={\"size\": 12})\n",
    "heatmap.set_xticklabels(heatmap.get_xmajorticklabels(), fontsize = 14)\n",
    "heatmap.set_yticklabels(heatmap.get_ymajorticklabels(), fontsize = 14)\n",
    "\n",
    "\n",
    "plt.ylabel('Real values', fontsize=18)\n",
    "plt.xlabel('Predicted values', fontsize=19)\n",
    "plt.show()"
   ]
  }
 ],
 "metadata": {
  "kernelspec": {
   "display_name": ".venv",
   "language": "python",
   "name": "python3"
  },
  "language_info": {
   "codemirror_mode": {
    "name": "ipython",
    "version": 3
   },
   "file_extension": ".py",
   "mimetype": "text/x-python",
   "name": "python",
   "nbconvert_exporter": "python",
   "pygments_lexer": "ipython3",
   "version": "3.10.12"
  },
  "orig_nbformat": 4,
  "vscode": {
   "interpreter": {
    "hash": "f76451b3a7719b8fd32adab79b436fd06da7a0268f14fa2684341b59d3c3b3e7"
   }
  }
 },
 "nbformat": 4,
 "nbformat_minor": 2
}
