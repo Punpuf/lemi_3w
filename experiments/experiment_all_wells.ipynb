{
 "cells": [
  {
   "attachments": {},
   "cell_type": "markdown",
   "metadata": {},
   "source": [
    "# Experimento com dados de todos os poços\n",
    "\n",
    "Nesse notebook será realizado as tarefas de obtenção de dados, tratamento, modelagem, e validação de dados.\n",
    "O objetivo aqui é obter um classificador de anomalias para dados de todos os poços (aqui será incluido todos os tipos de dados: inclusive dados de fontes simulação e desenhados)."
   ]
  },
  {
   "attachments": {},
   "cell_type": "markdown",
   "metadata": {},
   "source": [
    "# Aquisição de dados"
   ]
  },
  {
   "attachments": {},
   "cell_type": "markdown",
   "metadata": {},
   "source": [
    "Configurando ambiente: "
   ]
  },
  {
   "cell_type": "code",
   "execution_count": 1,
   "metadata": {},
   "outputs": [
    {
     "name": "stderr",
     "output_type": "stream",
     "text": [
      "/home/ubuntu/lemi_3w/.venv/lib/python3.10/site-packages/tqdm/auto.py:21: TqdmWarning: IProgress not found. Please update jupyter and ipywidgets. See https://ipywidgets.readthedocs.io/en/stable/user_install.html\n",
      "  from .autonotebook import tqdm as notebook_tqdm\n"
     ]
    }
   ],
   "source": [
    "import sys\n",
    "sys.path.append(\"..\")\n",
    "\n",
    "# Environment configuration\n",
    "import raw_data_manager.raw_data_acquisition as rda\n",
    "import raw_data_manager.raw_data_inspector as rdi\n",
    "import raw_data_manager.raw_data_splitter as rds\n",
    "from data_exploration.metric_acquisition import MetricAcquisition\n",
    "from data_preparation.transformation_manager import TransformationManager\n",
    "from constants import storage_config\n",
    "import pathlib\n",
    "import numpy as np\n",
    "import random\n",
    "import pickle\n",
    "\n",
    "# Set default logging level.\n",
    "from absl import logging\n",
    "logging.set_verbosity(logging.DEBUG)"
   ]
  },
  {
   "attachments": {},
   "cell_type": "markdown",
   "metadata": {},
   "source": [
    "Baixar dataset 3W (se não disponível) & gerar tabela de metadados."
   ]
  },
  {
   "cell_type": "code",
   "execution_count": 2,
   "metadata": {},
   "outputs": [
    {
     "name": "stderr",
     "output_type": "stream",
     "text": [
      "INFO:absl:Directory with the biggest version: /home/ubuntu/lemi_3w/data/dataset_converted_v10101\n",
      "INFO:absl:Version: 10101\n",
      "INFO:absl:Latest local version is 10101\n",
      "INFO:absl:Going to fetch config file from $https://raw.githubusercontent.com/petrobras/3W/main/dataset/dataset.ini\n",
      "  % Total    % Received % Xferd  Average Speed   Time    Time     Time  Current\n",
      "                                 Dload  Upload   Total   Spent    Left  Speed\n",
      "100  2786  100  2786    0     0   4038      0 --:--:-- --:--:-- --:--:--  4043\n",
      "INFO:absl:Latest online version is 10101\n",
      "INFO:absl:Found existing converted data with dataset version of 10101\n",
      "INFO:absl:Directory with the biggest version: /home/ubuntu/lemi_3w/data/dataset_converted_v10101\n",
      "INFO:absl:Version: 10101\n"
     ]
    },
    {
     "data": {
      "text/html": [
       "<div>\n",
       "<style scoped>\n",
       "    .dataframe tbody tr th:only-of-type {\n",
       "        vertical-align: middle;\n",
       "    }\n",
       "\n",
       "    .dataframe tbody tr th {\n",
       "        vertical-align: top;\n",
       "    }\n",
       "\n",
       "    .dataframe thead th {\n",
       "        text-align: right;\n",
       "    }\n",
       "</style>\n",
       "<table border=\"1\" class=\"dataframe\">\n",
       "  <thead>\n",
       "    <tr style=\"text-align: right;\">\n",
       "      <th></th>\n",
       "      <th>class_type</th>\n",
       "      <th>source</th>\n",
       "      <th>well_id</th>\n",
       "      <th>path</th>\n",
       "      <th>timestamp</th>\n",
       "      <th>file_size</th>\n",
       "      <th>num_timesteps</th>\n",
       "    </tr>\n",
       "    <tr>\n",
       "      <th>hash_id</th>\n",
       "      <th></th>\n",
       "      <th></th>\n",
       "      <th></th>\n",
       "      <th></th>\n",
       "      <th></th>\n",
       "      <th></th>\n",
       "      <th></th>\n",
       "    </tr>\n",
       "  </thead>\n",
       "  <tbody>\n",
       "    <tr>\n",
       "      <th>74203bb</th>\n",
       "      <td>NORMAL</td>\n",
       "      <td>REAL</td>\n",
       "      <td>1.0</td>\n",
       "      <td>/home/ubuntu/lemi_3w/data/dataset_converted_v1...</td>\n",
       "      <td>2017-05-24 03:00:00</td>\n",
       "      <td>491415</td>\n",
       "      <td>17885</td>\n",
       "    </tr>\n",
       "    <tr>\n",
       "      <th>9fbd6f9</th>\n",
       "      <td>NORMAL</td>\n",
       "      <td>REAL</td>\n",
       "      <td>2.0</td>\n",
       "      <td>/home/ubuntu/lemi_3w/data/dataset_converted_v1...</td>\n",
       "      <td>2017-08-09 06:00:00</td>\n",
       "      <td>520154</td>\n",
       "      <td>17933</td>\n",
       "    </tr>\n",
       "    <tr>\n",
       "      <th>28804c5</th>\n",
       "      <td>NORMAL</td>\n",
       "      <td>REAL</td>\n",
       "      <td>6.0</td>\n",
       "      <td>/home/ubuntu/lemi_3w/data/dataset_converted_v1...</td>\n",
       "      <td>2017-05-08 09:00:31</td>\n",
       "      <td>349162</td>\n",
       "      <td>17970</td>\n",
       "    </tr>\n",
       "    <tr>\n",
       "      <th>42afe91</th>\n",
       "      <td>NORMAL</td>\n",
       "      <td>REAL</td>\n",
       "      <td>8.0</td>\n",
       "      <td>/home/ubuntu/lemi_3w/data/dataset_converted_v1...</td>\n",
       "      <td>2017-07-01 14:01:35</td>\n",
       "      <td>251880</td>\n",
       "      <td>17799</td>\n",
       "    </tr>\n",
       "    <tr>\n",
       "      <th>fa71d94</th>\n",
       "      <td>NORMAL</td>\n",
       "      <td>REAL</td>\n",
       "      <td>6.0</td>\n",
       "      <td>/home/ubuntu/lemi_3w/data/dataset_converted_v1...</td>\n",
       "      <td>2017-08-23 19:00:00</td>\n",
       "      <td>279737</td>\n",
       "      <td>17949</td>\n",
       "    </tr>\n",
       "    <tr>\n",
       "      <th>...</th>\n",
       "      <td>...</td>\n",
       "      <td>...</td>\n",
       "      <td>...</td>\n",
       "      <td>...</td>\n",
       "      <td>...</td>\n",
       "      <td>...</td>\n",
       "      <td>...</td>\n",
       "    </tr>\n",
       "    <tr>\n",
       "      <th>ea66cf6</th>\n",
       "      <td>SEVERE_SLUGGING</td>\n",
       "      <td>SIMULATED</td>\n",
       "      <td>NaN</td>\n",
       "      <td>/home/ubuntu/lemi_3w/data/dataset_converted_v1...</td>\n",
       "      <td>NaT</td>\n",
       "      <td>2315903</td>\n",
       "      <td>61999</td>\n",
       "    </tr>\n",
       "    <tr>\n",
       "      <th>34f032a</th>\n",
       "      <td>SEVERE_SLUGGING</td>\n",
       "      <td>SIMULATED</td>\n",
       "      <td>NaN</td>\n",
       "      <td>/home/ubuntu/lemi_3w/data/dataset_converted_v1...</td>\n",
       "      <td>NaT</td>\n",
       "      <td>2259539</td>\n",
       "      <td>61999</td>\n",
       "    </tr>\n",
       "    <tr>\n",
       "      <th>876a969</th>\n",
       "      <td>SEVERE_SLUGGING</td>\n",
       "      <td>REAL</td>\n",
       "      <td>14.0</td>\n",
       "      <td>/home/ubuntu/lemi_3w/data/dataset_converted_v1...</td>\n",
       "      <td>2017-09-25 06:00:42</td>\n",
       "      <td>1005717</td>\n",
       "      <td>17959</td>\n",
       "    </tr>\n",
       "    <tr>\n",
       "      <th>deac7ec</th>\n",
       "      <td>SEVERE_SLUGGING</td>\n",
       "      <td>SIMULATED</td>\n",
       "      <td>NaN</td>\n",
       "      <td>/home/ubuntu/lemi_3w/data/dataset_converted_v1...</td>\n",
       "      <td>NaT</td>\n",
       "      <td>2045137</td>\n",
       "      <td>61999</td>\n",
       "    </tr>\n",
       "    <tr>\n",
       "      <th>c8867fa</th>\n",
       "      <td>SEVERE_SLUGGING</td>\n",
       "      <td>SIMULATED</td>\n",
       "      <td>NaN</td>\n",
       "      <td>/home/ubuntu/lemi_3w/data/dataset_converted_v1...</td>\n",
       "      <td>NaT</td>\n",
       "      <td>2359418</td>\n",
       "      <td>61999</td>\n",
       "    </tr>\n",
       "  </tbody>\n",
       "</table>\n",
       "<p>1978 rows × 7 columns</p>\n",
       "</div>"
      ],
      "text/plain": [
       "              class_type     source  well_id  \\\n",
       "hash_id                                        \n",
       "74203bb           NORMAL       REAL      1.0   \n",
       "9fbd6f9           NORMAL       REAL      2.0   \n",
       "28804c5           NORMAL       REAL      6.0   \n",
       "42afe91           NORMAL       REAL      8.0   \n",
       "fa71d94           NORMAL       REAL      6.0   \n",
       "...                  ...        ...      ...   \n",
       "ea66cf6  SEVERE_SLUGGING  SIMULATED      NaN   \n",
       "34f032a  SEVERE_SLUGGING  SIMULATED      NaN   \n",
       "876a969  SEVERE_SLUGGING       REAL     14.0   \n",
       "deac7ec  SEVERE_SLUGGING  SIMULATED      NaN   \n",
       "c8867fa  SEVERE_SLUGGING  SIMULATED      NaN   \n",
       "\n",
       "                                                      path  \\\n",
       "hash_id                                                      \n",
       "74203bb  /home/ubuntu/lemi_3w/data/dataset_converted_v1...   \n",
       "9fbd6f9  /home/ubuntu/lemi_3w/data/dataset_converted_v1...   \n",
       "28804c5  /home/ubuntu/lemi_3w/data/dataset_converted_v1...   \n",
       "42afe91  /home/ubuntu/lemi_3w/data/dataset_converted_v1...   \n",
       "fa71d94  /home/ubuntu/lemi_3w/data/dataset_converted_v1...   \n",
       "...                                                    ...   \n",
       "ea66cf6  /home/ubuntu/lemi_3w/data/dataset_converted_v1...   \n",
       "34f032a  /home/ubuntu/lemi_3w/data/dataset_converted_v1...   \n",
       "876a969  /home/ubuntu/lemi_3w/data/dataset_converted_v1...   \n",
       "deac7ec  /home/ubuntu/lemi_3w/data/dataset_converted_v1...   \n",
       "c8867fa  /home/ubuntu/lemi_3w/data/dataset_converted_v1...   \n",
       "\n",
       "                  timestamp  file_size  num_timesteps  \n",
       "hash_id                                                \n",
       "74203bb 2017-05-24 03:00:00     491415          17885  \n",
       "9fbd6f9 2017-08-09 06:00:00     520154          17933  \n",
       "28804c5 2017-05-08 09:00:31     349162          17970  \n",
       "42afe91 2017-07-01 14:01:35     251880          17799  \n",
       "fa71d94 2017-08-23 19:00:00     279737          17949  \n",
       "...                     ...        ...            ...  \n",
       "ea66cf6                 NaT    2315903          61999  \n",
       "34f032a                 NaT    2259539          61999  \n",
       "876a969 2017-09-25 06:00:42    1005717          17959  \n",
       "deac7ec                 NaT    2045137          61999  \n",
       "c8867fa                 NaT    2359418          61999  \n",
       "\n",
       "[1978 rows x 7 columns]"
      ]
     },
     "execution_count": 2,
     "metadata": {},
     "output_type": "execute_result"
    }
   ],
   "source": [
    "## Acquire data (of entire 3W dataset)\n",
    "rda.acquire_dataset_if_needed()\n",
    "latest_converted_data_path, latest_converted_data_version = (\n",
    "    rda.get_latest_local_converted_data_version(storage_config.DIR_PROJECT_DATA)\n",
    ")\n",
    "\n",
    "# Helper to overview metadata (of entire 3W dataset)\n",
    "inspector_all_data = rdi.RawDataInspector(\n",
    "    dataset_dir=latest_converted_data_path,\n",
    "    cache_file_path=storage_config.PATH_DATA_INSPECTOR_CACHE,\n",
    "    use_cached=True\n",
    ")\n",
    "metadata_all_data = inspector_all_data.get_metadata_table()\n",
    "metadata_all_data"
   ]
  },
  {
   "attachments": {},
   "cell_type": "markdown",
   "metadata": {},
   "source": [
    "Dividir dados (de forma estratificada) em treinamento e teste."
   ]
  },
  {
   "cell_type": "code",
   "execution_count": 3,
   "metadata": {},
   "outputs": [
    {
     "name": "stderr",
     "output_type": "stream",
     "text": [
      "DEBUG:absl:validation_size 0.1\n",
      "DEBUG:absl:size of train data: 1384. val: 198. test: 396\n",
      "DEBUG:absl:train path /home/ubuntu/lemi_3w/data/dataset_converted_v10101_split-20_source-all_class-all_well-all_train -/- val: /home/ubuntu/lemi_3w/data/dataset_converted_v10101_split-20_source-all_class-all_well-all_validation -/- test: /home/ubuntu/lemi_3w/data/dataset_converted_v10101_split-20_source-all_class-all_well-all_test\n",
      "DONE: 100%|██████████| 1384/1384 [00:01<00:00, 1060.31it/s]\n",
      "DONE: 100%|██████████| 396/396 [00:00<00:00, 783.82it/s] \n",
      "DONE: 100%|██████████| 198/198 [00:00<00:00, 673.37it/s]\n"
     ]
    }
   ],
   "source": [
    "# splits data, from the selected well, into train and test datasets\n",
    "splitter = rds.RawDataSplitter(metadata_all_data, latest_converted_data_version)\n",
    "split_train_dir, split_validation_dir, split_test_dir = splitter.stratefy_split_of_data(\n",
    "    data_dir=storage_config.DIR_PROJECT_DATA, \n",
    "    validation_size=0.10,\n",
    "    test_size=0.20,\n",
    ")"
   ]
  },
  {
   "cell_type": "code",
   "execution_count": 4,
   "metadata": {},
   "outputs": [
    {
     "name": "stderr",
     "output_type": "stream",
     "text": [
      "INFO:absl:Processing 416 events of class type 0.\n",
      "DONE: 100%|██████████| 416/416 [00:01<00:00, 363.42it/s]INFO:absl:Processing 241 events of class type 4.\n",
      "DONE: 100%|██████████| 416/416 [00:01<00:00, 218.66it/s]\n",
      "DONE: 100%|██████████| 241/241 [00:00<00:00, 352.11it/s]INFO:absl:Processing 315 events of class type 5.\n",
      "\n",
      "DONE: 100%|██████████| 315/315 [00:02<00:00, 154.92it/s]INFO:absl:Processing 90 events of class type 1.\n",
      "\n",
      "DONE: 100%|██████████| 90/90 [00:01<00:00, 53.83it/s]\n",
      "INFO:absl:Processing 10 events of class type 7.\n",
      "DONE: 100%|██████████| 10/10 [00:00<00:00, 13.25it/s]\n",
      "INFO:absl:Processing 154 events of class type 6.\n",
      "DONE: 100%|██████████| 154/154 [00:01<00:00, 148.18it/s]INFO:absl:Processing 57 events of class type 8.\n",
      "\n",
      "DONE:  56%|█████▌    | 32/57 [00:00<00:00, 82.33it/s]INFO:absl:Processing 27 events of class type 2.\n",
      "DONE: 100%|██████████| 57/57 [00:00<00:00, 118.26it/s]\n",
      "DONE: 100%|██████████| 27/27 [00:00<00:00, 104.42it/s]INFO:absl:Processing 74 events of class type 3.\n",
      "\n",
      "DONE: 100%|██████████| 74/74 [00:00<00:00, 121.59it/s]INFO:absl:Found 9.\n",
      "DONE: 100%|██████████| 74/74 [00:00<00:00, 88.02it/s] \n",
      "INFO:absl:Processing 59 events of class type 0.\n",
      "DONE: 100%|██████████| 59/59 [00:00<00:00, 136.83it/s]\n",
      "INFO:absl:Processing 34 events of class type 4.\n",
      "DONE: 100%|██████████| 34/34 [00:00<00:00, 164.58it/s]\n",
      "INFO:absl:Processing 45 events of class type 5.\n",
      "DONE: 100%|██████████| 45/45 [00:00<00:00, 108.76it/s]\n",
      "INFO:absl:Processing 13 events of class type 1.\n",
      "DONE: 100%|██████████| 13/13 [00:00<00:00, 30.73it/s]\n",
      "INFO:absl:Processing 2 events of class type 7.\n",
      "DONE: 100%|██████████| 2/2 [00:00<00:00,  5.90it/s]\n",
      "INFO:absl:Processing 23 events of class type 6.\n",
      "DONE:  74%|███████▍  | 17/23 [00:00<00:00, 80.88it/s]INFO:absl:Processing 8 events of class type 8.\n",
      "DONE: 100%|██████████| 23/23 [00:00<00:00, 86.93it/s]\n",
      "DONE: 100%|██████████| 8/8 [00:00<00:00, 47.68it/s]INFO:absl:Processing 4 events of class type 2.\n",
      "\n",
      "DONE: 100%|██████████| 4/4 [00:00<00:00, 41.35it/s]INFO:absl:Processing 10 events of class type 3.\n",
      "\n",
      "DONE: 100%|██████████| 10/10 [00:00<00:00, 46.97it/s]\n",
      "INFO:absl:Found 9.\n",
      "INFO:absl:Processing 119 events of class type 0.\n",
      "DONE:  25%|██▌       | 30/119 [00:00<00:01, 61.77it/s]INFO:absl:Processing 69 events of class type 4.\n",
      "DONE: 100%|██████████| 119/119 [00:00<00:00, 189.45it/s]\n",
      "DONE: 100%|██████████| 69/69 [00:00<00:00, 213.09it/s]\n",
      "INFO:absl:Processing 90 events of class type 5.\n",
      "DONE: 100%|██████████| 90/90 [00:00<00:00, 127.41it/s]\n",
      "INFO:absl:Processing 26 events of class type 1.\n",
      "DONE: 100%|██████████| 26/26 [00:00<00:00, 41.46it/s]\n",
      "INFO:absl:Processing 3 events of class type 7.\n",
      "DONE: 100%|██████████| 3/3 [00:00<00:00,  7.92it/s]\n",
      "INFO:absl:Processing 44 events of class type 6.\n",
      "DONE: 100%|██████████| 44/44 [00:00<00:00, 116.86it/s]INFO:absl:Processing 16 events of class type 8.\n",
      "\n",
      "DONE:  94%|█████████▍| 15/16 [00:00<00:00, 76.32it/s]INFO:absl:Processing 7 events of class type 2.\n",
      "DONE: 100%|██████████| 16/16 [00:00<00:00, 67.50it/s]\n",
      "DONE: 100%|██████████| 7/7 [00:00<00:00, 60.62it/s]INFO:absl:Processing 22 events of class type 3.\n",
      "\n",
      "DONE: 100%|██████████| 22/22 [00:00<00:00, 63.44it/s]INFO:absl:Found 9.\n",
      "\n"
     ]
    }
   ],
   "source": [
    "# generates metadata tables for split data\n",
    "train_metadata = rdi.RawDataInspector(\n",
    "    dataset_dir=split_train_dir,\n",
    "    cache_file_path=storage_config.DIR_PROJECT_CACHE / \"train_metadata_all_data.parquet\",\n",
    "    use_cached=False,\n",
    ")\n",
    "validation_metadata = rdi.RawDataInspector(\n",
    "    dataset_dir=split_validation_dir,\n",
    "    cache_file_path=storage_config.DIR_PROJECT_CACHE / \"validation_metadata_all_data.parquet\",\n",
    "    use_cached=False,\n",
    ")\n",
    "test_metadata = rdi.RawDataInspector(\n",
    "    dataset_dir=split_test_dir,\n",
    "    cache_file_path=storage_config.DIR_PROJECT_CACHE / \"test_metadata_all_data.parquet\",\n",
    "    use_cached=False,\n",
    ")"
   ]
  },
  {
   "attachments": {},
   "cell_type": "markdown",
   "metadata": {},
   "source": [
    "Tabela de anomalias por tipo de fonte - treinamento."
   ]
  },
  {
   "cell_type": "code",
   "execution_count": 5,
   "metadata": {},
   "outputs": [
    {
     "data": {
      "text/html": [
       "<div>\n",
       "<style scoped>\n",
       "    .dataframe tbody tr th:only-of-type {\n",
       "        vertical-align: middle;\n",
       "    }\n",
       "\n",
       "    .dataframe tbody tr th {\n",
       "        vertical-align: top;\n",
       "    }\n",
       "\n",
       "    .dataframe thead th {\n",
       "        text-align: right;\n",
       "    }\n",
       "</style>\n",
       "<table border=\"1\" class=\"dataframe\">\n",
       "  <thead>\n",
       "    <tr style=\"text-align: right;\">\n",
       "      <th></th>\n",
       "      <th>real_count</th>\n",
       "      <th>simul_count</th>\n",
       "      <th>drawn_count</th>\n",
       "      <th>soma</th>\n",
       "    </tr>\n",
       "    <tr>\n",
       "      <th>anomaly</th>\n",
       "      <th></th>\n",
       "      <th></th>\n",
       "      <th></th>\n",
       "      <th></th>\n",
       "    </tr>\n",
       "  </thead>\n",
       "  <tbody>\n",
       "    <tr>\n",
       "      <th>NORMAL</th>\n",
       "      <td>416</td>\n",
       "      <td>0</td>\n",
       "      <td>0</td>\n",
       "      <td>416</td>\n",
       "    </tr>\n",
       "    <tr>\n",
       "      <th>ABRUPT_INCREASE_BSW</th>\n",
       "      <td>3</td>\n",
       "      <td>80</td>\n",
       "      <td>7</td>\n",
       "      <td>90</td>\n",
       "    </tr>\n",
       "    <tr>\n",
       "      <th>SPURIOUS_CLOSURE_DHSV</th>\n",
       "      <td>16</td>\n",
       "      <td>11</td>\n",
       "      <td>0</td>\n",
       "      <td>27</td>\n",
       "    </tr>\n",
       "    <tr>\n",
       "      <th>SEVERE_SLUGGING</th>\n",
       "      <td>22</td>\n",
       "      <td>52</td>\n",
       "      <td>0</td>\n",
       "      <td>74</td>\n",
       "    </tr>\n",
       "    <tr>\n",
       "      <th>FLOW_INSTABILITY</th>\n",
       "      <td>241</td>\n",
       "      <td>0</td>\n",
       "      <td>0</td>\n",
       "      <td>241</td>\n",
       "    </tr>\n",
       "    <tr>\n",
       "      <th>RAPID_PRODUCTIVITY_LOSS</th>\n",
       "      <td>8</td>\n",
       "      <td>307</td>\n",
       "      <td>0</td>\n",
       "      <td>315</td>\n",
       "    </tr>\n",
       "    <tr>\n",
       "      <th>QUICK_RESTRICTION_PCK</th>\n",
       "      <td>4</td>\n",
       "      <td>150</td>\n",
       "      <td>0</td>\n",
       "      <td>154</td>\n",
       "    </tr>\n",
       "    <tr>\n",
       "      <th>SCALING_IN_PCK</th>\n",
       "      <td>3</td>\n",
       "      <td>0</td>\n",
       "      <td>7</td>\n",
       "      <td>10</td>\n",
       "    </tr>\n",
       "    <tr>\n",
       "      <th>HYDRATE_IN_PRODUCTION_LINE</th>\n",
       "      <td>0</td>\n",
       "      <td>57</td>\n",
       "      <td>0</td>\n",
       "      <td>57</td>\n",
       "    </tr>\n",
       "    <tr>\n",
       "      <th>Total</th>\n",
       "      <td>713</td>\n",
       "      <td>657</td>\n",
       "      <td>14</td>\n",
       "      <td>1384</td>\n",
       "    </tr>\n",
       "  </tbody>\n",
       "</table>\n",
       "</div>"
      ],
      "text/plain": [
       "                            real_count  simul_count  drawn_count  soma\n",
       "anomaly                                                               \n",
       "NORMAL                             416            0            0   416\n",
       "ABRUPT_INCREASE_BSW                  3           80            7    90\n",
       "SPURIOUS_CLOSURE_DHSV               16           11            0    27\n",
       "SEVERE_SLUGGING                     22           52            0    74\n",
       "FLOW_INSTABILITY                   241            0            0   241\n",
       "RAPID_PRODUCTIVITY_LOSS              8          307            0   315\n",
       "QUICK_RESTRICTION_PCK                4          150            0   154\n",
       "SCALING_IN_PCK                       3            0            7    10\n",
       "HYDRATE_IN_PRODUCTION_LINE           0           57            0    57\n",
       "Total                              713          657           14  1384"
      ]
     },
     "execution_count": 5,
     "metadata": {},
     "output_type": "execute_result"
    }
   ],
   "source": [
    "rdi.RawDataInspector.generate_table_by_anomaly_source(train_metadata.get_metadata_table())"
   ]
  },
  {
   "attachments": {},
   "cell_type": "markdown",
   "metadata": {},
   "source": [
    "Tabela de anomalias por tipo de fonte - validação."
   ]
  },
  {
   "cell_type": "code",
   "execution_count": 6,
   "metadata": {},
   "outputs": [
    {
     "data": {
      "text/html": [
       "<div>\n",
       "<style scoped>\n",
       "    .dataframe tbody tr th:only-of-type {\n",
       "        vertical-align: middle;\n",
       "    }\n",
       "\n",
       "    .dataframe tbody tr th {\n",
       "        vertical-align: top;\n",
       "    }\n",
       "\n",
       "    .dataframe thead th {\n",
       "        text-align: right;\n",
       "    }\n",
       "</style>\n",
       "<table border=\"1\" class=\"dataframe\">\n",
       "  <thead>\n",
       "    <tr style=\"text-align: right;\">\n",
       "      <th></th>\n",
       "      <th>real_count</th>\n",
       "      <th>simul_count</th>\n",
       "      <th>drawn_count</th>\n",
       "      <th>soma</th>\n",
       "    </tr>\n",
       "    <tr>\n",
       "      <th>anomaly</th>\n",
       "      <th></th>\n",
       "      <th></th>\n",
       "      <th></th>\n",
       "      <th></th>\n",
       "    </tr>\n",
       "  </thead>\n",
       "  <tbody>\n",
       "    <tr>\n",
       "      <th>NORMAL</th>\n",
       "      <td>59</td>\n",
       "      <td>0</td>\n",
       "      <td>0</td>\n",
       "      <td>59</td>\n",
       "    </tr>\n",
       "    <tr>\n",
       "      <th>ABRUPT_INCREASE_BSW</th>\n",
       "      <td>1</td>\n",
       "      <td>11</td>\n",
       "      <td>1</td>\n",
       "      <td>13</td>\n",
       "    </tr>\n",
       "    <tr>\n",
       "      <th>SPURIOUS_CLOSURE_DHSV</th>\n",
       "      <td>2</td>\n",
       "      <td>2</td>\n",
       "      <td>0</td>\n",
       "      <td>4</td>\n",
       "    </tr>\n",
       "    <tr>\n",
       "      <th>SEVERE_SLUGGING</th>\n",
       "      <td>3</td>\n",
       "      <td>7</td>\n",
       "      <td>0</td>\n",
       "      <td>10</td>\n",
       "    </tr>\n",
       "    <tr>\n",
       "      <th>FLOW_INSTABILITY</th>\n",
       "      <td>34</td>\n",
       "      <td>0</td>\n",
       "      <td>0</td>\n",
       "      <td>34</td>\n",
       "    </tr>\n",
       "    <tr>\n",
       "      <th>RAPID_PRODUCTIVITY_LOSS</th>\n",
       "      <td>1</td>\n",
       "      <td>44</td>\n",
       "      <td>0</td>\n",
       "      <td>45</td>\n",
       "    </tr>\n",
       "    <tr>\n",
       "      <th>QUICK_RESTRICTION_PCK</th>\n",
       "      <td>1</td>\n",
       "      <td>22</td>\n",
       "      <td>0</td>\n",
       "      <td>23</td>\n",
       "    </tr>\n",
       "    <tr>\n",
       "      <th>SCALING_IN_PCK</th>\n",
       "      <td>1</td>\n",
       "      <td>0</td>\n",
       "      <td>1</td>\n",
       "      <td>2</td>\n",
       "    </tr>\n",
       "    <tr>\n",
       "      <th>HYDRATE_IN_PRODUCTION_LINE</th>\n",
       "      <td>0</td>\n",
       "      <td>8</td>\n",
       "      <td>0</td>\n",
       "      <td>8</td>\n",
       "    </tr>\n",
       "    <tr>\n",
       "      <th>Total</th>\n",
       "      <td>102</td>\n",
       "      <td>94</td>\n",
       "      <td>2</td>\n",
       "      <td>198</td>\n",
       "    </tr>\n",
       "  </tbody>\n",
       "</table>\n",
       "</div>"
      ],
      "text/plain": [
       "                            real_count  simul_count  drawn_count  soma\n",
       "anomaly                                                               \n",
       "NORMAL                              59            0            0    59\n",
       "ABRUPT_INCREASE_BSW                  1           11            1    13\n",
       "SPURIOUS_CLOSURE_DHSV                2            2            0     4\n",
       "SEVERE_SLUGGING                      3            7            0    10\n",
       "FLOW_INSTABILITY                    34            0            0    34\n",
       "RAPID_PRODUCTIVITY_LOSS              1           44            0    45\n",
       "QUICK_RESTRICTION_PCK                1           22            0    23\n",
       "SCALING_IN_PCK                       1            0            1     2\n",
       "HYDRATE_IN_PRODUCTION_LINE           0            8            0     8\n",
       "Total                              102           94            2   198"
      ]
     },
     "execution_count": 6,
     "metadata": {},
     "output_type": "execute_result"
    }
   ],
   "source": [
    "rdi.RawDataInspector.generate_table_by_anomaly_source(validation_metadata.get_metadata_table())"
   ]
  },
  {
   "attachments": {},
   "cell_type": "markdown",
   "metadata": {},
   "source": [
    "Tabela de anomalias por tipo de fonte - teste."
   ]
  },
  {
   "cell_type": "code",
   "execution_count": 7,
   "metadata": {},
   "outputs": [
    {
     "data": {
      "text/html": [
       "<div>\n",
       "<style scoped>\n",
       "    .dataframe tbody tr th:only-of-type {\n",
       "        vertical-align: middle;\n",
       "    }\n",
       "\n",
       "    .dataframe tbody tr th {\n",
       "        vertical-align: top;\n",
       "    }\n",
       "\n",
       "    .dataframe thead th {\n",
       "        text-align: right;\n",
       "    }\n",
       "</style>\n",
       "<table border=\"1\" class=\"dataframe\">\n",
       "  <thead>\n",
       "    <tr style=\"text-align: right;\">\n",
       "      <th></th>\n",
       "      <th>real_count</th>\n",
       "      <th>simul_count</th>\n",
       "      <th>drawn_count</th>\n",
       "      <th>soma</th>\n",
       "    </tr>\n",
       "    <tr>\n",
       "      <th>anomaly</th>\n",
       "      <th></th>\n",
       "      <th></th>\n",
       "      <th></th>\n",
       "      <th></th>\n",
       "    </tr>\n",
       "  </thead>\n",
       "  <tbody>\n",
       "    <tr>\n",
       "      <th>NORMAL</th>\n",
       "      <td>119</td>\n",
       "      <td>0</td>\n",
       "      <td>0</td>\n",
       "      <td>119</td>\n",
       "    </tr>\n",
       "    <tr>\n",
       "      <th>ABRUPT_INCREASE_BSW</th>\n",
       "      <td>1</td>\n",
       "      <td>23</td>\n",
       "      <td>2</td>\n",
       "      <td>26</td>\n",
       "    </tr>\n",
       "    <tr>\n",
       "      <th>SPURIOUS_CLOSURE_DHSV</th>\n",
       "      <td>4</td>\n",
       "      <td>3</td>\n",
       "      <td>0</td>\n",
       "      <td>7</td>\n",
       "    </tr>\n",
       "    <tr>\n",
       "      <th>SEVERE_SLUGGING</th>\n",
       "      <td>7</td>\n",
       "      <td>15</td>\n",
       "      <td>0</td>\n",
       "      <td>22</td>\n",
       "    </tr>\n",
       "    <tr>\n",
       "      <th>FLOW_INSTABILITY</th>\n",
       "      <td>69</td>\n",
       "      <td>0</td>\n",
       "      <td>0</td>\n",
       "      <td>69</td>\n",
       "    </tr>\n",
       "    <tr>\n",
       "      <th>RAPID_PRODUCTIVITY_LOSS</th>\n",
       "      <td>2</td>\n",
       "      <td>88</td>\n",
       "      <td>0</td>\n",
       "      <td>90</td>\n",
       "    </tr>\n",
       "    <tr>\n",
       "      <th>QUICK_RESTRICTION_PCK</th>\n",
       "      <td>1</td>\n",
       "      <td>43</td>\n",
       "      <td>0</td>\n",
       "      <td>44</td>\n",
       "    </tr>\n",
       "    <tr>\n",
       "      <th>SCALING_IN_PCK</th>\n",
       "      <td>1</td>\n",
       "      <td>0</td>\n",
       "      <td>2</td>\n",
       "      <td>3</td>\n",
       "    </tr>\n",
       "    <tr>\n",
       "      <th>HYDRATE_IN_PRODUCTION_LINE</th>\n",
       "      <td>0</td>\n",
       "      <td>16</td>\n",
       "      <td>0</td>\n",
       "      <td>16</td>\n",
       "    </tr>\n",
       "    <tr>\n",
       "      <th>Total</th>\n",
       "      <td>204</td>\n",
       "      <td>188</td>\n",
       "      <td>4</td>\n",
       "      <td>396</td>\n",
       "    </tr>\n",
       "  </tbody>\n",
       "</table>\n",
       "</div>"
      ],
      "text/plain": [
       "                            real_count  simul_count  drawn_count  soma\n",
       "anomaly                                                               \n",
       "NORMAL                             119            0            0   119\n",
       "ABRUPT_INCREASE_BSW                  1           23            2    26\n",
       "SPURIOUS_CLOSURE_DHSV                4            3            0     7\n",
       "SEVERE_SLUGGING                      7           15            0    22\n",
       "FLOW_INSTABILITY                    69            0            0    69\n",
       "RAPID_PRODUCTIVITY_LOSS              2           88            0    90\n",
       "QUICK_RESTRICTION_PCK                1           43            0    44\n",
       "SCALING_IN_PCK                       1            0            2     3\n",
       "HYDRATE_IN_PRODUCTION_LINE           0           16            0    16\n",
       "Total                              204          188            4   396"
      ]
     },
     "execution_count": 7,
     "metadata": {},
     "output_type": "execute_result"
    }
   ],
   "source": [
    "rdi.RawDataInspector.generate_table_by_anomaly_source(test_metadata.get_metadata_table())"
   ]
  },
  {
   "attachments": {},
   "cell_type": "markdown",
   "metadata": {},
   "source": [
    "# Procesamento de dados"
   ]
  },
  {
   "attachments": {},
   "cell_type": "markdown",
   "metadata": {},
   "source": [
    "Remoção de valores extremos."
   ]
  },
  {
   "cell_type": "code",
   "execution_count": 8,
   "metadata": {},
   "outputs": [
    {
     "name": "stderr",
     "output_type": "stream",
     "text": [
      "DONE: 100%|██████████| 1384/1384 [00:16<00:00, 84.53it/s]\n"
     ]
    },
    {
     "data": {
      "text/plain": [
       "[681, 702, 821, 1054, 1068, 1285, 1290, 1297, 1301]"
      ]
     },
     "execution_count": 8,
     "metadata": {},
     "output_type": "execute_result"
    }
   ],
   "source": [
    "from parallelbar import progress_map\n",
    "\n",
    "def is_event_path_values_valid(event_path):\n",
    "    event = rda.get_event(event_path)\n",
    "    return TransformationManager.is_event_values_valid(event)\n",
    "\n",
    "valid_index_list = progress_map(is_event_path_values_valid, train_metadata.get_metadata_table()['path'].to_list())\n",
    "\n",
    "non_valid_ids = [index for index, value in enumerate(valid_index_list) if value == False]\n",
    "non_valid_ids"
   ]
  },
  {
   "cell_type": "code",
   "execution_count": 9,
   "metadata": {},
   "outputs": [
    {
     "name": "stdout",
     "output_type": "stream",
     "text": [
      "stating size is: 1384\n",
      "final size is: 1375\n"
     ]
    }
   ],
   "source": [
    "valid_train_metadata = train_metadata.get_metadata_table().copy()\n",
    "print(\"stating size is:\", len(valid_train_metadata))\n",
    "\n",
    "valid_train_metadata.drop(valid_train_metadata.index[non_valid_ids], inplace=True, axis='index')\n",
    "print(\"final size is:\", len(valid_train_metadata))"
   ]
  },
  {
   "attachments": {},
   "cell_type": "markdown",
   "metadata": {},
   "source": [
    "Calcular valores da média dos valores e do desvio padrão."
   ]
  },
  {
   "cell_type": "code",
   "execution_count": 10,
   "metadata": {},
   "outputs": [
    {
     "name": "stderr",
     "output_type": "stream",
     "text": [
      "DONE: 100%|██████████| 1375/1375 [00:07<00:00, 187.10it/s]\n",
      "DEBUG:absl:Mean of means was adquired\n",
      "             P-PDG         P-TPT       T-TPT     P-MON-CKP   T-JUS-CKP  \\\n",
      "0     0.000000e+00  8.715824e+06  117.581821  1.539264e+06   77.332955   \n",
      "1     4.203851e+07  1.806945e+07  118.569073  2.492268e+06   79.545939   \n",
      "2     4.485805e+07  2.114707e+07  116.569785  1.224582e+07   61.885166   \n",
      "3     0.000000e+00  2.078830e+07  106.345925  1.150086e+07   67.224899   \n",
      "4     0.000000e+00  7.431188e+06  115.475035  1.654020e+06   68.952580   \n",
      "...            ...           ...         ...           ...         ...   \n",
      "1370  2.424625e+07  1.511253e+07   44.579236  2.051035e+06   26.684643   \n",
      "1371  1.539201e+07  8.925425e+06  120.387588  4.042629e+06   94.437207   \n",
      "1372  2.077121e+07  1.138257e+07  119.183729  4.102729e+06   88.286792   \n",
      "1373  1.660494e+07  9.154420e+06  122.202564  4.044520e+06  101.257945   \n",
      "1374  1.898863e+07  1.076657e+07  116.316665  4.090173e+06   78.424427   \n",
      "\n",
      "        P-JUS-CKGL       QGL  \n",
      "0     2.320418e+06  0.000000  \n",
      "1     6.233022e+06  0.000000  \n",
      "2     1.446720e+05  0.000000  \n",
      "3     1.326475e+09       NaN  \n",
      "4     2.330222e+06  0.000000  \n",
      "...            ...       ...  \n",
      "1370  1.865296e+07  1.154268  \n",
      "1371           NaN       NaN  \n",
      "1372           NaN       NaN  \n",
      "1373           NaN       NaN  \n",
      "1374           NaN       NaN  \n",
      "\n",
      "[1375 rows x 7 columns]\n",
      "DEBUG:absl:Processed means was adquired\n",
      "P-PDG         1.647858e+07\n",
      "P-TPT         1.517916e+07\n",
      "T-TPT         1.061071e+02\n",
      "P-MON-CKP     4.741109e+06\n",
      "T-JUS-CKP     7.889183e+01\n",
      "P-JUS-CKGL    3.574706e+08\n",
      "QGL           2.570021e-01\n",
      "dtype: float64\n",
      "DONE: 100%|██████████| 1375/1375 [00:08<00:00, 171.31it/s]\n",
      "DEBUG:absl:Mean of stds was adquired\n",
      "             P-PDG         P-TPT      T-TPT     P-MON-CKP  T-JUS-CKP  \\\n",
      "0     1.647904e+07  6.463903e+06  11.478982  3.212530e+06   1.727077   \n",
      "1     2.701387e+07  2.890380e+06  12.462322  2.248905e+06   0.654169   \n",
      "2     2.838026e+07  5.968078e+06  10.462980  7.504916e+06  17.007236   \n",
      "3     1.647904e+07  5.609292e+06   0.240751  6.759939e+06  11.667263   \n",
      "4     1.647904e+07  7.748507e+06   9.369548  3.095773e+06   9.971827   \n",
      "...            ...           ...        ...           ...        ...   \n",
      "1370  7.776290e+06  1.085233e+06  62.735812  3.047972e+06  52.606847   \n",
      "1371  1.278025e+06  6.280455e+06  14.289148  6.988569e+05  15.673318   \n",
      "1372  4.494980e+06  4.038515e+06  13.110020  6.441687e+05   9.821022   \n",
      "1373  7.071998e+05  6.052875e+06  16.097921  6.969077e+05  22.403965   \n",
      "1374  2.736071e+06  4.562892e+06  10.304955  6.571536e+05   4.655479   \n",
      "\n",
      "        P-JUS-CKGL       QGL  \n",
      "0     3.551601e+08  0.257009  \n",
      "1     3.512474e+08  0.257009  \n",
      "2     3.573359e+08  0.257009  \n",
      "3     9.690322e+08 -0.000000  \n",
      "4     3.551503e+08  0.257009  \n",
      "...            ...       ...  \n",
      "1370  3.388336e+08  1.066863  \n",
      "1371 -0.000000e+00 -0.000000  \n",
      "1372 -0.000000e+00 -0.000000  \n",
      "1373 -0.000000e+00 -0.000000  \n",
      "1374 -0.000000e+00 -0.000000  \n",
      "\n",
      "[1375 rows x 7 columns]\n",
      "DEBUG:absl:Processed stds was adquired\n",
      "P-PDG         1.203992e+07\n",
      "P-TPT         3.679432e+06\n",
      "T-TPT         1.639070e+01\n",
      "P-MON-CKP     3.069288e+06\n",
      "T-JUS-CKP     1.881297e+01\n",
      "P-JUS-CKGL    2.496955e+08\n",
      "QGL           1.625997e-01\n",
      "dtype: float64\n"
     ]
    },
    {
     "data": {
      "text/html": [
       "<div>\n",
       "<style scoped>\n",
       "    .dataframe tbody tr th:only-of-type {\n",
       "        vertical-align: middle;\n",
       "    }\n",
       "\n",
       "    .dataframe tbody tr th {\n",
       "        vertical-align: top;\n",
       "    }\n",
       "\n",
       "    .dataframe thead th {\n",
       "        text-align: right;\n",
       "    }\n",
       "</style>\n",
       "<table border=\"1\" class=\"dataframe\">\n",
       "  <thead>\n",
       "    <tr style=\"text-align: right;\">\n",
       "      <th></th>\n",
       "      <th>mean_of_means</th>\n",
       "      <th>mean_of_stds</th>\n",
       "    </tr>\n",
       "  </thead>\n",
       "  <tbody>\n",
       "    <tr>\n",
       "      <th>P-PDG</th>\n",
       "      <td>1.647858e+07</td>\n",
       "      <td>1.203992e+07</td>\n",
       "    </tr>\n",
       "    <tr>\n",
       "      <th>P-TPT</th>\n",
       "      <td>1.517916e+07</td>\n",
       "      <td>3.679432e+06</td>\n",
       "    </tr>\n",
       "    <tr>\n",
       "      <th>T-TPT</th>\n",
       "      <td>1.061071e+02</td>\n",
       "      <td>1.639070e+01</td>\n",
       "    </tr>\n",
       "    <tr>\n",
       "      <th>P-MON-CKP</th>\n",
       "      <td>4.741109e+06</td>\n",
       "      <td>3.069288e+06</td>\n",
       "    </tr>\n",
       "    <tr>\n",
       "      <th>T-JUS-CKP</th>\n",
       "      <td>7.889183e+01</td>\n",
       "      <td>1.881297e+01</td>\n",
       "    </tr>\n",
       "    <tr>\n",
       "      <th>P-JUS-CKGL</th>\n",
       "      <td>3.574706e+08</td>\n",
       "      <td>2.496955e+08</td>\n",
       "    </tr>\n",
       "    <tr>\n",
       "      <th>QGL</th>\n",
       "      <td>2.570021e-01</td>\n",
       "      <td>1.625997e-01</td>\n",
       "    </tr>\n",
       "  </tbody>\n",
       "</table>\n",
       "</div>"
      ],
      "text/plain": [
       "            mean_of_means  mean_of_stds\n",
       "P-PDG        1.647858e+07  1.203992e+07\n",
       "P-TPT        1.517916e+07  3.679432e+06\n",
       "T-TPT        1.061071e+02  1.639070e+01\n",
       "P-MON-CKP    4.741109e+06  3.069288e+06\n",
       "T-JUS-CKP    7.889183e+01  1.881297e+01\n",
       "P-JUS-CKGL   3.574706e+08  2.496955e+08\n",
       "QGL          2.570021e-01  1.625997e-01"
      ]
     },
     "execution_count": 10,
     "metadata": {},
     "output_type": "execute_result"
    }
   ],
   "source": [
    "from data_exploration.metric_acquisition import MetricAcquisition\n",
    "\n",
    "cache_file_name = \"all_data_metrics\"\n",
    "\n",
    "metric_aquisition = MetricAcquisition(valid_train_metadata)\n",
    "mean_and_std_metric_table = metric_aquisition.get_mean_and_std_metric(\n",
    "    cache_file_name=cache_file_name,\n",
    "    use_cache=False\n",
    ")\n",
    "\n",
    "mean_metric_list = mean_and_std_metric_table['mean_of_means']\n",
    "std_metric_list = mean_and_std_metric_table['mean_of_stds']\n",
    "mean_and_std_metric_table"
   ]
  },
  {
   "attachments": {},
   "cell_type": "markdown",
   "metadata": {},
   "source": [
    "Realizar a transformação dos dados."
   ]
  },
  {
   "cell_type": "code",
   "execution_count": 11,
   "metadata": {},
   "outputs": [],
   "source": [
    "selected_variables = [\"P-PDG\", \"P-TPT\", \"T-TPT\", \"P-MON-CKP\", \n",
    "                      \"T-JUS-CKP\", \"P-JUS-CKGL\", \"class\"]\n",
    "transformation_param_sample_interval_seconds=60\n",
    "transformation_param_num_timesteps_for_window=20"
   ]
  },
  {
   "attachments": {},
   "cell_type": "markdown",
   "metadata": {},
   "source": [
    "Transformar conjunto de dados para treinamento."
   ]
  },
  {
   "cell_type": "code",
   "execution_count": 12,
   "metadata": {},
   "outputs": [
    {
     "name": "stderr",
     "output_type": "stream",
     "text": [
      "DEBUG:absl:TransformationManager initialized with 1375 items.\n",
      "            Folder name is dataset_converted_v10101_split-20_source-all_class-all_well-all_train.\n",
      "DONE: 100%|██████████| 1375/1375 [00:23<00:00, 57.73it/s]\n"
     ]
    }
   ],
   "source": [
    "train_tranformed_folder_name = split_train_dir.name\n",
    "\n",
    "train_transformation_manager = TransformationManager(\n",
    "    valid_train_metadata, \n",
    "    output_folder_base_name=train_tranformed_folder_name\n",
    ")\n",
    "\n",
    "train_transformation_manager.apply_transformations_to_table(\n",
    "    output_parent_dir=storage_config.DIR_PROJECT_DATA,\n",
    "    selected_variables=selected_variables,\n",
    "    sample_interval_seconds=transformation_param_sample_interval_seconds,\n",
    "    num_timesteps_for_window=transformation_param_num_timesteps_for_window,\n",
    "    avg_variable_mean=mean_metric_list,\n",
    "    avg_variable_std_dev=std_metric_list,\n",
    ")"
   ]
  },
  {
   "attachments": {},
   "cell_type": "markdown",
   "metadata": {},
   "source": [
    "Transformar conjunto de dados para validação."
   ]
  },
  {
   "cell_type": "code",
   "execution_count": 13,
   "metadata": {},
   "outputs": [
    {
     "name": "stderr",
     "output_type": "stream",
     "text": [
      "DEBUG:absl:TransformationManager initialized with 198 items.\n",
      "            Folder name is dataset_converted_v10101_split-20_source-all_class-all_well-all_validation.\n",
      "DONE: 100%|██████████| 198/198 [00:03<00:00, 52.55it/s]\n"
     ]
    }
   ],
   "source": [
    "validation_tranformed_folder_name = split_validation_dir.name\n",
    "\n",
    "validation_transformation_manager = TransformationManager(\n",
    "    validation_metadata.get_metadata_table(), \n",
    "    output_folder_base_name=validation_tranformed_folder_name\n",
    ")\n",
    "\n",
    "validation_transformation_manager.apply_transformations_to_table(\n",
    "    output_parent_dir=storage_config.DIR_PROJECT_DATA,\n",
    "    selected_variables=selected_variables,\n",
    "    sample_interval_seconds=transformation_param_sample_interval_seconds,\n",
    "    num_timesteps_for_window=transformation_param_num_timesteps_for_window,\n",
    "    avg_variable_mean=mean_metric_list,\n",
    "    avg_variable_std_dev=std_metric_list,\n",
    ")"
   ]
  },
  {
   "attachments": {},
   "cell_type": "markdown",
   "metadata": {},
   "source": [
    "Transformar conjunto de dados para testagem."
   ]
  },
  {
   "cell_type": "code",
   "execution_count": 14,
   "metadata": {},
   "outputs": [
    {
     "name": "stderr",
     "output_type": "stream",
     "text": [
      "DEBUG:absl:TransformationManager initialized with 396 items.\n",
      "            Folder name is dataset_converted_v10101_split-20_source-all_class-all_well-all_test.\n",
      "DONE:  73%|███████▎  | 288/396 [00:04<00:02, 49.95it/s]INFO:absl:Skipping the following event due to invalid data: /home/ubuntu/lemi_3w/data/dataset_converted_v10101_split-20_source-all_class-all_well-all_test/7/WELL-00006_20180620155728.parquet\n",
      "DONE: 100%|██████████| 396/396 [00:07<00:00, 52.11it/s]\n"
     ]
    }
   ],
   "source": [
    "test_tranformed_folder_name = split_test_dir.name\n",
    "\n",
    "test_transformation_manager = TransformationManager(\n",
    "    test_metadata.get_metadata_table(),\n",
    "    output_folder_base_name=test_tranformed_folder_name\n",
    ")\n",
    "\n",
    "test_transformation_manager.apply_transformations_to_table(\n",
    "    output_parent_dir=storage_config.DIR_PROJECT_DATA,\n",
    "    selected_variables=selected_variables,\n",
    "    sample_interval_seconds=transformation_param_sample_interval_seconds,\n",
    "    num_timesteps_for_window=transformation_param_num_timesteps_for_window,\n",
    "    avg_variable_mean=mean_metric_list,\n",
    "    avg_variable_std_dev=std_metric_list,\n",
    ")"
   ]
  },
  {
   "attachments": {},
   "cell_type": "markdown",
   "metadata": {},
   "source": [
    "# Verificação dos dados\n",
    "\n",
    "Garantir que os dados processados estão dentro das especificações esperadas."
   ]
  },
  {
   "attachments": {},
   "cell_type": "markdown",
   "metadata": {},
   "source": [
    "Obter lista dos arquivos a serem usados no treinamento, validação e testagem."
   ]
  },
  {
   "cell_type": "code",
   "execution_count": 15,
   "metadata": {},
   "outputs": [
    {
     "name": "stderr",
     "output_type": "stream",
     "text": [
      "INFO:absl:Processing 416 events of class type 0.\n",
      "DONE: 100%|██████████| 416/416 [00:00<00:00, 2786.70it/s]\n",
      "INFO:absl:Processing 241 events of class type 4.\n",
      "DONE: 100%|██████████| 241/241 [00:00<00:00, 1850.80it/s]\n",
      "INFO:absl:Processing 312 events of class type 5.\n",
      "DONE:   0%|          | 0/312 [00:00<?, ?it/s]INFO:absl:Processing 89 events of class type 1.\n",
      "DONE: 100%|██████████| 312/312 [00:00<00:00, 2471.80it/s]\n",
      "DONE: 100%|██████████| 89/89 [00:00<00:00, 724.90it/s]\n",
      "INFO:absl:Processing 9 events of class type 7.\n",
      "DONE: 100%|██████████| 9/9 [00:00<00:00, 101.83it/s]\n",
      "INFO:absl:Processing 154 events of class type 6.\n",
      "DONE: 100%|██████████| 154/154 [00:00<00:00, 1005.11it/s]INFO:absl:Processing 57 events of class type 8.\n",
      "\n",
      "DONE:   0%|          | 0/57 [00:00<?, ?it/s]INFO:absl:Processing 23 events of class type 2.\n",
      "DONE: 100%|██████████| 57/57 [00:00<00:00, 554.90it/s]\n",
      "DONE:   0%|          | 0/23 [00:00<?, ?it/s]INFO:absl:Processing 74 events of class type 3.\n",
      "DONE: 100%|██████████| 23/23 [00:00<00:00, 200.61it/s]\n",
      "DONE:   0%|          | 0/74 [00:00<?, ?it/s]INFO:absl:Found 9.\n",
      "DONE: 100%|██████████| 74/74 [00:00<00:00, 604.45it/s]\n",
      "INFO:absl:Processing 59 events of class type 0.\n",
      "DONE: 100%|██████████| 59/59 [00:00<00:00, 421.18it/s]INFO:absl:Processing 34 events of class type 4.\n",
      "\n",
      "DONE: 100%|██████████| 34/34 [00:00<00:00, 264.06it/s]INFO:absl:Processing 45 events of class type 5.\n",
      "\n",
      "DONE: 100%|██████████| 45/45 [00:00<00:00, 308.15it/s]\n",
      "INFO:absl:Processing 13 events of class type 1.\n",
      "DONE: 100%|██████████| 13/13 [00:00<00:00, 101.68it/s]\n",
      "INFO:absl:Processing 2 events of class type 7.\n",
      "DONE:   0%|          | 0/2 [00:00<?, ?it/s]INFO:absl:Processing 23 events of class type 6.\n",
      "DONE: 100%|██████████| 2/2 [00:00<00:00, 17.69it/s]\n",
      "DONE: 100%|██████████| 23/23 [00:00<00:00, 220.14it/s]\n",
      "INFO:absl:Processing 8 events of class type 8.\n",
      "DONE: 100%|██████████| 8/8 [00:00<00:00, 90.67it/s]\n",
      "INFO:absl:Processing 4 events of class type 2.\n",
      "DONE: 100%|██████████| 4/4 [00:00<00:00, 46.22it/s]\n",
      "INFO:absl:Processing 10 events of class type 3.\n",
      "DONE: 100%|██████████| 10/10 [00:00<00:00, 92.86it/s]INFO:absl:Found 9.\n",
      "\n",
      "INFO:absl:Processing 119 events of class type 0.\n",
      "DONE: 100%|██████████| 119/119 [00:00<00:00, 941.09it/s]\n",
      "INFO:absl:Processing 69 events of class type 4.\n",
      "DONE: 100%|██████████| 69/69 [00:00<00:00, 768.73it/s]\n",
      "INFO:absl:Processing 90 events of class type 5.\n",
      "DONE: 100%|██████████| 90/90 [00:00<00:00, 784.88it/s]INFO:absl:Processing 26 events of class type 1.\n",
      "DONE: 100%|██████████| 90/90 [00:00<00:00, 762.59it/s]\n",
      "DONE: 100%|██████████| 26/26 [00:00<00:00, 230.03it/s]INFO:absl:Processing 2 events of class type 7.\n",
      "DONE: 100%|██████████| 26/26 [00:00<00:00, 225.59it/s]\n",
      "DONE: 100%|██████████| 2/2 [00:00<00:00, 24.26it/s]\n",
      "INFO:absl:Processing 44 events of class type 6.\n",
      "DONE: 100%|██████████| 44/44 [00:00<00:00, 390.88it/s]INFO:absl:Processing 16 events of class type 8.\n",
      "\n",
      "DONE: 100%|██████████| 16/16 [00:00<00:00, 143.47it/s]INFO:absl:Processing 7 events of class type 2.\n",
      "\n",
      "DONE: 100%|██████████| 7/7 [00:00<00:00, 82.53it/s]\n",
      "INFO:absl:Processing 22 events of class type 3.\n",
      "DONE: 100%|██████████| 22/22 [00:00<00:00, 223.81it/s]INFO:absl:Found 9.\n",
      "\n"
     ]
    }
   ],
   "source": [
    "# Get transformed files paths\n",
    "TRANSFORMATION_NAME_PREFIX = \"transform-isdt-\"\n",
    "train_tranformed_dataset_dir = storage_config.DIR_PROJECT_DATA / (TRANSFORMATION_NAME_PREFIX + train_tranformed_folder_name)\n",
    "validation_tranformed_dataset_dir = storage_config.DIR_PROJECT_DATA / (TRANSFORMATION_NAME_PREFIX + validation_tranformed_folder_name)\n",
    "test_tranformed_dataset_dir = storage_config.DIR_PROJECT_DATA / (TRANSFORMATION_NAME_PREFIX + test_tranformed_folder_name)\n",
    "\n",
    "# Generate inspectors for the transformed data\n",
    "train_inspector_converted = rdi.RawDataInspector(\n",
    "    train_tranformed_dataset_dir,\n",
    "    storage_config.DIR_PROJECT_CACHE / \"all_wells_transformed-train.parquet\",\n",
    "    use_cached=False\n",
    ")\n",
    "validation_inspector_transformed = rdi.RawDataInspector(\n",
    "    validation_tranformed_dataset_dir,\n",
    "    storage_config.DIR_PROJECT_CACHE / \"all_wells_transformed-validation.parquet\",\n",
    "    use_cached=False\n",
    ")\n",
    "test_inspector_transformed = rdi.RawDataInspector(\n",
    "    test_tranformed_dataset_dir,\n",
    "    storage_config.DIR_PROJECT_CACHE / \"all_wells_transformed-test.parquet\",\n",
    "    use_cached=False\n",
    ")\n",
    "\n",
    "# Get list of paths for the events in each of the data groups (train, val, test)\n",
    "train_metadata_converted = train_inspector_converted.get_metadata_table()\n",
    "train_transformed_file_path_list = train_metadata_converted[\"path\"].to_list()\n",
    "\n",
    "validation_metadata_transformed = validation_inspector_transformed.get_metadata_table()\n",
    "validation_transformed_file_path_list = validation_metadata_transformed[\"path\"].to_list()\n",
    "\n",
    "test_metadata_transformed = test_inspector_transformed.get_metadata_table()\n",
    "test_transformed_file_path_list = test_metadata_transformed[\"path\"].to_list()\n",
    "\n",
    "# shuffle\n",
    "random.shuffle(train_transformed_file_path_list)\n",
    "random.shuffle(validation_transformed_file_path_list)\n",
    "random.shuffle(test_transformed_file_path_list)"
   ]
  },
  {
   "attachments": {},
   "cell_type": "markdown",
   "metadata": {},
   "source": [
    "Exemplo de um par X, y."
   ]
  },
  {
   "cell_type": "code",
   "execution_count": 16,
   "metadata": {},
   "outputs": [
    {
     "data": {
      "text/plain": [
       "(array([[ 0.41017792, -0.1297211 ,  1.00273057, -1.1193997 ,  0.25282583,\n",
       "         -1.43162653],\n",
       "        [ 0.41018363, -0.12970081,  1.00273098, -1.11939882,  0.25279022,\n",
       "         -1.43162653],\n",
       "        [ 0.41018898, -0.12968142,  1.00272925, -1.11939808,  0.25275797,\n",
       "         -1.43162653],\n",
       "        [ 0.41019401, -0.12966321,  1.00272844, -1.11939742,  0.25272935,\n",
       "         -1.43162653],\n",
       "        [ 0.41019873, -0.12964659,  1.00272691, -1.11939671,  0.25270393,\n",
       "         -1.43162653],\n",
       "        [ 0.41020324, -0.12963006,  1.00272488, -1.11939592,  0.25268074,\n",
       "         -1.43162653],\n",
       "        [ 0.41020752, -0.1296147 ,  1.00272427, -1.11939503,  0.25265843,\n",
       "         -1.43162653],\n",
       "        [ 0.41021163, -0.12959989,  1.0027263 , -1.11939406,  0.25263596,\n",
       "         -1.43162653],\n",
       "        [ 0.410131  , -0.12963771,  1.00270596, -1.11939309,  0.25261255,\n",
       "         -1.43162653],\n",
       "        [ 0.40934244, -0.13053867,  1.00245287, -1.11939215,  0.25258807,\n",
       "         -1.43162653],\n",
       "        [ 0.40811333, -0.13247873,  1.00199662, -1.11939151,  0.25256244,\n",
       "         -1.43162653],\n",
       "        [ 0.40669606, -0.13503365,  1.00140828, -1.11939253,  0.25253357,\n",
       "         -1.43162653],\n",
       "        [ 0.40514756, -0.13802931,  1.00072273, -1.11939803,  0.25249477,\n",
       "         -1.43162653],\n",
       "        [ 0.40349373, -0.1413753 ,  0.99996061, -1.11941019,  0.25243482,\n",
       "         -1.43162653],\n",
       "        [ 0.4017527 , -0.14501228,  0.99916707, -1.11942995,  0.25234274,\n",
       "         -1.43162653],\n",
       "        [ 0.39993615, -0.14889934,  0.99838715, -1.11945528,  0.25220618,\n",
       "         -1.43162653],\n",
       "        [ 0.3980509 , -0.1530074 ,  0.99765035, -1.11948316,  0.25199488,\n",
       "         -1.43162653],\n",
       "        [ 0.39610001, -0.15731314,  0.99696175, -1.11951421,  0.25166012,\n",
       "         -1.43162653],\n",
       "        [ 0.39409022, -0.16180459,  0.99630803, -1.11955344,  0.25115795,\n",
       "         -1.43162653],\n",
       "        [ 0.39202638, -0.16647302,  0.99567718, -1.11960205,  0.25047279,\n",
       "         -1.43162653]]),\n",
       " array([0, 0, 0, 0, 0, 1, 0, 0, 0]))"
      ]
     },
     "execution_count": 16,
     "metadata": {},
     "output_type": "execute_result"
    }
   ],
   "source": [
    "example_transformed_file_path = train_transformed_file_path_list[0]\n",
    "X_transformed_ex, y_transformed_ex = TransformationManager.retrieve_pair_array(pathlib.Path(example_transformed_file_path))\n",
    "\n",
    "X_transformed_ex[0], y_transformed_ex[0]"
   ]
  },
  {
   "attachments": {},
   "cell_type": "markdown",
   "metadata": {},
   "source": [
    "Verificar valores mínimos e máximos dos dados."
   ]
  },
  {
   "cell_type": "code",
   "execution_count": 17,
   "metadata": {},
   "outputs": [],
   "source": [
    "X_min_list = []\n",
    "X_max_list = []\n",
    "y_avg = []\n",
    "\n",
    "for path in train_transformed_file_path_list:\n",
    "    X, y = TransformationManager.retrieve_pair_array(pathlib.Path(path))\n",
    "    X_min_list.append(np.min(np.min(X, axis=0), axis=0))\n",
    "    X_max_list.append(np.max(np.max(X, axis=0), axis=0))\n",
    "    y_avg.append(np.sum(y, axis=0) / len(y))\n",
    "\n",
    "X_min_list = np.array(X_min_list)\n",
    "X_max_list = np.array(X_max_list)\n",
    "y_avg = np.array(y_avg)"
   ]
  },
  {
   "cell_type": "code",
   "execution_count": 18,
   "metadata": {},
   "outputs": [
    {
     "name": "stdout",
     "output_type": "stream",
     "text": [
      "Minimum minimum values:\n",
      " [-10.71080204  -4.12540926  -6.473617    -1.54469333  -4.28256808\n",
      "  -1.43361965]\n",
      "\n",
      "\n",
      "Minimum average values:\n",
      " [-0.09719078 -0.27618909 -0.99923993 -0.23979083 -0.46219262 -0.77418881]\n",
      "\n",
      "\n",
      "Minimum maximum values:\n",
      " [2.35711471 2.04841386 1.30146381 2.45695393 5.00741041 6.83255803]\n"
     ]
    }
   ],
   "source": [
    "# Regarding minimum values of X\n",
    "print(\"Minimum minimum values:\\n\", X_min_list.min(axis=0))\n",
    "\n",
    "print(\"\\n\\nMinimum average values:\\n\", X_min_list.mean(axis=0))\n",
    "\n",
    "print(\"\\n\\nMinimum maximum values:\\n\", X_min_list.max(axis=0))"
   ]
  },
  {
   "cell_type": "code",
   "execution_count": 19,
   "metadata": {},
   "outputs": [
    {
     "name": "stdout",
     "output_type": "stream",
     "text": [
      "Maximum minimum values:\n",
      " [-1.94074765 -4.12540926 -6.473617   -1.54469333 -4.19348076 -1.43361965]\n",
      "\n",
      "\n",
      "Maximum average values:\n",
      " [ 0.08808272  0.24910569 -0.45527722  0.02975588  0.05582485 -0.7683222 ]\n",
      "\n",
      "\n",
      "Maximum maximum values:\n",
      " [2.35711471 4.71106719 1.31983226 2.70258949 5.00741041 7.0175901 ]\n"
     ]
    }
   ],
   "source": [
    "# Regarding max values of X\n",
    "print(\"Maximum minimum values:\\n\", X_max_list.min(axis=0))\n",
    "\n",
    "print(\"\\n\\nMaximum average values:\\n\", X_max_list.mean(axis=0))\n",
    "\n",
    "print(\"\\n\\nMaximum maximum values:\\n\", X_max_list.max(axis=0))"
   ]
  },
  {
   "cell_type": "code",
   "execution_count": 20,
   "metadata": {},
   "outputs": [
    {
     "data": {
      "text/plain": [
       "<matplotlib.collections.PathCollection at 0x7f74dc105660>"
      ]
     },
     "execution_count": 20,
     "metadata": {},
     "output_type": "execute_result"
    },
    {
     "data": {
      "image/png": "[encoded data removed]",
      "text/plain": [
       "<Figure size 640x480 with 1 Axes>"
      ]
     },
     "metadata": {},
     "output_type": "display_data"
    }
   ],
   "source": [
    "import matplotlib.pyplot as plt\n",
    "\n",
    "variable_index = 0\n",
    "plt.scatter(X_max_list[:, variable_index], X_max_list[:, variable_index], alpha=0.2)"
   ]
  },
  {
   "cell_type": "code",
   "execution_count": 21,
   "metadata": {},
   "outputs": [
    {
     "data": {
      "text/plain": [
       "0.1111111111111111"
      ]
     },
     "execution_count": 21,
     "metadata": {},
     "output_type": "execute_result"
    }
   ],
   "source": [
    "np.mean(np.mean(y_avg, axis=0), axis=0)"
   ]
  },
  {
   "cell_type": "code",
   "execution_count": 22,
   "metadata": {},
   "outputs": [
    {
     "name": "stdout",
     "output_type": "stream",
     "text": [
      "Mean y minimum values:\n",
      " [0. 0. 0. 0. 0. 0. 0. 0. 0.]\n",
      "\n",
      "\n",
      "Mean y average values:\n",
      " [0.32044563 0.05865368 0.01284887 0.05381818 0.17527273 0.2257795\n",
      " 0.10753178 0.00525308 0.04039654]\n",
      "\n",
      "\n",
      "Mean y maximum values:\n",
      " [1.         0.98573466 0.95211268 1.         1.         1.\n",
      " 0.97447796 0.94654088 0.97447796]\n"
     ]
    }
   ],
   "source": [
    "# Regarding mean values of y\n",
    "print(\"Mean y minimum values:\\n\", y_avg.min(axis=0))\n",
    "\n",
    "print(\"\\n\\nMean y average values:\\n\", y_avg.mean(axis=0))\n",
    "\n",
    "print(\"\\n\\nMean y maximum values:\\n\", y_avg.max(axis=0))"
   ]
  },
  {
   "cell_type": "code",
   "execution_count": 23,
   "metadata": {},
   "outputs": [
    {
     "data": {
      "text/plain": [
       "array([440.61274558,  80.64880342,  17.66719879,  74.        ,\n",
       "       241.        , 310.44681926, 147.85619858,   7.22299075,\n",
       "        55.54524362])"
      ]
     },
     "execution_count": 23,
     "metadata": {},
     "output_type": "execute_result"
    }
   ],
   "source": [
    "y_avg.sum(axis=0)"
   ]
  },
  {
   "attachments": {},
   "cell_type": "markdown",
   "metadata": {},
   "source": [
    "# Modelagem"
   ]
  },
  {
   "cell_type": "code",
   "execution_count": 24,
   "metadata": {},
   "outputs": [
    {
     "name": "stderr",
     "output_type": "stream",
     "text": [
      "2023-10-19 23:18:58.739441: I tensorflow/core/util/port.cc:111] oneDNN custom operations are on. You may see slightly different numerical results due to floating-point round-off errors from different computation orders. To turn them off, set the environment variable `TF_ENABLE_ONEDNN_OPTS=0`.\n",
      "2023-10-19 23:18:58.842248: I tensorflow/tsl/cuda/cudart_stub.cc:28] Could not find cuda drivers on your machine, GPU will not be used.\n",
      "2023-10-19 23:18:59.315602: E tensorflow/compiler/xla/stream_executor/cuda/cuda_dnn.cc:9342] Unable to register cuDNN factory: Attempting to register factory for plugin cuDNN when one has already been registered\n",
      "2023-10-19 23:18:59.315678: E tensorflow/compiler/xla/stream_executor/cuda/cuda_fft.cc:609] Unable to register cuFFT factory: Attempting to register factory for plugin cuFFT when one has already been registered\n",
      "2023-10-19 23:18:59.318797: E tensorflow/compiler/xla/stream_executor/cuda/cuda_blas.cc:1518] Unable to register cuBLAS factory: Attempting to register factory for plugin cuBLAS when one has already been registered\n",
      "2023-10-19 23:18:59.600700: I tensorflow/tsl/cuda/cudart_stub.cc:28] Could not find cuda drivers on your machine, GPU will not be used.\n",
      "2023-10-19 23:18:59.610461: I tensorflow/core/platform/cpu_feature_guard.cc:182] This TensorFlow binary is optimized to use available CPU instructions in performance-critical operations.\n",
      "To enable the following instructions: AVX2 AVX512F AVX512_VNNI FMA, in other operations, rebuild TensorFlow with the appropriate compiler flags.\n",
      "2023-10-19 23:19:01.219439: W tensorflow/compiler/tf2tensorrt/utils/py_utils.cc:38] TF-TRT Warning: Could not find TensorRT\n"
     ]
    },
    {
     "name": "stdout",
     "output_type": "stream",
     "text": [
      "Using TensorFlow backend\n"
     ]
    }
   ],
   "source": [
    "from tensorflow import keras, math\n",
    "import keras_tuner\n",
    "from raw_data_manager.models import EventClassType"
   ]
  },
  {
   "attachments": {},
   "cell_type": "markdown",
   "metadata": {},
   "source": [
    "Função responsável por gerar modelos de acordo com uma lista de hyperparâmetros de entrada."
   ]
  },
  {
   "cell_type": "code",
   "execution_count": 25,
   "metadata": {},
   "outputs": [
    {
     "data": {
      "text/plain": [
       "<keras.src.engine.sequential.Sequential at 0x7f749c15ed40>"
      ]
     },
     "execution_count": 25,
     "metadata": {},
     "output_type": "execute_result"
    }
   ],
   "source": [
    "num_features = X_transformed_ex.shape[2]\n",
    "num_outputs = len(EventClassType)\n",
    "\n",
    "def build_model(hp: keras_tuner.HyperParameters):\n",
    "    # model structure\n",
    "    model = keras.Sequential()\n",
    "\n",
    "    model.add(keras.layers.LSTM(\n",
    "        hp.Int('lstm_units', min_value=5, max_value=100, step=5), \n",
    "        activation='relu', \n",
    "        input_shape=(transformation_param_num_timesteps_for_window, num_features)))\n",
    "    \n",
    "    if hp.Boolean(\"dropout\"):\n",
    "        model.add(keras.layers.Dropout(0.5))\n",
    "    \n",
    "    model.add(keras.layers.Dense(\n",
    "        hp.Int('dense_units', min_value=20, max_value=200, step=10),\n",
    "        activation='relu'))\n",
    "    \n",
    "    model.add(keras.layers.Dense(num_outputs, activation='softmax'))\n",
    "\n",
    "    # compiling model\n",
    "    learning_rate = hp.Float(\"lr\", min_value=1e-5, max_value=1e-1, sampling=\"log\")\n",
    "    model.compile(\n",
    "        loss='categorical_crossentropy', \n",
    "        optimizer=keras.optimizers.Adam(learning_rate=learning_rate), \n",
    "        metrics=['accuracy'],\n",
    "    )\n",
    "    return model\n",
    "\n",
    "# check the model can compile\n",
    "build_model(keras_tuner.HyperParameters())"
   ]
  },
  {
   "cell_type": "code",
   "execution_count": 26,
   "metadata": {},
   "outputs": [
    {
     "name": "stdout",
     "output_type": "stream",
     "text": [
      "Search space summary\n",
      "Default search space size: 4\n",
      "lstm_units (Int)\n",
      "{'default': None, 'conditions': [], 'min_value': 5, 'max_value': 100, 'step': 5, 'sampling': 'linear'}\n",
      "dropout (Boolean)\n",
      "{'default': False, 'conditions': []}\n",
      "dense_units (Int)\n",
      "{'default': None, 'conditions': [], 'min_value': 20, 'max_value': 200, 'step': 10, 'sampling': 'linear'}\n",
      "lr (Float)\n",
      "{'default': 1e-05, 'conditions': [], 'min_value': 1e-05, 'max_value': 0.1, 'step': None, 'sampling': 'log'}\n"
     ]
    }
   ],
   "source": [
    "tuner = keras_tuner.RandomSearch(\n",
    "    hypermodel=build_model,\n",
    "    objective=\"val_accuracy\",\n",
    "    max_trials=5,\n",
    "    executions_per_trial=1,\n",
    "    overwrite=True,\n",
    "    directory=storage_config.DIR_PROJECT_DATA / \"keras_tuner\",\n",
    ")\n",
    "\n",
    "tuner.search_space_summary()"
   ]
  },
  {
   "attachments": {},
   "cell_type": "markdown",
   "metadata": {},
   "source": [
    "Realizar a pesquisa pelos melhores hyperparâmetros."
   ]
  },
  {
   "cell_type": "code",
   "execution_count": 27,
   "metadata": {},
   "outputs": [
    {
     "name": "stdout",
     "output_type": "stream",
     "text": [
      "Trial 5 Complete [00h 01m 18s]\n",
      "val_accuracy: 0.4814925789833069\n",
      "\n",
      "Best val_accuracy So Far: 0.9362102746963501\n",
      "Total elapsed time: 00h 11m 34s\n"
     ]
    }
   ],
   "source": [
    "num_epochs = 5\n",
    "steps_per_epoch = len(train_transformed_file_path_list)\n",
    "\n",
    "train_data_gen = TransformationManager.data_generator_loop(train_transformed_file_path_list)\n",
    "validation_data_gen = TransformationManager.data_generator_loop(validation_transformed_file_path_list)\n",
    "test_data_gen = TransformationManager.data_generator_loop(test_transformed_file_path_list)\n",
    "\n",
    "tuner.search(\n",
    "    train_data_gen,\n",
    "    epochs=num_epochs,\n",
    "    validation_data=validation_data_gen,\n",
    "    validation_steps=len(validation_transformed_file_path_list),\n",
    "    steps_per_epoch=steps_per_epoch,\n",
    "    verbose=1\n",
    ")"
   ]
  },
  {
   "cell_type": "code",
   "execution_count": 28,
   "metadata": {},
   "outputs": [
    {
     "data": {
      "text/plain": [
       "<keras_tuner.src.engine.hyperparameters.hyperparameters.HyperParameters at 0x7f7484d9f5e0>"
      ]
     },
     "execution_count": 28,
     "metadata": {},
     "output_type": "execute_result"
    }
   ],
   "source": [
    "# Safe to cache best found parameters\n",
    "path_best_params = storage_config.DIR_PROJECT_CACHE / \"param_search\" / \"all_data.pkl\"\n",
    "path_best_params.parent.mkdir(parents=True, exist_ok=True)\n",
    "best_params = tuner.get_best_hyperparameters(5)[0]\n",
    "\n",
    "with open(path_best_params,'wb') as file:\n",
    "    pickle.dump(best_params, file)\n",
    "\n",
    "best_params.values"
   ]
  },
  {
   "cell_type": "code",
   "execution_count": 39,
   "metadata": {},
   "outputs": [
    {
     "data": {
      "text/plain": [
       "{'lstm_units': 40,\n",
       " 'dropout': False,\n",
       " 'dense_units': 30,\n",
       " 'lr': 0.0006809543355010622}"
      ]
     },
     "execution_count": 39,
     "metadata": {},
     "output_type": "execute_result"
    }
   ],
   "source": [
    "best_params.values"
   ]
  },
  {
   "attachments": {},
   "cell_type": "markdown",
   "metadata": {},
   "source": [
    "Utilizar os parâmetros obtidos que tiveram os melhores resultados para treinar um modelo.\n",
    "\n",
    "Dessa vez, o modelo será treinado com uma quantidade maior de épocas."
   ]
  },
  {
   "cell_type": "code",
   "execution_count": 29,
   "metadata": {},
   "outputs": [
    {
     "name": "stdout",
     "output_type": "stream",
     "text": [
      "Epoch 1/50\n",
      "1375/1375 [==============================] - 33s 23ms/step - loss: 1.0391 - accuracy: 0.6873 - val_loss: 0.6312 - val_accuracy: 0.8163\n",
      "Epoch 2/50\n",
      "1375/1375 [==============================] - 29s 21ms/step - loss: 0.5380 - accuracy: 0.8372 - val_loss: 0.4322 - val_accuracy: 0.9104\n",
      "Epoch 3/50\n",
      "1375/1375 [==============================] - 29s 21ms/step - loss: 0.3729 - accuracy: 0.8760 - val_loss: 0.4199 - val_accuracy: 0.9343\n",
      "Epoch 4/50\n",
      "1375/1375 [==============================] - 28s 21ms/step - loss: 0.3470 - accuracy: 0.8915 - val_loss: 0.3737 - val_accuracy: 0.9408\n",
      "Epoch 5/50\n",
      "1375/1375 [==============================] - 28s 21ms/step - loss: 0.2889 - accuracy: 0.9076 - val_loss: 0.3426 - val_accuracy: 0.9403\n",
      "Epoch 6/50\n",
      "1375/1375 [==============================] - 28s 21ms/step - loss: 0.3053 - accuracy: 0.9129 - val_loss: 0.4798 - val_accuracy: 0.9255\n",
      "Epoch 7/50\n",
      "1375/1375 [==============================] - 28s 20ms/step - loss: 0.2575 - accuracy: 0.9272 - val_loss: 0.3824 - val_accuracy: 0.9360\n",
      "Epoch 8/50\n",
      "1375/1375 [==============================] - 29s 21ms/step - loss: 0.2440 - accuracy: 0.9133 - val_loss: 0.5170 - val_accuracy: 0.9427\n",
      "Epoch 9/50\n",
      "1375/1375 [==============================] - 28s 21ms/step - loss: 0.3177 - accuracy: 0.9202 - val_loss: 0.3540 - val_accuracy: 0.9393\n",
      "Epoch 10/50\n",
      "1375/1375 [==============================] - 30s 22ms/step - loss: 0.2247 - accuracy: 0.9322 - val_loss: 0.3025 - val_accuracy: 0.9403\n",
      "Epoch 11/50\n",
      "1375/1375 [==============================] - 28s 21ms/step - loss: 0.2099 - accuracy: 0.9348 - val_loss: 0.3148 - val_accuracy: 0.9143\n",
      "Epoch 12/50\n",
      "1375/1375 [==============================] - 31s 22ms/step - loss: 0.2201 - accuracy: 0.9257 - val_loss: 0.3431 - val_accuracy: 0.9333\n",
      "Epoch 13/50\n",
      "1375/1375 [==============================] - 31s 22ms/step - loss: 0.1999 - accuracy: 0.9363 - val_loss: 0.3592 - val_accuracy: 0.9335\n",
      "Epoch 14/50\n",
      "1375/1375 [==============================] - 28s 21ms/step - loss: 0.2060 - accuracy: 0.9353 - val_loss: 0.3430 - val_accuracy: 0.9299\n",
      "Epoch 15/50\n",
      "1375/1375 [==============================] - 28s 20ms/step - loss: 0.2358 - accuracy: 0.9340 - val_loss: 0.3759 - val_accuracy: 0.9297\n",
      "Epoch 16/50\n",
      "1375/1375 [==============================] - 31s 23ms/step - loss: 0.2249 - accuracy: 0.9365 - val_loss: 0.4199 - val_accuracy: 0.9330\n",
      "Epoch 17/50\n",
      "1375/1375 [==============================] - 31s 23ms/step - loss: 0.1822 - accuracy: 0.9397 - val_loss: 0.5261 - val_accuracy: 0.9353\n",
      "Epoch 18/50\n",
      "1375/1375 [==============================] - 28s 21ms/step - loss: 0.1815 - accuracy: 0.9379 - val_loss: 0.5515 - val_accuracy: 0.9347\n"
     ]
    },
    {
     "data": {
      "image/png": "[encoded data removed]",
      "text/plain": [
       "<Figure size 640x480 with 1 Axes>"
      ]
     },
     "metadata": {},
     "output_type": "display_data"
    }
   ],
   "source": [
    "# Training configurations\n",
    "num_epochs = 50\n",
    "steps_per_epoch = len(train_transformed_file_path_list)\n",
    "train_data_gen = TransformationManager.data_generator_loop(train_transformed_file_path_list)\n",
    "early_stopping_callback = keras.callbacks.EarlyStopping(monitor='val_accuracy', patience=10)\n",
    "\n",
    "checkpoint_filepath = storage_config.DIR_PROJECT_CACHE / \"model_weights\" / \"weights.{epoch:02d}-{val_loss:.2f}.hdf5\"\n",
    "checkpoint_filepath.parent.mkdir(parents=True, exist_ok=True)\n",
    "model_checkpoint_callback = keras.callbacks.ModelCheckpoint(\n",
    "    filepath=checkpoint_filepath,\n",
    "    save_weights_only=True,\n",
    "    monitor='val_accuracy',\n",
    "    mode='max',\n",
    "    save_best_only=True)\n",
    "\n",
    "# Train model\n",
    "best_model = build_model(best_params)\n",
    "\n",
    "training_history = best_model.fit(\n",
    "    train_data_gen, \n",
    "    steps_per_epoch=steps_per_epoch,\n",
    "    epochs=num_epochs,\n",
    "    validation_data=validation_data_gen,\n",
    "    validation_steps=len(validation_transformed_file_path_list),\n",
    "    callbacks=[early_stopping_callback, model_checkpoint_callback],\n",
    "    verbose=1\n",
    ")\n",
    "\n",
    "# Graph of training results history\n",
    "plt.plot(training_history.history['accuracy'])\n",
    "plt.plot(training_history.history['val_accuracy'])\n",
    "plt.title('Model accuracy')\n",
    "plt.ylabel('Accuracy')\n",
    "plt.xlabel('epoch')\n",
    "plt.legend(['train', 'val'], loc='upper left')\n",
    "plt.show()"
   ]
  },
  {
   "attachments": {},
   "cell_type": "markdown",
   "metadata": {},
   "source": [
    "Ver se está funcionando com um exemplo."
   ]
  },
  {
   "cell_type": "code",
   "execution_count": 30,
   "metadata": {},
   "outputs": [
    {
     "name": "stdout",
     "output_type": "stream",
     "text": [
      "/home/ubuntu/lemi_3w/data/transform-isdt-dataset_converted_v10101_split-20_source-all_class-all_well-all_train/5/SIMULATED_00309.npz\n",
      "True value: [0 0 0 0 0 1 0 0 0]\n",
      "1/1 [==============================] - 0s 236ms/step\n",
      "Predicted value: [[4.3571442e-02 2.0396810e-04 2.0068900e-03 1.7219167e-03 4.4720280e-03\n",
      "  8.0223334e-01 1.2927955e-05 1.4973553e-07 1.4577736e-01]]\n"
     ]
    }
   ],
   "source": [
    "import numpy as np\n",
    "test_file = train_transformed_file_path_list[-1]\n",
    "print(test_file)\n",
    "\n",
    "Xhat, yhat = TransformationManager.retrieve_pair_array(pathlib.Path(test_file))\n",
    "print(f\"True value: {yhat[0]}\")\n",
    "\n",
    "Xhat0 = Xhat[0].reshape(1, transformation_param_num_timesteps_for_window, num_features)\n",
    "print(f\"Predicted value: {best_model.predict(Xhat0)}\")"
   ]
  },
  {
   "attachments": {},
   "cell_type": "markdown",
   "metadata": {},
   "source": [
    "# Validação\n",
    "Aqui pegaremos nosso banco de testes, o transformaremos, para então o utilizar para validar a perfomance do nosso modelo."
   ]
  },
  {
   "cell_type": "code",
   "execution_count": 31,
   "metadata": {},
   "outputs": [
    {
     "name": "stdout",
     "output_type": "stream",
     "text": [
      "395/395 [==============================] - 4s 11ms/step - loss: 0.4356 - accuracy: 0.9185\n"
     ]
    },
    {
     "data": {
      "text/plain": [
       "[0.43560388684272766, 0.918455958366394]"
      ]
     },
     "execution_count": 31,
     "metadata": {},
     "output_type": "execute_result"
    }
   ],
   "source": [
    "test_data_gen = TransformationManager.data_generator_non_loop(test_transformed_file_path_list)\n",
    "num_steps = len(test_transformed_file_path_list)\n",
    "\n",
    "best_model.evaluate(\n",
    "    test_data_gen,\n",
    "    steps=num_steps,\n",
    "    verbose=1,\n",
    ")"
   ]
  },
  {
   "cell_type": "code",
   "execution_count": 32,
   "metadata": {},
   "outputs": [
    {
     "name": "stdout",
     "output_type": "stream",
     "text": [
      "395/395 [==============================] - 4s 10ms/step\n"
     ]
    },
    {
     "data": {
      "text/plain": [
       "('Number of predictions: 162636',\n",
       " 'Shape of y array: (162636, 9)',\n",
       " array([2.6884058e-01, 1.8618914e-05, 8.8015827e-04, 6.7459204e-04,\n",
       "        1.3789049e-02, 2.5097156e-04, 7.1493304e-01, 1.0168498e-06,\n",
       "        6.1201805e-04], dtype=float32))"
      ]
     },
     "execution_count": 32,
     "metadata": {},
     "output_type": "execute_result"
    }
   ],
   "source": [
    "test_data_gen = TransformationManager.data_generator_non_loop(test_transformed_file_path_list)\n",
    "\n",
    "y_test_predictions = best_model.predict(\n",
    "    test_data_gen,\n",
    ")\n",
    "\n",
    "(\n",
    "    f\"Number of predictions: {len(y_test_predictions)}\", \n",
    "    f\"Shape of y array: {y_test_predictions.shape}\", \n",
    "    y_test_predictions[0]\n",
    ")"
   ]
  },
  {
   "cell_type": "code",
   "execution_count": 33,
   "metadata": {},
   "outputs": [
    {
     "data": {
      "text/plain": [
       "('Number of predictions: 162636',\n",
       " 'Shape of y array: (162636, 9)',\n",
       " array([1, 0, 0, 0, 0, 0, 0, 0, 0]))"
      ]
     },
     "execution_count": 33,
     "metadata": {},
     "output_type": "execute_result"
    }
   ],
   "source": [
    "test_data_gen = TransformationManager.data_generator_non_loop(test_transformed_file_path_list)\n",
    "y_test_labels = []\n",
    "\n",
    "for X, y in test_data_gen:\n",
    "    y_test_labels.append(y)\n",
    "\n",
    "y_test_labels = np.concatenate(y_test_labels, axis=0)\n",
    "\n",
    "(\n",
    "    f\"Number of predictions: {len(y_test_labels)}\", \n",
    "    f\"Shape of y array: {y_test_labels.shape}\", \n",
    "    y_test_labels[0],\n",
    ")"
   ]
  },
  {
   "cell_type": "code",
   "execution_count": 34,
   "metadata": {},
   "outputs": [
    {
     "data": {
      "text/plain": [
       "<tf.Tensor: shape=(9, 9), dtype=int32, numpy=\n",
       "array([[31146,  2060,    78,     7,   603,   457,   473,   883,   233],\n",
       "       [  669, 25849,     0,  1091,     0,     0,     0,  2973,     0],\n",
       "       [   31,    20,  1379,    25,     0,     2,     3,     0,    14],\n",
       "       [    0,     0,     0, 13869,   278,  1009,     0,     0,    15],\n",
       "       [  975,     0,     0,     1,  5981,     0,     0,     0,     0],\n",
       "       [    3,    13,     0,    87,    20, 41808,     0,     0,     0],\n",
       "       [   11,     0,     0,     0,     0,     0, 18060,     0,     0],\n",
       "       [    0,     0,     0,     0,     0,     0,     0,  5790,     0],\n",
       "       [  111,     0,     0,     0,    15,  1102,     0,     0,  5492]],\n",
       "      dtype=int32)>"
      ]
     },
     "execution_count": 34,
     "metadata": {},
     "output_type": "execute_result"
    }
   ],
   "source": [
    "y_test_labels_1d = np.argmax(y_test_labels, axis=1)\n",
    "y_test_predictions_1d = np.argmax(y_test_predictions, axis=1)\n",
    "\n",
    "math.confusion_matrix(\n",
    "    y_test_labels_1d,\n",
    "    y_test_predictions_1d,\n",
    "    num_classes=num_outputs,\n",
    ")"
   ]
  },
  {
   "cell_type": "code",
   "execution_count": 36,
   "metadata": {},
   "outputs": [
    {
     "data": {
      "image/png": "[encoded data removed]",
      "text/plain": [
       "<Figure size 800x600 with 2 Axes>"
      ]
     },
     "metadata": {},
     "output_type": "display_data"
    }
   ],
   "source": [
    "import pandas as pd\n",
    "import matplotlib.pyplot as plt\n",
    "import seaborn as sns\n",
    "from raw_data_manager.models import EventClassType\n",
    "\n",
    "consusion_array = np.array([[31146,  2060,    78,     7,   603,   457,   473,   883,   233],\n",
    "       [  669, 25849,     0,  1091,     0,     0,     0,  2973,     0],\n",
    "       [   31,    20,  1379,    25,     0,     2,     3,     0,    14],\n",
    "       [    0,     0,     0, 13869,   278,  1009,     0,     0,    15],\n",
    "       [  975,     0,     0,     1,  5981,     0,     0,     0,     0],\n",
    "       [    3,    13,     0,    87,    20, 41808,     0,     0,     0],\n",
    "       [   11,     0,     0,     0,     0,     0, 18060,     0,     0],\n",
    "       [    0,     0,     0,     0,     0,     0,     0,  5790,     0],\n",
    "       [  111,     0,     0,     0,    15,  1102,     0,     0,  5492]],)\n",
    "\n",
    "fig, ax = plt.subplots(figsize=(8,6))\n",
    "heatmap = sns.heatmap(consusion_array, annot=True, fmt='d', xticklabels=[e.value for e in EventClassType], yticklabels=[e.value for e in EventClassType], annot_kws={\"size\": 12})\n",
    "heatmap.set_xticklabels(heatmap.get_xmajorticklabels(), fontsize = 14)\n",
    "heatmap.set_yticklabels(heatmap.get_ymajorticklabels(), fontsize = 14)\n",
    "\n",
    "\n",
    "plt.ylabel('Real values', fontsize=18)\n",
    "plt.xlabel('Predicted values', fontsize=19)\n",
    "plt.show()"
   ]
  }
 ],
 "metadata": {
  "kernelspec": {
   "display_name": ".venv",
   "language": "python",
   "name": "python3"
  },
  "language_info": {
   "codemirror_mode": {
    "name": "ipython",
    "version": 3
   },
   "file_extension": ".py",
   "mimetype": "text/x-python",
   "name": "python",
   "nbconvert_exporter": "python",
   "pygments_lexer": "ipython3",
   "version": "3.10.12"
  },
  "orig_nbformat": 4,
  "vscode": {
   "interpreter": {
    "hash": "f76451b3a7719b8fd32adab79b436fd06da7a0268f14fa2684341b59d3c3b3e7"
   }
  }
 },
 "nbformat": 4,
 "nbformat_minor": 2
}
