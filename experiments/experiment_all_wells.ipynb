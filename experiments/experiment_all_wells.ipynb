{
 "cells": [
  {
   "attachments": {},
   "cell_type": "markdown",
   "metadata": {},
   "source": [
    "# Experimento com dados de todos os poços\n",
    "\n",
    "Nesse notebook será realizado as tarefas de obtenção de dados, tratamento, modelagem, e validação de dados.\n",
    "O objetivo aqui é obter um classificador de anomalias para dados de todos os poços (aqui será incluido todos os tipos de dados: inclusive dados de fontes simulação e desenhados)."
   ]
  },
  {
   "attachments": {},
   "cell_type": "markdown",
   "metadata": {},
   "source": [
    "# Aquisição de dados"
   ]
  },
  {
   "attachments": {},
   "cell_type": "markdown",
   "metadata": {},
   "source": [
    "Configurando ambiente: "
   ]
  },
  {
   "cell_type": "code",
   "execution_count": 2,
   "metadata": {},
   "outputs": [
    {
     "name": "stderr",
     "output_type": "stream",
     "text": [
      "/home/ubuntu/lemi_3w/.venv/lib/python3.10/site-packages/tqdm/auto.py:21: TqdmWarning: IProgress not found. Please update jupyter and ipywidgets. See https://ipywidgets.readthedocs.io/en/stable/user_install.html\n",
      "  from .autonotebook import tqdm as notebook_tqdm\n"
     ]
    }
   ],
   "source": [
    "import sys\n",
    "sys.path.append(\"..\")\n",
    "\n",
    "# Environment configuration\n",
    "import raw_data_manager.raw_data_acquisition as rda\n",
    "import raw_data_manager.raw_data_inspector as rdi\n",
    "import raw_data_manager.raw_data_splitter as rds\n",
    "from data_exploration.metric_acquisition import MetricAcquisition\n",
    "from data_preparation.transformation_manager import TransformationManager\n",
    "from constants import storage_config\n",
    "import pathlib\n",
    "import numpy as np\n",
    "\n",
    "# Set default logging level.\n",
    "from absl import logging\n",
    "logging.set_verbosity(logging.DEBUG)"
   ]
  },
  {
   "attachments": {},
   "cell_type": "markdown",
   "metadata": {},
   "source": [
    "Baixar dataset 3W (se não disponível) & gerar tabela de metadados."
   ]
  },
  {
   "cell_type": "code",
   "execution_count": 3,
   "metadata": {},
   "outputs": [
    {
     "name": "stderr",
     "output_type": "stream",
     "text": [
      "INFO:absl:Directory with the biggest version: /home/ubuntu/lemi_3w/data/dataset_converted_v10101\n",
      "INFO:absl:Version: 10101\n",
      "INFO:absl:Latest local version is 10101\n",
      "INFO:absl:Going to fetch config file from $https://raw.githubusercontent.com/petrobras/3W/main/dataset/dataset.ini\n",
      "  % Total    % Received % Xferd  Average Speed   Time    Time     Time  Current\n",
      "                                 Dload  Upload   Total   Spent    Left  Speed\n",
      "100  2786  100  2786    0     0   4242      0 --:--:-- --:--:-- --:--:--  4246\n",
      "INFO:absl:Latest online version is 10101\n",
      "INFO:absl:Found existing converted data with dataset version of 10101\n",
      "INFO:absl:Directory with the biggest version: /home/ubuntu/lemi_3w/data/dataset_converted_v10101\n",
      "INFO:absl:Version: 10101\n"
     ]
    },
    {
     "data": {
      "text/html": [
       "<div>\n",
       "<style scoped>\n",
       "    .dataframe tbody tr th:only-of-type {\n",
       "        vertical-align: middle;\n",
       "    }\n",
       "\n",
       "    .dataframe tbody tr th {\n",
       "        vertical-align: top;\n",
       "    }\n",
       "\n",
       "    .dataframe thead th {\n",
       "        text-align: right;\n",
       "    }\n",
       "</style>\n",
       "<table border=\"1\" class=\"dataframe\">\n",
       "  <thead>\n",
       "    <tr style=\"text-align: right;\">\n",
       "      <th></th>\n",
       "      <th>class_type</th>\n",
       "      <th>source</th>\n",
       "      <th>well_id</th>\n",
       "      <th>path</th>\n",
       "      <th>timestamp</th>\n",
       "      <th>file_size</th>\n",
       "      <th>num_timesteps</th>\n",
       "    </tr>\n",
       "    <tr>\n",
       "      <th>hash_id</th>\n",
       "      <th></th>\n",
       "      <th></th>\n",
       "      <th></th>\n",
       "      <th></th>\n",
       "      <th></th>\n",
       "      <th></th>\n",
       "      <th></th>\n",
       "    </tr>\n",
       "  </thead>\n",
       "  <tbody>\n",
       "    <tr>\n",
       "      <th>74203bb</th>\n",
       "      <td>NORMAL</td>\n",
       "      <td>REAL</td>\n",
       "      <td>1.0</td>\n",
       "      <td>/home/ubuntu/lemi_3w/data/dataset_converted_v1...</td>\n",
       "      <td>2017-05-24 03:00:00</td>\n",
       "      <td>491415</td>\n",
       "      <td>17885</td>\n",
       "    </tr>\n",
       "    <tr>\n",
       "      <th>9fbd6f9</th>\n",
       "      <td>NORMAL</td>\n",
       "      <td>REAL</td>\n",
       "      <td>2.0</td>\n",
       "      <td>/home/ubuntu/lemi_3w/data/dataset_converted_v1...</td>\n",
       "      <td>2017-08-09 06:00:00</td>\n",
       "      <td>520154</td>\n",
       "      <td>17933</td>\n",
       "    </tr>\n",
       "    <tr>\n",
       "      <th>28804c5</th>\n",
       "      <td>NORMAL</td>\n",
       "      <td>REAL</td>\n",
       "      <td>6.0</td>\n",
       "      <td>/home/ubuntu/lemi_3w/data/dataset_converted_v1...</td>\n",
       "      <td>2017-05-08 09:00:31</td>\n",
       "      <td>349162</td>\n",
       "      <td>17970</td>\n",
       "    </tr>\n",
       "    <tr>\n",
       "      <th>42afe91</th>\n",
       "      <td>NORMAL</td>\n",
       "      <td>REAL</td>\n",
       "      <td>8.0</td>\n",
       "      <td>/home/ubuntu/lemi_3w/data/dataset_converted_v1...</td>\n",
       "      <td>2017-07-01 14:01:35</td>\n",
       "      <td>251880</td>\n",
       "      <td>17799</td>\n",
       "    </tr>\n",
       "    <tr>\n",
       "      <th>fa71d94</th>\n",
       "      <td>NORMAL</td>\n",
       "      <td>REAL</td>\n",
       "      <td>6.0</td>\n",
       "      <td>/home/ubuntu/lemi_3w/data/dataset_converted_v1...</td>\n",
       "      <td>2017-08-23 19:00:00</td>\n",
       "      <td>279737</td>\n",
       "      <td>17949</td>\n",
       "    </tr>\n",
       "    <tr>\n",
       "      <th>...</th>\n",
       "      <td>...</td>\n",
       "      <td>...</td>\n",
       "      <td>...</td>\n",
       "      <td>...</td>\n",
       "      <td>...</td>\n",
       "      <td>...</td>\n",
       "      <td>...</td>\n",
       "    </tr>\n",
       "    <tr>\n",
       "      <th>ea66cf6</th>\n",
       "      <td>SEVERE_SLUGGING</td>\n",
       "      <td>SIMULATED</td>\n",
       "      <td>NaN</td>\n",
       "      <td>/home/ubuntu/lemi_3w/data/dataset_converted_v1...</td>\n",
       "      <td>NaT</td>\n",
       "      <td>2315903</td>\n",
       "      <td>61999</td>\n",
       "    </tr>\n",
       "    <tr>\n",
       "      <th>34f032a</th>\n",
       "      <td>SEVERE_SLUGGING</td>\n",
       "      <td>SIMULATED</td>\n",
       "      <td>NaN</td>\n",
       "      <td>/home/ubuntu/lemi_3w/data/dataset_converted_v1...</td>\n",
       "      <td>NaT</td>\n",
       "      <td>2259539</td>\n",
       "      <td>61999</td>\n",
       "    </tr>\n",
       "    <tr>\n",
       "      <th>876a969</th>\n",
       "      <td>SEVERE_SLUGGING</td>\n",
       "      <td>REAL</td>\n",
       "      <td>14.0</td>\n",
       "      <td>/home/ubuntu/lemi_3w/data/dataset_converted_v1...</td>\n",
       "      <td>2017-09-25 06:00:42</td>\n",
       "      <td>1005717</td>\n",
       "      <td>17959</td>\n",
       "    </tr>\n",
       "    <tr>\n",
       "      <th>deac7ec</th>\n",
       "      <td>SEVERE_SLUGGING</td>\n",
       "      <td>SIMULATED</td>\n",
       "      <td>NaN</td>\n",
       "      <td>/home/ubuntu/lemi_3w/data/dataset_converted_v1...</td>\n",
       "      <td>NaT</td>\n",
       "      <td>2045137</td>\n",
       "      <td>61999</td>\n",
       "    </tr>\n",
       "    <tr>\n",
       "      <th>c8867fa</th>\n",
       "      <td>SEVERE_SLUGGING</td>\n",
       "      <td>SIMULATED</td>\n",
       "      <td>NaN</td>\n",
       "      <td>/home/ubuntu/lemi_3w/data/dataset_converted_v1...</td>\n",
       "      <td>NaT</td>\n",
       "      <td>2359418</td>\n",
       "      <td>61999</td>\n",
       "    </tr>\n",
       "  </tbody>\n",
       "</table>\n",
       "<p>1978 rows × 7 columns</p>\n",
       "</div>"
      ],
      "text/plain": [
       "              class_type     source  well_id  \\\n",
       "hash_id                                        \n",
       "74203bb           NORMAL       REAL      1.0   \n",
       "9fbd6f9           NORMAL       REAL      2.0   \n",
       "28804c5           NORMAL       REAL      6.0   \n",
       "42afe91           NORMAL       REAL      8.0   \n",
       "fa71d94           NORMAL       REAL      6.0   \n",
       "...                  ...        ...      ...   \n",
       "ea66cf6  SEVERE_SLUGGING  SIMULATED      NaN   \n",
       "34f032a  SEVERE_SLUGGING  SIMULATED      NaN   \n",
       "876a969  SEVERE_SLUGGING       REAL     14.0   \n",
       "deac7ec  SEVERE_SLUGGING  SIMULATED      NaN   \n",
       "c8867fa  SEVERE_SLUGGING  SIMULATED      NaN   \n",
       "\n",
       "                                                      path  \\\n",
       "hash_id                                                      \n",
       "74203bb  /home/ubuntu/lemi_3w/data/dataset_converted_v1...   \n",
       "9fbd6f9  /home/ubuntu/lemi_3w/data/dataset_converted_v1...   \n",
       "28804c5  /home/ubuntu/lemi_3w/data/dataset_converted_v1...   \n",
       "42afe91  /home/ubuntu/lemi_3w/data/dataset_converted_v1...   \n",
       "fa71d94  /home/ubuntu/lemi_3w/data/dataset_converted_v1...   \n",
       "...                                                    ...   \n",
       "ea66cf6  /home/ubuntu/lemi_3w/data/dataset_converted_v1...   \n",
       "34f032a  /home/ubuntu/lemi_3w/data/dataset_converted_v1...   \n",
       "876a969  /home/ubuntu/lemi_3w/data/dataset_converted_v1...   \n",
       "deac7ec  /home/ubuntu/lemi_3w/data/dataset_converted_v1...   \n",
       "c8867fa  /home/ubuntu/lemi_3w/data/dataset_converted_v1...   \n",
       "\n",
       "                  timestamp  file_size  num_timesteps  \n",
       "hash_id                                                \n",
       "74203bb 2017-05-24 03:00:00     491415          17885  \n",
       "9fbd6f9 2017-08-09 06:00:00     520154          17933  \n",
       "28804c5 2017-05-08 09:00:31     349162          17970  \n",
       "42afe91 2017-07-01 14:01:35     251880          17799  \n",
       "fa71d94 2017-08-23 19:00:00     279737          17949  \n",
       "...                     ...        ...            ...  \n",
       "ea66cf6                 NaT    2315903          61999  \n",
       "34f032a                 NaT    2259539          61999  \n",
       "876a969 2017-09-25 06:00:42    1005717          17959  \n",
       "deac7ec                 NaT    2045137          61999  \n",
       "c8867fa                 NaT    2359418          61999  \n",
       "\n",
       "[1978 rows x 7 columns]"
      ]
     },
     "execution_count": 3,
     "metadata": {},
     "output_type": "execute_result"
    }
   ],
   "source": [
    "## Acquire data (of entire 3W dataset)\n",
    "rda.acquire_dataset_if_needed()\n",
    "latest_converted_data_path, latest_converted_data_version = (\n",
    "    rda.get_latest_local_converted_data_version(storage_config.DIR_PROJECT_DATA)\n",
    ")\n",
    "\n",
    "# Helper to overview metadata (of entire 3W dataset)\n",
    "inspector_all_data = rdi.RawDataInspector(\n",
    "    dataset_dir=latest_converted_data_path,\n",
    "    cache_file_path=storage_config.PATH_DATA_INSPECTOR_CACHE,\n",
    "    use_cached=True\n",
    ")\n",
    "metadata_all_data = inspector_all_data.get_metadata_table()\n",
    "metadata_all_data"
   ]
  },
  {
   "attachments": {},
   "cell_type": "markdown",
   "metadata": {},
   "source": [
    "Dividir dados (de forma estratificada) em treinamento e teste."
   ]
  },
  {
   "cell_type": "code",
   "execution_count": 12,
   "metadata": {},
   "outputs": [
    {
     "name": "stderr",
     "output_type": "stream",
     "text": [
      "DEBUG:absl:validation_size 0.1\n",
      "DEBUG:absl:size of train data: 1384. val: 198. test: 396\n",
      "DEBUG:absl:train path /home/ubuntu/lemi_3w/data/dataset_converted_v10101_split-20_source-all_class-all_well-all_train -/- val: /home/ubuntu/lemi_3w/data/dataset_converted_v10101_split-20_source-all_class-all_well-all_validation -/- test: /home/ubuntu/lemi_3w/data/dataset_converted_v10101_split-20_source-all_class-all_well-all_test\n",
      "DONE: 100%|██████████| 1384/1384 [00:00<00:00, 2173.93it/s]\n",
      "DONE: 100%|██████████| 396/396 [00:00<00:00, 1632.24it/s]\n",
      "DONE: 100%|██████████| 198/198 [00:00<00:00, 1062.35it/s]\n",
      "INFO:absl:Processing 416 events of class type 0.\n",
      "DONE: 100%|██████████| 416/416 [00:02<00:00, 202.12it/s]\n",
      "INFO:absl:Processing 241 events of class type 4.\n",
      "DONE: 100%|██████████| 241/241 [00:00<00:00, 278.37it/s]INFO:absl:Processing 315 events of class type 5.\n",
      "\n",
      "DONE: 100%|██████████| 315/315 [00:02<00:00, 120.43it/s]INFO:absl:Processing 90 events of class type 1.\n",
      "\n",
      "DONE: 100%|██████████| 90/90 [00:01<00:00, 50.10it/s]\n",
      "INFO:absl:Processing 10 events of class type 7.\n",
      "DONE: 100%|██████████| 10/10 [00:00<00:00, 12.57it/s]\n",
      "INFO:absl:Processing 154 events of class type 6.\n",
      "DONE: 100%|██████████| 154/154 [00:01<00:00, 130.05it/s]\n",
      "INFO:absl:Processing 57 events of class type 8.\n",
      "DONE: 100%|██████████| 57/57 [00:00<00:00, 110.77it/s]INFO:absl:Processing 27 events of class type 2.\n",
      "\n",
      "DONE: 100%|██████████| 27/27 [00:00<00:00, 107.34it/s]INFO:absl:Processing 74 events of class type 3.\n",
      "\n",
      "DONE: 100%|██████████| 74/74 [00:00<00:00, 74.51it/s] INFO:absl:Found 9.\n",
      "\n",
      "INFO:absl:Processing 59 events of class type 0.\n",
      "DONE: 100%|██████████| 59/59 [00:00<00:00, 131.37it/s]INFO:absl:Processing 34 events of class type 4.\n",
      "\n",
      "DONE: 100%|██████████| 34/34 [00:00<00:00, 151.52it/s]\n",
      "INFO:absl:Processing 45 events of class type 5.\n",
      "DONE: 100%|██████████| 45/45 [00:00<00:00, 86.72it/s]\n",
      "INFO:absl:Processing 13 events of class type 1.\n",
      "DONE: 100%|██████████| 13/13 [00:00<00:00, 29.25it/s]\n",
      "INFO:absl:Processing 2 events of class type 7.\n",
      "DONE: 100%|██████████| 2/2 [00:00<00:00,  4.65it/s]\n",
      "INFO:absl:Processing 23 events of class type 6.\n",
      "DONE: 100%|██████████| 23/23 [00:00<00:00, 68.08it/s]\n",
      "INFO:absl:Processing 8 events of class type 8.\n",
      "DONE:  25%|██▌       | 2/8 [00:00<00:00, 16.51it/s]INFO:absl:Processing 4 events of class type 2.\n",
      "DONE: 100%|██████████| 8/8 [00:00<00:00, 40.21it/s]\n",
      "DONE:   0%|          | 0/4 [00:00<?, ?it/s]INFO:absl:Processing 10 events of class type 3.\n",
      "DONE: 100%|██████████| 4/4 [00:00<00:00, 34.23it/s]\n",
      "DONE:  70%|███████   | 7/10 [00:00<00:00, 30.79it/s]INFO:absl:Found 9.\n",
      "DONE: 100%|██████████| 10/10 [00:00<00:00, 31.62it/s]\n",
      "INFO:absl:Processing 119 events of class type 0.\n",
      "DONE: 100%|██████████| 119/119 [00:00<00:00, 175.79it/s]\n",
      "INFO:absl:Processing 69 events of class type 4.\n",
      "DONE: 100%|██████████| 69/69 [00:00<00:00, 175.46it/s]\n",
      "INFO:absl:Processing 90 events of class type 5.\n",
      "DONE: 100%|██████████| 90/90 [00:00<00:00, 108.87it/s]\n",
      "INFO:absl:Processing 26 events of class type 1.\n",
      "DONE: 100%|██████████| 26/26 [00:00<00:00, 33.98it/s]\n",
      "INFO:absl:Processing 3 events of class type 7.\n",
      "DONE: 100%|██████████| 3/3 [00:00<00:00,  7.03it/s]INFO:absl:Processing 44 events of class type 6.\n",
      "\n",
      "DONE: 100%|██████████| 44/44 [00:00<00:00, 93.81it/s]INFO:absl:Processing 16 events of class type 8.\n",
      "\n",
      "DONE: 100%|██████████| 16/16 [00:00<00:00, 57.63it/s]\n",
      "INFO:absl:Processing 7 events of class type 2.\n",
      "DONE: 100%|██████████| 7/7 [00:00<00:00, 52.20it/s]\n",
      "INFO:absl:Processing 22 events of class type 3.\n",
      "DONE: 100%|██████████| 22/22 [00:00<00:00, 58.27it/s]\n",
      "INFO:absl:Found 9.\n"
     ]
    }
   ],
   "source": [
    "# splits data, from the selected well, into train and test datasets\n",
    "splitter = rds.RawDataSplitter(metadata_all_data, latest_converted_data_version)\n",
    "split_train_dir, split_validation_dir, split_test_dir = splitter.stratefy_split_of_data(\n",
    "    data_dir=storage_config.DIR_PROJECT_DATA, \n",
    "    validation_size=0.10,\n",
    "    test_size=0.20,\n",
    ")"
   ]
  },
  {
   "cell_type": "code",
   "execution_count": null,
   "metadata": {},
   "outputs": [],
   "source": [
    "# generates metadata tables for split data\n",
    "train_metadata = rdi.RawDataInspector(\n",
    "    dataset_dir=split_train_dir,\n",
    "    cache_file_path=storage_config.DIR_PROJECT_CACHE / \"train_metadata_all_data.parquet\",\n",
    "    use_cached=False,\n",
    ")\n",
    "validation_metadata = rdi.RawDataInspector(\n",
    "    dataset_dir=split_validation_dir,\n",
    "    cache_file_path=storage_config.DIR_PROJECT_CACHE / \"validation_metadata_all_data.parquet\",\n",
    "    use_cached=False,\n",
    ")\n",
    "test_metadata = rdi.RawDataInspector(\n",
    "    dataset_dir=split_test_dir,\n",
    "    cache_file_path=storage_config.DIR_PROJECT_CACHE / \"test_metadata_all_data.parquet\",\n",
    "    use_cached=False,\n",
    ")"
   ]
  },
  {
   "attachments": {},
   "cell_type": "markdown",
   "metadata": {},
   "source": [
    "Tabela de anomalias por tipo de fonte - treinamento."
   ]
  },
  {
   "cell_type": "code",
   "execution_count": 13,
   "metadata": {},
   "outputs": [
    {
     "data": {
      "text/html": [
       "<div>\n",
       "<style scoped>\n",
       "    .dataframe tbody tr th:only-of-type {\n",
       "        vertical-align: middle;\n",
       "    }\n",
       "\n",
       "    .dataframe tbody tr th {\n",
       "        vertical-align: top;\n",
       "    }\n",
       "\n",
       "    .dataframe thead th {\n",
       "        text-align: right;\n",
       "    }\n",
       "</style>\n",
       "<table border=\"1\" class=\"dataframe\">\n",
       "  <thead>\n",
       "    <tr style=\"text-align: right;\">\n",
       "      <th></th>\n",
       "      <th>real_count</th>\n",
       "      <th>simul_count</th>\n",
       "      <th>drawn_count</th>\n",
       "      <th>soma</th>\n",
       "    </tr>\n",
       "    <tr>\n",
       "      <th>anomaly</th>\n",
       "      <th></th>\n",
       "      <th></th>\n",
       "      <th></th>\n",
       "      <th></th>\n",
       "    </tr>\n",
       "  </thead>\n",
       "  <tbody>\n",
       "    <tr>\n",
       "      <th>NORMAL</th>\n",
       "      <td>416</td>\n",
       "      <td>0</td>\n",
       "      <td>0</td>\n",
       "      <td>416</td>\n",
       "    </tr>\n",
       "    <tr>\n",
       "      <th>ABRUPT_INCREASE_BSW</th>\n",
       "      <td>3</td>\n",
       "      <td>80</td>\n",
       "      <td>7</td>\n",
       "      <td>90</td>\n",
       "    </tr>\n",
       "    <tr>\n",
       "      <th>SPURIOUS_CLOSURE_DHSV</th>\n",
       "      <td>16</td>\n",
       "      <td>11</td>\n",
       "      <td>0</td>\n",
       "      <td>27</td>\n",
       "    </tr>\n",
       "    <tr>\n",
       "      <th>SEVERE_SLUGGING</th>\n",
       "      <td>22</td>\n",
       "      <td>52</td>\n",
       "      <td>0</td>\n",
       "      <td>74</td>\n",
       "    </tr>\n",
       "    <tr>\n",
       "      <th>FLOW_INSTABILITY</th>\n",
       "      <td>241</td>\n",
       "      <td>0</td>\n",
       "      <td>0</td>\n",
       "      <td>241</td>\n",
       "    </tr>\n",
       "    <tr>\n",
       "      <th>RAPID_PRODUCTIVITY_LOSS</th>\n",
       "      <td>8</td>\n",
       "      <td>307</td>\n",
       "      <td>0</td>\n",
       "      <td>315</td>\n",
       "    </tr>\n",
       "    <tr>\n",
       "      <th>QUICK_RESTRICTION_PCK</th>\n",
       "      <td>4</td>\n",
       "      <td>150</td>\n",
       "      <td>0</td>\n",
       "      <td>154</td>\n",
       "    </tr>\n",
       "    <tr>\n",
       "      <th>SCALING_IN_PCK</th>\n",
       "      <td>3</td>\n",
       "      <td>0</td>\n",
       "      <td>7</td>\n",
       "      <td>10</td>\n",
       "    </tr>\n",
       "    <tr>\n",
       "      <th>HYDRATE_IN_PRODUCTION_LINE</th>\n",
       "      <td>0</td>\n",
       "      <td>57</td>\n",
       "      <td>0</td>\n",
       "      <td>57</td>\n",
       "    </tr>\n",
       "    <tr>\n",
       "      <th>Total</th>\n",
       "      <td>713</td>\n",
       "      <td>657</td>\n",
       "      <td>14</td>\n",
       "      <td>1384</td>\n",
       "    </tr>\n",
       "  </tbody>\n",
       "</table>\n",
       "</div>"
      ],
      "text/plain": [
       "                            real_count  simul_count  drawn_count  soma\n",
       "anomaly                                                               \n",
       "NORMAL                             416            0            0   416\n",
       "ABRUPT_INCREASE_BSW                  3           80            7    90\n",
       "SPURIOUS_CLOSURE_DHSV               16           11            0    27\n",
       "SEVERE_SLUGGING                     22           52            0    74\n",
       "FLOW_INSTABILITY                   241            0            0   241\n",
       "RAPID_PRODUCTIVITY_LOSS              8          307            0   315\n",
       "QUICK_RESTRICTION_PCK                4          150            0   154\n",
       "SCALING_IN_PCK                       3            0            7    10\n",
       "HYDRATE_IN_PRODUCTION_LINE           0           57            0    57\n",
       "Total                              713          657           14  1384"
      ]
     },
     "execution_count": 13,
     "metadata": {},
     "output_type": "execute_result"
    }
   ],
   "source": [
    "rdi.RawDataInspector.generate_table_by_anomaly_source(train_metadata.get_metadata_table())"
   ]
  },
  {
   "attachments": {},
   "cell_type": "markdown",
   "metadata": {},
   "source": [
    "Tabela de anomalias por tipo de fonte - validação."
   ]
  },
  {
   "cell_type": "code",
   "execution_count": 14,
   "metadata": {},
   "outputs": [
    {
     "data": {
      "text/html": [
       "<div>\n",
       "<style scoped>\n",
       "    .dataframe tbody tr th:only-of-type {\n",
       "        vertical-align: middle;\n",
       "    }\n",
       "\n",
       "    .dataframe tbody tr th {\n",
       "        vertical-align: top;\n",
       "    }\n",
       "\n",
       "    .dataframe thead th {\n",
       "        text-align: right;\n",
       "    }\n",
       "</style>\n",
       "<table border=\"1\" class=\"dataframe\">\n",
       "  <thead>\n",
       "    <tr style=\"text-align: right;\">\n",
       "      <th></th>\n",
       "      <th>real_count</th>\n",
       "      <th>simul_count</th>\n",
       "      <th>drawn_count</th>\n",
       "      <th>soma</th>\n",
       "    </tr>\n",
       "    <tr>\n",
       "      <th>anomaly</th>\n",
       "      <th></th>\n",
       "      <th></th>\n",
       "      <th></th>\n",
       "      <th></th>\n",
       "    </tr>\n",
       "  </thead>\n",
       "  <tbody>\n",
       "    <tr>\n",
       "      <th>NORMAL</th>\n",
       "      <td>59</td>\n",
       "      <td>0</td>\n",
       "      <td>0</td>\n",
       "      <td>59</td>\n",
       "    </tr>\n",
       "    <tr>\n",
       "      <th>ABRUPT_INCREASE_BSW</th>\n",
       "      <td>1</td>\n",
       "      <td>11</td>\n",
       "      <td>1</td>\n",
       "      <td>13</td>\n",
       "    </tr>\n",
       "    <tr>\n",
       "      <th>SPURIOUS_CLOSURE_DHSV</th>\n",
       "      <td>2</td>\n",
       "      <td>2</td>\n",
       "      <td>0</td>\n",
       "      <td>4</td>\n",
       "    </tr>\n",
       "    <tr>\n",
       "      <th>SEVERE_SLUGGING</th>\n",
       "      <td>3</td>\n",
       "      <td>7</td>\n",
       "      <td>0</td>\n",
       "      <td>10</td>\n",
       "    </tr>\n",
       "    <tr>\n",
       "      <th>FLOW_INSTABILITY</th>\n",
       "      <td>34</td>\n",
       "      <td>0</td>\n",
       "      <td>0</td>\n",
       "      <td>34</td>\n",
       "    </tr>\n",
       "    <tr>\n",
       "      <th>RAPID_PRODUCTIVITY_LOSS</th>\n",
       "      <td>1</td>\n",
       "      <td>44</td>\n",
       "      <td>0</td>\n",
       "      <td>45</td>\n",
       "    </tr>\n",
       "    <tr>\n",
       "      <th>QUICK_RESTRICTION_PCK</th>\n",
       "      <td>1</td>\n",
       "      <td>22</td>\n",
       "      <td>0</td>\n",
       "      <td>23</td>\n",
       "    </tr>\n",
       "    <tr>\n",
       "      <th>SCALING_IN_PCK</th>\n",
       "      <td>1</td>\n",
       "      <td>0</td>\n",
       "      <td>1</td>\n",
       "      <td>2</td>\n",
       "    </tr>\n",
       "    <tr>\n",
       "      <th>HYDRATE_IN_PRODUCTION_LINE</th>\n",
       "      <td>0</td>\n",
       "      <td>8</td>\n",
       "      <td>0</td>\n",
       "      <td>8</td>\n",
       "    </tr>\n",
       "    <tr>\n",
       "      <th>Total</th>\n",
       "      <td>102</td>\n",
       "      <td>94</td>\n",
       "      <td>2</td>\n",
       "      <td>198</td>\n",
       "    </tr>\n",
       "  </tbody>\n",
       "</table>\n",
       "</div>"
      ],
      "text/plain": [
       "                            real_count  simul_count  drawn_count  soma\n",
       "anomaly                                                               \n",
       "NORMAL                              59            0            0    59\n",
       "ABRUPT_INCREASE_BSW                  1           11            1    13\n",
       "SPURIOUS_CLOSURE_DHSV                2            2            0     4\n",
       "SEVERE_SLUGGING                      3            7            0    10\n",
       "FLOW_INSTABILITY                    34            0            0    34\n",
       "RAPID_PRODUCTIVITY_LOSS              1           44            0    45\n",
       "QUICK_RESTRICTION_PCK                1           22            0    23\n",
       "SCALING_IN_PCK                       1            0            1     2\n",
       "HYDRATE_IN_PRODUCTION_LINE           0            8            0     8\n",
       "Total                              102           94            2   198"
      ]
     },
     "execution_count": 14,
     "metadata": {},
     "output_type": "execute_result"
    }
   ],
   "source": [
    "rdi.RawDataInspector.generate_table_by_anomaly_source(validation_metadata.get_metadata_table())"
   ]
  },
  {
   "attachments": {},
   "cell_type": "markdown",
   "metadata": {},
   "source": [
    "Tabela de anomalias por tipo de fonte - teste."
   ]
  },
  {
   "cell_type": "code",
   "execution_count": 15,
   "metadata": {},
   "outputs": [
    {
     "data": {
      "text/html": [
       "<div>\n",
       "<style scoped>\n",
       "    .dataframe tbody tr th:only-of-type {\n",
       "        vertical-align: middle;\n",
       "    }\n",
       "\n",
       "    .dataframe tbody tr th {\n",
       "        vertical-align: top;\n",
       "    }\n",
       "\n",
       "    .dataframe thead th {\n",
       "        text-align: right;\n",
       "    }\n",
       "</style>\n",
       "<table border=\"1\" class=\"dataframe\">\n",
       "  <thead>\n",
       "    <tr style=\"text-align: right;\">\n",
       "      <th></th>\n",
       "      <th>real_count</th>\n",
       "      <th>simul_count</th>\n",
       "      <th>drawn_count</th>\n",
       "      <th>soma</th>\n",
       "    </tr>\n",
       "    <tr>\n",
       "      <th>anomaly</th>\n",
       "      <th></th>\n",
       "      <th></th>\n",
       "      <th></th>\n",
       "      <th></th>\n",
       "    </tr>\n",
       "  </thead>\n",
       "  <tbody>\n",
       "    <tr>\n",
       "      <th>NORMAL</th>\n",
       "      <td>119</td>\n",
       "      <td>0</td>\n",
       "      <td>0</td>\n",
       "      <td>119</td>\n",
       "    </tr>\n",
       "    <tr>\n",
       "      <th>ABRUPT_INCREASE_BSW</th>\n",
       "      <td>1</td>\n",
       "      <td>23</td>\n",
       "      <td>2</td>\n",
       "      <td>26</td>\n",
       "    </tr>\n",
       "    <tr>\n",
       "      <th>SPURIOUS_CLOSURE_DHSV</th>\n",
       "      <td>4</td>\n",
       "      <td>3</td>\n",
       "      <td>0</td>\n",
       "      <td>7</td>\n",
       "    </tr>\n",
       "    <tr>\n",
       "      <th>SEVERE_SLUGGING</th>\n",
       "      <td>7</td>\n",
       "      <td>15</td>\n",
       "      <td>0</td>\n",
       "      <td>22</td>\n",
       "    </tr>\n",
       "    <tr>\n",
       "      <th>FLOW_INSTABILITY</th>\n",
       "      <td>69</td>\n",
       "      <td>0</td>\n",
       "      <td>0</td>\n",
       "      <td>69</td>\n",
       "    </tr>\n",
       "    <tr>\n",
       "      <th>RAPID_PRODUCTIVITY_LOSS</th>\n",
       "      <td>2</td>\n",
       "      <td>88</td>\n",
       "      <td>0</td>\n",
       "      <td>90</td>\n",
       "    </tr>\n",
       "    <tr>\n",
       "      <th>QUICK_RESTRICTION_PCK</th>\n",
       "      <td>1</td>\n",
       "      <td>43</td>\n",
       "      <td>0</td>\n",
       "      <td>44</td>\n",
       "    </tr>\n",
       "    <tr>\n",
       "      <th>SCALING_IN_PCK</th>\n",
       "      <td>1</td>\n",
       "      <td>0</td>\n",
       "      <td>2</td>\n",
       "      <td>3</td>\n",
       "    </tr>\n",
       "    <tr>\n",
       "      <th>HYDRATE_IN_PRODUCTION_LINE</th>\n",
       "      <td>0</td>\n",
       "      <td>16</td>\n",
       "      <td>0</td>\n",
       "      <td>16</td>\n",
       "    </tr>\n",
       "    <tr>\n",
       "      <th>Total</th>\n",
       "      <td>204</td>\n",
       "      <td>188</td>\n",
       "      <td>4</td>\n",
       "      <td>396</td>\n",
       "    </tr>\n",
       "  </tbody>\n",
       "</table>\n",
       "</div>"
      ],
      "text/plain": [
       "                            real_count  simul_count  drawn_count  soma\n",
       "anomaly                                                               \n",
       "NORMAL                             119            0            0   119\n",
       "ABRUPT_INCREASE_BSW                  1           23            2    26\n",
       "SPURIOUS_CLOSURE_DHSV                4            3            0     7\n",
       "SEVERE_SLUGGING                      7           15            0    22\n",
       "FLOW_INSTABILITY                    69            0            0    69\n",
       "RAPID_PRODUCTIVITY_LOSS              2           88            0    90\n",
       "QUICK_RESTRICTION_PCK                1           43            0    44\n",
       "SCALING_IN_PCK                       1            0            2     3\n",
       "HYDRATE_IN_PRODUCTION_LINE           0           16            0    16\n",
       "Total                              204          188            4   396"
      ]
     },
     "execution_count": 15,
     "metadata": {},
     "output_type": "execute_result"
    }
   ],
   "source": [
    "rdi.RawDataInspector.generate_table_by_anomaly_source(test_metadata.get_metadata_table())"
   ]
  },
  {
   "attachments": {},
   "cell_type": "markdown",
   "metadata": {},
   "source": [
    "# Procesamento de dados"
   ]
  },
  {
   "attachments": {},
   "cell_type": "markdown",
   "metadata": {},
   "source": [
    "Remoção de valores extremos."
   ]
  },
  {
   "cell_type": "code",
   "execution_count": 16,
   "metadata": {},
   "outputs": [
    {
     "name": "stderr",
     "output_type": "stream",
     "text": [
      "DONE: 100%|██████████| 1384/1384 [00:18<00:00, 74.24it/s]"
     ]
    },
    {
     "data": {
      "text/plain": [
       "[681, 702, 821, 1054, 1068, 1285, 1290, 1297, 1301]"
      ]
     },
     "execution_count": 16,
     "metadata": {},
     "output_type": "execute_result"
    },
    {
     "name": "stderr",
     "output_type": "stream",
     "text": [
      "\n"
     ]
    }
   ],
   "source": [
    "from parallelbar import progress_map\n",
    "\n",
    "def is_event_path_values_valid(event_path):\n",
    "    event = rda.get_event(event_path)\n",
    "    return TransformationManager.is_event_values_valid(event)\n",
    "\n",
    "valid_index_list = progress_map(is_event_path_values_valid, train_metadata.get_metadata_table()['path'].to_list())\n",
    "\n",
    "non_valid_ids = [index for index, value in enumerate(valid_index_list) if value == False]\n",
    "non_valid_ids"
   ]
  },
  {
   "cell_type": "code",
   "execution_count": 17,
   "metadata": {},
   "outputs": [
    {
     "name": "stdout",
     "output_type": "stream",
     "text": [
      "stating size is: 1384\n",
      "final size is: 1375\n"
     ]
    }
   ],
   "source": [
    "valid_train_metadata = train_metadata.get_metadata_table().copy()\n",
    "print(\"stating size is:\", len(valid_train_metadata))\n",
    "\n",
    "valid_train_metadata.drop(valid_train_metadata.index[non_valid_ids], inplace=True, axis='index')\n",
    "print(\"final size is:\", len(valid_train_metadata))"
   ]
  },
  {
   "attachments": {},
   "cell_type": "markdown",
   "metadata": {},
   "source": [
    "Pegar valores da média dos valores e do desvio padrão."
   ]
  },
  {
   "cell_type": "code",
   "execution_count": 18,
   "metadata": {},
   "outputs": [
    {
     "name": "stderr",
     "output_type": "stream",
     "text": [
      "DONE: 100%|██████████| 1375/1375 [00:07<00:00, 181.55it/s]\n",
      "DEBUG:absl:Mean of means was adquired\n",
      "             P-PDG         P-TPT       T-TPT     P-MON-CKP   T-JUS-CKP  \\\n",
      "0     0.000000e+00  8.715824e+06  117.581821  1.539264e+06   77.332955   \n",
      "1     4.203851e+07  1.806945e+07  118.569073  2.492268e+06   79.545939   \n",
      "2     4.485805e+07  2.114707e+07  116.569785  1.224582e+07   61.885166   \n",
      "3     0.000000e+00  2.078830e+07  106.345925  1.150086e+07   67.224899   \n",
      "4     0.000000e+00  7.431188e+06  115.475035  1.654020e+06   68.952580   \n",
      "...            ...           ...         ...           ...         ...   \n",
      "1370  2.424625e+07  1.511253e+07   44.579236  2.051035e+06   26.684643   \n",
      "1371  1.539201e+07  8.925425e+06  120.387588  4.042629e+06   94.437207   \n",
      "1372  2.077121e+07  1.138257e+07  119.183729  4.102729e+06   88.286792   \n",
      "1373  1.660494e+07  9.154420e+06  122.202564  4.044520e+06  101.257945   \n",
      "1374  1.898863e+07  1.076657e+07  116.316665  4.090173e+06   78.424427   \n",
      "\n",
      "        P-JUS-CKGL       QGL  \n",
      "0     2.320418e+06  0.000000  \n",
      "1     6.233022e+06  0.000000  \n",
      "2     1.446720e+05  0.000000  \n",
      "3     1.326475e+09       NaN  \n",
      "4     2.330222e+06  0.000000  \n",
      "...            ...       ...  \n",
      "1370  1.865296e+07  1.154268  \n",
      "1371           NaN       NaN  \n",
      "1372           NaN       NaN  \n",
      "1373           NaN       NaN  \n",
      "1374           NaN       NaN  \n",
      "\n",
      "[1375 rows x 7 columns]\n",
      "DEBUG:absl:Processed means was adquired\n",
      "P-PDG         1.647858e+07\n",
      "P-TPT         1.517916e+07\n",
      "T-TPT         1.061071e+02\n",
      "P-MON-CKP     4.741109e+06\n",
      "T-JUS-CKP     7.889183e+01\n",
      "P-JUS-CKGL    3.574706e+08\n",
      "QGL           2.570021e-01\n",
      "dtype: float64\n",
      "DONE: 100%|██████████| 1375/1375 [00:09<00:00, 151.44it/s]\n",
      "DEBUG:absl:Mean of stds was adquired\n",
      "             P-PDG         P-TPT      T-TPT     P-MON-CKP  T-JUS-CKP  \\\n",
      "0     1.647904e+07  6.463903e+06  11.478982  3.212530e+06   1.727077   \n",
      "1     2.701387e+07  2.890380e+06  12.462322  2.248905e+06   0.654169   \n",
      "2     2.838026e+07  5.968078e+06  10.462980  7.504916e+06  17.007236   \n",
      "3     1.647904e+07  5.609292e+06   0.240751  6.759939e+06  11.667263   \n",
      "4     1.647904e+07  7.748507e+06   9.369548  3.095773e+06   9.971827   \n",
      "...            ...           ...        ...           ...        ...   \n",
      "1370  7.776290e+06  1.085233e+06  62.735812  3.047972e+06  52.606847   \n",
      "1371  1.278025e+06  6.280455e+06  14.289148  6.988569e+05  15.673318   \n",
      "1372  4.494980e+06  4.038515e+06  13.110020  6.441687e+05   9.821022   \n",
      "1373  7.071998e+05  6.052875e+06  16.097921  6.969077e+05  22.403965   \n",
      "1374  2.736071e+06  4.562892e+06  10.304955  6.571536e+05   4.655479   \n",
      "\n",
      "        P-JUS-CKGL       QGL  \n",
      "0     3.551601e+08  0.257009  \n",
      "1     3.512474e+08  0.257009  \n",
      "2     3.573359e+08  0.257009  \n",
      "3     9.690322e+08 -0.000000  \n",
      "4     3.551503e+08  0.257009  \n",
      "...            ...       ...  \n",
      "1370  3.388336e+08  1.066863  \n",
      "1371 -0.000000e+00 -0.000000  \n",
      "1372 -0.000000e+00 -0.000000  \n",
      "1373 -0.000000e+00 -0.000000  \n",
      "1374 -0.000000e+00 -0.000000  \n",
      "\n",
      "[1375 rows x 7 columns]\n",
      "DEBUG:absl:Processed stds was adquired\n",
      "P-PDG         1.203992e+07\n",
      "P-TPT         3.679432e+06\n",
      "T-TPT         1.639070e+01\n",
      "P-MON-CKP     3.069288e+06\n",
      "T-JUS-CKP     1.881297e+01\n",
      "P-JUS-CKGL    2.496955e+08\n",
      "QGL           1.625997e-01\n",
      "dtype: float64\n"
     ]
    },
    {
     "data": {
      "text/html": [
       "<div>\n",
       "<style scoped>\n",
       "    .dataframe tbody tr th:only-of-type {\n",
       "        vertical-align: middle;\n",
       "    }\n",
       "\n",
       "    .dataframe tbody tr th {\n",
       "        vertical-align: top;\n",
       "    }\n",
       "\n",
       "    .dataframe thead th {\n",
       "        text-align: right;\n",
       "    }\n",
       "</style>\n",
       "<table border=\"1\" class=\"dataframe\">\n",
       "  <thead>\n",
       "    <tr style=\"text-align: right;\">\n",
       "      <th></th>\n",
       "      <th>mean_of_means</th>\n",
       "      <th>mean_of_stds</th>\n",
       "    </tr>\n",
       "  </thead>\n",
       "  <tbody>\n",
       "    <tr>\n",
       "      <th>P-PDG</th>\n",
       "      <td>1.647858e+07</td>\n",
       "      <td>1.203992e+07</td>\n",
       "    </tr>\n",
       "    <tr>\n",
       "      <th>P-TPT</th>\n",
       "      <td>1.517916e+07</td>\n",
       "      <td>3.679432e+06</td>\n",
       "    </tr>\n",
       "    <tr>\n",
       "      <th>T-TPT</th>\n",
       "      <td>1.061071e+02</td>\n",
       "      <td>1.639070e+01</td>\n",
       "    </tr>\n",
       "    <tr>\n",
       "      <th>P-MON-CKP</th>\n",
       "      <td>4.741109e+06</td>\n",
       "      <td>3.069288e+06</td>\n",
       "    </tr>\n",
       "    <tr>\n",
       "      <th>T-JUS-CKP</th>\n",
       "      <td>7.889183e+01</td>\n",
       "      <td>1.881297e+01</td>\n",
       "    </tr>\n",
       "    <tr>\n",
       "      <th>P-JUS-CKGL</th>\n",
       "      <td>3.574706e+08</td>\n",
       "      <td>2.496955e+08</td>\n",
       "    </tr>\n",
       "    <tr>\n",
       "      <th>QGL</th>\n",
       "      <td>2.570021e-01</td>\n",
       "      <td>1.625997e-01</td>\n",
       "    </tr>\n",
       "  </tbody>\n",
       "</table>\n",
       "</div>"
      ],
      "text/plain": [
       "            mean_of_means  mean_of_stds\n",
       "P-PDG        1.647858e+07  1.203992e+07\n",
       "P-TPT        1.517916e+07  3.679432e+06\n",
       "T-TPT        1.061071e+02  1.639070e+01\n",
       "P-MON-CKP    4.741109e+06  3.069288e+06\n",
       "T-JUS-CKP    7.889183e+01  1.881297e+01\n",
       "P-JUS-CKGL   3.574706e+08  2.496955e+08\n",
       "QGL          2.570021e-01  1.625997e-01"
      ]
     },
     "execution_count": 18,
     "metadata": {},
     "output_type": "execute_result"
    }
   ],
   "source": [
    "from data_exploration.metric_acquisition import MetricAcquisition\n",
    "\n",
    "cache_file_name = \"all_data_metrics\"\n",
    "\n",
    "metric_aquisition = MetricAcquisition(valid_train_metadata)\n",
    "mean_and_std_metric_table = metric_aquisition.get_mean_and_std_metric(\n",
    "    cache_file_name=cache_file_name,\n",
    "    use_cache=False\n",
    ")\n",
    "\n",
    "mean_metric_list = mean_and_std_metric_table['mean_of_means']\n",
    "std_metric_list = mean_and_std_metric_table['mean_of_stds']\n",
    "mean_and_std_metric_table"
   ]
  },
  {
   "attachments": {},
   "cell_type": "markdown",
   "metadata": {},
   "source": [
    "Realizar a transformação dos dados."
   ]
  },
  {
   "cell_type": "code",
   "execution_count": null,
   "metadata": {},
   "outputs": [],
   "source": [
    "selected_variables = [\"P-PDG\", \"P-TPT\", \"T-TPT\", \"P-MON-CKP\", \n",
    "                      \"T-JUS-CKP\", \"P-JUS-CKGL\", \"class\"]\n",
    "transformation_param_sample_interval_seconds=60\n",
    "transformation_param_num_timesteps_for_window=20"
   ]
  },
  {
   "cell_type": "code",
   "execution_count": 19,
   "metadata": {},
   "outputs": [
    {
     "name": "stderr",
     "output_type": "stream",
     "text": [
      "DEBUG:absl:TransformationManager initialized with 1375 items.\n",
      "            Folder name is dataset_converted_v10101_split-20_source-all_class-all_well-all_train.\n",
      "DONE: 100%|██████████| 1375/1375 [00:26<00:00, 52.86it/s]"
     ]
    },
    {
     "name": "stderr",
     "output_type": "stream",
     "text": [
      "\n"
     ]
    }
   ],
   "source": [
    "train_tranformed_folder_name = split_train_dir.name\n",
    "validation_tranformed_folder_name = split_validation_dir.name\n",
    "test_tranformed_folder_name = split_test_dir.name\n",
    "\n",
    "train_transformation_manager = TransformationManager(\n",
    "    valid_train_metadata, \n",
    "    output_folder_base_name=train_tranformed_folder_name\n",
    ")\n",
    "validation_transformation_manager = TransformationManager(\n",
    "    validation_metadata, \n",
    "    output_folder_base_name=validation_tranformed_folder_name\n",
    ")\n",
    "test_transformation_manager = TransformationManager(\n",
    "    test_metadata, \n",
    "    output_folder_base_name=test_tranformed_folder_name\n",
    ")\n",
    "\n",
    "\n",
    "train_transformation_manager.apply_transformations_to_table(\n",
    "    output_parent_dir=storage_config.DIR_PROJECT_DATA,\n",
    "    selected_variables=selected_variables,\n",
    "    sample_interval_seconds=transformation_param_sample_interval_seconds,\n",
    "    num_timesteps_for_window=transformation_param_num_timesteps_for_window,\n",
    "    avg_variable_mean=mean_metric_list,\n",
    "    avg_variable_std_dev=std_metric_list,\n",
    ")\n",
    "\n",
    "# validation, test"
   ]
  },
  {
   "attachments": {},
   "cell_type": "markdown",
   "metadata": {},
   "source": [
    "# Verificação dos dados\n",
    "\n",
    "Garantir que os dados processados estão dentro das especificações esperadas."
   ]
  },
  {
   "attachments": {},
   "cell_type": "markdown",
   "metadata": {},
   "source": [
    "Obter lista dos arquivos a serem usados no treinamento."
   ]
  },
  {
   "cell_type": "code",
   "execution_count": 19,
   "metadata": {},
   "outputs": [
    {
     "name": "stderr",
     "output_type": "stream",
     "text": [
      "INFO:absl:Processing 475 events of class type 0.\n"
     ]
    },
    {
     "data": {
      "application/vnd.jupyter.widget-view+json": {
       "model_id": "80322d6519bd4323a822da1f961ab2c8",
       "version_major": 2,
       "version_minor": 0
      },
      "text/plain": [
       "DONE:   0%|          | 0/475 [00:00<?, ?it/s]"
      ]
     },
     "metadata": {},
     "output_type": "display_data"
    },
    {
     "name": "stderr",
     "output_type": "stream",
     "text": [
      "INFO:absl:Processing 275 events of class type 4.\n"
     ]
    },
    {
     "data": {
      "application/vnd.jupyter.widget-view+json": {
       "model_id": "887ae5a7baf6416ab526b957deec8ede",
       "version_major": 2,
       "version_minor": 0
      },
      "text/plain": [
       "DONE:   0%|          | 0/275 [00:00<?, ?it/s]"
      ]
     },
     "metadata": {},
     "output_type": "display_data"
    },
    {
     "name": "stderr",
     "output_type": "stream",
     "text": [
      "INFO:absl:Processing 356 events of class type 5.\n"
     ]
    },
    {
     "data": {
      "application/vnd.jupyter.widget-view+json": {
       "model_id": "809a1c7a05e14059b368df3132588cae",
       "version_major": 2,
       "version_minor": 0
      },
      "text/plain": [
       "DONE:   0%|          | 0/356 [00:00<?, ?it/s]"
      ]
     },
     "metadata": {},
     "output_type": "display_data"
    },
    {
     "name": "stderr",
     "output_type": "stream",
     "text": [
      "INFO:absl:Processing 102 events of class type 1.\n"
     ]
    },
    {
     "data": {
      "application/vnd.jupyter.widget-view+json": {
       "model_id": "66328f2103f24280aa1639bdcc9b3317",
       "version_major": 2,
       "version_minor": 0
      },
      "text/plain": [
       "DONE:   0%|          | 0/102 [00:00<?, ?it/s]"
      ]
     },
     "metadata": {},
     "output_type": "display_data"
    },
    {
     "name": "stderr",
     "output_type": "stream",
     "text": [
      "INFO:absl:Processing 11 events of class type 7.\n"
     ]
    },
    {
     "data": {
      "application/vnd.jupyter.widget-view+json": {
       "model_id": "a400773db37049b89905bb713bf77c19",
       "version_major": 2,
       "version_minor": 0
      },
      "text/plain": [
       "DONE:   0%|          | 0/11 [00:00<?, ?it/s]"
      ]
     },
     "metadata": {},
     "output_type": "display_data"
    },
    {
     "name": "stderr",
     "output_type": "stream",
     "text": [
      "INFO:absl:Processing 177 events of class type 6.\n"
     ]
    },
    {
     "data": {
      "application/vnd.jupyter.widget-view+json": {
       "model_id": "d0c756d58a4441ba94082f842eb5af1c",
       "version_major": 2,
       "version_minor": 0
      },
      "text/plain": [
       "DONE:   0%|          | 0/177 [00:00<?, ?it/s]"
      ]
     },
     "metadata": {},
     "output_type": "display_data"
    },
    {
     "name": "stderr",
     "output_type": "stream",
     "text": [
      "INFO:absl:Processing 65 events of class type 8.\n"
     ]
    },
    {
     "data": {
      "application/vnd.jupyter.widget-view+json": {
       "model_id": "d8b906314948430ead26a90dce5ccbbc",
       "version_major": 2,
       "version_minor": 0
      },
      "text/plain": [
       "DONE:   0%|          | 0/65 [00:00<?, ?it/s]"
      ]
     },
     "metadata": {},
     "output_type": "display_data"
    },
    {
     "name": "stderr",
     "output_type": "stream",
     "text": [
      "INFO:absl:Processing 26 events of class type 2.\n"
     ]
    },
    {
     "data": {
      "application/vnd.jupyter.widget-view+json": {
       "model_id": "60288de9617547fab41cdaf35dac6dd8",
       "version_major": 2,
       "version_minor": 0
      },
      "text/plain": [
       "DONE:   0%|          | 0/26 [00:00<?, ?it/s]"
      ]
     },
     "metadata": {},
     "output_type": "display_data"
    },
    {
     "name": "stderr",
     "output_type": "stream",
     "text": [
      "INFO:absl:Processing 84 events of class type 3.\n"
     ]
    },
    {
     "data": {
      "application/vnd.jupyter.widget-view+json": {
       "model_id": "22518ae11ac140c7ba86fb6b1888aa32",
       "version_major": 2,
       "version_minor": 0
      },
      "text/plain": [
       "DONE:   0%|          | 0/84 [00:00<?, ?it/s]"
      ]
     },
     "metadata": {},
     "output_type": "display_data"
    },
    {
     "name": "stderr",
     "output_type": "stream",
     "text": [
      "INFO:absl:Found 9.\n"
     ]
    },
    {
     "name": "stdout",
     "output_type": "stream",
     "text": [
      "There are 1571 files available\n"
     ]
    }
   ],
   "source": [
    "# Get transformed files paths\n",
    "train_tranformed_dataset_dir = (\n",
    "    config.DIR_PROJECT_DATA / \n",
    "    (TransformationManager.TRANSFORMATION_NAME_PREFIX + train_tranformed_folder_name))\n",
    "\n",
    "train_transformed_inspector = rdi.RawDataInspector(\n",
    "    train_tranformed_dataset_dir,\n",
    "    config.DIR_PROJECT_CACHE / \"inspector_transformed_all_data_train.parquet\",\n",
    "    False\n",
    ")\n",
    "train_transformed_metadata = train_transformed_inspector.get_metadata_table()\n",
    "train_transformed_data_file_path_list = train_transformed_metadata[\"path\"]\n",
    "print(\"There are\", len(train_transformed_data_file_path_list), \"files available\")\n",
    "\n",
    "\n",
    "def data_generator_loop(file_path_list):\n",
    "    \"\"\"Generator returning batches of data for each file path\"\"\"\n",
    "    while True:\n",
    "        for file_path in file_path_list:\n",
    "            X, y = TransformationManager.retrieve_pair_array(pathlib.Path(file_path))\n",
    "            yield X, y\n",
    "\n",
    "def data_generator_non_loop(file_path_list):\n",
    "    \"\"\"Generator returning batches of data for each file path\"\"\"\n",
    "    for file_path in file_path_list:\n",
    "        X, y = TransformationManager.retrieve_pair_array(pathlib.Path(file_path))\n",
    "        yield X, y"
   ]
  },
  {
   "attachments": {},
   "cell_type": "markdown",
   "metadata": {},
   "source": [
    "Exemplo de um par X, y."
   ]
  },
  {
   "cell_type": "code",
   "execution_count": 20,
   "metadata": {},
   "outputs": [
    {
     "data": {
      "text/plain": [
       "(array([[ 0.75864691, -0.49551917,  0.23780831, -1.5446273 , -4.28331258,\n",
       "         -1.45382636, -1.65118699],\n",
       "        [ 0.75860551, -0.4954927 ,  0.23708512, -1.5446273 , -4.28331258,\n",
       "         -1.45402941, -1.65118699],\n",
       "        [ 0.75856625, -0.49558206,  0.23822585, -1.5446273 , -4.28331258,\n",
       "         -1.45384658, -1.65118699],\n",
       "        [ 0.75865375, -0.49557074,  0.23817012, -1.5446273 , -4.28331258,\n",
       "         -1.45475668, -1.65118699],\n",
       "        [ 0.75858676, -0.49601851,  0.23770066, -1.5446273 , -4.28331258,\n",
       "         -1.45514094, -1.65118699],\n",
       "        [ 0.75855635, -0.49631682,  0.23736162, -1.5446273 , -4.28331258,\n",
       "         -1.45511546, -1.65118699],\n",
       "        [ 0.75855014, -0.49600999,  0.23863968, -1.5446273 , -4.28331258,\n",
       "         -1.45545321, -1.65118699],\n",
       "        [ 0.7586058 , -0.49574217,  0.23899128, -1.5446273 , -4.28331258,\n",
       "         -1.45551064, -1.65118699],\n",
       "        [ 0.75856347, -0.49542799,  0.2375416 , -1.5446273 , -4.28331258,\n",
       "         -1.45528381, -1.65118699],\n",
       "        [ 0.75857084, -0.49583896,  0.23700508, -1.5446273 , -4.28331258,\n",
       "         -1.45488159, -1.65118699],\n",
       "        [ 0.75855781, -0.49532974,  0.237603  , -1.5446273 , -4.28331258,\n",
       "         -1.45474535, -1.65118699],\n",
       "        [ 0.75859521, -0.49527437,  0.23697438, -1.5446273 , -4.28331258,\n",
       "         -1.45416936, -1.65118699],\n",
       "        [ 0.75859485, -0.49526666,  0.23785344, -1.5446273 , -4.28331258,\n",
       "         -1.45467174, -1.65118699],\n",
       "        [ 0.75857046, -0.49538249,  0.237883  , -1.5446273 , -4.28331258,\n",
       "         -1.45505519, -1.65118699],\n",
       "        [ 0.75858634, -0.49554413,  0.23785498, -1.5446273 , -4.28331258,\n",
       "         -1.45522831, -1.65118699],\n",
       "        [ 0.75854737, -0.49513769,  0.23811449, -1.5446273 , -4.28331258,\n",
       "         -1.45446302, -1.65118699],\n",
       "        [ 0.7584992 , -0.49550009,  0.23875413, -1.5446273 , -4.28331258,\n",
       "         -1.45416936, -1.65118699],\n",
       "        [ 0.75855509, -0.49513633,  0.23794286, -1.5446273 , -4.28331258,\n",
       "         -1.45422437, -1.65118699],\n",
       "        [ 0.75853386, -0.49504869,  0.23657662, -1.5446273 , -4.28331258,\n",
       "         -1.45435907, -1.65118699],\n",
       "        [ 0.75852662, -0.49540084,  0.23712241, -1.5446273 , -4.28331258,\n",
       "         -1.45416936, -1.65118699]]),\n",
       " array([1., 0., 0., 0., 0., 0., 0., 0., 0.], dtype=float32))"
      ]
     },
     "execution_count": 20,
     "metadata": {},
     "output_type": "execute_result"
    }
   ],
   "source": [
    "example_transformed_file_path = train_transformed_data_file_path_list[0]\n",
    "X_transformed_ex, y_transformed_ex = TransformationManager.retrieve_pair_array(pathlib.Path(example_transformed_file_path))\n",
    "\n",
    "X_transformed_ex[0], y_transformed_ex[0]"
   ]
  },
  {
   "attachments": {},
   "cell_type": "markdown",
   "metadata": {},
   "source": [
    "Verificar valores mínimos e máximos dos dados."
   ]
  },
  {
   "cell_type": "code",
   "execution_count": 35,
   "metadata": {},
   "outputs": [],
   "source": [
    "X_min_list = []\n",
    "X_max_list = []\n",
    "y_avg = []\n",
    "\n",
    "for path in train_transformed_data_file_path_list:\n",
    "    X, y = TransformationManager.retrieve_pair_array(pathlib.Path(path))\n",
    "    X_min_list.append(np.min(np.min(X, axis=0), axis=0))\n",
    "    X_max_list.append(np.max(np.max(X, axis=0), axis=0))\n",
    "    y_avg.append(np.sum(y, axis=0) / len(y))\n",
    "\n",
    "X_min_list = np.array(X_min_list)\n",
    "X_max_list = np.array(X_max_list)\n",
    "y_avg = np.array(y_avg)"
   ]
  },
  {
   "cell_type": "code",
   "execution_count": 22,
   "metadata": {},
   "outputs": [
    {
     "name": "stdout",
     "output_type": "stream",
     "text": [
      "Minimum minimum values:\n",
      " [-10.75886275  -4.12173948  -6.55237227  -1.5446273   -4.37451683\n",
      "  -1.46790608  -1.65118699]\n",
      "\n",
      "\n",
      "Minimum average values:\n",
      " [-0.10074786 -0.27392489 -1.00984543 -0.24732616 -0.47394007 -0.79176123\n",
      " -1.11980315]\n",
      "\n",
      "\n",
      "Minimum maximum values:\n",
      " [2.36497267 2.05474575 1.32479209 2.46095192 5.13621461 6.79733987\n",
      " 9.87521034]\n"
     ]
    }
   ],
   "source": [
    "# Regarding minimum values of X\n",
    "print(\"Minimum minimum values:\\n\", X_min_list.min(axis=0))\n",
    "\n",
    "print(\"\\n\\nMinimum average values:\\n\", X_min_list.mean(axis=0))\n",
    "\n",
    "print(\"\\n\\nMinimum maximum values:\\n\", X_min_list.max(axis=0))"
   ]
  },
  {
   "cell_type": "code",
   "execution_count": 23,
   "metadata": {},
   "outputs": [
    {
     "name": "stdout",
     "output_type": "stream",
     "text": [
      "Maximum minimum values:\n",
      " [-1.95128059 -4.12173948 -6.55237227 -1.5446273  -4.28331258 -1.46790608\n",
      " -1.65118699]\n",
      "\n",
      "\n",
      "Maximum average values:\n",
      " [ 0.09014727  0.25617844 -0.45679081  0.02910067  0.05816041 -0.77589883\n",
      " -0.92244018]\n",
      "\n",
      "\n",
      "Maximum maximum values:\n",
      " [ 2.36497267  4.7185472   1.34340171  2.70682883  5.13621461 14.22992377\n",
      " 14.19088608]\n"
     ]
    }
   ],
   "source": [
    "# Regarding max values of X\n",
    "print(\"Maximum minimum values:\\n\", X_max_list.min(axis=0))\n",
    "\n",
    "print(\"\\n\\nMaximum average values:\\n\", X_max_list.mean(axis=0))\n",
    "\n",
    "print(\"\\n\\nMaximum maximum values:\\n\", X_max_list.max(axis=0))"
   ]
  },
  {
   "cell_type": "code",
   "execution_count": 24,
   "metadata": {},
   "outputs": [
    {
     "data": {
      "text/plain": [
       "<matplotlib.collections.PathCollection at 0x7f59c42c7f70>"
      ]
     },
     "execution_count": 24,
     "metadata": {},
     "output_type": "execute_result"
    },
    {
     "data": {
      "image/png": "[encoded data removed]",
      "text/plain": [
       "<Figure size 640x480 with 1 Axes>"
      ]
     },
     "metadata": {},
     "output_type": "display_data"
    }
   ],
   "source": [
    "import matplotlib.pyplot as plt\n",
    "\n",
    "variable_index = 6\n",
    "plt.scatter(X_max_list[:, variable_index], X_max_list[:, variable_index], alpha=0.2)"
   ]
  },
  {
   "cell_type": "code",
   "execution_count": 34,
   "metadata": {},
   "outputs": [
    {
     "data": {
      "text/plain": [
       "array([-6.30359201e-04, -2.76826875e-02, -7.60865505e-01, -5.22171510e-02,\n",
       "       -2.13618105e-01, -7.88481113e-01, -1.01930234e+00])"
      ]
     },
     "execution_count": 34,
     "metadata": {},
     "output_type": "execute_result"
    }
   ],
   "source": [
    "np.mean(np.mean(y_avg, axis=0), axis=0)"
   ]
  },
  {
   "cell_type": "code",
   "execution_count": 36,
   "metadata": {},
   "outputs": [
    {
     "name": "stdout",
     "output_type": "stream",
     "text": [
      "Mean y minimum values:\n",
      " [0. 0. 0. 0. 0. 0. 0. 0. 0.]\n",
      "\n",
      "\n",
      "Mean y average values:\n",
      " [0.32054594 0.05876751 0.01269103 0.05346913 0.17504774 0.22561859\n",
      " 0.10799521 0.00554481 0.04031898]\n",
      "\n",
      "\n",
      "Mean y maximum values:\n",
      " [1.         0.99120235 0.9521127  1.         1.         1.\n",
      " 0.97447795 0.9465409  0.97447795]\n"
     ]
    }
   ],
   "source": [
    "# Regarding mean values of y\n",
    "print(\"Mean y minimum values:\\n\", y_avg.min(axis=0))\n",
    "\n",
    "print(\"\\n\\nMean y average values:\\n\", y_avg.mean(axis=0))\n",
    "\n",
    "print(\"\\n\\nMean y maximum values:\\n\", y_avg.max(axis=0))"
   ]
  },
  {
   "cell_type": "code",
   "execution_count": 26,
   "metadata": {},
   "outputs": [
    {
     "data": {
      "text/plain": [
       "array([1571.,    0.,    0.,    0.,    0.,    0.,    0.,    0.,    0.],\n",
       "      dtype=float32)"
      ]
     },
     "execution_count": 26,
     "metadata": {},
     "output_type": "execute_result"
    }
   ],
   "source": [
    "y_avg.sum(axis=0)"
   ]
  },
  {
   "attachments": {},
   "cell_type": "markdown",
   "metadata": {},
   "source": [
    "Analisando exemplo de tranformação para ver problemas com a label output."
   ]
  },
  {
   "cell_type": "code",
   "execution_count": 28,
   "metadata": {},
   "outputs": [
    {
     "ename": "NameError",
     "evalue": "name 'bad_data' is not defined",
     "output_type": "error",
     "traceback": [
      "\u001b[0;31m---------------------------------------------------------------------------\u001b[0m",
      "\u001b[0;31mNameError\u001b[0m                                 Traceback (most recent call last)",
      "\u001b[0;32m/tmp/ipykernel_57348/3570931212.py\u001b[0m in \u001b[0;36m<cell line: 2>\u001b[0;34m()\u001b[0m\n\u001b[1;32m      1\u001b[0m \u001b[0;32mfrom\u001b[0m \u001b[0mdata_exploration\u001b[0m \u001b[0;32mimport\u001b[0m \u001b[0mvisualization_helper\u001b[0m \u001b[0;32mas\u001b[0m \u001b[0mvisual\u001b[0m\u001b[0;34m\u001b[0m\u001b[0;34m\u001b[0m\u001b[0m\n\u001b[0;32m----> 2\u001b[0;31m \u001b[0mvisual\u001b[0m\u001b[0;34m.\u001b[0m\u001b[0mdisplay_entire_event\u001b[0m\u001b[0;34m(\u001b[0m\u001b[0mbad_data\u001b[0m\u001b[0;34m,\u001b[0m \u001b[0;36m1\u001b[0m\u001b[0;34m,\u001b[0m \u001b[0;32mTrue\u001b[0m\u001b[0;34m,\u001b[0m \u001b[0;34m'linear'\u001b[0m\u001b[0;34m,\u001b[0m \u001b[0mlang\u001b[0m\u001b[0;34m=\u001b[0m\u001b[0;34m'pt'\u001b[0m\u001b[0;34m)\u001b[0m\u001b[0;34m\u001b[0m\u001b[0;34m\u001b[0m\u001b[0m\n\u001b[0m",
      "\u001b[0;31mNameError\u001b[0m: name 'bad_data' is not defined"
     ]
    }
   ],
   "source": [
    "#from data_exploration import visualization_helper as visual\n",
    "#visual.display_entire_event(bad_data, 1, True, 'linear', lang='pt')"
   ]
  },
  {
   "attachments": {},
   "cell_type": "markdown",
   "metadata": {},
   "source": [
    "# Modelagem"
   ]
  },
  {
   "attachments": {},
   "cell_type": "markdown",
   "metadata": {},
   "source": [
    "Montagem da estrutura do modelo."
   ]
  },
  {
   "cell_type": "code",
   "execution_count": 37,
   "metadata": {},
   "outputs": [
    {
     "name": "stdout",
     "output_type": "stream",
     "text": [
      "Model: \"sequential\"\n",
      "_________________________________________________________________\n",
      " Layer (type)                Output Shape              Param #   \n",
      "=================================================================\n",
      " lstm (LSTM)                 (None, 50)                11600     \n",
      "                                                                 \n",
      " dropout (Dropout)           (None, 50)                0         \n",
      "                                                                 \n",
      " dense (Dense)               (None, 100)               5100      \n",
      "                                                                 \n",
      " dense_1 (Dense)             (None, 9)                 909       \n",
      "                                                                 \n",
      "=================================================================\n",
      "Total params: 17609 (68.79 KB)\n",
      "Trainable params: 17609 (68.79 KB)\n",
      "Non-trainable params: 0 (0.00 Byte)\n",
      "_________________________________________________________________\n"
     ]
    }
   ],
   "source": [
    "from tensorflow.keras import Sequential, optimizers\n",
    "from tensorflow.keras.layers import LSTM, Dense, Dropout\n",
    "from constants import module_constants\n",
    "\n",
    "num_features = X_transformed_ex.shape[2]\n",
    "num_outputs = module_constants.num_class_types\n",
    "\n",
    "model = Sequential()\n",
    "model.add(LSTM(50, activation='relu', input_shape=(transformation_param_num_timesteps_for_window, num_features)))\n",
    "model.add(Dropout(0.5))\n",
    "model.add(Dense(100, activation='relu'))\n",
    "model.add(Dense(num_outputs, activation='softmax'))\n",
    "\n",
    "optimizer = optimizers.Adam(learning_rate=0.001)\n",
    "model.compile(loss='categorical_crossentropy', optimizer=optimizer, metrics=['accuracy'])\n",
    "model.summary()"
   ]
  },
  {
   "attachments": {},
   "cell_type": "markdown",
   "metadata": {},
   "source": [
    "Treinamento do modelo."
   ]
  },
  {
   "cell_type": "code",
   "execution_count": 38,
   "metadata": {},
   "outputs": [
    {
     "name": "stdout",
     "output_type": "stream",
     "text": [
      "Epoch 1/15\n",
      "1571/1571 [==============================] - 34s 21ms/step - loss: 2.0525 - accuracy: 0.6757\n",
      "Epoch 2/15\n",
      "1571/1571 [==============================] - 31s 20ms/step - loss: 1.1192 - accuracy: 0.7215\n",
      "Epoch 3/15\n",
      "1571/1571 [==============================] - 31s 20ms/step - loss: 0.9287 - accuracy: 0.7682\n",
      "Epoch 4/15\n",
      "1571/1571 [==============================] - 30s 19ms/step - loss: 0.6974 - accuracy: 0.8111\n",
      "Epoch 5/15\n",
      "1571/1571 [==============================] - 31s 20ms/step - loss: 0.5367 - accuracy: 0.8394\n",
      "Epoch 6/15\n",
      "1571/1571 [==============================] - 30s 19ms/step - loss: 0.4609 - accuracy: 0.8536\n",
      "Epoch 7/15\n",
      "1571/1571 [==============================] - 31s 19ms/step - loss: 0.4510 - accuracy: 0.8689\n",
      "Epoch 8/15\n",
      "1571/1571 [==============================] - 30s 19ms/step - loss: 0.4007 - accuracy: 0.8748\n",
      "Epoch 9/15\n",
      "1571/1571 [==============================] - 30s 19ms/step - loss: 0.5242 - accuracy: 0.8749\n",
      "Epoch 10/15\n",
      "1571/1571 [==============================] - 31s 20ms/step - loss: 0.4543 - accuracy: 0.8730\n",
      "Epoch 11/15\n",
      "1571/1571 [==============================] - 32s 21ms/step - loss: 0.4431 - accuracy: 0.8731\n",
      "Epoch 12/15\n",
      "1571/1571 [==============================] - 31s 20ms/step - loss: 0.4000 - accuracy: 0.8876\n",
      "Epoch 13/15\n",
      "1571/1571 [==============================] - 30s 19ms/step - loss: 0.3588 - accuracy: 0.8893\n",
      "Epoch 14/15\n",
      "1571/1571 [==============================] - 32s 20ms/step - loss: 0.4127 - accuracy: 0.8856\n",
      "Epoch 15/15\n",
      "1571/1571 [==============================] - 30s 19ms/step - loss: 0.3868 - accuracy: 0.8843\n"
     ]
    },
    {
     "data": {
      "text/plain": [
       "<keras.src.callbacks.History at 0x7f59c4306380>"
      ]
     },
     "execution_count": 38,
     "metadata": {},
     "output_type": "execute_result"
    }
   ],
   "source": [
    "num_epochs = 15\n",
    "# times the generator (data_gen) should be called to complete one full pass through your training dataset\n",
    "steps_per_epoch = len(train_transformed_data_file_path_list)\n",
    "\n",
    "\n",
    "train_data_gen = data_generator_loop(train_transformed_data_file_path_list)\n",
    "\n",
    "\n",
    "# Train the model\n",
    "model.fit(\n",
    "    train_data_gen, \n",
    "    steps_per_epoch=steps_per_epoch,\n",
    "    epochs=num_epochs, \n",
    "    verbose=1\n",
    ")"
   ]
  },
  {
   "attachments": {},
   "cell_type": "markdown",
   "metadata": {},
   "source": [
    "Ver se está funcionando com um exemplo."
   ]
  },
  {
   "cell_type": "code",
   "execution_count": null,
   "metadata": {},
   "outputs": [],
   "source": [
    "import numpy as np\n",
    "test_file = train_transformed_data_file_path_list[-1]\n",
    "print(test_file)\n",
    "\n",
    "Xhat, yhat = TransformationManager.retrieve_pair_array(pathlib.Path(test_file))\n",
    "print(f\"True value: {yhat[0]}\")\n",
    "\n",
    "Xhat0 = Xhat[0].reshape(1, transformation_param_num_timesteps_for_window, num_features)\n",
    "print(f\"Predicted value: {model.predict(Xhat0)}\")"
   ]
  },
  {
   "attachments": {},
   "cell_type": "markdown",
   "metadata": {},
   "source": [
    "# Validação\n",
    "Aqui pegaremos nosso banco de testes, o transformaremos, para então o utilizar para validar a perfomance do nosso modelo."
   ]
  },
  {
   "attachments": {},
   "cell_type": "markdown",
   "metadata": {},
   "source": [
    "Obter lista de arquivos usados para a validação."
   ]
  },
  {
   "cell_type": "code",
   "execution_count": null,
   "metadata": {},
   "outputs": [],
   "source": [
    "test_tranformed_folder_name = split_test_dir.name\n",
    "\n",
    "test_transformation_manager = TransformationManager(\n",
    "    test_metadata.get_metadata_table(), \n",
    "    output_folder_base_name=test_tranformed_folder_name\n",
    ")\n",
    "\n",
    "test_transformation_manager.apply_transformations_to_table(\n",
    "    output_parent_dir=config.DIR_PROJECT_DATA,\n",
    "    sample_interval_seconds=transformation_param_sample_interval_seconds,\n",
    "    num_timesteps_for_window=transformation_param_num_timesteps_for_window,\n",
    "    avg_variable_mean=mean_metric_list,\n",
    "    avg_variable_std_dev=std_metric_list,\n",
    ")\n",
    "\n",
    "# Get transformed files paths\n",
    "test_tranformed_dataset_dir = (\n",
    "    config.DIR_PROJECT_DATA / \n",
    "    (TransformationManager.TRANSFORMATION_NAME_PREFIX + test_tranformed_folder_name)\n",
    ")\n",
    "\n",
    "test_transformed_inspector = rdi.RawDataInspector(\n",
    "    test_tranformed_dataset_dir,\n",
    "    config.DIR_PROJECT_CACHE / \"inspector_transformed_all_data_test.parquet\",\n",
    "    True\n",
    ")\n",
    "test_transformed_metadata = test_transformed_inspector.get_metadata_table()\n",
    "test_transformed_file_path_list = test_transformed_metadata[\"path\"]\n",
    "test_transformed_file_path_list"
   ]
  },
  {
   "cell_type": "markdown",
   "metadata": {},
   "source": []
  },
  {
   "cell_type": "code",
   "execution_count": null,
   "metadata": {},
   "outputs": [],
   "source": [
    "test_data_gen = data_generator_non_loop(test_transformed_file_path_list)\n",
    "num_steps = len(test_transformed_file_path_list)\n",
    "\n",
    "model.evaluate(\n",
    "    test_data_gen,\n",
    "    verbose=1,\n",
    ")"
   ]
  },
  {
   "cell_type": "code",
   "execution_count": null,
   "metadata": {},
   "outputs": [],
   "source": [
    "test_data_gen = data_generator_non_loop(test_transformed_file_path_list)\n",
    "\n",
    "y_test_predictions = model.predict(\n",
    "    test_data_gen,\n",
    ")\n",
    "\n",
    "(\n",
    "    f\"Number of predictions: {len(y_test_predictions)}\", \n",
    "    f\"Shape of y array: {y_test_predictions.shape}\", \n",
    "    y_test_predictions[0]\n",
    ")"
   ]
  },
  {
   "cell_type": "code",
   "execution_count": null,
   "metadata": {},
   "outputs": [],
   "source": [
    "test_data_gen = data_generator_non_loop(test_transformed_file_path_list)\n",
    "y_test_labels = []\n",
    "\n",
    "for X, y in test_data_gen:\n",
    "    y_test_labels.append(y)\n",
    "\n",
    "y_test_labels = np.concatenate(y_test_labels, axis=0)\n",
    "\n",
    "(\n",
    "    f\"Number of predictions: {len(y_test_labels)}\", \n",
    "    f\"Shape of y array: {y_test_labels.shape}\", \n",
    "    y_test_labels[0],\n",
    ")"
   ]
  },
  {
   "cell_type": "code",
   "execution_count": null,
   "metadata": {},
   "outputs": [],
   "source": [
    "from tensorflow.math import confusion_matrix\n",
    "\n",
    "y_test_labels_1d = np.argmax(y_test_labels, axis=1)\n",
    "y_test_predictions_1d = np.argmax(y_test_predictions, axis=1)\n",
    "\n",
    "confusion_matrix(\n",
    "    y_test_labels_1d,\n",
    "    y_test_predictions_1d,\n",
    "    num_classes=num_outputs,\n",
    ")"
   ]
  }
 ],
 "metadata": {
  "kernelspec": {
   "display_name": ".venv",
   "language": "python",
   "name": "python3"
  },
  "language_info": {
   "codemirror_mode": {
    "name": "ipython",
    "version": 3
   },
   "file_extension": ".py",
   "mimetype": "text/x-python",
   "name": "python",
   "nbconvert_exporter": "python",
   "pygments_lexer": "ipython3",
   "version": "3.10.12"
  },
  "orig_nbformat": 4,
  "vscode": {
   "interpreter": {
    "hash": "f76451b3a7719b8fd32adab79b436fd06da7a0268f14fa2684341b59d3c3b3e7"
   }
  }
 },
 "nbformat": 4,
 "nbformat_minor": 2
}
