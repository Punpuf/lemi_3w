{
 "cells": [
  {
   "cell_type": "code",
   "execution_count": null,
   "metadata": {},
   "outputs": [],
   "source": [
    "%load_ext tensorboard\n",
    "%tensorboard --logdir logs"
   ]
  },
  {
   "cell_type": "code",
   "execution_count": 3,
   "metadata": {},
   "outputs": [
    {
     "data": {
      "text/plain": [
       "{'model_type': 'lstm-stacked',\n",
       " 'lstm_vanilla_units': 65,\n",
       " 'dropout': True,\n",
       " 'dense_units': 130,\n",
       " 'lr': 0.000256573859028217,\n",
       " 'lstm_stacked_1_units': 50,\n",
       " 'lstm_stacked_2_units': 85,\n",
       " 'tuner/epochs': 9,\n",
       " 'tuner/initial_epoch': 3,\n",
       " 'tuner/bracket': 2,\n",
       " 'tuner/round': 2,\n",
       " 'tuner/trial_id': '0010',\n",
       " 'lstm_bidirectional_units': 75}"
      ]
     },
     "execution_count": 3,
     "metadata": {},
     "output_type": "execute_result"
    }
   ],
   "source": [
    "import pickle\n",
    "import keras_tuner\n",
    "# Open the pickle file for reading\n",
    "path_best_params = \"../.cache/param_search/all_data_20231116-050822.pkl\"\n",
    "\n",
    "with open(path_best_params, 'rb') as file:\n",
    "    # Load the data from the file\n",
    "    best_params = pickle.load(file)\n",
    "\n",
    "# Now 'data' contains the contents of the pickle file\n",
    "best_params.values"
   ]
  },
  {
   "cell_type": "code",
   "execution_count": 15,
   "metadata": {},
   "outputs": [],
   "source": [
    "import sys\n",
    "sys.path.append(\"..\")\n",
    "\n",
    "# Environment configuration\n",
    "import raw_data_manager.raw_data_acquisition as rda\n",
    "import raw_data_manager.raw_data_inspector as rdi\n",
    "import raw_data_manager.raw_data_splitter as rds\n",
    "from data_exploration.metric_acquisition import MetricAcquisition\n",
    "from data_preparation.transformation_manager import TransformationManager\n",
    "from constants import storage_config\n",
    "import pathlib\n",
    "import numpy as np\n",
    "import random\n",
    "import pickle\n",
    "import matplotlib.pyplot as plt\n",
    "\n",
    "\n",
    "# Set default logging level.\n",
    "from absl import logging\n",
    "logging.set_verbosity(logging.DEBUG)"
   ]
  },
  {
   "cell_type": "code",
   "execution_count": 12,
   "metadata": {},
   "outputs": [
    {
     "name": "stderr",
     "output_type": "stream",
     "text": [
      "INFO:absl:Processing 416 events of class type 0.\n",
      "DONE: 100%|██████████| 416/416 [00:00<00:00, 2346.61it/s]\n",
      "INFO:absl:Processing 241 events of class type 4.\n",
      "DONE:  18%|█▊        | 43/241 [00:00<00:00, 426.21it/s]INFO:absl:Processing 312 events of class type 5.\n",
      "DONE: 100%|██████████| 241/241 [00:00<00:00, 1809.32it/s]\n",
      "DONE: 100%|██████████| 312/312 [00:00<00:00, 1902.79it/s]\n",
      "INFO:absl:Processing 89 events of class type 1.\n",
      "DONE: 100%|██████████| 89/89 [00:00<00:00, 640.50it/s]\n",
      "INFO:absl:Processing 9 events of class type 7.\n",
      "DONE:  33%|███▎      | 3/9 [00:00<00:00, 29.73it/s]INFO:absl:Processing 154 events of class type 6.\n",
      "DONE: 100%|██████████| 9/9 [00:00<00:00, 64.90it/s]\n",
      "DONE:  12%|█▏        | 19/154 [00:00<00:00, 187.40it/s]INFO:absl:Processing 57 events of class type 8.\n",
      "DONE: 100%|██████████| 154/154 [00:00<00:00, 1002.18it/s]\n",
      "DONE: 100%|██████████| 57/57 [00:00<00:00, 519.46it/s]INFO:absl:Processing 23 events of class type 2.\n",
      "DONE: 100%|██████████| 57/57 [00:00<00:00, 507.27it/s]\n",
      "DONE: 100%|██████████| 23/23 [00:00<00:00, 283.33it/s]\n",
      "INFO:absl:Processing 74 events of class type 3.\n",
      "DONE: 100%|██████████| 74/74 [00:00<00:00, 524.16it/s]INFO:absl:Found 9.\n",
      "\n",
      "INFO:absl:Processing 59 events of class type 0.\n",
      "DONE: 100%|██████████| 59/59 [00:00<00:00, 454.08it/s]INFO:absl:Processing 34 events of class type 4.\n",
      "\n",
      "DONE: 100%|██████████| 34/34 [00:00<00:00, 222.83it/s]\n",
      "INFO:absl:Processing 45 events of class type 5.\n",
      "DONE: 100%|██████████| 45/45 [00:00<00:00, 303.32it/s]\n",
      "INFO:absl:Processing 13 events of class type 1.\n",
      "DONE:   0%|          | 0/13 [00:00<?, ?it/s]INFO:absl:Processing 2 events of class type 7.\n",
      "DONE: 100%|██████████| 13/13 [00:00<00:00, 125.88it/s]\n",
      "DONE:   0%|          | 0/2 [00:00<?, ?it/s]INFO:absl:Processing 23 events of class type 6.\n",
      "DONE: 100%|██████████| 2/2 [00:00<00:00, 24.40it/s]\n",
      "DONE:  30%|███       | 7/23 [00:00<00:00, 69.77it/s]INFO:absl:Processing 8 events of class type 8.\n",
      "DONE: 100%|██████████| 23/23 [00:00<00:00, 143.17it/s]\n",
      "DONE:  88%|████████▊ | 7/8 [00:00<00:00, 69.85it/s]INFO:absl:Processing 4 events of class type 2.\n",
      "DONE: 100%|██████████| 8/8 [00:00<00:00, 58.61it/s]\n",
      "DONE: 100%|██████████| 4/4 [00:00<00:00, 24.24it/s]\n",
      "INFO:absl:Processing 10 events of class type 3.\n",
      "DONE: 100%|██████████| 10/10 [00:00<00:00, 94.15it/s]\n",
      "INFO:absl:Found 9.\n",
      "INFO:absl:Processing 119 events of class type 0.\n",
      "DONE: 100%|██████████| 119/119 [00:00<00:00, 814.35it/s]\n",
      "INFO:absl:Processing 69 events of class type 4.\n",
      "DONE: 100%|██████████| 69/69 [00:00<00:00, 487.01it/s]\n",
      "INFO:absl:Processing 90 events of class type 5.\n",
      "DONE: 100%|██████████| 90/90 [00:00<00:00, 620.29it/s]\n",
      "INFO:absl:Processing 26 events of class type 1.\n",
      "DONE: 100%|██████████| 26/26 [00:00<00:00, 193.22it/s]\n",
      "INFO:absl:Processing 2 events of class type 7.\n",
      "DONE:   0%|          | 0/2 [00:00<?, ?it/s]INFO:absl:Processing 44 events of class type 6.\n",
      "DONE: 100%|██████████| 2/2 [00:00<00:00, 18.83it/s]\n",
      "DONE: 100%|██████████| 44/44 [00:00<00:00, 362.18it/s]INFO:absl:Processing 16 events of class type 8.\n",
      "\n",
      "DONE: 100%|██████████| 16/16 [00:00<00:00, 103.38it/s]INFO:absl:Processing 7 events of class type 2.\n",
      "\n",
      "DONE: 100%|██████████| 7/7 [00:00<00:00, 60.44it/s]\n",
      "INFO:absl:Processing 22 events of class type 3.\n",
      "DONE: 100%|██████████| 22/22 [00:00<00:00, 245.53it/s]\n",
      "INFO:absl:Found 9.\n"
     ]
    }
   ],
   "source": [
    "# Get transformed files paths\n",
    "TRANSFORMATION_NAME_PREFIX = \"transform-isdt-\"\n",
    "train_tranformed_folder_name = \"dataset_converted_v10101_split-20_source-all_class-all_well-all_train\"\n",
    "test_tranformed_folder_name = \"dataset_converted_v10101_split-20_source-all_class-all_well-all_test\"\n",
    "validation_tranformed_folder_name = \"dataset_converted_v10101_split-20_source-all_class-all_well-all_validation\"\n",
    "\n",
    "train_tranformed_dataset_dir = storage_config.DIR_PROJECT_DATA / (TRANSFORMATION_NAME_PREFIX + train_tranformed_folder_name)\n",
    "validation_tranformed_dataset_dir = storage_config.DIR_PROJECT_DATA / (TRANSFORMATION_NAME_PREFIX + validation_tranformed_folder_name)\n",
    "test_tranformed_dataset_dir = storage_config.DIR_PROJECT_DATA / (TRANSFORMATION_NAME_PREFIX + test_tranformed_folder_name)\n",
    "\n",
    "# Generate inspectors for the transformed data\n",
    "train_inspector_converted = rdi.RawDataInspector(\n",
    "    train_tranformed_dataset_dir,\n",
    "    storage_config.DIR_PROJECT_CACHE / \"all_wells_transformed-train.parquet\",\n",
    "    use_cached=False\n",
    ")\n",
    "validation_inspector_transformed = rdi.RawDataInspector(\n",
    "    validation_tranformed_dataset_dir,\n",
    "    storage_config.DIR_PROJECT_CACHE / \"all_wells_transformed-validation.parquet\",\n",
    "    use_cached=False\n",
    ")\n",
    "test_inspector_transformed = rdi.RawDataInspector(\n",
    "    test_tranformed_dataset_dir,\n",
    "    storage_config.DIR_PROJECT_CACHE / \"all_wells_transformed-test.parquet\",\n",
    "    use_cached=False\n",
    ")\n",
    "\n",
    "# Get list of paths for the events in each of the data groups (train, val, test)\n",
    "train_metadata_converted = train_inspector_converted.get_metadata_table()\n",
    "train_transformed_file_path_list = train_metadata_converted[\"path\"].to_list()\n",
    "\n",
    "validation_metadata_transformed = validation_inspector_transformed.get_metadata_table()\n",
    "validation_transformed_file_path_list = validation_metadata_transformed[\"path\"].to_list()\n",
    "\n",
    "test_metadata_transformed = test_inspector_transformed.get_metadata_table()\n",
    "test_transformed_file_path_list = test_metadata_transformed[\"path\"].to_list()\n",
    "\n",
    "# shuffle\n",
    "random.shuffle(train_transformed_file_path_list)\n",
    "random.shuffle(validation_transformed_file_path_list)\n",
    "random.shuffle(test_transformed_file_path_list)"
   ]
  },
  {
   "cell_type": "code",
   "execution_count": 13,
   "metadata": {},
   "outputs": [],
   "source": [
    "train_data_gen = TransformationManager.data_generator_loop(train_transformed_file_path_list)\n",
    "validation_data_gen = TransformationManager.data_generator_loop(validation_transformed_file_path_list)\n",
    "test_data_gen = TransformationManager.data_generator_loop(test_transformed_file_path_list)"
   ]
  },
  {
   "cell_type": "code",
   "execution_count": 8,
   "metadata": {},
   "outputs": [],
   "source": [
    "from tensorflow import keras, math\n",
    "import keras_tuner\n",
    "from raw_data_manager.models import EventClassType"
   ]
  },
  {
   "cell_type": "code",
   "execution_count": 9,
   "metadata": {},
   "outputs": [
    {
     "data": {
      "text/plain": [
       "<keras.src.engine.sequential.Sequential at 0x7f0344cffb80>"
      ]
     },
     "execution_count": 9,
     "metadata": {},
     "output_type": "execute_result"
    }
   ],
   "source": [
    "num_features = 6\n",
    "num_outputs = len(EventClassType)\n",
    "\n",
    "transformation_param_sample_interval_seconds=60\n",
    "transformation_param_num_timesteps_for_window=20\n",
    "\n",
    "def build_model(hp: keras_tuner.HyperParameters):\n",
    "    model_type = hp.Choice(\"model_type\", \n",
    "                           [\"lstm-vanilla\", \n",
    "                            \"lstm-stacked\", \n",
    "                            \"lstm-bidirectional\"])\n",
    "\n",
    "    model = keras.Sequential()\n",
    "    match model_type:\n",
    "        case \"lstm-vanilla\":\n",
    "            model.add(keras.layers.LSTM(\n",
    "                hp.Int('lstm_vanilla_units', min_value=5, max_value=100, step=5), \n",
    "                activation='relu', \n",
    "                input_shape=(transformation_param_num_timesteps_for_window, num_features)))\n",
    "        case \"lstm-stacked\":\n",
    "            model.add(keras.layers.LSTM(\n",
    "                hp.Int('lstm_stacked_1_units', min_value=5, max_value=100, step=5), \n",
    "                activation='relu', \n",
    "                return_sequences=True,\n",
    "                input_shape=(transformation_param_num_timesteps_for_window, num_features)))\n",
    "            \n",
    "            model.add(keras.layers.LSTM(\n",
    "                hp.Int('lstm_stacked_2_units', min_value=5, max_value=100, step=5), \n",
    "                activation='relu', ))\n",
    "        case \"lstm-bidirectional\":\n",
    "            model.add(keras.layers.Bidirectional(keras.layers.LSTM(\n",
    "                hp.Int('lstm_bidirectional_units', min_value=5, max_value=100, step=5), \n",
    "                activation='relu', \n",
    "                input_shape=(transformation_param_num_timesteps_for_window, num_features))))\n",
    "            \n",
    "    if hp.Boolean(\"dropout\"):\n",
    "        model.add(keras.layers.Dropout(0.5))\n",
    "    \n",
    "    model.add(keras.layers.Dense(\n",
    "        hp.Int('dense_units', min_value=20, max_value=200, step=10),\n",
    "        activation='relu'))\n",
    "    \n",
    "    model.add(keras.layers.Dense(num_outputs, activation='softmax'))\n",
    "\n",
    "    # compiling model\n",
    "    learning_rate = hp.Float(\"lr\", min_value=1e-5, max_value=1e-1, sampling=\"log\")\n",
    "    model.compile(\n",
    "        loss='categorical_crossentropy', \n",
    "        optimizer=keras.optimizers.Adam(learning_rate=learning_rate), \n",
    "        metrics=['accuracy'],\n",
    "    )\n",
    "    return model\n",
    "\n",
    "# check the model can compile\n",
    "build_model(keras_tuner.HyperParameters())"
   ]
  },
  {
   "cell_type": "code",
   "execution_count": 14,
   "metadata": {},
   "outputs": [
    {
     "name": "stdout",
     "output_type": "stream",
     "text": [
      "Epoch 1/50\n",
      "1375/1375 [==============================] - 100s 71ms/step - loss: 1.2782 - accuracy: 0.5816 - val_loss: 0.7222 - val_accuracy: 0.8064\n",
      "Epoch 2/50\n",
      "1375/1375 [==============================] - 95s 69ms/step - loss: 0.6438 - accuracy: 0.8105 - val_loss: 0.6634 - val_accuracy: 0.8210\n",
      "Epoch 3/50\n",
      "1375/1375 [==============================] - 95s 69ms/step - loss: 0.4505 - accuracy: 0.8570 - val_loss: 0.5471 - val_accuracy: 0.8623\n",
      "Epoch 4/50\n",
      "1375/1375 [==============================] - 95s 69ms/step - loss: 0.4400 - accuracy: 0.8647 - val_loss: 0.4262 - val_accuracy: 0.8861\n",
      "Epoch 5/50\n",
      "1375/1375 [==============================] - 95s 69ms/step - loss: 0.3512 - accuracy: 0.8818 - val_loss: 0.4922 - val_accuracy: 0.9357\n",
      "Epoch 6/50\n",
      "1375/1375 [==============================] - 95s 69ms/step - loss: 0.3295 - accuracy: 0.8907 - val_loss: 0.6366 - val_accuracy: 0.9189\n",
      "Epoch 7/50\n",
      "1375/1375 [==============================] - 95s 69ms/step - loss: 0.3031 - accuracy: 0.9033 - val_loss: 0.8892 - val_accuracy: 0.8965\n",
      "Epoch 8/50\n",
      "1375/1375 [==============================] - 95s 69ms/step - loss: 0.2864 - accuracy: 0.9141 - val_loss: 0.7662 - val_accuracy: 0.9390\n",
      "Epoch 9/50\n",
      "1375/1375 [==============================] - 95s 69ms/step - loss: 0.2596 - accuracy: 0.9218 - val_loss: 0.8796 - val_accuracy: 0.9162\n",
      "Epoch 10/50\n",
      "1375/1375 [==============================] - 95s 69ms/step - loss: 0.2752 - accuracy: 0.9142 - val_loss: 0.5861 - val_accuracy: 0.9347\n",
      "Epoch 11/50\n",
      "1375/1375 [==============================] - 95s 69ms/step - loss: 0.2298 - accuracy: 0.9278 - val_loss: 0.7152 - val_accuracy: 0.9107\n",
      "Epoch 12/50\n",
      "1375/1375 [==============================] - 95s 69ms/step - loss: 0.2319 - accuracy: 0.9282 - val_loss: 0.8578 - val_accuracy: 0.9154\n",
      "Epoch 13/50\n",
      "1375/1375 [==============================] - 94s 69ms/step - loss: 0.2359 - accuracy: 0.9254 - val_loss: 1.0560 - val_accuracy: 0.9033\n",
      "Epoch 14/50\n",
      "1375/1375 [==============================] - 95s 69ms/step - loss: 0.2161 - accuracy: 0.9318 - val_loss: 1.0800 - val_accuracy: 0.9287\n",
      "Epoch 15/50\n",
      "1375/1375 [==============================] - 94s 69ms/step - loss: 0.2100 - accuracy: 0.9352 - val_loss: 1.2852 - val_accuracy: 0.9458\n",
      "Epoch 16/50\n",
      "1375/1375 [==============================] - 94s 69ms/step - loss: 0.2208 - accuracy: 0.9331 - val_loss: 1.6260 - val_accuracy: 0.9435\n",
      "Epoch 17/50\n",
      "1375/1375 [==============================] - 94s 68ms/step - loss: 0.2289 - accuracy: 0.9278 - val_loss: 0.9202 - val_accuracy: 0.9469\n",
      "Epoch 18/50\n",
      "1375/1375 [==============================] - 94s 69ms/step - loss: 0.1915 - accuracy: 0.9381 - val_loss: 1.1835 - val_accuracy: 0.9458\n",
      "Epoch 19/50\n",
      "1375/1375 [==============================] - 95s 69ms/step - loss: 0.2050 - accuracy: 0.9363 - val_loss: 1.7540 - val_accuracy: 0.9371\n",
      "Epoch 20/50\n",
      "1375/1375 [==============================] - 96s 70ms/step - loss: 0.2052 - accuracy: 0.9374 - val_loss: 1.5702 - val_accuracy: 0.9000\n",
      "Epoch 21/50\n",
      "1375/1375 [==============================] - 95s 69ms/step - loss: 0.1992 - accuracy: 0.9353 - val_loss: 1.9804 - val_accuracy: 0.9495\n",
      "Epoch 22/50\n",
      "1375/1375 [==============================] - 98s 71ms/step - loss: 0.1984 - accuracy: 0.9365 - val_loss: 2.0010 - val_accuracy: 0.9500\n",
      "Epoch 23/50\n",
      "1375/1375 [==============================] - 95s 69ms/step - loss: 0.1730 - accuracy: 0.9442 - val_loss: 2.0331 - val_accuracy: 0.9400\n",
      "Epoch 24/50\n",
      "1375/1375 [==============================] - 95s 69ms/step - loss: 0.1823 - accuracy: 0.9408 - val_loss: 2.0741 - val_accuracy: 0.9418\n",
      "Epoch 25/50\n",
      "1375/1375 [==============================] - 95s 69ms/step - loss: 0.2205 - accuracy: 0.9347 - val_loss: 2.4783 - val_accuracy: 0.9464\n",
      "Epoch 26/50\n",
      "1375/1375 [==============================] - 95s 69ms/step - loss: 0.1718 - accuracy: 0.9437 - val_loss: 2.8546 - val_accuracy: 0.9478\n",
      "Epoch 27/50\n",
      "1375/1375 [==============================] - 95s 69ms/step - loss: 0.1704 - accuracy: 0.9446 - val_loss: 3.6751 - val_accuracy: 0.9433\n",
      "Epoch 28/50\n",
      "1375/1375 [==============================] - 96s 69ms/step - loss: 0.1700 - accuracy: 0.9461 - val_loss: 3.1540 - val_accuracy: 0.9441\n",
      "Epoch 29/50\n",
      "1375/1375 [==============================] - 95s 69ms/step - loss: 0.3316 - accuracy: 0.9393 - val_loss: 1.4951 - val_accuracy: 0.9505\n",
      "Epoch 30/50\n",
      "1375/1375 [==============================] - 94s 69ms/step - loss: 0.1661 - accuracy: 0.9441 - val_loss: 1.8679 - val_accuracy: 0.9503\n",
      "Epoch 31/50\n",
      "1375/1375 [==============================] - 95s 69ms/step - loss: 0.1849 - accuracy: 0.9406 - val_loss: 2.0400 - val_accuracy: 0.9440\n",
      "Epoch 32/50\n",
      "1375/1375 [==============================] - 96s 70ms/step - loss: 0.1737 - accuracy: 0.9448 - val_loss: 2.1882 - val_accuracy: 0.9451\n",
      "Epoch 33/50\n",
      "1375/1375 [==============================] - 97s 70ms/step - loss: 0.1572 - accuracy: 0.9473 - val_loss: 2.2984 - val_accuracy: 0.9449\n",
      "Epoch 34/50\n",
      "1375/1375 [==============================] - 95s 69ms/step - loss: 0.1513 - accuracy: 0.9481 - val_loss: 2.6670 - val_accuracy: 0.9500\n",
      "Epoch 35/50\n",
      "1375/1375 [==============================] - 97s 70ms/step - loss: 0.1538 - accuracy: 0.9475 - val_loss: 3.2945 - val_accuracy: 0.9500\n",
      "Epoch 36/50\n",
      "1375/1375 [==============================] - 95s 69ms/step - loss: 0.2023 - accuracy: 0.9413 - val_loss: 2.9801 - val_accuracy: 0.9348\n",
      "Epoch 37/50\n",
      "1375/1375 [==============================] - 99s 72ms/step - loss: 0.1747 - accuracy: 0.9449 - val_loss: 4.4383 - val_accuracy: 0.9505\n",
      "Epoch 38/50\n",
      "1375/1375 [==============================] - 98s 72ms/step - loss: 0.1489 - accuracy: 0.9492 - val_loss: 2.7823 - val_accuracy: 0.9464\n",
      "Epoch 39/50\n",
      "1375/1375 [==============================] - 97s 71ms/step - loss: 0.1679 - accuracy: 0.9483 - val_loss: 2.1285 - val_accuracy: 0.9457\n",
      "Epoch 40/50\n",
      "1375/1375 [==============================] - 96s 70ms/step - loss: 0.1633 - accuracy: 0.9450 - val_loss: 1.6741 - val_accuracy: 0.9461\n",
      "Epoch 41/50\n",
      "1375/1375 [==============================] - 96s 70ms/step - loss: 0.1490 - accuracy: 0.9489 - val_loss: 1.9400 - val_accuracy: 0.9481\n",
      "Epoch 42/50\n",
      "1375/1375 [==============================] - 97s 71ms/step - loss: 0.1459 - accuracy: 0.9492 - val_loss: 2.2880 - val_accuracy: 0.9532\n",
      "Epoch 43/50\n",
      "1375/1375 [==============================] - 96s 70ms/step - loss: 0.1614 - accuracy: 0.9464 - val_loss: 2.6124 - val_accuracy: 0.9394\n",
      "Epoch 44/50\n",
      "1375/1375 [==============================] - 98s 71ms/step - loss: 0.1540 - accuracy: 0.9469 - val_loss: 2.7461 - val_accuracy: 0.9444\n",
      "Epoch 45/50\n",
      "1375/1375 [==============================] - 95s 69ms/step - loss: 0.1452 - accuracy: 0.9493 - val_loss: 2.8906 - val_accuracy: 0.9437\n",
      "Epoch 46/50\n",
      "1375/1375 [==============================] - 97s 70ms/step - loss: 0.2498 - accuracy: 0.9383 - val_loss: 1.6018 - val_accuracy: 0.9511\n",
      "Epoch 47/50\n",
      "1375/1375 [==============================] - 96s 70ms/step - loss: 0.1614 - accuracy: 0.9471 - val_loss: 1.3989 - val_accuracy: 0.9516\n",
      "Epoch 48/50\n",
      "1375/1375 [==============================] - 96s 70ms/step - loss: 0.1382 - accuracy: 0.9505 - val_loss: 2.3448 - val_accuracy: 0.9468\n",
      "Epoch 49/50\n",
      "1375/1375 [==============================] - 96s 70ms/step - loss: 0.1426 - accuracy: 0.9489 - val_loss: 2.3308 - val_accuracy: 0.9477\n",
      "Epoch 50/50\n",
      "1375/1375 [==============================] - 99s 72ms/step - loss: 0.2173 - accuracy: 0.9427 - val_loss: 2.0096 - val_accuracy: 0.9420\n"
     ]
    },
    {
     "ename": "NameError",
     "evalue": "name 'plt' is not defined",
     "output_type": "error",
     "traceback": [
      "\u001b[0;31m---------------------------------------------------------------------------\u001b[0m",
      "\u001b[0;31mNameError\u001b[0m                                 Traceback (most recent call last)",
      "Cell \u001b[0;32mIn[14], line 32\u001b[0m\n\u001b[1;32m     21\u001b[0m training_history \u001b[39m=\u001b[39m best_model\u001b[39m.\u001b[39mfit(\n\u001b[1;32m     22\u001b[0m     train_data_gen, \n\u001b[1;32m     23\u001b[0m     steps_per_epoch\u001b[39m=\u001b[39msteps_per_epoch,\n\u001b[0;32m   (...)\u001b[0m\n\u001b[1;32m     28\u001b[0m     verbose\u001b[39m=\u001b[39m\u001b[39m1\u001b[39m\n\u001b[1;32m     29\u001b[0m )\n\u001b[1;32m     31\u001b[0m \u001b[39m# Graph of training results history\u001b[39;00m\n\u001b[0;32m---> 32\u001b[0m plt\u001b[39m.\u001b[39mplot(training_history\u001b[39m.\u001b[39mhistory[\u001b[39m'\u001b[39m\u001b[39maccuracy\u001b[39m\u001b[39m'\u001b[39m])\n\u001b[1;32m     33\u001b[0m plt\u001b[39m.\u001b[39mplot(training_history\u001b[39m.\u001b[39mhistory[\u001b[39m'\u001b[39m\u001b[39mval_accuracy\u001b[39m\u001b[39m'\u001b[39m])\n\u001b[1;32m     34\u001b[0m plt\u001b[39m.\u001b[39mtitle(\u001b[39m'\u001b[39m\u001b[39mModel accuracy\u001b[39m\u001b[39m'\u001b[39m)\n",
      "\u001b[0;31mNameError\u001b[0m: name 'plt' is not defined"
     ]
    }
   ],
   "source": [
    "best_model = build_model(best_params)\n",
    "\n",
    "# Training configurations\n",
    "num_epochs = 50\n",
    "steps_per_epoch = len(train_transformed_file_path_list)\n",
    "train_data_gen = TransformationManager.data_generator_loop(train_transformed_file_path_list)\n",
    "early_stopping_callback = keras.callbacks.EarlyStopping(monitor='val_accuracy', patience=10)\n",
    "\n",
    "checkpoint_filepath = storage_config.DIR_PROJECT_CACHE / \"model_weights\" / \"weights.{epoch:02d}-{val_loss:.2f}.hdf5\"\n",
    "checkpoint_filepath.parent.mkdir(parents=True, exist_ok=True)\n",
    "model_checkpoint_callback = keras.callbacks.ModelCheckpoint(\n",
    "    filepath=checkpoint_filepath,\n",
    "    save_weights_only=True,\n",
    "    monitor='val_accuracy',\n",
    "    mode='max',\n",
    "    save_best_only=True)\n",
    "\n",
    "training_history = best_model.fit(\n",
    "    train_data_gen, \n",
    "    steps_per_epoch=steps_per_epoch,\n",
    "    epochs=num_epochs,\n",
    "    validation_data=validation_data_gen,\n",
    "    validation_steps=len(validation_transformed_file_path_list),\n",
    "    callbacks=[early_stopping_callback, model_checkpoint_callback],\n",
    "    verbose=1\n",
    ")"
   ]
  },
  {
   "cell_type": "code",
   "execution_count": 16,
   "metadata": {},
   "outputs": [
    {
     "data": {
      "image/png": "[encoded data removed]",
      "text/plain": [
       "<Figure size 640x480 with 1 Axes>"
      ]
     },
     "metadata": {},
     "output_type": "display_data"
    }
   ],
   "source": [
    "# Graph of training results history\n",
    "plt.plot(training_history.history['accuracy'])\n",
    "plt.plot(training_history.history['val_accuracy'])\n",
    "plt.title('Model accuracy')\n",
    "plt.ylabel('Accuracy')\n",
    "plt.xlabel('epoch')\n",
    "plt.legend(['train', 'val'], loc='upper left')\n",
    "plt.show()\n"
   ]
  },
  {
   "cell_type": "code",
   "execution_count": 17,
   "metadata": {},
   "outputs": [],
   "source": [
    "with open('melhor_modelo_ever_all_data.pkl', 'wb') as file:\n",
    "    pickle.dump(best_model, file)"
   ]
  },
  {
   "cell_type": "code",
   "execution_count": 18,
   "metadata": {},
   "outputs": [
    {
     "name": "stdout",
     "output_type": "stream",
     "text": [
      "395/395 [==============================] - 15s 38ms/step - loss: 1.4804 - accuracy: 0.9328\n"
     ]
    },
    {
     "data": {
      "text/plain": [
       "[1.4804333448410034, 0.9328254461288452]"
      ]
     },
     "execution_count": 18,
     "metadata": {},
     "output_type": "execute_result"
    }
   ],
   "source": [
    "test_data_gen = TransformationManager.data_generator_non_loop(test_transformed_file_path_list)\n",
    "num_steps = len(test_transformed_file_path_list)\n",
    "\n",
    "best_model.evaluate(\n",
    "    test_data_gen,\n",
    "    steps=num_steps,\n",
    "    verbose=1,\n",
    ")"
   ]
  }
 ],
 "metadata": {
  "kernelspec": {
   "display_name": ".venv",
   "language": "python",
   "name": "python3"
  },
  "language_info": {
   "codemirror_mode": {
    "name": "ipython",
    "version": 3
   },
   "file_extension": ".py",
   "mimetype": "text/x-python",
   "name": "python",
   "nbconvert_exporter": "python",
   "pygments_lexer": "ipython3",
   "version": "3.10.12 (main, Jun 11 2023, 05:26:28) [GCC 11.4.0]"
  },
  "orig_nbformat": 4,
  "vscode": {
   "interpreter": {
    "hash": "f76451b3a7719b8fd32adab79b436fd06da7a0268f14fa2684341b59d3c3b3e7"
   }
  }
 },
 "nbformat": 4,
 "nbformat_minor": 2
}
