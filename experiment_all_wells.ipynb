{
 "cells": [
  {
   "attachments": {},
   "cell_type": "markdown",
   "metadata": {},
   "source": [
    "# Experimento com dados de todos os poços\n",
    "\n",
    "Nesse notebook será realizado as tarefas de obtenção de dados, tratamento, modelagem, e validação de dados.\n",
    "O objetivo aqui é obter um classificador de anomalias para dados de todos os poços (aqui será incluido todos os tipos de dados: inclusive dados de fontes simulação e desenhados)."
   ]
  },
  {
   "attachments": {},
   "cell_type": "markdown",
   "metadata": {},
   "source": [
    "## Aquisição de dados"
   ]
  },
  {
   "attachments": {},
   "cell_type": "markdown",
   "metadata": {},
   "source": [
    "Configurando ambiente: "
   ]
  },
  {
   "cell_type": "code",
   "execution_count": 1,
   "metadata": {},
   "outputs": [
    {
     "name": "stderr",
     "output_type": "stream",
     "text": [
      "2023-09-11 14:36:53.347187: I tensorflow/core/util/port.cc:110] oneDNN custom operations are on. You may see slightly different numerical results due to floating-point round-off errors from different computation orders. To turn them off, set the environment variable `TF_ENABLE_ONEDNN_OPTS=0`.\n",
      "2023-09-11 14:36:53.350606: I tensorflow/tsl/cuda/cudart_stub.cc:28] Could not find cuda drivers on your machine, GPU will not be used.\n",
      "2023-09-11 14:36:53.420097: I tensorflow/tsl/cuda/cudart_stub.cc:28] Could not find cuda drivers on your machine, GPU will not be used.\n",
      "2023-09-11 14:36:53.421620: I tensorflow/core/platform/cpu_feature_guard.cc:182] This TensorFlow binary is optimized to use available CPU instructions in performance-critical operations.\n",
      "To enable the following instructions: AVX2 AVX512F AVX512_VNNI FMA, in other operations, rebuild TensorFlow with the appropriate compiler flags.\n",
      "2023-09-11 14:36:54.795831: W tensorflow/compiler/tf2tensorrt/utils/py_utils.cc:38] TF-TRT Warning: Could not find TensorRT\n"
     ]
    }
   ],
   "source": [
    "# Environment configuration\n",
    "import raw_data_manager.raw_data_acquisition as rda\n",
    "import raw_data_manager.raw_data_inspector as rdi\n",
    "import raw_data_manager.raw_data_splitter as rds\n",
    "from data_exploration.metric_acquisition import MetricAcquisition\n",
    "from data_preparation.transformation_manager import TransformationManager\n",
    "from constants import utils, config\n",
    "import pathlib\n",
    "\n",
    "# Set default logging level.\n",
    "from absl import logging\n",
    "logging.set_verbosity(logging.DEBUG)"
   ]
  },
  {
   "attachments": {},
   "cell_type": "markdown",
   "metadata": {},
   "source": [
    "Baixar dataset 3W (se não disponível) & gerar tabela de metadados."
   ]
  },
  {
   "cell_type": "code",
   "execution_count": 2,
   "metadata": {},
   "outputs": [
    {
     "name": "stderr",
     "output_type": "stream",
     "text": [
      "INFO:absl:Directory with the biggest version: /home/ubuntu/lemi_3w/data/dataset_converted_v10101\n",
      "INFO:absl:Version: 10101\n",
      "INFO:absl:Latest local version is 10101\n",
      "INFO:absl:Going to fetch config file from $https://raw.githubusercontent.com/petrobras/3W/main/dataset/dataset.ini\n",
      "  % Total    % Received % Xferd  Average Speed   Time    Time     Time  Current\n",
      "                                 Dload  Upload   Total   Spent    Left  Speed\n",
      "100  2786  100  2786    0     0   6517      0 --:--:-- --:--:-- --:--:--  6524\n",
      "INFO:absl:Latest online version is 10101\n",
      "INFO:absl:Found existing converted data with dataset version of 10101\n",
      "INFO:absl:Directory with the biggest version: /home/ubuntu/lemi_3w/data/dataset_converted_v10101\n",
      "INFO:absl:Version: 10101\n"
     ]
    },
    {
     "data": {
      "text/html": [
       "<div>\n",
       "<style scoped>\n",
       "    .dataframe tbody tr th:only-of-type {\n",
       "        vertical-align: middle;\n",
       "    }\n",
       "\n",
       "    .dataframe tbody tr th {\n",
       "        vertical-align: top;\n",
       "    }\n",
       "\n",
       "    .dataframe thead th {\n",
       "        text-align: right;\n",
       "    }\n",
       "</style>\n",
       "<table border=\"1\" class=\"dataframe\">\n",
       "  <thead>\n",
       "    <tr style=\"text-align: right;\">\n",
       "      <th></th>\n",
       "      <th>class_type</th>\n",
       "      <th>source</th>\n",
       "      <th>well_id</th>\n",
       "      <th>path</th>\n",
       "      <th>timestamp</th>\n",
       "      <th>file_size</th>\n",
       "      <th>num_timesteps</th>\n",
       "    </tr>\n",
       "    <tr>\n",
       "      <th>hash_id</th>\n",
       "      <th></th>\n",
       "      <th></th>\n",
       "      <th></th>\n",
       "      <th></th>\n",
       "      <th></th>\n",
       "      <th></th>\n",
       "      <th></th>\n",
       "    </tr>\n",
       "  </thead>\n",
       "  <tbody>\n",
       "    <tr>\n",
       "      <th>74203bb</th>\n",
       "      <td>NORMAL</td>\n",
       "      <td>REAL</td>\n",
       "      <td>1.0</td>\n",
       "      <td>/home/ubuntu/lemi_3w/data/dataset_converted_v1...</td>\n",
       "      <td>2017-05-24 03:00:00</td>\n",
       "      <td>491415</td>\n",
       "      <td>17885</td>\n",
       "    </tr>\n",
       "    <tr>\n",
       "      <th>9fbd6f9</th>\n",
       "      <td>NORMAL</td>\n",
       "      <td>REAL</td>\n",
       "      <td>2.0</td>\n",
       "      <td>/home/ubuntu/lemi_3w/data/dataset_converted_v1...</td>\n",
       "      <td>2017-08-09 06:00:00</td>\n",
       "      <td>520154</td>\n",
       "      <td>17933</td>\n",
       "    </tr>\n",
       "    <tr>\n",
       "      <th>28804c5</th>\n",
       "      <td>NORMAL</td>\n",
       "      <td>REAL</td>\n",
       "      <td>6.0</td>\n",
       "      <td>/home/ubuntu/lemi_3w/data/dataset_converted_v1...</td>\n",
       "      <td>2017-05-08 09:00:31</td>\n",
       "      <td>349162</td>\n",
       "      <td>17970</td>\n",
       "    </tr>\n",
       "    <tr>\n",
       "      <th>42afe91</th>\n",
       "      <td>NORMAL</td>\n",
       "      <td>REAL</td>\n",
       "      <td>8.0</td>\n",
       "      <td>/home/ubuntu/lemi_3w/data/dataset_converted_v1...</td>\n",
       "      <td>2017-07-01 14:01:35</td>\n",
       "      <td>251880</td>\n",
       "      <td>17799</td>\n",
       "    </tr>\n",
       "    <tr>\n",
       "      <th>fa71d94</th>\n",
       "      <td>NORMAL</td>\n",
       "      <td>REAL</td>\n",
       "      <td>6.0</td>\n",
       "      <td>/home/ubuntu/lemi_3w/data/dataset_converted_v1...</td>\n",
       "      <td>2017-08-23 19:00:00</td>\n",
       "      <td>279737</td>\n",
       "      <td>17949</td>\n",
       "    </tr>\n",
       "    <tr>\n",
       "      <th>...</th>\n",
       "      <td>...</td>\n",
       "      <td>...</td>\n",
       "      <td>...</td>\n",
       "      <td>...</td>\n",
       "      <td>...</td>\n",
       "      <td>...</td>\n",
       "      <td>...</td>\n",
       "    </tr>\n",
       "    <tr>\n",
       "      <th>ea66cf6</th>\n",
       "      <td>SEVERE_SLUGGING</td>\n",
       "      <td>SIMULATED</td>\n",
       "      <td>NaN</td>\n",
       "      <td>/home/ubuntu/lemi_3w/data/dataset_converted_v1...</td>\n",
       "      <td>NaT</td>\n",
       "      <td>2315903</td>\n",
       "      <td>61999</td>\n",
       "    </tr>\n",
       "    <tr>\n",
       "      <th>34f032a</th>\n",
       "      <td>SEVERE_SLUGGING</td>\n",
       "      <td>SIMULATED</td>\n",
       "      <td>NaN</td>\n",
       "      <td>/home/ubuntu/lemi_3w/data/dataset_converted_v1...</td>\n",
       "      <td>NaT</td>\n",
       "      <td>2259539</td>\n",
       "      <td>61999</td>\n",
       "    </tr>\n",
       "    <tr>\n",
       "      <th>876a969</th>\n",
       "      <td>SEVERE_SLUGGING</td>\n",
       "      <td>REAL</td>\n",
       "      <td>14.0</td>\n",
       "      <td>/home/ubuntu/lemi_3w/data/dataset_converted_v1...</td>\n",
       "      <td>2017-09-25 06:00:42</td>\n",
       "      <td>1005717</td>\n",
       "      <td>17959</td>\n",
       "    </tr>\n",
       "    <tr>\n",
       "      <th>deac7ec</th>\n",
       "      <td>SEVERE_SLUGGING</td>\n",
       "      <td>SIMULATED</td>\n",
       "      <td>NaN</td>\n",
       "      <td>/home/ubuntu/lemi_3w/data/dataset_converted_v1...</td>\n",
       "      <td>NaT</td>\n",
       "      <td>2045137</td>\n",
       "      <td>61999</td>\n",
       "    </tr>\n",
       "    <tr>\n",
       "      <th>c8867fa</th>\n",
       "      <td>SEVERE_SLUGGING</td>\n",
       "      <td>SIMULATED</td>\n",
       "      <td>NaN</td>\n",
       "      <td>/home/ubuntu/lemi_3w/data/dataset_converted_v1...</td>\n",
       "      <td>NaT</td>\n",
       "      <td>2359418</td>\n",
       "      <td>61999</td>\n",
       "    </tr>\n",
       "  </tbody>\n",
       "</table>\n",
       "<p>1978 rows × 7 columns</p>\n",
       "</div>"
      ],
      "text/plain": [
       "              class_type     source  well_id  \\\n",
       "hash_id                                        \n",
       "74203bb           NORMAL       REAL      1.0   \n",
       "9fbd6f9           NORMAL       REAL      2.0   \n",
       "28804c5           NORMAL       REAL      6.0   \n",
       "42afe91           NORMAL       REAL      8.0   \n",
       "fa71d94           NORMAL       REAL      6.0   \n",
       "...                  ...        ...      ...   \n",
       "ea66cf6  SEVERE_SLUGGING  SIMULATED      NaN   \n",
       "34f032a  SEVERE_SLUGGING  SIMULATED      NaN   \n",
       "876a969  SEVERE_SLUGGING       REAL     14.0   \n",
       "deac7ec  SEVERE_SLUGGING  SIMULATED      NaN   \n",
       "c8867fa  SEVERE_SLUGGING  SIMULATED      NaN   \n",
       "\n",
       "                                                      path  \\\n",
       "hash_id                                                      \n",
       "74203bb  /home/ubuntu/lemi_3w/data/dataset_converted_v1...   \n",
       "9fbd6f9  /home/ubuntu/lemi_3w/data/dataset_converted_v1...   \n",
       "28804c5  /home/ubuntu/lemi_3w/data/dataset_converted_v1...   \n",
       "42afe91  /home/ubuntu/lemi_3w/data/dataset_converted_v1...   \n",
       "fa71d94  /home/ubuntu/lemi_3w/data/dataset_converted_v1...   \n",
       "...                                                    ...   \n",
       "ea66cf6  /home/ubuntu/lemi_3w/data/dataset_converted_v1...   \n",
       "34f032a  /home/ubuntu/lemi_3w/data/dataset_converted_v1...   \n",
       "876a969  /home/ubuntu/lemi_3w/data/dataset_converted_v1...   \n",
       "deac7ec  /home/ubuntu/lemi_3w/data/dataset_converted_v1...   \n",
       "c8867fa  /home/ubuntu/lemi_3w/data/dataset_converted_v1...   \n",
       "\n",
       "                  timestamp  file_size  num_timesteps  \n",
       "hash_id                                                \n",
       "74203bb 2017-05-24 03:00:00     491415          17885  \n",
       "9fbd6f9 2017-08-09 06:00:00     520154          17933  \n",
       "28804c5 2017-05-08 09:00:31     349162          17970  \n",
       "42afe91 2017-07-01 14:01:35     251880          17799  \n",
       "fa71d94 2017-08-23 19:00:00     279737          17949  \n",
       "...                     ...        ...            ...  \n",
       "ea66cf6                 NaT    2315903          61999  \n",
       "34f032a                 NaT    2259539          61999  \n",
       "876a969 2017-09-25 06:00:42    1005717          17959  \n",
       "deac7ec                 NaT    2045137          61999  \n",
       "c8867fa                 NaT    2359418          61999  \n",
       "\n",
       "[1978 rows x 7 columns]"
      ]
     },
     "execution_count": 2,
     "metadata": {},
     "output_type": "execute_result"
    }
   ],
   "source": [
    "## Acquire data (of entire 3W dataset)\n",
    "rda.acquire_dataset_if_needed()\n",
    "latest_converted_data_path, latest_converted_data_version = (\n",
    "    rda.get_latest_local_converted_data_version(config.DIR_PROJECT_DATA)\n",
    ")\n",
    "\n",
    "# Helper to overview metadata (of entire 3W dataset)\n",
    "inspector_all_data = rdi.RawDataInspector(\n",
    "    latest_converted_data_path,\n",
    "    config.PATH_DATA_INSPECTOR_CACHE,\n",
    "    True\n",
    ")\n",
    "metadata_all_data = inspector_all_data.get_metadata_table()\n",
    "metadata_all_data"
   ]
  },
  {
   "attachments": {},
   "cell_type": "markdown",
   "metadata": {},
   "source": [
    "Dividir dados (de forma estratificada) em treinamento e teste."
   ]
  },
  {
   "cell_type": "code",
   "execution_count": 3,
   "metadata": {},
   "outputs": [
    {
     "name": "stderr",
     "output_type": "stream",
     "text": [
      "DEBUG:absl:size of train data: 1582 --- size of test data: 396\n",
      "DEBUG:absl:train path /home/ubuntu/lemi_3w/data/dataset_converted_v10101_split-20_source-all_class-all_well-all_train --- test path /home/ubuntu/lemi_3w/data/dataset_converted_v10101_split-20_source-all_class-all_well-all_test\n"
     ]
    },
    {
     "data": {
      "application/vnd.jupyter.widget-view+json": {
       "model_id": "cd3a1bcb243445daa88e309da45198df",
       "version_major": 2,
       "version_minor": 0
      },
      "text/plain": [
       "DONE:   0%|          | 0/1582 [00:00<?, ?it/s]"
      ]
     },
     "metadata": {},
     "output_type": "display_data"
    },
    {
     "data": {
      "application/vnd.jupyter.widget-view+json": {
       "model_id": "130bf9ee9bf1420fadd6484b3ce4f610",
       "version_major": 2,
       "version_minor": 0
      },
      "text/plain": [
       "DONE:   0%|          | 0/396 [00:00<?, ?it/s]"
      ]
     },
     "metadata": {},
     "output_type": "display_data"
    },
    {
     "name": "stderr",
     "output_type": "stream",
     "text": [
      "INFO:absl:Processing 475 events of class type 0.\n"
     ]
    },
    {
     "data": {
      "application/vnd.jupyter.widget-view+json": {
       "model_id": "ac32c3063d5a4919974914370492c731",
       "version_major": 2,
       "version_minor": 0
      },
      "text/plain": [
       "DONE:   0%|          | 0/475 [00:00<?, ?it/s]"
      ]
     },
     "metadata": {},
     "output_type": "display_data"
    },
    {
     "name": "stderr",
     "output_type": "stream",
     "text": [
      "INFO:absl:Processing 275 events of class type 4.\n"
     ]
    },
    {
     "data": {
      "application/vnd.jupyter.widget-view+json": {
       "model_id": "f690f13cf78f4b9b96d016e64fcb89e4",
       "version_major": 2,
       "version_minor": 0
      },
      "text/plain": [
       "DONE:   0%|          | 0/275 [00:00<?, ?it/s]"
      ]
     },
     "metadata": {},
     "output_type": "display_data"
    },
    {
     "name": "stderr",
     "output_type": "stream",
     "text": [
      "INFO:absl:Processing 360 events of class type 5.\n"
     ]
    },
    {
     "data": {
      "application/vnd.jupyter.widget-view+json": {
       "model_id": "7a34c06e9e3b4b8d8d66041fa026b238",
       "version_major": 2,
       "version_minor": 0
      },
      "text/plain": [
       "DONE:   0%|          | 0/360 [00:00<?, ?it/s]"
      ]
     },
     "metadata": {},
     "output_type": "display_data"
    },
    {
     "name": "stderr",
     "output_type": "stream",
     "text": [
      "INFO:absl:Processing 103 events of class type 1.\n"
     ]
    },
    {
     "data": {
      "application/vnd.jupyter.widget-view+json": {
       "model_id": "abe6bbf822564e56aadee96722843ebb",
       "version_major": 2,
       "version_minor": 0
      },
      "text/plain": [
       "DONE:   0%|          | 0/103 [00:00<?, ?it/s]"
      ]
     },
     "metadata": {},
     "output_type": "display_data"
    },
    {
     "name": "stderr",
     "output_type": "stream",
     "text": [
      "INFO:absl:Processing 12 events of class type 7.\n"
     ]
    },
    {
     "data": {
      "application/vnd.jupyter.widget-view+json": {
       "model_id": "240623fb854a48198de0fd993f016ec3",
       "version_major": 2,
       "version_minor": 0
      },
      "text/plain": [
       "DONE:   0%|          | 0/12 [00:00<?, ?it/s]"
      ]
     },
     "metadata": {},
     "output_type": "display_data"
    },
    {
     "name": "stderr",
     "output_type": "stream",
     "text": [
      "INFO:absl:Processing 177 events of class type 6.\n"
     ]
    },
    {
     "data": {
      "application/vnd.jupyter.widget-view+json": {
       "model_id": "810ef936d3b440798997353b7adf0b0c",
       "version_major": 2,
       "version_minor": 0
      },
      "text/plain": [
       "DONE:   0%|          | 0/177 [00:00<?, ?it/s]"
      ]
     },
     "metadata": {},
     "output_type": "display_data"
    },
    {
     "name": "stderr",
     "output_type": "stream",
     "text": [
      "INFO:absl:Processing 65 events of class type 8.\n"
     ]
    },
    {
     "data": {
      "application/vnd.jupyter.widget-view+json": {
       "model_id": "1bc9a3e871744b1989a0643616cb3a44",
       "version_major": 2,
       "version_minor": 0
      },
      "text/plain": [
       "DONE:   0%|          | 0/65 [00:00<?, ?it/s]"
      ]
     },
     "metadata": {},
     "output_type": "display_data"
    },
    {
     "name": "stderr",
     "output_type": "stream",
     "text": [
      "INFO:absl:Processing 31 events of class type 2.\n"
     ]
    },
    {
     "data": {
      "application/vnd.jupyter.widget-view+json": {
       "model_id": "e8d7c3e0c0cc4730822b7fd38bc223bf",
       "version_major": 2,
       "version_minor": 0
      },
      "text/plain": [
       "DONE:   0%|          | 0/31 [00:00<?, ?it/s]"
      ]
     },
     "metadata": {},
     "output_type": "display_data"
    },
    {
     "name": "stderr",
     "output_type": "stream",
     "text": [
      "INFO:absl:Processing 84 events of class type 3.\n"
     ]
    },
    {
     "data": {
      "application/vnd.jupyter.widget-view+json": {
       "model_id": "b3bb95246df9484793092fdb2fdf6785",
       "version_major": 2,
       "version_minor": 0
      },
      "text/plain": [
       "DONE:   0%|          | 0/84 [00:00<?, ?it/s]"
      ]
     },
     "metadata": {},
     "output_type": "display_data"
    },
    {
     "name": "stderr",
     "output_type": "stream",
     "text": [
      "INFO:absl:Found 9. The first one is [EventMetadata(hash_id='74203bbab06b84bf2c0303b641133f990baa98a3bc295b5a8eb08a3bbab91de9', class_type='NORMAL', source='REAL', well_id=1, path='/home/ubuntu/lemi_3w/data/dataset_converted_v10101_split-20_source-all_class-all_well-all_train/0/WELL-00001_20170524030000.parquet', timestamp=Timestamp('2017-05-24 03:00:00'), file_size=491415, num_timesteps=17885), EventMetadata(hash_id='9fbd6f90b945864b7219a36f6ebc898128410ad30a5ffedb63622720f766ba7e', class_type='NORMAL', source='REAL', well_id=2, path='/home/ubuntu/lemi_3w/data/dataset_converted_v10101_split-20_source-all_class-all_well-all_train/0/WELL-00002_20170809060000.parquet', timestamp=Timestamp('2017-08-09 06:00:00'), file_size=520154, num_timesteps=17933), EventMetadata(hash_id='28804c50819c88a932a18434f553a2582ff07e28bf638fd29426e189113f430d', class_type='NORMAL', source='REAL', well_id=6, path='/home/ubuntu/lemi_3w/data/dataset_converted_v10101_split-20_source-all_class-all_well-all_train/0/WELL-00006_20170508090031.parquet', timestamp=Timestamp('2017-05-08 09:00:31'), file_size=349162, num_timesteps=17970), EventMetadata(hash_id='fa71d948dd705c0d69478f7900f4c8f3042d294a0e271eefce3a5c3206870db5', class_type='NORMAL', source='REAL', well_id=6, path='/home/ubuntu/lemi_3w/data/dataset_converted_v10101_split-20_source-all_class-all_well-all_train/0/WELL-00006_20170823190000.parquet', timestamp=Timestamp('2017-08-23 19:00:00'), file_size=279737, num_timesteps=17949), EventMetadata(hash_id='07d061e8219b217dc945f6c25190b5a8a0e91ceeb3beb98a0f8c2ba683618a6d', class_type='NORMAL', source='REAL', well_id=1, path='/home/ubuntu/lemi_3w/data/dataset_converted_v10101_split-20_source-all_class-all_well-all_train/0/WELL-00001_20170201070114.parquet', timestamp=Timestamp('2017-02-01 07:01:14'), file_size=475846, num_timesteps=17927), EventMetadata(hash_id='ea7aff17af31f336c278617f999d6cf7df8f2e11f83815cd8160ccd1b9c96c1d', class_type='NORMAL', source='REAL', well_id=5, path='/home/ubuntu/lemi_3w/data/dataset_converted_v10101_split-20_source-all_class-all_well-all_train/0/WELL-00005_20170402080043.parquet', timestamp=Timestamp('2017-04-02 08:00:43'), file_size=229363, num_timesteps=17899), EventMetadata(hash_id='ef86e7626a896db0d6dbb8663ff493dffe9bdf8744947b58dc99837ba1ba7595', class_type='NORMAL', source='REAL', well_id=2, path='/home/ubuntu/lemi_3w/data/dataset_converted_v10101_split-20_source-all_class-all_well-all_train/0/WELL-00002_20170215230129.parquet', timestamp=Timestamp('2017-02-15 23:01:29'), file_size=492019, num_timesteps=17912), EventMetadata(hash_id='a24e72eb79ae17c2d3bd2d190092980a170cca2d3a8f8bc65bf1556af6113cfa', class_type='NORMAL', source='REAL', well_id=2, path='/home/ubuntu/lemi_3w/data/dataset_converted_v10101_split-20_source-all_class-all_well-all_train/0/WELL-00002_20170622040105.parquet', timestamp=Timestamp('2017-06-22 04:01:05'), file_size=474760, num_timesteps=17936), EventMetadata(hash_id='98bafe55003ae6ebca88c4f1ab38cfb95a555836c1f2bbea37af5d7c8c5668f8', class_type='NORMAL', source='REAL', well_id=5, path='/home/ubuntu/lemi_3w/data/dataset_converted_v10101_split-20_source-all_class-all_well-all_train/0/WELL-00005_20170814020000.parquet', timestamp=Timestamp('2017-08-14 02:00:00'), file_size=121535, num_timesteps=10595), EventMetadata(hash_id='d12255b7402801921e24086384b51d8ed113489bb8adb8dcdb85e9a3bae66e8a', class_type='NORMAL', source='REAL', well_id=1, path='/home/ubuntu/lemi_3w/data/dataset_converted_v10101_split-20_source-all_class-all_well-all_train/0/WELL-00001_20170523120000.parquet', timestamp=Timestamp('2017-05-23 12:00:00'), file_size=455386, num_timesteps=17834), EventMetadata(hash_id='6fc31d36c07dfcf8f45dd43f3640ddc8807649862329c9d0bc490d28c1dcc05e', class_type='NORMAL', source='REAL', well_id=6, path='/home/ubuntu/lemi_3w/data/dataset_converted_v10101_split-20_source-all_class-all_well-all_train/0/WELL-00006_20170824100000.parquet', timestamp=Timestamp('2017-08-24 10:00:00'), file_size=364000, num_timesteps=17949), EventMetadata(hash_id='280b0de01f45b66837c447fad0259bbd07c1bb4bb7520cdd7bd86ea6695f8fd7', class_type='NORMAL', source='REAL', well_id=2, path='/home/ubuntu/lemi_3w/data/dataset_converted_v10101_split-20_source-all_class-all_well-all_train/0/WELL-00002_20170624010032.parquet', timestamp=Timestamp('2017-06-24 01:00:32'), file_size=501340, num_timesteps=17969), EventMetadata(hash_id='aa8694291095894ef1ec34fd9b61bcd64403e6acda4d01b3d80f6e5f9bf4bf90', class_type='NORMAL', source='REAL', well_id=6, path='/home/ubuntu/lemi_3w/data/dataset_converted_v10101_split-20_source-all_class-all_well-all_train/0/WELL-00006_20170224170000.parquet', timestamp=Timestamp('2017-02-24 17:00:00'), file_size=350625, num_timesteps=17962), EventMetadata(hash_id='5ba8412dd881969115978cdd74594448f4396670782387e641d2a232aaf7bd1f', class_type='NORMAL', source='REAL', well_id=6, path='/home/ubuntu/lemi_3w/data/dataset_converted_v10101_split-20_source-all_class-all_well-all_train/0/WELL-00006_20170208140146.parquet', timestamp=Timestamp('2017-02-08 14:01:46'), file_size=272865, num_timesteps=17895), EventMetadata(hash_id='43423179d6b51924dde055fb9c7135a149df2d52fe70b046b4844fbae13d631e', class_type='NORMAL', source='REAL', well_id=2, path='/home/ubuntu/lemi_3w/data/dataset_converted_v10101_split-20_source-all_class-all_well-all_train/0/WELL-00002_20170215130214.parquet', timestamp=Timestamp('2017-02-15 13:02:14'), file_size=484946, num_timesteps=17867), EventMetadata(hash_id='de80b993786f63c40c12a76ae93f8c3a7987c07075010888b1e4eb36bb13d30f', class_type='NORMAL', source='REAL', well_id=2, path='/home/ubuntu/lemi_3w/data/dataset_converted_v10101_split-20_source-all_class-all_well-all_train/0/WELL-00002_20170620140116.parquet', timestamp=Timestamp('2017-06-20 14:01:16'), file_size=514704, num_timesteps=17925), EventMetadata(hash_id='229081f47676630e36330de8e2bb1a070eb47489d3009c62ff8541a24c9cd765', class_type='NORMAL', source='REAL', well_id=3, path='/home/ubuntu/lemi_3w/data/dataset_converted_v10101_split-20_source-all_class-all_well-all_train/0/WELL-00003_20170915220000.parquet', timestamp=Timestamp('2017-09-15 22:00:00'), file_size=218286, num_timesteps=17949), EventMetadata(hash_id='27cb6512716af505f8711154e11d3ff69cafdad7a85a723dc05cc5ba05747be4', class_type='NORMAL', source='REAL', well_id=2, path='/home/ubuntu/lemi_3w/data/dataset_converted_v10101_split-20_source-all_class-all_well-all_train/0/WELL-00002_20170405190000.parquet', timestamp=Timestamp('2017-04-05 19:00:00'), file_size=480515, num_timesteps=17966), EventMetadata(hash_id='350c8c5fa69c743a42a602432b875801eef3c18f9d5eb2c08d6a34d34df71e1b', class_type='NORMAL', source='REAL', well_id=6, path='/home/ubuntu/lemi_3w/data/dataset_converted_v10101_split-20_source-all_class-all_well-all_train/0/WELL-00006_20170822230000.parquet', timestamp=Timestamp('2017-08-22 23:00:00'), file_size=338824, num_timesteps=17884), EventMetadata(hash_id='07132cc39182ace7d65e1f0cce8964bd3ba8fdffdcb52994e686cbd1f94144e2', class_type='NORMAL', source='REAL', well_id=3, path='/home/ubuntu/lemi_3w/data/dataset_converted_v10101_split-20_source-all_class-all_well-all_train/0/WELL-00003_20170914160000.parquet', timestamp=Timestamp('2017-09-14 16:00:00'), file_size=219458, num_timesteps=17884), EventMetadata(hash_id='7b40db61566e3fa17e18fe262ef8c7cd671bde6c1e457231c6f93e8d0a1c033e', class_type='NORMAL', source='REAL', well_id=5, path='/home/ubuntu/lemi_3w/data/dataset_converted_v10101_split-20_source-all_class-all_well-all_train/0/WELL-00005_20170816200000.parquet', timestamp=Timestamp('2017-08-16 20:00:00'), file_size=153211, num_timesteps=10747), EventMetadata(hash_id='8f2bbc3a08dcec3d2c36b647b7ce2e4a4134ce7a7a9819d3fee6cf553a402b2c', class_type='NORMAL', source='REAL', well_id=2, path='/home/ubuntu/lemi_3w/data/dataset_converted_v10101_split-20_source-all_class-all_well-all_train/0/WELL-00002_20170308010103.parquet', timestamp=Timestamp('2017-03-08 01:01:03'), file_size=481201, num_timesteps=17938), EventMetadata(hash_id='87b3c9ac43649a5863af4d37d313a56d97a5ebf109414b7b42b4432244902a08', class_type='NORMAL', source='REAL', well_id=2, path='/home/ubuntu/lemi_3w/data/dataset_converted_v10101_split-20_source-all_class-all_well-all_train/0/WELL-00002_20170621030054.parquet', timestamp=Timestamp('2017-06-21 03:00:54'), file_size=479300, num_timesteps=17947), EventMetadata(hash_id='826de4d40cb7befed75cfb1d5f3cf6b62e4190c4ccdd5ad18deb35be686dc40b', class_type='NORMAL', source='REAL', well_id=1, path='/home/ubuntu/lemi_3w/data/dataset_converted_v10101_split-20_source-all_class-all_well-all_train/0/WELL-00001_20170522160000.parquet', timestamp=Timestamp('2017-05-22 16:00:00'), file_size=489690, num_timesteps=17936), EventMetadata(hash_id='e6dce9d15eb48af9bf04f9acf2711953754a1e0d19345ee912d486f5da436c79', class_type='NORMAL', source='REAL', well_id=1, path='/home/ubuntu/lemi_3w/data/dataset_converted_v10101_split-20_source-all_class-all_well-all_train/0/WELL-00001_20170525040000.parquet', timestamp=Timestamp('2017-05-25 04:00:00'), file_size=492877, num_timesteps=17936), EventMetadata(hash_id='2525f7b5398fffdd9b4af1ce28d93d907ad838da1a844a5ccca2feb995288575', class_type='NORMAL', source='REAL', well_id=5, path='/home/ubuntu/lemi_3w/data/dataset_converted_v10101_split-20_source-all_class-all_well-all_train/0/WELL-00005_20170816020000.parquet', timestamp=Timestamp('2017-08-16 02:00:00'), file_size=208650, num_timesteps=10649), EventMetadata(hash_id='9979b51075bdd71e62a62a395148b6968ddb10aea0b16e7bb8d8e913be596f10', class_type='NORMAL', source='REAL', well_id=5, path='/home/ubuntu/lemi_3w/data/dataset_converted_v10101_split-20_source-all_class-all_well-all_train/0/WELL-00005_20170402180043.parquet', timestamp=Timestamp('2017-04-02 18:00:43'), file_size=312205, num_timesteps=17870), EventMetadata(hash_id='9c18c98c446e5aa62edaedc63b40c0d80f6c13c12f844009c2bf8e70971158a4', class_type='NORMAL', source='REAL', well_id=5, path='/home/ubuntu/lemi_3w/data/dataset_converted_v10101_split-20_source-all_class-all_well-all_train/0/WELL-00005_20170830180000.parquet', timestamp=Timestamp('2017-08-30 18:00:00'), file_size=141210, num_timesteps=10666), EventMetadata(hash_id='4cc8c0d01e7fad0b505b510de013fbb480a974ca12350076f393fb3fd517e594', class_type='NORMAL', source='REAL', well_id=2, path='/home/ubuntu/lemi_3w/data/dataset_converted_v10101_split-20_source-all_class-all_well-all_train/0/WELL-00002_20170806180000.parquet', timestamp=Timestamp('2017-08-06 18:00:00'), file_size=443864, num_timesteps=17893), EventMetadata(hash_id='72f03a6cec6eeb6551374167bddb096078dde9153f6fdd8815b6d122d94ec500', class_type='NORMAL', source='REAL', well_id=6, path='/home/ubuntu/lemi_3w/data/dataset_converted_v10101_split-20_source-all_class-all_well-all_train/0/WELL-00006_20170209150146.parquet', timestamp=Timestamp('2017-02-09 15:01:46'), file_size=311568, num_timesteps=17895), EventMetadata(hash_id='513cdfee86090ba109522c0a63f2a5e86915151393e3cc890ee13add99cd9ec1', class_type='NORMAL', source='REAL', well_id=6, path='/home/ubuntu/lemi_3w/data/dataset_converted_v10101_split-20_source-all_class-all_well-all_train/0/WELL-00006_20170206220031.parquet', timestamp=Timestamp('2017-02-06 22:00:31'), file_size=343941, num_timesteps=17970), EventMetadata(hash_id='26c323a2e9991ab68a6f93779a676b1c6504b13d044a9f58a11f9e9d6745df99', class_type='NORMAL', source='REAL', well_id=1, path='/home/ubuntu/lemi_3w/data/dataset_converted_v10101_split-20_source-all_class-all_well-all_train/0/WELL-00001_20170527160000.parquet', timestamp=Timestamp('2017-05-27 16:00:00'), file_size=484991, num_timesteps=17821), EventMetadata(hash_id='88532092d2c06312d218ffbc604ce7ba9604bf322e53b04747c4a9f658682464', class_type='NORMAL', source='REAL', well_id=2, path='/home/ubuntu/lemi_3w/data/dataset_converted_v10101_split-20_source-all_class-all_well-all_train/0/WELL-00002_20170807140000.parquet', timestamp=Timestamp('2017-08-07 14:00:00'), file_size=488305, num_timesteps=17974), EventMetadata(hash_id='6be0bd1019e63b7942702fb07d332b02d3f2c3685718dfd0040b22e0d76aef74', class_type='NORMAL', source='REAL', well_id=8, path='/home/ubuntu/lemi_3w/data/dataset_converted_v10101_split-20_source-all_class-all_well-all_train/0/WELL-00008_20170630080310.parquet', timestamp=Timestamp('2017-06-30 08:03:10'), file_size=233950, num_timesteps=17597), EventMetadata(hash_id='5e3b2f6a65013b3c5111e5742976f604560f6a37dca3a10e907f497791f74282', class_type='NORMAL', source='REAL', well_id=5, path='/home/ubuntu/lemi_3w/data/dataset_converted_v10101_split-20_source-all_class-all_well-all_train/0/WELL-00005_20170812230000.parquet', timestamp=Timestamp('2017-08-12 23:00:00'), file_size=198126, num_timesteps=10765), EventMetadata(hash_id='8f27b62ee11dc08e1252a01ed27c46fd34d197b22d312775ef304f5eb1278ab0', class_type='NORMAL', source='REAL', well_id=6, path='/home/ubuntu/lemi_3w/data/dataset_converted_v10101_split-20_source-all_class-all_well-all_train/0/WELL-00006_20170824050000.parquet', timestamp=Timestamp('2017-08-24 05:00:00'), file_size=326702, num_timesteps=17833), EventMetadata(hash_id='cd3e232d273a2a172e303d6bb58a1d0f6d29a4e971f81440d698501e6eb25df5', class_type='NORMAL', source='REAL', well_id=1, path='/home/ubuntu/lemi_3w/data/dataset_converted_v10101_split-20_source-all_class-all_well-all_train/0/WELL-00001_20170201220228.parquet', timestamp=Timestamp('2017-02-01 22:02:28'), file_size=469513, num_timesteps=17853), EventMetadata(hash_id='13053a39784e0c94685e879118c48ca9611a2e2584522a8599fe65ffb4a70d83', class_type='NORMAL', source='REAL', well_id=6, path='/home/ubuntu/lemi_3w/data/dataset_converted_v10101_split-20_source-all_class-all_well-all_train/0/WELL-00006_20170821220000.parquet', timestamp=Timestamp('2017-08-21 22:00:00'), file_size=351534, num_timesteps=17833), EventMetadata(hash_id='bb78d776d02322d31d09a7d008d1ca8811e3a0fddf17b48dac20131f22f1c5bc', class_type='NORMAL', source='REAL', well_id=8, path='/home/ubuntu/lemi_3w/data/dataset_converted_v10101_split-20_source-all_class-all_well-all_train/0/WELL-00008_20170611030246.parquet', timestamp=Timestamp('2017-06-11 03:02:46'), file_size=249833, num_timesteps=17704), EventMetadata(hash_id='7b269f7c17bcfbd02dddd7a34b44655b619fd4e30dcb1196f04f6411bd8da9a6', class_type='NORMAL', source='REAL', well_id=5, path='/home/ubuntu/lemi_3w/data/dataset_converted_v10101_split-20_source-all_class-all_well-all_train/0/WELL-00005_20170813080000.parquet', timestamp=Timestamp('2017-08-13 08:00:00'), file_size=226280, num_timesteps=10774), EventMetadata(hash_id='72daeb72e091bbcb6a3a208795a621664875d424638a98c48883612bc05a63f6', class_type='NORMAL', source='REAL', well_id=8, path='/home/ubuntu/lemi_3w/data/dataset_converted_v10101_split-20_source-all_class-all_well-all_train/0/WELL-00008_20170702000246.parquet', timestamp=Timestamp('2017-07-02 00:02:46'), file_size=239017, num_timesteps=17680), EventMetadata(hash_id='4f18beb30c1ecaf4c124b087fc58673b6f1bb3c222b8a4b2981a44c5151115dc', class_type='NORMAL', source='REAL', well_id=2, path='/home/ubuntu/lemi_3w/data/dataset_converted_v10101_split-20_source-all_class-all_well-all_train/0/WELL-00002_20170215080056.parquet', timestamp=Timestamp('2017-02-15 08:00:56'), file_size=496797, num_timesteps=17945), EventMetadata(hash_id='4bcc575ae0c9c31a16b8b642d76d6e8896bfff0f9afc1aaeb315c90c868014dd', class_type='NORMAL', source='REAL', well_id=2, path='/home/ubuntu/lemi_3w/data/dataset_converted_v10101_split-20_source-all_class-all_well-all_train/0/WELL-00002_20170615090400.parquet', timestamp=Timestamp('2017-06-15 09:04:00'), file_size=423828, num_timesteps=17761), EventMetadata(hash_id='15661aacb92c3da8868569447adfcb6fca28890546e6de001c20ec7f02e8a365', class_type='NORMAL', source='REAL', well_id=5, path='/home/ubuntu/lemi_3w/data/dataset_converted_v10101_split-20_source-all_class-all_well-all_train/0/WELL-00005_20170815200000.parquet', timestamp=Timestamp('2017-08-15 20:00:00'), file_size=184930, num_timesteps=10702), EventMetadata(hash_id='235c112fb3b89773df651065ba840fcb856b59b841c49c4b145a31ff608fbefb', class_type='NORMAL', source='REAL', well_id=5, path='/home/ubuntu/lemi_3w/data/dataset_converted_v10101_split-20_source-all_class-all_well-all_train/0/WELL-00005_20170403040000.parquet', timestamp=Timestamp('2017-04-03 04:00:00'), file_size=248047, num_timesteps=17884), EventMetadata(hash_id='9c3f33fb384164135899e1f88735e584dfea4b04db952f2b5a81e554981d4da8', class_type='NORMAL', source='REAL', well_id=2, path='/home/ubuntu/lemi_3w/data/dataset_converted_v10101_split-20_source-all_class-all_well-all_train/0/WELL-00002_20170406050000.parquet', timestamp=Timestamp('2017-04-06 05:00:00'), file_size=488395, num_timesteps=17715), EventMetadata(hash_id='92e2ebf8588f74a45b2b3e0954bccfb0c4d248f01f314ce5722a9304d04bfdba', class_type='NORMAL', source='REAL', well_id=2, path='/home/ubuntu/lemi_3w/data/dataset_converted_v10101_split-20_source-all_class-all_well-all_train/0/WELL-00002_20170612110022.parquet', timestamp=Timestamp('2017-06-12 11:00:22'), file_size=552142, num_timesteps=17921), EventMetadata(hash_id='a89cf1f2138b995f218b6699608d9a0c41386fceb11db8d8987db376803b7747', class_type='NORMAL', source='REAL', well_id=1, path='/home/ubuntu/lemi_3w/data/dataset_converted_v10101_split-20_source-all_class-all_well-all_train/0/WELL-00001_20170826030000.parquet', timestamp=Timestamp('2017-08-26 03:00:00'), file_size=516223, num_timesteps=17922), EventMetadata(hash_id='ebefa6aa261def21b9993658b18b4bf83937a2d73b8ecabf04f24557477e5903', class_type='NORMAL', source='REAL', well_id=1, path='/home/ubuntu/lemi_3w/data/dataset_converted_v10101_split-20_source-all_class-all_well-all_train/0/WELL-00001_20170218010146.parquet', timestamp=Timestamp('2017-02-18 01:01:46'), file_size=460484, num_timesteps=17895), EventMetadata(hash_id='f922cf2bd946518c227f50cb4d2ecbf70e7ab3859da30c73d233e83527a02c64', class_type='NORMAL', source='REAL', well_id=8, path='/home/ubuntu/lemi_3w/data/dataset_converted_v10101_split-20_source-all_class-all_well-all_train/0/WELL-00008_20170818210310.parquet', timestamp=Timestamp('2017-08-18 21:03:10'), file_size=209666, num_timesteps=17715), EventMetadata(hash_id='435d38c461a5598744091266cb2740d562aa445c8bfb126d98a16f31023f97cc', class_type='NORMAL', source='REAL', well_id=8, path='/home/ubuntu/lemi_3w/data/dataset_converted_v10101_split-20_source-all_class-all_well-all_train/0/WELL-00008_20170611230123.parquet', timestamp=Timestamp('2017-06-11 23:01:23'), file_size=204544, num_timesteps=17799), EventMetadata(hash_id='99534a734cc1f816985e79f1028270ff3bedb0ff7ff8ca4fdc8673139f644a75', class_type='NORMAL', source='REAL', well_id=1, path='/home/ubuntu/lemi_3w/data/dataset_converted_v10101_split-20_source-all_class-all_well-all_train/0/WELL-00001_20170219220332.parquet', timestamp=Timestamp('2017-02-19 22:03:32'), file_size=464326, num_timesteps=17789), EventMetadata(hash_id='d4e1264dc576c7fd35d3f6c5494de5b88ee85b56bd6a0b8b0d7a339f1e2c545f', class_type='NORMAL', source='REAL', well_id=6, path='/home/ubuntu/lemi_3w/data/dataset_converted_v10101_split-20_source-all_class-all_well-all_train/0/WELL-00006_20170820160000.parquet', timestamp=Timestamp('2017-08-20 16:00:00'), file_size=403818, num_timesteps=17884), EventMetadata(hash_id='12003bec0758d62d3010c1c08ec9a489891a167958ea23888c30ba92fd3178c1', class_type='NORMAL', source='REAL', well_id=5, path='/home/ubuntu/lemi_3w/data/dataset_converted_v10101_split-20_source-all_class-all_well-all_train/0/WELL-00005_20170812110000.parquet', timestamp=Timestamp('2017-08-12 11:00:00'), file_size=196084, num_timesteps=10533), EventMetadata(hash_id='48b4404ffe83d2a8fd14925a0aaa58a37ebcd87aba5f2676b890f89948932be2', class_type='NORMAL', source='REAL', well_id=1, path='/home/ubuntu/lemi_3w/data/dataset_converted_v10101_split-20_source-all_class-all_well-all_train/0/WELL-00001_20170527110000.parquet', timestamp=Timestamp('2017-05-27 11:00:00'), file_size=493448, num_timesteps=17936), EventMetadata(hash_id='8e11645113b19e4fee3d10cdd2138bf1f1d2bd71279bfe2c00eab802b9be9b24', class_type='NORMAL', source='REAL', well_id=2, path='/home/ubuntu/lemi_3w/data/dataset_converted_v10101_split-20_source-all_class-all_well-all_train/0/WELL-00002_20170620190211.parquet', timestamp=Timestamp('2017-06-20 19:02:11'), file_size=402166, num_timesteps=14270), EventMetadata(hash_id='82f3283f637219ce0b3756c2cbe22737740f3d3856e840e77f930b339204e639', class_type='NORMAL', source='REAL', well_id=6, path='/home/ubuntu/lemi_3w/data/dataset_converted_v10101_split-20_source-all_class-all_well-all_train/0/WELL-00006_20170207130228.parquet', timestamp=Timestamp('2017-02-07 13:02:28'), file_size=300075, num_timesteps=17853), EventMetadata(hash_id='ba28feb1f6872fa1b9f7caaf697079f8adb2e5242a7e0b9579dd3397845a6d84', class_type='NORMAL', source='REAL', well_id=1, path='/home/ubuntu/lemi_3w/data/dataset_converted_v10101_split-20_source-all_class-all_well-all_train/0/WELL-00001_20170425140042.parquet', timestamp=Timestamp('2017-04-25 14:00:42'), file_size=479410, num_timesteps=17959), EventMetadata(hash_id='672b3929a3f10d64ea559e30ec407b47d1c1bb6c5622aea92e35f528acc58ad0', class_type='NORMAL', source='REAL', well_id=6, path='/home/ubuntu/lemi_3w/data/dataset_converted_v10101_split-20_source-all_class-all_well-all_train/0/WELL-00006_20170222000000.parquet', timestamp=Timestamp('2017-02-22 00:00:00'), file_size=352086, num_timesteps=17949), EventMetadata(hash_id='cda6c2141ce12af670e11a7a7aa69c48b36d158e444e44084ef26f1b7580483b', class_type='NORMAL', source='REAL', well_id=1, path='/home/ubuntu/lemi_3w/data/dataset_converted_v10101_split-20_source-all_class-all_well-all_train/0/WELL-00001_20170421100251.parquet', timestamp=Timestamp('2017-04-21 10:02:51'), file_size=608108, num_timesteps=21159), EventMetadata(hash_id='cf48a15e76de22e7d1513a7ef5b5f4e6d95e07d6dfb411f9261b88e2a9a068fb', class_type='NORMAL', source='REAL', well_id=2, path='/home/ubuntu/lemi_3w/data/dataset_converted_v10101_split-20_source-all_class-all_well-all_train/0/WELL-00002_20170211040225.parquet', timestamp=Timestamp('2017-02-11 04:02:25'), file_size=485172, num_timesteps=17856), EventMetadata(hash_id='1970cfe686ade2edb0e5a09538bc95c05400ad4466cc071edf572fd801b44d56', class_type='NORMAL', source='REAL', well_id=5, path='/home/ubuntu/lemi_3w/data/dataset_converted_v10101_split-20_source-all_class-all_well-all_train/0/WELL-00005_20170403090000.parquet', timestamp=Timestamp('2017-04-03 09:00:00'), file_size=255800, num_timesteps=17928), EventMetadata(hash_id='4e99ed4f4b2f60565e3de7b347c55ec3cd63443d3b76a9225f2ac970162dfbd0', class_type='NORMAL', source='REAL', well_id=2, path='/home/ubuntu/lemi_3w/data/dataset_converted_v10101_split-20_source-all_class-all_well-all_train/0/WELL-00002_20170307200031.parquet', timestamp=Timestamp('2017-03-07 20:00:31'), file_size=516254, num_timesteps=17970), EventMetadata(hash_id='ce3f097aa2de441eed8c4adfc7dd84a6b60039dfbdc7b3a97c600922e32bdaa5', class_type='NORMAL', source='REAL', well_id=6, path='/home/ubuntu/lemi_3w/data/dataset_converted_v10101_split-20_source-all_class-all_well-all_train/0/WELL-00006_20170828040343.parquet', timestamp=Timestamp('2017-08-28 04:03:43'), file_size=390360, num_timesteps=17778), EventMetadata(hash_id='6d04f245726df0c520c11784ec89e502d014a56521e56ef7566a39065a19f052', class_type='NORMAL', source='REAL', well_id=1, path='/home/ubuntu/lemi_3w/data/dataset_converted_v10101_split-20_source-all_class-all_well-all_train/0/WELL-00001_20170524130000.parquet', timestamp=Timestamp('2017-05-24 13:00:00'), file_size=506230, num_timesteps=17962), EventMetadata(hash_id='4513b77ff60cb3d719191932a5274072ea72a603a2f50d73eed09d305818ebc1', class_type='NORMAL', source='REAL', well_id=2, path='/home/ubuntu/lemi_3w/data/dataset_converted_v10101_split-20_source-all_class-all_well-all_train/0/WELL-00002_20170805070000.parquet', timestamp=Timestamp('2017-08-05 07:00:00'), file_size=471622, num_timesteps=17744), EventMetadata(hash_id='102f8207790ba0cec63cfaca5f623a2a189b41f7e46b48398a69524967434e2f', class_type='NORMAL', source='REAL', well_id=8, path='/home/ubuntu/lemi_3w/data/dataset_converted_v10101_split-20_source-all_class-all_well-all_train/0/WELL-00008_20170630130246.parquet', timestamp=Timestamp('2017-06-30 13:02:46'), file_size=246211, num_timesteps=17668), EventMetadata(hash_id='7e04d37d7e77c9c2ab48f23649928d7408f9da61887d2c1cf290d267d16c8375', class_type='NORMAL', source='REAL', well_id=2, path='/home/ubuntu/lemi_3w/data/dataset_converted_v10101_split-20_source-all_class-all_well-all_train/0/WELL-00002_20131214180036.parquet', timestamp=Timestamp('2013-12-14 18:00:36'), file_size=145259, num_timesteps=7165), EventMetadata(hash_id='bb80df4308f259e429933dc89e4a380808b10f53ec43dc0feeaa5bce32133255', class_type='NORMAL', source='REAL', well_id=2, path='/home/ubuntu/lemi_3w/data/dataset_converted_v10101_split-20_source-all_class-all_well-all_train/0/WELL-00002_20170620040505.parquet', timestamp=Timestamp('2017-06-20 04:05:05'), file_size=472582, num_timesteps=17696), EventMetadata(hash_id='59047d94843f42ea0713b2f5bf34d872fcb8a1c779be5fd59b3295f3a9c0d366', class_type='NORMAL', source='REAL', well_id=5, path='/home/ubuntu/lemi_3w/data/dataset_converted_v10101_split-20_source-all_class-all_well-all_train/0/WELL-00005_20170402130029.parquet', timestamp=Timestamp('2017-04-02 13:00:29'), file_size=271855, num_timesteps=17826), EventMetadata(hash_id='8818f555441cb1dcc51c539dccb9b85deb3a80c5da22ac3ee316e4c578d54feb', class_type='NORMAL', source='REAL', well_id=6, path='/home/ubuntu/lemi_3w/data/dataset_converted_v10101_split-20_source-all_class-all_well-all_train/0/WELL-00006_20170826220114.parquet', timestamp=Timestamp('2017-08-26 22:01:14'), file_size=400194, num_timesteps=17927), EventMetadata(hash_id='199b17885e4d7549ec0785dca86149ec84979c1a10ea40b886c63e159e59b162', class_type='NORMAL', source='REAL', well_id=1, path='/home/ubuntu/lemi_3w/data/dataset_converted_v10101_split-20_source-all_class-all_well-all_train/0/WELL-00001_20170824060000.parquet', timestamp=Timestamp('2017-08-24 06:00:00'), file_size=474955, num_timesteps=17948), EventMetadata(hash_id='0c5ac742cb294b5d8dd3a0ad562036f647d654eacbd218150b4c94e4334b169a', class_type='NORMAL', source='REAL', well_id=2, path='/home/ubuntu/lemi_3w/data/dataset_converted_v10101_split-20_source-all_class-all_well-all_train/0/WELL-00002_20170210030033.parquet', timestamp=Timestamp('2017-02-10 03:00:33'), file_size=464271, num_timesteps=17968), EventMetadata(hash_id='8f9311adc7fbf51c74e37af3f46720bcffc71c84868de87c6088cbe2fa7a670c', class_type='NORMAL', source='REAL', well_id=2, path='/home/ubuntu/lemi_3w/data/dataset_converted_v10101_split-20_source-all_class-all_well-all_train/0/WELL-00002_20170405140000.parquet', timestamp=Timestamp('2017-04-05 14:00:00'), file_size=465057, num_timesteps=17772), EventMetadata(hash_id='00b8446bc182172a9e09b1c14adf361b4f36b32d143472aee2280f6efe1761df', class_type='NORMAL', source='REAL', well_id=6, path='/home/ubuntu/lemi_3w/data/dataset_converted_v10101_split-20_source-all_class-all_well-all_train/0/WELL-00006_20170506020103.parquet', timestamp=Timestamp('2017-05-06 02:01:03'), file_size=453819, num_timesteps=17938), EventMetadata(hash_id='f325737c3344fd6e45d1c1c424b7d26893eb31ffc7622415f9f702d71c2ae34a', class_type='NORMAL', source='REAL', well_id=2, path='/home/ubuntu/lemi_3w/data/dataset_converted_v10101_split-20_source-all_class-all_well-all_train/0/WELL-00002_20170619030032.parquet', timestamp=Timestamp('2017-06-19 03:00:32'), file_size=490459, num_timesteps=17969), EventMetadata(hash_id='a2c6225de5395520de4bd3da2cfeb28a526a3ba5aa04a0cc58921e6c8427c13d', class_type='NORMAL', source='REAL', well_id=6, path='/home/ubuntu/lemi_3w/data/dataset_converted_v10101_split-20_source-all_class-all_well-all_train/0/WELL-00006_20170827180146.parquet', timestamp=Timestamp('2017-08-27 18:01:46'), file_size=369117, num_timesteps=17895), EventMetadata(hash_id='2bc98c734201917f20f6f7513e43b5496e71c0fbd9c3e098ed20b328f05f1896', class_type='NORMAL', source='REAL', well_id=2, path='/home/ubuntu/lemi_3w/data/dataset_converted_v10101_split-20_source-all_class-all_well-all_train/0/WELL-00002_20170810220000.parquet', timestamp=Timestamp('2017-08-10 22:00:00'), file_size=477837, num_timesteps=17812), EventMetadata(hash_id='f3eea4adb3226e97017da0df98db8201e69810e662706a1b760d889e0bd311d0', class_type='NORMAL', source='REAL', well_id=8, path='/home/ubuntu/lemi_3w/data/dataset_converted_v10101_split-20_source-all_class-all_well-all_train/0/WELL-00008_20170614080246.parquet', timestamp=Timestamp('2017-06-14 08:02:46'), file_size=241466, num_timesteps=17633), EventMetadata(hash_id='2e7862a5535f1e8ae1ed251fc68cda79eed8fe730df8cf51852464c3910bf1a9', class_type='NORMAL', source='REAL', well_id=7, path='/home/ubuntu/lemi_3w/data/dataset_converted_v10101_split-20_source-all_class-all_well-all_train/0/WELL-00007_20170801200000.parquet', timestamp=Timestamp('2017-08-01 20:00:00'), file_size=296340, num_timesteps=7185), EventMetadata(hash_id='69db8e89cc04039d0debb40d4d32dd9ab00478ef54b49581756f987f5c8ce1b2', class_type='NORMAL', source='REAL', well_id=6, path='/home/ubuntu/lemi_3w/data/dataset_converted_v10101_split-20_source-all_class-all_well-all_train/0/WELL-00006_20170509200135.parquet', timestamp=Timestamp('2017-05-09 20:01:35'), file_size=354391, num_timesteps=17906), EventMetadata(hash_id='80118d05c6b36f2d62d4f526e9389121acdd98aaf72ebea781195fd2e5d8470e', class_type='NORMAL', source='REAL', well_id=2, path='/home/ubuntu/lemi_3w/data/dataset_converted_v10101_split-20_source-all_class-all_well-all_train/0/WELL-00002_20170219120152.parquet', timestamp=Timestamp('2017-02-19 12:01:52'), file_size=490030, num_timesteps=17889), EventMetadata(hash_id='2638b55680a0328104acdab68cd5dcbf5baa174c5f628f2f993808a01195501c', class_type='NORMAL', source='REAL', well_id=8, path='/home/ubuntu/lemi_3w/data/dataset_converted_v10101_split-20_source-all_class-all_well-all_train/0/WELL-00008_20170818010222.parquet', timestamp=Timestamp('2017-08-18 01:02:22'), file_size=195422, num_timesteps=17728), EventMetadata(hash_id='10a52f68da12fcc1854335c60039cbadc218035a15c9829bb73729b0d2a11524', class_type='NORMAL', source='REAL', well_id=2, path='/home/ubuntu/lemi_3w/data/dataset_converted_v10101_split-20_source-all_class-all_well-all_train/0/WELL-00002_20131211230015.parquet', timestamp=Timestamp('2013-12-11 23:00:15'), file_size=160032, num_timesteps=7186), EventMetadata(hash_id='c7f54e6af88fb6656a667620817b7ea140f98981b492d428ff7d94be3c3bab45', class_type='NORMAL', source='REAL', well_id=6, path='/home/ubuntu/lemi_3w/data/dataset_converted_v10101_split-20_source-all_class-all_well-all_train/0/WELL-00006_20170816220000.parquet', timestamp=Timestamp('2017-08-16 22:00:00'), file_size=417790, num_timesteps=17665), EventMetadata(hash_id='b5fcd44bc0cf60b40ad1463b350a8a2600201dfaa2613212674245e99ac7c0e9', class_type='NORMAL', source='REAL', well_id=2, path='/home/ubuntu/lemi_3w/data/dataset_converted_v10101_split-20_source-all_class-all_well-all_train/0/WELL-00002_20170406100000.parquet', timestamp=Timestamp('2017-04-06 10:00:00'), file_size=456990, num_timesteps=17635), EventMetadata(hash_id='edc757a93a7566a8280dc6d9fba85edc1636dcd6e4cd98b85c99eca58546bb59', class_type='NORMAL', source='REAL', well_id=6, path='/home/ubuntu/lemi_3w/data/dataset_converted_v10101_split-20_source-all_class-all_well-all_train/0/WELL-00006_20170507030249.parquet', timestamp=Timestamp('2017-05-07 03:02:49'), file_size=373353, num_timesteps=17832), EventMetadata(hash_id='0f0d7c68f2b02b32c6ff07357805301eac3b8179e88df13323b2c337e2d210ed', class_type='NORMAL', source='REAL', well_id=6, path='/home/ubuntu/lemi_3w/data/dataset_converted_v10101_split-20_source-all_class-all_well-all_train/0/WELL-00006_20170817130000.parquet', timestamp=Timestamp('2017-08-17 13:00:00'), file_size=429785, num_timesteps=17962), EventMetadata(hash_id='aea2ad963f22759db374884c985cc3f3ac102597112c760e56626d9772f62902', class_type='NORMAL', source='REAL', well_id=5, path='/home/ubuntu/lemi_3w/data/dataset_converted_v10101_split-20_source-all_class-all_well-all_train/0/WELL-00005_20170331110000.parquet', timestamp=Timestamp('2017-03-31 11:00:00'), file_size=284890, num_timesteps=17855), EventMetadata(hash_id='f236799d0e260bf41f7f8bee21cec72bcbd39df231ce20551ab38f38d4c5c58a', class_type='NORMAL', source='REAL', well_id=5, path='/home/ubuntu/lemi_3w/data/dataset_converted_v10101_split-20_source-all_class-all_well-all_train/0/WELL-00005_20170516170000.parquet', timestamp=Timestamp('2017-05-16 17:00:00'), file_size=149184, num_timesteps=10730), EventMetadata(hash_id='7b528a148b25af84cab90a9c16b7404f27f33cb0102925ef3ebb80e56063d2bd', class_type='NORMAL', source='REAL', well_id=5, path='/home/ubuntu/lemi_3w/data/dataset_converted_v10101_split-20_source-all_class-all_well-all_train/0/WELL-00005_20170816110000.parquet', timestamp=Timestamp('2017-08-16 11:00:00'), file_size=190352, num_timesteps=10738), EventMetadata(hash_id='bfc02f01107db6c5b1295a31f863fc60e7233c452e7bffe53e5cbfeecafccac8', class_type='NORMAL', source='REAL', well_id=2, path='/home/ubuntu/lemi_3w/data/dataset_converted_v10101_split-20_source-all_class-all_well-all_train/0/WELL-00002_20170310230042.parquet', timestamp=Timestamp('2017-03-10 23:00:42'), file_size=468169, num_timesteps=17959), EventMetadata(hash_id='97a8115a77acbb97298bc62a868f23b0b9cea5aec7e4dbdbffcfaeff6ca5fefe', class_type='NORMAL', source='REAL', well_id=6, path='/home/ubuntu/lemi_3w/data/dataset_converted_v10101_split-20_source-all_class-all_well-all_train/0/WELL-00006_20170506170053.parquet', timestamp=Timestamp('2017-05-06 17:00:53'), file_size=366909, num_timesteps=17948), EventMetadata(hash_id='a79674f32ca0da0c1f062b3267ea10d56868fa2be357c5fedacede3c8c6e1b66', class_type='NORMAL', source='REAL', well_id=2, path='/home/ubuntu/lemi_3w/data/dataset_converted_v10101_split-20_source-all_class-all_well-all_train/0/WELL-00002_20170807090000.parquet', timestamp=Timestamp('2017-08-07 09:00:00'), file_size=497429, num_timesteps=17488), EventMetadata(hash_id='f8b1f20e57d141ed2fddec0828c7769cd7ae246c793c27ad539a3402e4dc92de', class_type='NORMAL', source='REAL', well_id=5, path='/home/ubuntu/lemi_3w/data/dataset_converted_v10101_split-20_source-all_class-all_well-all_train/0/WELL-00005_20170331160000.parquet', timestamp=Timestamp('2017-03-31 16:00:00'), file_size=269435, num_timesteps=17913), EventMetadata(hash_id='9f67cca93c3f43509d921c9a4eb9e9746f51402f818ce8aab47422d174811146', class_type='NORMAL', source='REAL', well_id=2, path='/home/ubuntu/lemi_3w/data/dataset_converted_v10101_split-20_source-all_class-all_well-all_train/0/WELL-00002_20170623200211.parquet', timestamp=Timestamp('2017-06-23 20:02:11'), file_size=503479, num_timesteps=17870), EventMetadata(hash_id='7a775378ce9121e8a523526a700ba5e972955dd8d4a0c0fa4c30476c3ecac82c', class_type='NORMAL', source='REAL', well_id=2, path='/home/ubuntu/lemi_3w/data/dataset_converted_v10101_split-20_source-all_class-all_well-all_train/0/WELL-00002_20170216040141.parquet', timestamp=Timestamp('2017-02-16 04:01:41'), file_size=584057, num_timesteps=17900), EventMetadata(hash_id='1fe0491ea8630431a8e75fde01294c7546814449b42df341dbf6747156a66bb8', class_type='NORMAL', source='REAL', well_id=1, path='/home/ubuntu/lemi_3w/data/dataset_converted_v10101_split-20_source-all_class-all_well-all_train/0/WELL-00001_20170626200135.parquet', timestamp=Timestamp('2017-06-26 20:01:35'), file_size=597535, num_timesteps=17810), EventMetadata(hash_id='8c46232337c0d996660974b0c458d49b2b8ec2626adfe38196cf4f8fe6844061', class_type='NORMAL', source='REAL', well_id=6, path='/home/ubuntu/lemi_3w/data/dataset_converted_v10101_split-20_source-all_class-all_well-all_train/0/WELL-00006_20170207230207.parquet', timestamp=Timestamp('2017-02-07 23:02:07'), file_size=350761, num_timesteps=17874), EventMetadata(hash_id='babcc51475d96e09cb0d6a9cc60928aa24818e0542b7d4cbb7116ca18e4fa646', class_type='NORMAL', source='REAL', well_id=2, path='/home/ubuntu/lemi_3w/data/dataset_converted_v10101_split-20_source-all_class-all_well-all_train/0/WELL-00002_20170611100000.parquet', timestamp=Timestamp('2017-06-11 10:00:00'), file_size=464514, num_timesteps=17886), EventMetadata(hash_id='43a750917c62a5bf49479a1a63bbf72048fe3c9f0fc1e9663c69ba034e93ab18', class_type='NORMAL', source='REAL', well_id=2, path='/home/ubuntu/lemi_3w/data/dataset_converted_v10101_split-20_source-all_class-all_well-all_train/0/WELL-00002_20170616100516.parquet', timestamp=Timestamp('2017-06-16 10:05:16'), file_size=449695, num_timesteps=17685), EventMetadata(hash_id='753643d3f8017f14e7e48a296fc6f2bd5f0b4733ba9df9e08fcad71ddd628c5a', class_type='NORMAL', source='REAL', well_id=2, path='/home/ubuntu/lemi_3w/data/dataset_converted_v10101_split-20_source-all_class-all_well-all_train/0/WELL-00002_20170212100203.parquet', timestamp=Timestamp('2017-02-12 10:02:03'), file_size=505721, num_timesteps=17878), EventMetadata(hash_id='8506e7af5adc194911f68a03c537003f31a2c455eefbcbed43ad942cac97155c', class_type='NORMAL', source='REAL', well_id=2, path='/home/ubuntu/lemi_3w/data/dataset_converted_v10101_split-20_source-all_class-all_well-all_train/0/WELL-00002_20170218060225.parquet', timestamp=Timestamp('2017-02-18 06:02:25'), file_size=524165, num_timesteps=17856), EventMetadata(hash_id='eed0e5dcfed3252a40d4f939ef47687c25499c7fd46bcafdeef645b05a52d135', class_type='NORMAL', source='REAL', well_id=1, path='/home/ubuntu/lemi_3w/data/dataset_converted_v10101_split-20_source-all_class-all_well-all_train/0/WELL-00001_20170219170053.parquet', timestamp=Timestamp('2017-02-19 17:00:53'), file_size=439209, num_timesteps=17948), EventMetadata(hash_id='2a23dd0fe647c7c8f528555bc9b58c910680dae9fce04a6121429b8dcecf4e94', class_type='NORMAL', source='REAL', well_id=3, path='/home/ubuntu/lemi_3w/data/dataset_converted_v10101_split-20_source-all_class-all_well-all_train/0/WELL-00003_20170820230053.parquet', timestamp=Timestamp('2017-08-20 23:00:53'), file_size=194565, num_timesteps=17948), EventMetadata(hash_id='90a413db71ef754857f114900f705defb28255d6255f17d7bcfbda575e5b1fd8', class_type='NORMAL', source='REAL', well_id=8, path='/home/ubuntu/lemi_3w/data/dataset_converted_v10101_split-20_source-all_class-all_well-all_train/0/WELL-00008_20170702050135.parquet', timestamp=Timestamp('2017-07-02 05:01:35'), file_size=235176, num_timesteps=17692), EventMetadata(hash_id='ea143882baccaf68a197b75e8572eafdcf7a697af61d6c67c7515b4ccf056aa9', class_type='NORMAL', source='REAL', well_id=5, path='/home/ubuntu/lemi_3w/data/dataset_converted_v10101_split-20_source-all_class-all_well-all_train/0/WELL-00005_20170817050000.parquet', timestamp=Timestamp('2017-08-17 05:00:00'), file_size=197968, num_timesteps=10613), EventMetadata(hash_id='e8e74a1747e0d4b5f4d0ccf5b0373835f6a1aade9d5a8f93f123b8a0b45c6b72', class_type='NORMAL', source='REAL', well_id=5, path='/home/ubuntu/lemi_3w/data/dataset_converted_v10101_split-20_source-all_class-all_well-all_train/0/WELL-00005_20170817200000.parquet', timestamp=Timestamp('2017-08-17 20:00:00'), file_size=152832, num_timesteps=10649), EventMetadata(hash_id='515349a33d68ed0521f068a5fde203d524dfca1256c3cbda5736b023741743be', class_type='NORMAL', source='REAL', well_id=1, path='/home/ubuntu/lemi_3w/data/dataset_converted_v10101_split-20_source-all_class-all_well-all_train/0/WELL-00001_20170219020042.parquet', timestamp=Timestamp('2017-02-19 02:00:42'), file_size=444995, num_timesteps=17959), EventMetadata(hash_id='fe7ae7aae0e7a9a40af0d2c0b294d304af983a5f25117959a4f9158a7f2bdd6b', class_type='NORMAL', source='REAL', well_id=2, path='/home/ubuntu/lemi_3w/data/dataset_converted_v10101_split-20_source-all_class-all_well-all_train/0/WELL-00002_20170808000000.parquet', timestamp=Timestamp('2017-08-08 00:00:00'), file_size=431044, num_timesteps=17906), EventMetadata(hash_id='62d725e6e74352733686f3a56a627ee547829ece8378083c46f64b99700cda53', class_type='NORMAL', source='REAL', well_id=6, path='/home/ubuntu/lemi_3w/data/dataset_converted_v10101_split-20_source-all_class-all_well-all_train/0/WELL-00006_20170819200000.parquet', timestamp=Timestamp('2017-08-19 20:00:00'), file_size=384973, num_timesteps=17871), EventMetadata(hash_id='ffce15bc66d2b3913c6561dfd76d71c9a884ed7f9e0522079ef99f00ab5e2c0d', class_type='NORMAL', source='REAL', well_id=1, path='/home/ubuntu/lemi_3w/data/dataset_converted_v10101_split-20_source-all_class-all_well-all_train/0/WELL-00001_20170521000000.parquet', timestamp=Timestamp('2017-05-21 00:00:00'), file_size=531405, num_timesteps=17949), EventMetadata(hash_id='2f26c716d661fe3b4f234e573293a85307706212048bbcab2a14b074cf7c7cb7', class_type='NORMAL', source='REAL', well_id=3, path='/home/ubuntu/lemi_3w/data/dataset_converted_v10101_split-20_source-all_class-all_well-all_train/0/WELL-00003_20170915020000.parquet', timestamp=Timestamp('2017-09-15 02:00:00'), file_size=224291, num_timesteps=17884), EventMetadata(hash_id='cc3789e6ebbbef58d5c30d9884772f70133d4ffb09ef3bc06e60b9a37e9e2a54', class_type='NORMAL', source='REAL', well_id=2, path='/home/ubuntu/lemi_3w/data/dataset_converted_v10101_split-20_source-all_class-all_well-all_train/0/WELL-00002_20170618220043.parquet', timestamp=Timestamp('2017-06-18 22:00:43'), file_size=503911, num_timesteps=17958), EventMetadata(hash_id='3a331b940370fd32573ec916081d8012aeb75982d3d27784a8a5c49e5bea855d', class_type='NORMAL', source='REAL', well_id=5, path='/home/ubuntu/lemi_3w/data/dataset_converted_v10101_split-20_source-all_class-all_well-all_train/0/WELL-00005_20170910110000.parquet', timestamp=Timestamp('2017-09-10 11:00:00'), file_size=138111, num_timesteps=7127), EventMetadata(hash_id='5ad7800675be717872fa60a57de0c3e646f70317d1f8b3673f07c9c40e469b2c', class_type='NORMAL', source='REAL', well_id=6, path='/home/ubuntu/lemi_3w/data/dataset_converted_v10101_split-20_source-all_class-all_well-all_train/0/WELL-00006_20170827030218.parquet', timestamp=Timestamp('2017-08-27 03:02:18'), file_size=407826, num_timesteps=17863), EventMetadata(hash_id='71a71629aa9e1db797d23e136a5ac019a4e0e24b9ed82f6ab87bbf49771e4d70', class_type='NORMAL', source='REAL', well_id=2, path='/home/ubuntu/lemi_3w/data/dataset_converted_v10101_split-20_source-all_class-all_well-all_train/0/WELL-00002_20170216140152.parquet', timestamp=Timestamp('2017-02-16 14:01:52'), file_size=478934, num_timesteps=17889), EventMetadata(hash_id='6118c5b78101fbc4072369485174249466c2ac76da586306fcaaa977a1feabb2', class_type='NORMAL', source='REAL', well_id=3, path='/home/ubuntu/lemi_3w/data/dataset_converted_v10101_split-20_source-all_class-all_well-all_train/0/WELL-00003_20170812020116.parquet', timestamp=Timestamp('2017-08-12 02:01:16'), file_size=235061, num_timesteps=17586), EventMetadata(hash_id='932e6a6bb7deaafa535be24cfcbd3808492eae554c762582ef81dc94b4cdf9b3', class_type='NORMAL', source='REAL', well_id=6, path='/home/ubuntu/lemi_3w/data/dataset_converted_v10101_split-20_source-all_class-all_well-all_train/0/WELL-00006_20170818140000.parquet', timestamp=Timestamp('2017-08-18 14:00:00'), file_size=383187, num_timesteps=17936), EventMetadata(hash_id='615d42ce990239ba048a24ad984184dea38620861b4d67953b5fe614e3eeb14c', class_type='NORMAL', source='REAL', well_id=2, path='/home/ubuntu/lemi_3w/data/dataset_converted_v10101_split-20_source-all_class-all_well-all_train/0/WELL-00002_20170809210000.parquet', timestamp=Timestamp('2017-08-09 21:00:00'), file_size=495928, num_timesteps=17893), EventMetadata(hash_id='44c29b3d1d168626906e8d464b33cf0d65be0cc55b5805eb482b72a151347a05', class_type='NORMAL', source='REAL', well_id=2, path='/home/ubuntu/lemi_3w/data/dataset_converted_v10101_split-20_source-all_class-all_well-all_train/0/WELL-00002_20170617160149.parquet', timestamp=Timestamp('2017-06-17 16:01:49'), file_size=450701, num_timesteps=17892), EventMetadata(hash_id='2a45c004aec4d76db56e5ecc9cd17e6ec090d1130b89788d562efb7ebea41e43', class_type='NORMAL', source='REAL', well_id=8, path='/home/ubuntu/lemi_3w/data/dataset_converted_v10101_split-20_source-all_class-all_well-all_train/0/WELL-00008_20170914070222.parquet', timestamp=Timestamp('2017-09-14 07:02:22'), file_size=234181, num_timesteps=17680), EventMetadata(hash_id='43c071686a1cf321cdc1259d7df8251a0a48483fc323a42d2f65d01d296109e1', class_type='NORMAL', source='REAL', well_id=2, path='/home/ubuntu/lemi_3w/data/dataset_converted_v10101_split-20_source-all_class-all_well-all_train/0/WELL-00002_20170807190000.parquet', timestamp=Timestamp('2017-08-07 19:00:00'), file_size=457188, num_timesteps=17960), EventMetadata(hash_id='58b3e20cbf9047bfa4c4b1f5b90ea121b546862d443768e40e95173bb7c6f569', class_type='NORMAL', source='REAL', well_id=1, path='/home/ubuntu/lemi_3w/data/dataset_converted_v10101_split-20_source-all_class-all_well-all_train/0/WELL-00001_20170425040207.parquet', timestamp=Timestamp('2017-04-25 04:02:07'), file_size=501974, num_timesteps=17874), EventMetadata(hash_id='e2a5c4fea07a2f8c9da332dad814a48e611269c59ac5cb69657176e0188465eb', class_type='NORMAL', source='REAL', well_id=6, path='/home/ubuntu/lemi_3w/data/dataset_converted_v10101_split-20_source-all_class-all_well-all_train/0/WELL-00006_20170819000000.parquet', timestamp=Timestamp('2017-08-19 00:00:00'), file_size=373183, num_timesteps=17678), EventMetadata(hash_id='fb5ec1812c6d2cbf5c28b749908bc53db094d88960fd8bbc2a36dbe70f224a48', class_type='NORMAL', source='REAL', well_id=2, path='/home/ubuntu/lemi_3w/data/dataset_converted_v10101_split-20_source-all_class-all_well-all_train/0/WELL-00002_20170813050000.parquet', timestamp=Timestamp('2017-08-13 05:00:00'), file_size=501201, num_timesteps=17960), EventMetadata(hash_id='cf165a56ac6e2b1a00966046aba87513bdb03d0b30bece2ea8a981688cf62d08', class_type='NORMAL', source='REAL', well_id=1, path='/home/ubuntu/lemi_3w/data/dataset_converted_v10101_split-20_source-all_class-all_well-all_train/0/WELL-00001_20170825170000.parquet', timestamp=Timestamp('2017-08-25 17:00:00'), file_size=445630, num_timesteps=17883), EventMetadata(hash_id='4bfbb3c113306897094f0d2ed8dbdea1f4a8f67b32348c1fc98a02c7945b00ab', class_type='NORMAL', source='REAL', well_id=4, path='/home/ubuntu/lemi_3w/data/dataset_converted_v10101_split-20_source-all_class-all_well-all_train/0/WELL-00004_20140807180050.parquet', timestamp=Timestamp('2014-08-07 18:00:50'), file_size=146959, num_timesteps=7151), EventMetadata(hash_id='e0e1d111aba7148cc0b6e35ee7ed51f78c40e602a327605f8786334fc6e13f9e', class_type='NORMAL', source='REAL', well_id=6, path='/home/ubuntu/lemi_3w/data/dataset_converted_v10101_split-20_source-all_class-all_well-all_train/0/WELL-00006_20170819100000.parquet', timestamp=Timestamp('2017-08-19 10:00:00'), file_size=300633, num_timesteps=17975), EventMetadata(hash_id='ca35bac0300445a007cb0853fb466db902e845e3208eae8b54202ffbff6fd708', class_type='NORMAL', source='REAL', well_id=6, path='/home/ubuntu/lemi_3w/data/dataset_converted_v10101_split-20_source-all_class-all_well-all_train/0/WELL-00006_20170223160000.parquet', timestamp=Timestamp('2017-02-23 16:00:00'), file_size=188306, num_timesteps=17975), EventMetadata(hash_id='55a4bd387940f5e698e7484cf5ec35079730eb969b74f188809e96cf0a13a9a6', class_type='NORMAL', source='REAL', well_id=5, path='/home/ubuntu/lemi_3w/data/dataset_converted_v10101_split-20_source-all_class-all_well-all_train/0/WELL-00005_20170813020000.parquet', timestamp=Timestamp('2017-08-13 02:00:00'), file_size=153594, num_timesteps=10578), EventMetadata(hash_id='fcbfcb223ba69a576e3577c92642f65ebbb6ea2b6915162e783f607bb827796e', class_type='NORMAL', source='REAL', well_id=1, path='/home/ubuntu/lemi_3w/data/dataset_converted_v10101_split-20_source-all_class-all_well-all_train/0/WELL-00001_20170827090000.parquet', timestamp=Timestamp('2017-08-27 09:00:00'), file_size=466512, num_timesteps=17974), EventMetadata(hash_id='6d4301574bb6087a83604139e4f97d40abfca12bc4f9a17e65452d9b5e241e28', class_type='NORMAL', source='REAL', well_id=6, path='/home/ubuntu/lemi_3w/data/dataset_converted_v10101_split-20_source-all_class-all_well-all_train/0/WELL-00006_20170207080124.parquet', timestamp=Timestamp('2017-02-07 08:01:24'), file_size=362015, num_timesteps=17917), EventMetadata(hash_id='a5511ed5a0d660c47d18cf542b51fde497a71535ad8419cc0b917e50fae1acce', class_type='NORMAL', source='REAL', well_id=1, path='/home/ubuntu/lemi_3w/data/dataset_converted_v10101_split-20_source-all_class-all_well-all_train/0/WELL-00001_20170827040000.parquet', timestamp=Timestamp('2017-08-27 04:00:00'), file_size=444162, num_timesteps=17883), EventMetadata(hash_id='44d0ba83647cc80d0a0ab4df05e33aee38da84aa8202e354499bed5d6cb0ee58', class_type='NORMAL', source='REAL', well_id=2, path='/home/ubuntu/lemi_3w/data/dataset_converted_v10101_split-20_source-all_class-all_well-all_train/0/WELL-00002_20170214220322.parquet', timestamp=Timestamp('2017-02-14 22:03:22'), file_size=449222, num_timesteps=17799), EventMetadata(hash_id='3530f94ee0d887bb1993a3e7a9c85a674493c8c73bf799cae18d68352110dcea', class_type='NORMAL', source='REAL', well_id=2, path='/home/ubuntu/lemi_3w/data/dataset_converted_v10101_split-20_source-all_class-all_well-all_train/0/WELL-00002_20170217100355.parquet', timestamp=Timestamp('2017-02-17 10:03:55'), file_size=455111, num_timesteps=17766), EventMetadata(hash_id='db818f969e3861484fa4563b7eb9364d5b72a5a6fbdbe9fa00a5eb941ba5fdde', class_type='NORMAL', source='REAL', well_id=2, path='/home/ubuntu/lemi_3w/data/dataset_converted_v10101_split-20_source-all_class-all_well-all_train/0/WELL-00002_20170621230054.parquet', timestamp=Timestamp('2017-06-21 23:00:54'), file_size=476292, num_timesteps=17947), EventMetadata(hash_id='fdedb1b045bdaced61d20fb2dad8b60a711c1035b92ff9084e21c213f5cce0c4', class_type='NORMAL', source='REAL', well_id=2, path='/home/ubuntu/lemi_3w/data/dataset_converted_v10101_split-20_source-all_class-all_well-all_train/0/WELL-00002_20170218010237.parquet', timestamp=Timestamp('2017-02-18 01:02:37'), file_size=475745, num_timesteps=17844), EventMetadata(hash_id='ab519e08ce5d6d458a497ac67d6fa74dc02cdf965be932ea03a73655dcd43118', class_type='NORMAL', source='REAL', well_id=2, path='/home/ubuntu/lemi_3w/data/dataset_converted_v10101_split-20_source-all_class-all_well-all_train/0/WELL-00002_20170612010000.parquet', timestamp=Timestamp('2017-06-12 01:00:00'), file_size=540732, num_timesteps=17943), EventMetadata(hash_id='6cfde9024aa324c8523be20bc5dbf63f57f678db6f275c178d6ac8ae62f3a99b', class_type='NORMAL', source='REAL', well_id=4, path='/home/ubuntu/lemi_3w/data/dataset_converted_v10101_split-20_source-all_class-all_well-all_train/0/WELL-00004_20140807040137.parquet', timestamp=Timestamp('2014-08-07 04:01:37'), file_size=149428, num_timesteps=7104), EventMetadata(hash_id='54a7c796064140f0ca8ba1d6eed4e04b5b444f01e48f83a4b53945b011bb399f', class_type='NORMAL', source='REAL', well_id=6, path='/home/ubuntu/lemi_3w/data/dataset_converted_v10101_split-20_source-all_class-all_well-all_train/0/WELL-00006_20170222100000.parquet', timestamp=Timestamp('2017-02-22 10:00:00'), file_size=329410, num_timesteps=17884), EventMetadata(hash_id='e0863ebf5f37f08d3767d2d0b715d214e7e051a5192f30553b174c2b56b114f9', class_type='NORMAL', source='REAL', well_id=2, path='/home/ubuntu/lemi_3w/data/dataset_converted_v10101_split-20_source-all_class-all_well-all_train/0/WELL-00002_20170404030000.parquet', timestamp=Timestamp('2017-04-04 03:00:00'), file_size=456714, num_timesteps=17955), EventMetadata(hash_id='fb3dbae4b95e1f4a7047d72c6187c594f3f3dbc7918e4670bd4b6d1b4c0ecbfd', class_type='NORMAL', source='REAL', well_id=2, path='/home/ubuntu/lemi_3w/data/dataset_converted_v10101_split-20_source-all_class-all_well-all_train/0/WELL-00002_20170623100032.parquet', timestamp=Timestamp('2017-06-23 10:00:32'), file_size=450058, num_timesteps=17969), EventMetadata(hash_id='140f8c014279ed62b4f4dcafc45e49dc4cee576c105ea3a7e6a516713b7e0b3f', class_type='NORMAL', source='REAL', well_id=5, path='/home/ubuntu/lemi_3w/data/dataset_converted_v10101_split-20_source-all_class-all_well-all_train/0/WELL-00005_20170830060000.parquet', timestamp=Timestamp('2017-08-30 06:00:00'), file_size=201138, num_timesteps=10777), EventMetadata(hash_id='197d6f386f66ffb7e633734374256e2bea8a60e0de79e1b7d164d26f9cc63358', class_type='NORMAL', source='REAL', well_id=3, path='/home/ubuntu/lemi_3w/data/dataset_converted_v10101_split-20_source-all_class-all_well-all_train/0/WELL-00003_20170821090300.parquet', timestamp=Timestamp('2017-08-21 09:03:00'), file_size=202783, num_timesteps=17821), EventMetadata(hash_id='b1901e1ac4812629d2204c4c1e04e055d0443cae905020233a087fba0799e892', class_type='NORMAL', source='REAL', well_id=5, path='/home/ubuntu/lemi_3w/data/dataset_converted_v10101_split-20_source-all_class-all_well-all_train/0/WELL-00005_20170817170000.parquet', timestamp=Timestamp('2017-08-17 17:00:00'), file_size=163125, num_timesteps=10560), EventMetadata(hash_id='8f508cea0781ac6e9c3e179088d04784307d2e95d364b6ee35b180a43f76e62e', class_type='NORMAL', source='REAL', well_id=2, path='/home/ubuntu/lemi_3w/data/dataset_converted_v10101_split-20_source-all_class-all_well-all_train/0/WELL-00002_20170611200000.parquet', timestamp=Timestamp('2017-06-11 20:00:00'), file_size=463636, num_timesteps=17966), EventMetadata(hash_id='99f8e45957d9d29aac8ca910ec41f83f1b46c1494968b56755ac860533630928', class_type='NORMAL', source='REAL', well_id=6, path='/home/ubuntu/lemi_3w/data/dataset_converted_v10101_split-20_source-all_class-all_well-all_train/0/WELL-00006_20170822180000.parquet', timestamp=Timestamp('2017-08-22 18:00:00'), file_size=321700, num_timesteps=17936), EventMetadata(hash_id='7165214621d17fffb3628c045f5f805a70a1ba82d7f8cb6c128f81423676023e', class_type='NORMAL', source='REAL', well_id=2, path='/home/ubuntu/lemi_3w/data/dataset_converted_v10101_split-20_source-all_class-all_well-all_train/0/WELL-00002_20170623150127.parquet', timestamp=Timestamp('2017-06-23 15:01:27'), file_size=481367, num_timesteps=17914), EventMetadata(hash_id='0fa6c0f7660a43dd9063c1cc3c77368716d49eb7cb23aa5aa48b1524609b2608', class_type='NORMAL', source='REAL', well_id=6, path='/home/ubuntu/lemi_3w/data/dataset_converted_v10101_split-20_source-all_class-all_well-all_train/0/WELL-00006_20170823090000.parquet', timestamp=Timestamp('2017-08-23 09:00:00'), file_size=315280, num_timesteps=17936), EventMetadata(hash_id='309c1fd918f20325645c780238d80d369f6f9d65ec54f4e9f64b54921517cb60', class_type='NORMAL', source='REAL', well_id=6, path='/home/ubuntu/lemi_3w/data/dataset_converted_v10101_split-20_source-all_class-all_well-all_train/0/WELL-00006_20170223210000.parquet', timestamp=Timestamp('2017-02-23 21:00:00'), file_size=176519, num_timesteps=17897), EventMetadata(hash_id='686e56b894f15f32531f46f8c557d9ddba471d7449fd4631571c5bb3a3bba5e3', class_type='NORMAL', source='REAL', well_id=3, path='/home/ubuntu/lemi_3w/data/dataset_converted_v10101_split-20_source-all_class-all_well-all_train/0/WELL-00003_20170514110000.parquet', timestamp=Timestamp('2017-05-14 11:00:00'), file_size=215090, num_timesteps=17639), EventMetadata(hash_id='42d8bbe93dd4962c8400e0cb48bc8ab5bce471dd7fd2a10d831536c12f867dfb', class_type='NORMAL', source='REAL', well_id=2, path='/home/ubuntu/lemi_3w/data/dataset_converted_v10101_split-20_source-all_class-all_well-all_train/0/WELL-00002_20170406000000.parquet', timestamp=Timestamp('2017-04-06 00:00:00'), file_size=443050, num_timesteps=17772), EventMetadata(hash_id='b808892c86056f9a4a3656731ddcd12bf0bf27504044510a1754023c0999dc65', class_type='NORMAL', source='REAL', well_id=5, path='/home/ubuntu/lemi_3w/data/dataset_converted_v10101_split-20_source-all_class-all_well-all_train/0/WELL-00005_20170815230000.parquet', timestamp=Timestamp('2017-08-15 23:00:00'), file_size=187968, num_timesteps=10676), EventMetadata(hash_id='c93218fc71a2a1ac990cb9dbce8bba6d59d4e325068f65440501df75e9a6c015', class_type='NORMAL', source='REAL', well_id=8, path='/home/ubuntu/lemi_3w/data/dataset_converted_v10101_split-20_source-all_class-all_well-all_train/0/WELL-00008_20170914120246.parquet', timestamp=Timestamp('2017-09-14 12:02:46'), file_size=236769, num_timesteps=17633), EventMetadata(hash_id='90636893d6910ff1eb65f639af5f697cfc990a6f7074033ff2783bd2ff79cd06', class_type='NORMAL', source='REAL', well_id=5, path='/home/ubuntu/lemi_3w/data/dataset_converted_v10101_split-20_source-all_class-all_well-all_train/0/WELL-00005_20170910090000.parquet', timestamp=Timestamp('2017-09-10 09:00:00'), file_size=127248, num_timesteps=7108), EventMetadata(hash_id='5e6dd0c4ae5bcc3fa6c1a5814b2d3c87a831710c4bc8e9fca7ac485f8191317f', class_type='NORMAL', source='REAL', well_id=1, path='/home/ubuntu/lemi_3w/data/dataset_converted_v10101_split-20_source-all_class-all_well-all_train/0/WELL-00001_20170524180000.parquet', timestamp=Timestamp('2017-05-24 18:00:00'), file_size=440756, num_timesteps=17949), EventMetadata(hash_id='77e3cddac577542ef09a2eba004c2e67545dc1a1defbbe02dae243f026eb5e8f', class_type='NORMAL', source='REAL', well_id=2, path='/home/ubuntu/lemi_3w/data/dataset_converted_v10101_split-20_source-all_class-all_well-all_train/0/WELL-00002_20170624060127.parquet', timestamp=Timestamp('2017-06-24 06:01:27'), file_size=472898, num_timesteps=17914), EventMetadata(hash_id='b3d2ae0548873453b95541d68635537d6332b4ea1d6874ff9ad81ed441699eb6', class_type='NORMAL', source='REAL', well_id=2, path='/home/ubuntu/lemi_3w/data/dataset_converted_v10101_split-20_source-all_class-all_well-all_train/0/WELL-00002_20170618070105.parquet', timestamp=Timestamp('2017-06-18 07:01:05'), file_size=487683, num_timesteps=17936), EventMetadata(hash_id='45fab2a3170f8d7650ed6ee345f9ae3759834f0f5eaf8f4285a53e6be99f59a0', class_type='NORMAL', source='REAL', well_id=6, path='/home/ubuntu/lemi_3w/data/dataset_converted_v10101_split-20_source-all_class-all_well-all_train/0/WELL-00006_20170818190000.parquet', timestamp=Timestamp('2017-08-18 19:00:00'), file_size=385963, num_timesteps=17730), EventMetadata(hash_id='2445edc5bf2c1aeaae238d952c3a2052e0cedb1ca70682e28c0e9b1e2be4310d', class_type='NORMAL', source='REAL', well_id=5, path='/home/ubuntu/lemi_3w/data/dataset_converted_v10101_split-20_source-all_class-all_well-all_train/0/WELL-00005_20170404000043.parquet', timestamp=Timestamp('2017-04-04 00:00:43'), file_size=200122, num_timesteps=17958), EventMetadata(hash_id='7dad9ceca568d2bd8afce8ba134b7f25a65ea2ca40903619a07182ea336739ec', class_type='NORMAL', source='REAL', well_id=3, path='/home/ubuntu/lemi_3w/data/dataset_converted_v10101_split-20_source-all_class-all_well-all_train/0/WELL-00003_20170915170000.parquet', timestamp=Timestamp('2017-09-15 17:00:00'), file_size=215840, num_timesteps=17949), EventMetadata(hash_id='2022c66249e306f1682d9f5340992f5f2b04d885ea38fc526c27f2718a9d40fb', class_type='NORMAL', source='REAL', well_id=8, path='/home/ubuntu/lemi_3w/data/dataset_converted_v10101_split-20_source-all_class-all_well-all_train/0/WELL-00008_20170819070246.parquet', timestamp=Timestamp('2017-08-19 07:02:46'), file_size=232922, num_timesteps=17644), EventMetadata(hash_id='edf779bc3d81c4f3a2bf9506fe1d3fb834773dcc7fefda586e9cedb2e7b0e17b', class_type='NORMAL', source='REAL', well_id=6, path='/home/ubuntu/lemi_3w/data/dataset_converted_v10101_split-20_source-all_class-all_well-all_train/0/WELL-00006_20170821070000.parquet', timestamp=Timestamp('2017-08-21 07:00:00'), file_size=288629, num_timesteps=17949), EventMetadata(hash_id='53cee6a6c4f7bf96f122670f05e1e9854b163c43da8c94c2edeeb6ead29d4c44', class_type='NORMAL', source='REAL', well_id=1, path='/home/ubuntu/lemi_3w/data/dataset_converted_v10101_split-20_source-all_class-all_well-all_train/0/WELL-00001_20170523170000.parquet', timestamp=Timestamp('2017-05-23 17:00:00'), file_size=425169, num_timesteps=17642), EventMetadata(hash_id='235873677c7478f5366ccd623cce09e08de1d937bc1f0f9133662b92cecd06ea', class_type='NORMAL', source='REAL', well_id=6, path='/home/ubuntu/lemi_3w/data/dataset_converted_v10101_split-20_source-all_class-all_well-all_train/0/WELL-00006_20170816020000.parquet', timestamp=Timestamp('2017-08-16 02:00:00'), file_size=405048, num_timesteps=17768), EventMetadata(hash_id='6981d477c51d75f29dfa8115aefced098e327913af48cbc4a664ccd18ed3fb6a', class_type='NORMAL', source='REAL', well_id=2, path='/home/ubuntu/lemi_3w/data/dataset_converted_v10101_split-20_source-all_class-all_well-all_train/0/WELL-00002_20170810020026.parquet', timestamp=Timestamp('2017-08-10 02:00:26'), file_size=445611, num_timesteps=17948), EventMetadata(hash_id='6c9a8ac84ee87e4b014edce33b3bb1184d41ff3aaf8c325d137058199d0c28d5', class_type='NORMAL', source='REAL', well_id=2, path='/home/ubuntu/lemi_3w/data/dataset_converted_v10101_split-20_source-all_class-all_well-all_train/0/WELL-00002_20170805220000.parquet', timestamp=Timestamp('2017-08-05 22:00:00'), file_size=509650, num_timesteps=17933), EventMetadata(hash_id='9f409cf853fe6f822dd304a914349496f97eb0c22cf2841ef00040d85b816a4d', class_type='NORMAL', source='REAL', well_id=6, path='/home/ubuntu/lemi_3w/data/dataset_converted_v10101_split-20_source-all_class-all_well-all_train/0/WELL-00006_20170824000000.parquet', timestamp=Timestamp('2017-08-24 00:00:00'), file_size=279081, num_timesteps=17936), EventMetadata(hash_id='bf8f849ab04d8e455377b8a4dfcdbb6ae94f56bcd266599bfa7770ec50dbeae1', class_type='NORMAL', source='REAL', well_id=2, path='/home/ubuntu/lemi_3w/data/dataset_converted_v10101_split-20_source-all_class-all_well-all_train/0/WELL-00002_20170217200225.parquet', timestamp=Timestamp('2017-02-17 20:02:25'), file_size=528161, num_timesteps=17856), EventMetadata(hash_id='c7660acb9b8d58c652117ac6fc833538fda986f5e35171f09c5489c8390d1844', class_type='NORMAL', source='REAL', well_id=1, path='/home/ubuntu/lemi_3w/data/dataset_converted_v10101_split-20_source-all_class-all_well-all_train/0/WELL-00001_20170526000000.parquet', timestamp=Timestamp('2017-05-26 00:00:00'), file_size=514186, num_timesteps=17949), EventMetadata(hash_id='f087746593e54e5a489e8487805ed2283fc95bfcbfa35fcf6206b79f5ce530ff', class_type='NORMAL', source='REAL', well_id=2, path='/home/ubuntu/lemi_3w/data/dataset_converted_v10101_split-20_source-all_class-all_well-all_train/0/WELL-00002_20170623050021.parquet', timestamp=Timestamp('2017-06-23 05:00:21'), file_size=437440, num_timesteps=17980), EventMetadata(hash_id='af4af6909d4e4b9b1f397cac4f9be869c944605f40900654a34f8c4322e36bd2', class_type='NORMAL', source='REAL', well_id=1, path='/home/ubuntu/lemi_3w/data/dataset_converted_v10101_split-20_source-all_class-all_well-all_train/0/WELL-00001_20170827140000.parquet', timestamp=Timestamp('2017-08-27 14:00:00'), file_size=442355, num_timesteps=17896), EventMetadata(hash_id='852c16cac8fe5ef547395e2c5d94baa2137dba6ae73ac6c049a28b4f3701e540', class_type='NORMAL', source='REAL', well_id=5, path='/home/ubuntu/lemi_3w/data/dataset_converted_v10101_split-20_source-all_class-all_well-all_train/0/WELL-00005_20170814230000.parquet', timestamp=Timestamp('2017-08-14 23:00:00'), file_size=124717, num_timesteps=10417), EventMetadata(hash_id='df1f0db1134b471305fba327374bfb17b2163d0d27857a4bb94e0041c3676298', class_type='NORMAL', source='REAL', well_id=2, path='/home/ubuntu/lemi_3w/data/dataset_converted_v10101_split-20_source-all_class-all_well-all_train/0/WELL-00002_20170211190129.parquet', timestamp=Timestamp('2017-02-11 19:01:29'), file_size=510813, num_timesteps=17912), EventMetadata(hash_id='532ff68f0a7934e4837b070a3e2fc832709d95445871842b3b5fe0815afb9ad4', class_type='NORMAL', source='REAL', well_id=6, path='/home/ubuntu/lemi_3w/data/dataset_converted_v10101_split-20_source-all_class-all_well-all_train/0/WELL-00006_20170822080000.parquet', timestamp=Timestamp('2017-08-22 08:00:00'), file_size=344234, num_timesteps=17962), EventMetadata(hash_id='24cbecf1fd32e2b0d4b0e4aa6a65f746963710e37bb993af0f134dc687cff124', class_type='NORMAL', source='REAL', well_id=1, path='/home/ubuntu/lemi_3w/data/dataset_converted_v10101_split-20_source-all_class-all_well-all_train/0/WELL-00001_20170824110000.parquet', timestamp=Timestamp('2017-08-24 11:00:00'), file_size=445467, num_timesteps=17935), EventMetadata(hash_id='b156f381545afbcd6b1f2016bfff197497ed03980a79989f8b81b853a9ca68da', class_type='NORMAL', source='REAL', well_id=6, path='/home/ubuntu/lemi_3w/data/dataset_converted_v10101_split-20_source-all_class-all_well-all_train/0/WELL-00006_20170825210053.parquet', timestamp=Timestamp('2017-08-25 21:00:53'), file_size=347006, num_timesteps=17948), EventMetadata(hash_id='42bfced55dee29c0a88cdda60fb510b643c0e5bb7c85b90f95ce7d7716f798f3', class_type='NORMAL', source='REAL', well_id=5, path='/home/ubuntu/lemi_3w/data/dataset_converted_v10101_split-20_source-all_class-all_well-all_train/0/WELL-00005_20170815140000.parquet', timestamp=Timestamp('2017-08-15 14:00:00'), file_size=172633, num_timesteps=10667), EventMetadata(hash_id='2b0415f2dba14dfac3165a5ba99560d54436fae993a6d28168be6bced933681c', class_type='NORMAL', source='REAL', well_id=2, path='/home/ubuntu/lemi_3w/data/dataset_converted_v10101_split-20_source-all_class-all_well-all_train/0/WELL-00002_20170813100000.parquet', timestamp=Timestamp('2017-08-13 10:00:00'), file_size=417465, num_timesteps=17920), EventMetadata(hash_id='261a37c2f8d214881b727385a1cf6f6fe18c552db797376d2586cfc0b16237f9', class_type='NORMAL', source='REAL', well_id=8, path='/home/ubuntu/lemi_3w/data/dataset_converted_v10101_split-20_source-all_class-all_well-all_train/0/WELL-00008_20170819020123.parquet', timestamp=Timestamp('2017-08-19 02:01:23'), file_size=203530, num_timesteps=17822), EventMetadata(hash_id='ab073fe27566cbdba2cebc232212003afadc423705507c30d8f5dccf630043cd', class_type='NORMAL', source='REAL', well_id=1, path='/home/ubuntu/lemi_3w/data/dataset_converted_v10101_split-20_source-all_class-all_well-all_train/0/WELL-00001_20170824160000.parquet', timestamp=Timestamp('2017-08-24 16:00:00'), file_size=436898, num_timesteps=17961), EventMetadata(hash_id='045458579e9decf894bfbcc9a7d484c9459bd9640e28c3690d8db7dcb7c5bc89', class_type='NORMAL', source='REAL', well_id=2, path='/home/ubuntu/lemi_3w/data/dataset_converted_v10101_split-20_source-all_class-all_well-all_train/0/WELL-00002_20170405090000.parquet', timestamp=Timestamp('2017-04-05 09:00:00'), file_size=476179, num_timesteps=17955), EventMetadata(hash_id='ef32d3ee45ea8cdfe137d5b515edefbd89b7d21b9a5fc4719bcc58b936af316a', class_type='NORMAL', source='REAL', well_id=2, path='/home/ubuntu/lemi_3w/data/dataset_converted_v10101_split-20_source-all_class-all_well-all_train/0/WELL-00002_20170625020200.parquet', timestamp=Timestamp('2017-06-25 02:02:00'), file_size=450547, num_timesteps=17881), EventMetadata(hash_id='d19ab4f3e5204d3d165d06a40c5a2cc9e70ac019951172cb3d8f8f0c6c009336', class_type='NORMAL', source='REAL', well_id=5, path='/home/ubuntu/lemi_3w/data/dataset_converted_v10101_split-20_source-all_class-all_well-all_train/0/WELL-00005_20170814200000.parquet', timestamp=Timestamp('2017-08-14 20:00:00'), file_size=118982, num_timesteps=10747), EventMetadata(hash_id='22a184cfa54ec2564b1a00333a064d98f38fe1427dcd2d0eec2c4f73bb862fc0', class_type='NORMAL', source='REAL', well_id=6, path='/home/ubuntu/lemi_3w/data/dataset_converted_v10101_split-20_source-all_class-all_well-all_train/0/WELL-00006_20170816170000.parquet', timestamp=Timestamp('2017-08-16 17:00:00'), file_size=412859, num_timesteps=17936), EventMetadata(hash_id='a1991f7f6ec6cb334fc2b50d555a3776c3064e9a146ff31c34872d326a14b73f', class_type='NORMAL', source='REAL', well_id=6, path='/home/ubuntu/lemi_3w/data/dataset_converted_v10101_split-20_source-all_class-all_well-all_train/0/WELL-00006_20170820110000.parquet', timestamp=Timestamp('2017-08-20 11:00:00'), file_size=357721, num_timesteps=17949), EventMetadata(hash_id='38fed559a61c575741b32cc249829951c300d02bf98624cc78e4e8a697c915bd', class_type='NORMAL', source='REAL', well_id=5, path='/home/ubuntu/lemi_3w/data/dataset_converted_v10101_split-20_source-all_class-all_well-all_train/0/WELL-00005_20170813170000.parquet', timestamp=Timestamp('2017-08-13 17:00:00'), file_size=194275, num_timesteps=10693), EventMetadata(hash_id='f886a8f3293318af42e82bc0b7f35757a64a8a8d6cc1eb3a010f6faf5195da99', class_type='NORMAL', source='REAL', well_id=1, path='/home/ubuntu/lemi_3w/data/dataset_converted_v10101_split-20_source-all_class-all_well-all_train/0/WELL-00001_20170201120124.parquet', timestamp=Timestamp('2017-02-01 12:01:24'), file_size=453863, num_timesteps=17917), EventMetadata(hash_id='aab031376851d685538757a7d6b11928394864f7e2c3076a821838fb59dcdbde', class_type='NORMAL', source='REAL', well_id=6, path='/home/ubuntu/lemi_3w/data/dataset_converted_v10101_split-20_source-all_class-all_well-all_train/0/WELL-00006_20170821170000.parquet', timestamp=Timestamp('2017-08-21 17:00:00'), file_size=348527, num_timesteps=17897), EventMetadata(hash_id='eaf3e6bfc37ae0ecf0f23b0a088352c7ba568c91983f971699ef75be8f0ced7c', class_type='NORMAL', source='REAL', well_id=6, path='/home/ubuntu/lemi_3w/data/dataset_converted_v10101_split-20_source-all_class-all_well-all_train/0/WELL-00006_20170508040021.parquet', timestamp=Timestamp('2017-05-08 04:00:21'), file_size=350198, num_timesteps=17980), EventMetadata(hash_id='cfb4935db823557a88e621aef39322e1ee0988f4477c40326457518737396114', class_type='NORMAL', source='REAL', well_id=8, path='/home/ubuntu/lemi_3w/data/dataset_converted_v10101_split-20_source-all_class-all_well-all_train/0/WELL-00008_20170629170123.parquet', timestamp=Timestamp('2017-06-29 17:01:23'), file_size=229367, num_timesteps=17692), EventMetadata(hash_id='d0f8d636c9b297d8032f39e880bb329aa2709cb3f6ecd0dd4205bdca7d6e97e5', class_type='NORMAL', source='REAL', well_id=5, path='/home/ubuntu/lemi_3w/data/dataset_converted_v10101_split-20_source-all_class-all_well-all_train/0/WELL-00005_20170815080000.parquet', timestamp=Timestamp('2017-08-15 08:00:00'), file_size=189624, num_timesteps=10631), EventMetadata(hash_id='4095363c117de3c95455cf24cce451812806af82a2b27370948d84be26b5b315', class_type='NORMAL', source='REAL', well_id=8, path='/home/ubuntu/lemi_3w/data/dataset_converted_v10101_split-20_source-all_class-all_well-all_train/0/WELL-00008_20170818110258.parquet', timestamp=Timestamp('2017-08-18 11:02:58'), file_size=231497, num_timesteps=17597), EventMetadata(hash_id='178227791b38a115fe5c01aaa1f99777e036324bf553d63a0f736d970d06ff28', class_type='NORMAL', source='REAL', well_id=2, path='/home/ubuntu/lemi_3w/data/dataset_converted_v10101_split-20_source-all_class-all_well-all_train/0/WELL-00002_20170612060057.parquet', timestamp=Timestamp('2017-06-12 06:00:57'), file_size=509862, num_timesteps=17841), EventMetadata(hash_id='1ae9f0a9443383bd533e5a94ff5ef9849033d3752a5b9565bad45d66c6a49df9', class_type='NORMAL', source='REAL', well_id=2, path='/home/ubuntu/lemi_3w/data/dataset_converted_v10101_split-20_source-all_class-all_well-all_train/0/WELL-00002_20170805170000.parquet', timestamp=Timestamp('2017-08-05 17:00:00'), file_size=435959, num_timesteps=17933), EventMetadata(hash_id='cd50e41ca7307315a877de544a0b3f6e00b9637c33ac66a18878ba2e9447059f', class_type='NORMAL', source='REAL', well_id=8, path='/home/ubuntu/lemi_3w/data/dataset_converted_v10101_split-20_source-all_class-all_well-all_train/0/WELL-00008_20170819120210.parquet', timestamp=Timestamp('2017-08-19 12:02:10'), file_size=201267, num_timesteps=17692), EventMetadata(hash_id='eb8a402423f7f4a329c2a3d19bd399f9e1fcb2cec756683dc2f886f8d248ca45', class_type='NORMAL', source='REAL', well_id=2, path='/home/ubuntu/lemi_3w/data/dataset_converted_v10101_split-20_source-all_class-all_well-all_train/0/WELL-00002_20170210180033.parquet', timestamp=Timestamp('2017-02-10 18:00:33'), file_size=493105, num_timesteps=17968), EventMetadata(hash_id='878400d325a34448d53385b567289aef58cf402cc0f72a55b5c5e437c3a9a10c', class_type='NORMAL', source='REAL', well_id=2, path='/home/ubuntu/lemi_3w/data/dataset_converted_v10101_split-20_source-all_class-all_well-all_train/0/WELL-00002_20170210080407.parquet', timestamp=Timestamp('2017-02-10 08:04:07'), file_size=486577, num_timesteps=17754), EventMetadata(hash_id='a52f62b770d5675f4560875c38b5c3ccfc574f6d5ebedc2e1060edb263b050cf', class_type='NORMAL', source='REAL', well_id=8, path='/home/ubuntu/lemi_3w/data/dataset_converted_v10101_split-20_source-all_class-all_well-all_train/0/WELL-00008_20170614030135.parquet', timestamp=Timestamp('2017-06-14 03:01:35'), file_size=264150, num_timesteps=17822), EventMetadata(hash_id='d806fdb5892d87c56ea0c26ce5f7bdc4a93ad6fccfa36616b7f12190144d6efa', class_type='NORMAL', source='REAL', well_id=2, path='/home/ubuntu/lemi_3w/data/dataset_converted_v10101_split-20_source-all_class-all_well-all_train/0/WELL-00002_20170218160214.parquet', timestamp=Timestamp('2017-02-18 16:02:14'), file_size=505952, num_timesteps=17867), EventMetadata(hash_id='1ab519769a07a7d008f3e993518c3e0ee2795738ecaacf24bf0deb99595e8ef3', class_type='NORMAL', source='REAL', well_id=1, path='/home/ubuntu/lemi_3w/data/dataset_converted_v10101_split-20_source-all_class-all_well-all_train/0/WELL-00001_20170526100000.parquet', timestamp=Timestamp('2017-05-26 10:00:00'), file_size=473126, num_timesteps=17872), EventMetadata(hash_id='c0fb731f994f21cbf596f43bc2f45454050ec92ec626686e8ae1bfe97e507f27', class_type='NORMAL', source='REAL', well_id=1, path='/home/ubuntu/lemi_3w/data/dataset_converted_v10101_split-20_source-all_class-all_well-all_train/0/WELL-00001_20170826130000.parquet', timestamp=Timestamp('2017-08-26 13:00:00'), file_size=451531, num_timesteps=17935), EventMetadata(hash_id='f49e36510cc2890b5e323dc464b56c863bcc4f36243e7d40080b31185542c4d0', class_type='NORMAL', source='REAL', well_id=1, path='/home/ubuntu/lemi_3w/data/dataset_converted_v10101_split-20_source-all_class-all_well-all_train/0/WELL-00001_20170823200000.parquet', timestamp=Timestamp('2017-08-23 20:00:00'), file_size=461299, num_timesteps=17935), EventMetadata(hash_id='80d64f162b976e7742aeee65b5d3a7b5da6930d39c311d29c241faba10550d1b', class_type='NORMAL', source='REAL', well_id=2, path='/home/ubuntu/lemi_3w/data/dataset_converted_v10101_split-20_source-all_class-all_well-all_train/0/WELL-00002_20170812140000.parquet', timestamp=Timestamp('2017-08-12 14:00:00'), file_size=439309, num_timesteps=17542), EventMetadata(hash_id='b36b17761b137d9565de9090a1dabf41136c04f8b5df033d190ed923187c33af', class_type='NORMAL', source='REAL', well_id=2, path='/home/ubuntu/lemi_3w/data/dataset_converted_v10101_split-20_source-all_class-all_well-all_train/0/WELL-00002_20170309220207.parquet', timestamp=Timestamp('2017-03-09 22:02:07'), file_size=476588, num_timesteps=17874), EventMetadata(hash_id='5253d0fb1b7ffb24181e6b5d10bfb9a9ae47516cf870af838a49892e58606703', class_type='NORMAL', source='REAL', well_id=8, path='/home/ubuntu/lemi_3w/data/dataset_converted_v10101_split-20_source-all_class-all_well-all_train/0/WELL-00008_20170611080445.parquet', timestamp=Timestamp('2017-06-11 08:04:45'), file_size=213621, num_timesteps=17537), EventMetadata(hash_id='685a270319364695d1cc35a09aa30e4f47202347c87d6d659cda320d40f4bab6', class_type='NORMAL', source='REAL', well_id=2, path='/home/ubuntu/lemi_3w/data/dataset_converted_v10101_split-20_source-all_class-all_well-all_train/0/WELL-00002_20170219070129.parquet', timestamp=Timestamp('2017-02-19 07:01:29'), file_size=494643, num_timesteps=17912), EventMetadata(hash_id='7238927a1e26ff84dc3b2dd983542edf08ba118a04395e2006c1a39206050ca5', class_type='NORMAL', source='REAL', well_id=2, path='/home/ubuntu/lemi_3w/data/dataset_converted_v10101_split-20_source-all_class-all_well-all_train/0/WELL-00002_20170621180032.parquet', timestamp=Timestamp('2017-06-21 18:00:32'), file_size=450289, num_timesteps=17969), EventMetadata(hash_id='66726d1592f3fb5b33436eb8843ef75b8b828e5ea6b9524bd2d29f69a3f7f6fd', class_type='NORMAL', source='REAL', well_id=1, path='/home/ubuntu/lemi_3w/data/dataset_converted_v10101_split-20_source-all_class-all_well-all_train/0/WELL-00001_20170527060000.parquet', timestamp=Timestamp('2017-05-27 06:00:00'), file_size=503455, num_timesteps=17962), EventMetadata(hash_id='d61a3e06d850da1d22d56a67cfd8aee69993a9b9ae00046ce0b98b2315accddf', class_type='NORMAL', source='REAL', well_id=2, path='/home/ubuntu/lemi_3w/data/dataset_converted_v10101_split-20_source-all_class-all_well-all_train/0/WELL-00002_20170310030146.parquet', timestamp=Timestamp('2017-03-10 03:01:46'), file_size=466544, num_timesteps=17895), EventMetadata(hash_id='4ee1cc49adbe62134c7dd8351306ba5dbd4de9c425e857a1d61e0ea81f3b2009', class_type='NORMAL', source='REAL', well_id=1, path='/home/ubuntu/lemi_3w/data/dataset_converted_v10101_split-20_source-all_class-all_well-all_train/0/WELL-00001_20170522060000.parquet', timestamp=Timestamp('2017-05-22 06:00:00'), file_size=403697, num_timesteps=17962), EventMetadata(hash_id='458a734f0af552baa8c16d58584da5ff73d456468a16affba6f5fc24d24be724', class_type='NORMAL', source='REAL', well_id=3, path='/home/ubuntu/lemi_3w/data/dataset_converted_v10101_split-20_source-all_class-all_well-all_train/0/WELL-00003_20170821040114.parquet', timestamp=Timestamp('2017-08-21 04:01:14'), file_size=208158, num_timesteps=17927), EventMetadata(hash_id='7ecb043edd7df5fec13baeab08d7c92d06837b28db674638c40e74b20b8562a9', class_type='NORMAL', source='REAL', well_id=4, path='/home/ubuntu/lemi_3w/data/dataset_converted_v10101_split-20_source-all_class-all_well-all_train/0/WELL-00004_20140807160311.parquet', timestamp=Timestamp('2014-08-07 16:03:11'), file_size=143573, num_timesteps=7010), EventMetadata(hash_id='acaad7021824b13e1c72bc4199bcc3ffad8222ad30e3211c909f29f0e0164af6', class_type='NORMAL', source='REAL', well_id=8, path='/home/ubuntu/lemi_3w/data/dataset_converted_v10101_split-20_source-all_class-all_well-all_train/0/WELL-00008_20170630230146.parquet', timestamp=Timestamp('2017-06-30 23:01:46'), file_size=237533, num_timesteps=17645), EventMetadata(hash_id='c9291d63e4d10d9d459dc8d2010515a3c1c9e0b2a293a4e9f0c10d2a3e948420', class_type='NORMAL', source='REAL', well_id=2, path='/home/ubuntu/lemi_3w/data/dataset_converted_v10101_split-20_source-all_class-all_well-all_train/0/WELL-00002_20170616150211.parquet', timestamp=Timestamp('2017-06-16 15:02:11'), file_size=546675, num_timesteps=17870), EventMetadata(hash_id='5ce90c61a688d960d166b39aee5d95c92dedd190fdbe9be463c768ff1599a034', class_type='NORMAL', source='REAL', well_id=2, path='/home/ubuntu/lemi_3w/data/dataset_converted_v10101_split-20_source-all_class-all_well-all_train/0/WELL-00002_20170806130000.parquet', timestamp=Timestamp('2017-08-06 13:00:00'), file_size=453881, num_timesteps=17866), EventMetadata(hash_id='5672a332792a07eb6ba89e8f1182b3805034e5f4a73dc70b7b977647fdd41a29', class_type='NORMAL', source='REAL', well_id=2, path='/home/ubuntu/lemi_3w/data/dataset_converted_v10101_split-20_source-all_class-all_well-all_train/0/WELL-00002_20170214120056.parquet', timestamp=Timestamp('2017-02-14 12:00:56'), file_size=550259, num_timesteps=17945), EventMetadata(hash_id='b429e40897fca8b3561e323c8fc817ec049b7f17bd759d27d882d8bb1a527ee5', class_type='NORMAL', source='REAL', well_id=1, path='/home/ubuntu/lemi_3w/data/dataset_converted_v10101_split-20_source-all_class-all_well-all_train/0/WELL-00001_20170527210000.parquet', timestamp=Timestamp('2017-05-27 21:00:00'), file_size=452523, num_timesteps=17924), EventMetadata(hash_id='464893b1b2ed0451294c07618a67c80fafc68e380bacfcc180ca22150b95ce98', class_type='NORMAL', source='REAL', well_id=6, path='/home/ubuntu/lemi_3w/data/dataset_converted_v10101_split-20_source-all_class-all_well-all_train/0/WELL-00006_20170822030000.parquet', timestamp=Timestamp('2017-08-22 03:00:00'), file_size=349130, num_timesteps=17923), EventMetadata(hash_id='02cba4b39d0dc8b3dd47a7e4410d5b56038af6d026a56cfcb37f69fd5e20c11e', class_type='NORMAL', source='REAL', well_id=1, path='/home/ubuntu/lemi_3w/data/dataset_converted_v10101_split-20_source-all_class-all_well-all_train/0/WELL-00001_20170524080000.parquet', timestamp=Timestamp('2017-05-24 08:00:00'), file_size=548054, num_timesteps=17975), EventMetadata(hash_id='913334967494a9517f6dff8131ca5513f717b2d1b11743a838793383215f1254', class_type='NORMAL', source='REAL', well_id=5, path='/home/ubuntu/lemi_3w/data/dataset_converted_v10101_split-20_source-all_class-all_well-all_train/0/WELL-00005_20170815110000.parquet', timestamp=Timestamp('2017-08-15 11:00:00'), file_size=184359, num_timesteps=10506), EventMetadata(hash_id='6951201c7a52df278caa735c9046e7a31301731e4896c7bcfb84ae5c88afe18f', class_type='NORMAL', source='REAL', well_id=6, path='/home/ubuntu/lemi_3w/data/dataset_converted_v10101_split-20_source-all_class-all_well-all_train/0/WELL-00006_20170824150000.parquet', timestamp=Timestamp('2017-08-24 15:00:00'), file_size=384037, num_timesteps=17871), EventMetadata(hash_id='74e9aa7ef978158f458b317b5170cf684529e3578e25bc359ac72e189528c4cc', class_type='NORMAL', source='REAL', well_id=2, path='/home/ubuntu/lemi_3w/data/dataset_converted_v10101_split-20_source-all_class-all_well-all_train/0/WELL-00002_20170614180000.parquet', timestamp=Timestamp('2017-06-14 18:00:00'), file_size=468464, num_timesteps=17886), EventMetadata(hash_id='3a9ce19772b7367cf4f9a3011a5c7468f80ffe188066b9fd4dba5dcba4c853eb', class_type='NORMAL', source='REAL', well_id=6, path='/home/ubuntu/lemi_3w/data/dataset_converted_v10101_split-20_source-all_class-all_well-all_train/0/WELL-00006_20170821120000.parquet', timestamp=Timestamp('2017-08-21 12:00:00'), file_size=338665, num_timesteps=17820), EventMetadata(hash_id='41afcaa08f95def3783b498f5e49ba9dfff0bd2fb1c2ce33964f0b6982946412', class_type='NORMAL', source='REAL', well_id=3, path='/home/ubuntu/lemi_3w/data/dataset_converted_v10101_split-20_source-all_class-all_well-all_train/0/WELL-00003_20170812220116.parquet', timestamp=Timestamp('2017-08-12 22:01:16'), file_size=227089, num_timesteps=17749), EventMetadata(hash_id='73a5d431cdb27b14ca26624f309a446c7eca94720376a63184ea938bf1653bf8', class_type='NORMAL', source='REAL', well_id=2, path='/home/ubuntu/lemi_3w/data/dataset_converted_v10101_split-20_source-all_class-all_well-all_train/0/WELL-00002_20170810170000.parquet', timestamp=Timestamp('2017-08-10 17:00:00'), file_size=492998, num_timesteps=17947), EventMetadata(hash_id='307eb1b408e8530d22c4e5f905a9e6be0615fdf418958d9483dab3bcbde6b800', class_type='NORMAL', source='REAL', well_id=5, path='/home/ubuntu/lemi_3w/data/dataset_converted_v10101_split-20_source-all_class-all_well-all_train/0/WELL-00005_20170813200000.parquet', timestamp=Timestamp('2017-08-13 20:00:00'), file_size=191846, num_timesteps=10693), EventMetadata(hash_id='849442a81e77d67ca31f74bef9effa45824c3b89c3626390f859f152af27e5cd', class_type='NORMAL', source='REAL', well_id=6, path='/home/ubuntu/lemi_3w/data/dataset_converted_v10101_split-20_source-all_class-all_well-all_train/0/WELL-00006_20170815060000.parquet', timestamp=Timestamp('2017-08-15 06:00:00'), file_size=404925, num_timesteps=17975), EventMetadata(hash_id='abb07b8627745f6cac177485f644747b0b15343775debb86e371a52eb9e4a230', class_type='NORMAL', source='REAL', well_id=2, path='/home/ubuntu/lemi_3w/data/dataset_converted_v10101_split-20_source-all_class-all_well-all_train/0/WELL-00002_20131212030000.parquet', timestamp=Timestamp('2013-12-12 03:00:00'), file_size=158777, num_timesteps=7154), EventMetadata(hash_id='775caae1c6d064c7bd4d05ffb7eecec279c439d8fdf402d6e8c85e8bc7e725a9', class_type='NORMAL', source='REAL', well_id=2, path='/home/ubuntu/lemi_3w/data/dataset_converted_v10101_split-20_source-all_class-all_well-all_train/0/WELL-00002_20170626080149.parquet', timestamp=Timestamp('2017-06-26 08:01:49'), file_size=492198, num_timesteps=17892), EventMetadata(hash_id='1ae34cff2d3eafcb8e86a60fa60dc555052f5eecd6d1aadf0aa09f2d29f085dc', class_type='NORMAL', source='REAL', well_id=8, path='/home/ubuntu/lemi_3w/data/dataset_converted_v10101_split-20_source-all_class-all_well-all_train/0/WELL-00008_20170613000222.parquet', timestamp=Timestamp('2017-06-13 00:02:22'), file_size=207819, num_timesteps=17787), EventMetadata(hash_id='ffba5010eb931ac2366b453163ad75ba58a741187f1cf1686319c3cd638812ea', class_type='NORMAL', source='REAL', well_id=6, path='/home/ubuntu/lemi_3w/data/dataset_converted_v10101_split-20_source-all_class-all_well-all_train/0/WELL-00006_20170815210000.parquet', timestamp=Timestamp('2017-08-15 21:00:00'), file_size=376385, num_timesteps=17936), EventMetadata(hash_id='6c01ce9f563995218d5d0e93da380a41a927bf958773b7f8af4fb9d679e578d0', class_type='NORMAL', source='REAL', well_id=5, path='/home/ubuntu/lemi_3w/data/dataset_converted_v10101_split-20_source-all_class-all_well-all_train/0/WELL-00005_20170331210112.parquet', timestamp=Timestamp('2017-03-31 21:01:12'), file_size=244694, num_timesteps=17929), EventMetadata(hash_id='2ea39435df2c80221d7efdd89c0c775deec36e07ac7f1a4695937be6c7f9ff52', class_type='NORMAL', source='REAL', well_id=5, path='/home/ubuntu/lemi_3w/data/dataset_converted_v10101_split-20_source-all_class-all_well-all_train/0/WELL-00005_20170812140000.parquet', timestamp=Timestamp('2017-08-12 14:00:00'), file_size=176281, num_timesteps=10479), EventMetadata(hash_id='f894001d474d42480647fb6ec059821aa2b0fb470241cfaf13defeb3f6b4c2f9', class_type='NORMAL', source='REAL', well_id=2, path='/home/ubuntu/lemi_3w/data/dataset_converted_v10101_split-20_source-all_class-all_well-all_train/0/WELL-00002_20170618120600.parquet', timestamp=Timestamp('2017-06-18 12:06:00'), file_size=464945, num_timesteps=17641), EventMetadata(hash_id='bf94eb8c95a0c6d6e8a10d592dcda4699c96188815f7fe1d24a571d03a6a8e7e', class_type='NORMAL', source='REAL', well_id=2, path='/home/ubuntu/lemi_3w/data/dataset_converted_v10101_split-20_source-all_class-all_well-all_train/0/WELL-00002_20170404130000.parquet', timestamp=Timestamp('2017-04-04 13:00:00'), file_size=461074, num_timesteps=17921), EventMetadata(hash_id='1deccdc89798191735027cac8b52d2a240fd86a66be55b60d136ae113bcef212', class_type='NORMAL', source='REAL', well_id=8, path='/home/ubuntu/lemi_3w/data/dataset_converted_v10101_split-20_source-all_class-all_well-all_train/0/WELL-00008_20170817000146.parquet', timestamp=Timestamp('2017-08-17 00:01:46'), file_size=206461, num_timesteps=17788), EventMetadata(hash_id='a6754641c9dcb70e09728c4bcf930477a13e25a772c2730e264a5dfa30ee6876', class_type='NORMAL', source='REAL', well_id=2, path='/home/ubuntu/lemi_3w/data/dataset_converted_v10101_split-20_source-all_class-all_well-all_train/0/WELL-00002_20170213060225.parquet', timestamp=Timestamp('2017-02-13 06:02:25'), file_size=491672, num_timesteps=17856), EventMetadata(hash_id='36a7df18d9195315721c75746eb847b0df57c67041a4ec62ede402d520666ace', class_type='NORMAL', source='REAL', well_id=5, path='/home/ubuntu/lemi_3w/data/dataset_converted_v10101_split-20_source-all_class-all_well-all_train/0/WELL-00005_20170813050000.parquet', timestamp=Timestamp('2017-08-13 05:00:00'), file_size=168505, num_timesteps=10524), EventMetadata(hash_id='72db4b04f6aba2a854bfb80bd4b0754d89b7424cc8cb7ad12eceef9694d9eccb', class_type='NORMAL', source='REAL', well_id=2, path='/home/ubuntu/lemi_3w/data/dataset_converted_v10101_split-20_source-all_class-all_well-all_train/0/WELL-00002_20170613070011.parquet', timestamp=Timestamp('2017-06-13 07:00:11'), file_size=503516, num_timesteps=17841), EventMetadata(hash_id='29cb6fdc527f034297f39a0ed5e4944366a9aae93e9c8a653f1497522ef6d378', class_type='NORMAL', source='REAL', well_id=6, path='/home/ubuntu/lemi_3w/data/dataset_converted_v10101_split-20_source-all_class-all_well-all_train/0/WELL-00006_20170816070000.parquet', timestamp=Timestamp('2017-08-16 07:00:00'), file_size=335765, num_timesteps=17794), EventMetadata(hash_id='1174b3e00f649c3bd99f1135522b8df4dbd5c83ccc535360033c7e1461b69225', class_type='NORMAL', source='REAL', well_id=5, path='/home/ubuntu/lemi_3w/data/dataset_converted_v10101_split-20_source-all_class-all_well-all_train/0/WELL-00005_20170814140000.parquet', timestamp=Timestamp('2017-08-14 14:00:00'), file_size=196996, num_timesteps=10774), EventMetadata(hash_id='8d97255b504a64614bdcb452b2753c56b7ba8648b79947d134ed4c2fc79710e8', class_type='NORMAL', source='REAL', well_id=6, path='/home/ubuntu/lemi_3w/data/dataset_converted_v10101_split-20_source-all_class-all_well-all_train/0/WELL-00006_20170505210021.parquet', timestamp=Timestamp('2017-05-05 21:00:21'), file_size=476006, num_timesteps=17980), EventMetadata(hash_id='3dc7f8961f3a091824bac1b1203bf98f38c680ce821e35fd8045a79cbea3aaa4', class_type='NORMAL', source='REAL', well_id=2, path='/home/ubuntu/lemi_3w/data/dataset_converted_v10101_split-20_source-all_class-all_well-all_train/0/WELL-00002_20170210230203.parquet', timestamp=Timestamp('2017-02-10 23:02:03'), file_size=533185, num_timesteps=17878), EventMetadata(hash_id='4bbca22fcc0338fb3afa48744ed488e8b5a5f7003ddf16c3276214dba1027091', class_type='NORMAL', source='REAL', well_id=5, path='/home/ubuntu/lemi_3w/data/dataset_converted_v10101_split-20_source-all_class-all_well-all_train/0/WELL-00005_20170814170000.parquet', timestamp=Timestamp('2017-08-14 17:00:00'), file_size=122727, num_timesteps=10462), EventMetadata(hash_id='000d54afe4c8ba51c5561040c4dc9070ac81a2c2aabeecd5fe44a4759bfbc4a6', class_type='NORMAL', source='REAL', well_id=2, path='/home/ubuntu/lemi_3w/data/dataset_converted_v10101_split-20_source-all_class-all_well-all_train/0/WELL-00002_20170620230109.parquet', timestamp=Timestamp('2017-06-20 23:01:09'), file_size=408618, num_timesteps=14332), EventMetadata(hash_id='bf0a787b6ddf0e854a1cd51645bcd167cbe916dd954aa2ea21aa4f85c2d9f0f1', class_type='NORMAL', source='REAL', well_id=2, path='/home/ubuntu/lemi_3w/data/dataset_converted_v10101_split-20_source-all_class-all_well-all_train/0/WELL-00002_20170625220127.parquet', timestamp=Timestamp('2017-06-25 22:01:27'), file_size=528401, num_timesteps=17914), EventMetadata(hash_id='e38bd72de3db48d14b1e687e75883ff6bdba9e9a3e85dae39a2a9492c0517959', class_type='NORMAL', source='REAL', well_id=6, path='/home/ubuntu/lemi_3w/data/dataset_converted_v10101_split-20_source-all_class-all_well-all_train/0/WELL-00006_20170208190207.parquet', timestamp=Timestamp('2017-02-08 19:02:07'), file_size=243635, num_timesteps=17874), EventMetadata(hash_id='c8ef652dd4f65467148f34b6b6bbd775f1fc648b080a0c3e92e52bc4248aebd4', class_type='NORMAL', source='REAL', well_id=5, path='/home/ubuntu/lemi_3w/data/dataset_converted_v10101_split-20_source-all_class-all_well-all_train/0/WELL-00005_20170830210000.parquet', timestamp=Timestamp('2017-08-30 21:00:00'), file_size=109903, num_timesteps=10706), EventMetadata(hash_id='3331083faf0c1cb8a9ec177638d7ad92a6a22801ae17c717e567302eb58c7ae0', class_type='NORMAL', source='REAL', well_id=6, path='/home/ubuntu/lemi_3w/data/dataset_converted_v10101_split-20_source-all_class-all_well-all_train/0/WELL-00006_20170817230000.parquet', timestamp=Timestamp('2017-08-17 23:00:00'), file_size=404699, num_timesteps=17859), EventMetadata(hash_id='338054db7f0951f278ff6357f8b093a79379995199292e7db1ae66e1994f2e9b', class_type='NORMAL', source='REAL', well_id=2, path='/home/ubuntu/lemi_3w/data/dataset_converted_v10101_split-20_source-all_class-all_well-all_train/0/WELL-00002_20170310180103.parquet', timestamp=Timestamp('2017-03-10 18:01:03'), file_size=490522, num_timesteps=17938), EventMetadata(hash_id='26b3d6308568de50186f196954f3382d9aaa525faee3a66354b9d3df6419f89c', class_type='NORMAL', source='REAL', well_id=6, path='/home/ubuntu/lemi_3w/data/dataset_converted_v10101_split-20_source-all_class-all_well-all_train/0/WELL-00006_20170816120000.parquet', timestamp=Timestamp('2017-08-16 12:00:00'), file_size=341097, num_timesteps=17639), EventMetadata(hash_id='e0516aa6f03e30ced63b61c22e28bc35bfa6af444e2267a9b66cc11e99c6116a', class_type='NORMAL', source='REAL', well_id=2, path='/home/ubuntu/lemi_3w/data/dataset_converted_v10101_split-20_source-all_class-all_well-all_train/0/WELL-00002_20170611150000.parquet', timestamp=Timestamp('2017-06-11 15:00:00'), file_size=455003, num_timesteps=17875), EventMetadata(hash_id='0e32851dadfddc7207283548c973008f8cdc2cf4cf654a1d9e2db40270498471', class_type='NORMAL', source='REAL', well_id=6, path='/home/ubuntu/lemi_3w/data/dataset_converted_v10101_split-20_source-all_class-all_well-all_train/0/WELL-00006_20170824200135.parquet', timestamp=Timestamp('2017-08-24 20:01:35'), file_size=372328, num_timesteps=17906), EventMetadata(hash_id='22fcc8800b9fb5693c216344e1ab98ee5ebd664dc093cda6e7726da287c04c03', class_type='NORMAL', source='REAL', well_id=2, path='/home/ubuntu/lemi_3w/data/dataset_converted_v10101_split-20_source-all_class-all_well-all_train/0/WELL-00002_20170805120000.parquet', timestamp=Timestamp('2017-08-05 12:00:00'), file_size=437301, num_timesteps=17744), EventMetadata(hash_id='c8ad84ec5d09dedca9827fa03b092d90c50dc8d7cb0d670afcd59aae32846466', class_type='NORMAL', source='REAL', well_id=2, path='/home/ubuntu/lemi_3w/data/dataset_converted_v10101_split-20_source-all_class-all_well-all_train/0/WELL-00002_20170214020118.parquet', timestamp=Timestamp('2017-02-14 02:01:18'), file_size=465418, num_timesteps=17923), EventMetadata(hash_id='4664bb95d60c653832c54ce3f8526eb52f1111f1576491056ade3fa6eb72f6de', class_type='NORMAL', source='REAL', well_id=8, path='/home/ubuntu/lemi_3w/data/dataset_converted_v10101_split-20_source-all_class-all_well-all_train/0/WELL-00008_20170817050135.parquet', timestamp=Timestamp('2017-08-17 05:01:35'), file_size=215289, num_timesteps=17704), EventMetadata(hash_id='c0d8290c3e1c2c81b5117cb4e638757d7794764539e61d73e333407b6e11a599', class_type='NORMAL', source='REAL', well_id=2, path='/home/ubuntu/lemi_3w/data/dataset_converted_v10101_split-20_source-all_class-all_well-all_train/0/WELL-00002_20170309120156.parquet', timestamp=Timestamp('2017-03-09 12:01:56'), file_size=513611, num_timesteps=17885), EventMetadata(hash_id='99eec11a11d671477da2d87c96618a442a18abc77ecf77814a48c30fb09c1a97', class_type='NORMAL', source='REAL', well_id=6, path='/home/ubuntu/lemi_3w/data/dataset_converted_v10101_split-20_source-all_class-all_well-all_train/0/WELL-00006_20170828090311.parquet', timestamp=Timestamp('2017-08-28 09:03:11'), file_size=371383, num_timesteps=17810), EventMetadata(hash_id='4b9bee46253cca426a01d2dcf413cb9f630fce413a2ba44ab200faa445c37f44', class_type='NORMAL', source='REAL', well_id=5, path='/home/ubuntu/lemi_3w/data/dataset_converted_v10101_split-20_source-all_class-all_well-all_train/0/WELL-00005_20170516110000.parquet', timestamp=Timestamp('2017-05-16 11:00:00'), file_size=165388, num_timesteps=10684), EventMetadata(hash_id='e4ed801cf133c5aad262dab815d6cc48000712abb2aadcc71fbec3df358543be', class_type='NORMAL', source='REAL', well_id=5, path='/home/ubuntu/lemi_3w/data/dataset_converted_v10101_split-20_source-all_class-all_well-all_train/0/WELL-00005_20170817140000.parquet', timestamp=Timestamp('2017-08-17 14:00:00'), file_size=208303, num_timesteps=10693), EventMetadata(hash_id='28f226c5df854c523ee9fc15fa6cf37e7482e03e995135efc03609603c4b7c15', class_type='NORMAL', source='REAL', well_id=6, path='/home/ubuntu/lemi_3w/data/dataset_converted_v10101_split-20_source-all_class-all_well-all_train/0/WELL-00006_20170825110249.parquet', timestamp=Timestamp('2017-08-25 11:02:49'), file_size=382657, num_timesteps=17832), EventMetadata(hash_id='881fbdc9eeedcaad95ce4e2c3d28cc6c19c1befcb6d5adccd76c41fff30c74a6', class_type='NORMAL', source='REAL', well_id=1, path='/home/ubuntu/lemi_3w/data/dataset_converted_v10101_split-20_source-all_class-all_well-all_train/0/WELL-00001_20170202030343.parquet', timestamp=Timestamp('2017-02-02 03:03:43'), file_size=460569, num_timesteps=17778), EventMetadata(hash_id='4cfd0549dd022697e85f0ad3f0c4b2b2c3da1248e0591f128a714fb890c7c9ae', class_type='NORMAL', source='REAL', well_id=6, path='/home/ubuntu/lemi_3w/data/dataset_converted_v10101_split-20_source-all_class-all_well-all_train/0/WELL-00006_20170815160000.parquet', timestamp=Timestamp('2017-08-15 16:00:00'), file_size=340295, num_timesteps=17910), EventMetadata(hash_id='4a98744e4c10a616c983503de371f12fe3f4d4d1d73c951f5ac80779fcfafbd7', class_type='NORMAL', source='REAL', well_id=2, path='/home/ubuntu/lemi_3w/data/dataset_converted_v10101_split-20_source-all_class-all_well-all_train/0/WELL-00002_20170213010322.parquet', timestamp=Timestamp('2017-02-13 01:03:22'), file_size=520084, num_timesteps=17799), EventMetadata(hash_id='1b8cac3715f15d56d7ec527685b1703d9e9f471c63d8e0a292ca0788ec0883c5', class_type='NORMAL', source='REAL', well_id=2, path='/home/ubuntu/lemi_3w/data/dataset_converted_v10101_split-20_source-all_class-all_well-all_train/0/WELL-00002_20170614030000.parquet', timestamp=Timestamp('2017-06-14 03:00:00'), file_size=507440, num_timesteps=17930), EventMetadata(hash_id='f07004e593dc03b82bab09cb9290388940d6551b9f79bf35bdf462411216b5bc', class_type='NORMAL', source='REAL', well_id=2, path='/home/ubuntu/lemi_3w/data/dataset_converted_v10101_split-20_source-all_class-all_well-all_train/0/WELL-00002_20170216090118.parquet', timestamp=Timestamp('2017-02-16 09:01:18'), file_size=492045, num_timesteps=17923), EventMetadata(hash_id='0473f22fd25c33db36156cc7be70aed921b52e236de3480c9a77324c9d4344ca', class_type='NORMAL', source='REAL', well_id=1, path='/home/ubuntu/lemi_3w/data/dataset_converted_v10101_split-20_source-all_class-all_well-all_train/0/WELL-00001_20170425090343.parquet', timestamp=Timestamp('2017-04-25 09:03:43'), file_size=493948, num_timesteps=17778), EventMetadata(hash_id='4d55ae83979cd4283a4046708a39015b9074b4fc3b59b81fe3f31cb7134bcbd3', class_type='NORMAL', source='REAL', well_id=2, path='/home/ubuntu/lemi_3w/data/dataset_converted_v10101_split-20_source-all_class-all_well-all_train/0/WELL-00002_20170309170218.parquet', timestamp=Timestamp('2017-03-09 17:02:18'), file_size=470197, num_timesteps=17863), EventMetadata(hash_id='41b92ad74ac380672f3f8cd00f45b10f4021754ecf7b631990425b86d649692b', class_type='NORMAL', source='REAL', well_id=1, path='/home/ubuntu/lemi_3w/data/dataset_converted_v10101_split-20_source-all_class-all_well-all_train/0/WELL-00001_20170520190000.parquet', timestamp=Timestamp('2017-05-20 19:00:00'), file_size=481833, num_timesteps=17821), EventMetadata(hash_id='a8ff63025d7c82b7affa72aa02f045eb2eae49cfc08864a29616b6d282d97bd2', class_type='NORMAL', source='REAL', well_id=5, path='/home/ubuntu/lemi_3w/data/dataset_converted_v10101_split-20_source-all_class-all_well-all_train/0/WELL-00005_20170516200038.parquet', timestamp=Timestamp('2017-05-16 20:00:38'), file_size=157030, num_timesteps=10700), EventMetadata(hash_id='760a42a5ec2c5d403f8393543e72794629efd7fb709524d8d704af49374025a8', class_type='NORMAL', source='REAL', well_id=2, path='/home/ubuntu/lemi_3w/data/dataset_converted_v10101_split-20_source-all_class-all_well-all_train/0/WELL-00002_20170621130116.parquet', timestamp=Timestamp('2017-06-21 13:01:16'), file_size=491813, num_timesteps=17925), EventMetadata(hash_id='670181d61a13d27015851b2dc7ed6f1580fbc82381663b16b2c4d28cf3f43d5e', class_type='NORMAL', source='REAL', well_id=2, path='/home/ubuntu/lemi_3w/data/dataset_converted_v10101_split-20_source-all_class-all_well-all_train/0/WELL-00002_20131212010148.parquet', timestamp=Timestamp('2013-12-12 01:01:48'), file_size=148920, num_timesteps=7093), EventMetadata(hash_id='1880c706f655b6e08b60b6b63ce9dc05feaf55ebea5f68f225c070319c3d9a20', class_type='NORMAL', source='REAL', well_id=5, path='/home/ubuntu/lemi_3w/data/dataset_converted_v10101_split-20_source-all_class-all_well-all_train/0/WELL-00005_20170817110000.parquet', timestamp=Timestamp('2017-08-17 11:00:00'), file_size=215535, num_timesteps=10676), EventMetadata(hash_id='f5824c06a8018d9115a758213095455bb360da0ce55b0984e72c99bf79870eb0', class_type='NORMAL', source='REAL', well_id=1, path='/home/ubuntu/lemi_3w/data/dataset_converted_v10101_split-20_source-all_class-all_well-all_train/0/WELL-00001_20170527010000.parquet', timestamp=Timestamp('2017-05-27 01:00:00'), file_size=489158, num_timesteps=17924), EventMetadata(hash_id='9ff72878fb6608dbc8985b98dfdf91edfe38017e05b81436d99ebe759a216969', class_type='NORMAL', source='REAL', well_id=1, path='/home/ubuntu/lemi_3w/data/dataset_converted_v10101_split-20_source-all_class-all_well-all_train/0/WELL-00001_20170202080239.parquet', timestamp=Timestamp('2017-02-02 08:02:39'), file_size=508096, num_timesteps=17842), EventMetadata(hash_id='7d32e84095dd2b55f6cb5d0b73718bd27c1581e91325b2d9caae737fafc3ff58', class_type='NORMAL', source='REAL', well_id=7, path='/home/ubuntu/lemi_3w/data/dataset_converted_v10101_split-20_source-all_class-all_well-all_train/0/WELL-00007_20170801180000.parquet', timestamp=Timestamp('2017-08-01 18:00:00'), file_size=285582, num_timesteps=7185), EventMetadata(hash_id='523a160e179e673a358a4665813c12173944d013af393085737a16cc520c7c9b', class_type='NORMAL', source='REAL', well_id=8, path='/home/ubuntu/lemi_3w/data/dataset_converted_v10101_split-20_source-all_class-all_well-all_train/0/WELL-00008_20170817100246.parquet', timestamp=Timestamp('2017-08-17 10:02:46'), file_size=212881, num_timesteps=17502), EventMetadata(hash_id='a639b180463c963c5a8adb58d33ea0010f1ccd337d3245a6e7b7ce92e1acc1c4', class_type='NORMAL', source='REAL', well_id=2, path='/home/ubuntu/lemi_3w/data/dataset_converted_v10101_split-20_source-all_class-all_well-all_train/0/WELL-00002_20170212200429.parquet', timestamp=Timestamp('2017-02-12 20:04:29'), file_size=487391, num_timesteps=17732), EventMetadata(hash_id='8ac61f6e4f8faff4923e150ef8c11913758ffb35e01e7cb45af92d215c7652a6', class_type='NORMAL', source='REAL', well_id=1, path='/home/ubuntu/lemi_3w/data/dataset_converted_v10101_split-20_source-all_class-all_well-all_train/0/WELL-00001_20170828000000.parquet', timestamp=Timestamp('2017-08-28 00:00:00'), file_size=517554, num_timesteps=17726), EventMetadata(hash_id='202805023e4286e84d4ebbe7fe08f9d8883437cebcfedf8125c5d4b9180b575f', class_type='NORMAL', source='REAL', well_id=1, path='/home/ubuntu/lemi_3w/data/dataset_converted_v10101_split-20_source-all_class-all_well-all_train/0/WELL-00001_20170825120000.parquet', timestamp=Timestamp('2017-08-25 12:00:00'), file_size=485397, num_timesteps=17778), EventMetadata(hash_id='231cb60c8223e5678203ef4be1233a26feb288653e9852e63edc644d2db0c80e', class_type='NORMAL', source='REAL', well_id=6, path='/home/ubuntu/lemi_3w/data/dataset_converted_v10101_split-20_source-all_class-all_well-all_train/0/WELL-00006_20170209100207.parquet', timestamp=Timestamp('2017-02-09 10:02:07'), file_size=232276, num_timesteps=17874), EventMetadata(hash_id='d1e32cfb8267d0784d8eb97b587ea09ec1debd233e268986992fb5649cc8d669', class_type='NORMAL', source='REAL', well_id=1, path='/home/ubuntu/lemi_3w/data/dataset_converted_v10101_split-20_source-all_class-all_well-all_train/0/WELL-00001_20170825220000.parquet', timestamp=Timestamp('2017-08-25 22:00:00'), file_size=502505, num_timesteps=17909), EventMetadata(hash_id='4a8b6a0a95a36f73776ca8ff18c24c47377aa17710f0f798ef84653fd61fd27d', class_type='NORMAL', source='REAL', well_id=6, path='/home/ubuntu/lemi_3w/data/dataset_converted_v10101_split-20_source-all_class-all_well-all_train/0/WELL-00006_20170506120042.parquet', timestamp=Timestamp('2017-05-06 12:00:42'), file_size=406513, num_timesteps=17959), EventMetadata(hash_id='f5f082a318b01e4d159c0c5e21dbb007023fced73752aca73b35bac177c0c144', class_type='NORMAL', source='REAL', well_id=6, path='/home/ubuntu/lemi_3w/data/dataset_converted_v10101_split-20_source-all_class-all_well-all_train/0/WELL-00006_20170507130135.parquet', timestamp=Timestamp('2017-05-07 13:01:35'), file_size=434226, num_timesteps=17906), EventMetadata(hash_id='18d294c2f8489ddb6d061716563a9e1edbc68a2a0ea02f13f10ec81a64e03358', class_type='NORMAL', source='REAL', well_id=2, path='/home/ubuntu/lemi_3w/data/dataset_converted_v10101_split-20_source-all_class-all_well-all_train/0/WELL-00002_20170807040000.parquet', timestamp=Timestamp('2017-08-07 04:00:00'), file_size=480419, num_timesteps=17825), EventMetadata(hash_id='1a512804713fff783e16f1bfa393916575efc78ce6143c3b024f529eb4cb5dd2', class_type='NORMAL', source='REAL', well_id=8, path='/home/ubuntu/lemi_3w/data/dataset_converted_v10101_split-20_source-all_class-all_well-all_train/0/WELL-00008_20170630030222.parquet', timestamp=Timestamp('2017-06-30 03:02:22'), file_size=231966, num_timesteps=17668), EventMetadata(hash_id='762572d535735ea9c8a4a976f15ef9d1147e78e5e10854c18420804cfac28eb3', class_type='NORMAL', source='REAL', well_id=6, path='/home/ubuntu/lemi_3w/data/dataset_converted_v10101_split-20_source-all_class-all_well-all_train/0/WELL-00006_20170507230053.parquet', timestamp=Timestamp('2017-05-07 23:00:53'), file_size=375207, num_timesteps=17948), EventMetadata(hash_id='531b84db063c224fe62cb7bd0715222bd662207f4805d8fc856bb94224c14ede', class_type='NORMAL', source='REAL', well_id=2, path='/home/ubuntu/lemi_3w/data/dataset_converted_v10101_split-20_source-all_class-all_well-all_train/0/WELL-00002_20170625070243.parquet', timestamp=Timestamp('2017-06-25 07:02:43'), file_size=438008, num_timesteps=17838), EventMetadata(hash_id='d59ec06e5d1a34d1ed440f6c3dc9f5de6bd875714b32e7532df75ff1845b426c', class_type='NORMAL', source='REAL', well_id=3, path='/home/ubuntu/lemi_3w/data/dataset_converted_v10101_split-20_source-all_class-all_well-all_train/0/WELL-00003_20170514160000.parquet', timestamp=Timestamp('2017-05-14 16:00:00'), file_size=211568, num_timesteps=17627), EventMetadata(hash_id='8dbe8761559c1c7760dc16a4ee559caa62077e685a0763780e924b1802030b59', class_type='NORMAL', source='REAL', well_id=2, path='/home/ubuntu/lemi_3w/data/dataset_converted_v10101_split-20_source-all_class-all_well-all_train/0/WELL-00002_20131212050000.parquet', timestamp=Timestamp('2013-12-12 05:00:00'), file_size=158126, num_timesteps=7175), EventMetadata(hash_id='d8c137ecfc771cb7e0fa91699cb8212ba9b84867ab68022ef8809f5a0df513b6', class_type='NORMAL', source='REAL', well_id=2, path='/home/ubuntu/lemi_3w/data/dataset_converted_v10101_split-20_source-all_class-all_well-all_train/0/WELL-00002_20170218110022.parquet', timestamp=Timestamp('2017-02-18 11:00:22'), file_size=475712, num_timesteps=17979), EventMetadata(hash_id='d9918d7f7871003fb8f88a093227219cfca54dde6e18b7a90965e95c3c264497', class_type='NORMAL', source='REAL', well_id=6, path='/home/ubuntu/lemi_3w/data/dataset_converted_v10101_split-20_source-all_class-all_well-all_train/0/WELL-00006_20170506220103.parquet', timestamp=Timestamp('2017-05-06 22:01:03'), file_size=330618, num_timesteps=17938), EventMetadata(hash_id='6fff7e804669778a3428727e682019d66d0d3335233ddff3f09964acaa498284', class_type='NORMAL', source='REAL', well_id=5, path='/home/ubuntu/lemi_3w/data/dataset_converted_v10101_split-20_source-all_class-all_well-all_train/0/WELL-00005_20170910030004.parquet', timestamp=Timestamp('2017-09-10 03:00:04'), file_size=87855, num_timesteps=7172), EventMetadata(hash_id='8a2664dce7b23c2fd3c322b7fb0851c8c1c5fb8a68b06d2423e9d6665096559b', class_type='NORMAL', source='REAL', well_id=6, path='/home/ubuntu/lemi_3w/data/dataset_converted_v10101_split-20_source-all_class-all_well-all_train/0/WELL-00006_20170222050000.parquet', timestamp=Timestamp('2017-02-22 05:00:00'), file_size=305911, num_timesteps=17936), EventMetadata(hash_id='9dcaecab2106063b0e47876f5166a25ca18de405a2f1067f221d667e34a9d8b6', class_type='NORMAL', source='REAL', well_id=6, path='/home/ubuntu/lemi_3w/data/dataset_converted_v10101_split-20_source-all_class-all_well-all_train/0/WELL-00006_20170508140053.parquet', timestamp=Timestamp('2017-05-08 14:00:53'), file_size=295831, num_timesteps=17948), EventMetadata(hash_id='bbb936007c2bcdcbaf796939eb8babc4e24440c46354fcc7c1e33959c04cde88', class_type='NORMAL', source='REAL', well_id=6, path='/home/ubuntu/lemi_3w/data/dataset_converted_v10101_split-20_source-all_class-all_well-all_train/0/WELL-00006_20170209200114.parquet', timestamp=Timestamp('2017-02-09 20:01:14'), file_size=276853, num_timesteps=17927), EventMetadata(hash_id='5bfc7fd47edbe5ac250979bae6d8a5933897a78bcf22a1256f6ba2fd792f7a5f', class_type='NORMAL', source='REAL', well_id=2, path='/home/ubuntu/lemi_3w/data/dataset_converted_v10101_split-20_source-all_class-all_well-all_train/0/WELL-00002_20170812090000.parquet', timestamp=Timestamp('2017-08-12 09:00:00'), file_size=437645, num_timesteps=17920), EventMetadata(hash_id='1975f33813b161fbf6b0f9af2fe056dec233745a67c18ad2a3249ed7635258b1', class_type='NORMAL', source='REAL', well_id=4, path='/home/ubuntu/lemi_3w/data/dataset_converted_v10101_split-20_source-all_class-all_well-all_train/0/WELL-00004_20140807100112.parquet', timestamp=Timestamp('2014-08-07 10:01:12'), file_size=150088, num_timesteps=7129), EventMetadata(hash_id='ef75e984da5ec22cb1024bf4107b0213072ea1d098c105172caf01cc62df6b2a', class_type='NORMAL', source='REAL', well_id=5, path='/home/ubuntu/lemi_3w/data/dataset_converted_v10101_split-20_source-all_class-all_well-all_train/0/WELL-00005_20170331060014.parquet', timestamp=Timestamp('2017-03-31 06:00:14'), file_size=301788, num_timesteps=17914), EventMetadata(hash_id='391bf30349f1b76e1e41f92bcb63ecd70ae7b4cd82e20db66cc9f65dc15ba5b7', class_type='NORMAL', source='REAL', well_id=1, path='/home/ubuntu/lemi_3w/data/dataset_converted_v10101_split-20_source-all_class-all_well-all_train/0/WELL-00001_20170219070031.parquet', timestamp=Timestamp('2017-02-19 07:00:31'), file_size=479121, num_timesteps=17970), EventMetadata(hash_id='cc3e5e3e0db0492452c2a6e5e19a53405013e091ff936cc6026ce6be199966eb', class_type='NORMAL', source='REAL', well_id=1, path='/home/ubuntu/lemi_3w/data/dataset_converted_v10101_split-20_source-all_class-all_well-all_train/0/WELL-00001_20170523020012.parquet', timestamp=Timestamp('2017-05-23 02:00:12'), file_size=436446, num_timesteps=17899), EventMetadata(hash_id='2f883aaf05f07d660fe9b2a197c2c38b1db4dad53edca7aa0e3529e2d7e332fb', class_type='NORMAL', source='REAL', well_id=2, path='/home/ubuntu/lemi_3w/data/dataset_converted_v10101_split-20_source-all_class-all_well-all_train/0/WELL-00002_20170219220214.parquet', timestamp=Timestamp('2017-02-19 22:02:14'), file_size=482761, num_timesteps=17867), EventMetadata(hash_id='a986ef24363e041afce0e005d973a6aa66559e56d73a3a727a8f23eb4176eecc', class_type='NORMAL', source='REAL', well_id=1, path='/home/ubuntu/lemi_3w/data/dataset_converted_v10101_split-20_source-all_class-all_well-all_train/0/WELL-00001_20170828100000.parquet', timestamp=Timestamp('2017-08-28 10:00:00'), file_size=529364, num_timesteps=17778), EventMetadata(hash_id='07fa6608c02c17eb5936436ef877eff56e7f9a43419b4615ccce30c230df8151', class_type='NORMAL', source='REAL', well_id=1, path='/home/ubuntu/lemi_3w/data/dataset_converted_v10101_split-20_source-all_class-all_well-all_train/0/WELL-00001_20170218060218.parquet', timestamp=Timestamp('2017-02-18 06:02:18'), file_size=473545, num_timesteps=17863), EventMetadata(hash_id='9fc7edbedbd2cfc9ee1dd5453c68afbbe9a74d54b9ec6ed5a1c7677102972098', class_type='NORMAL', source='REAL', well_id=2, path='/home/ubuntu/lemi_3w/data/dataset_converted_v10101_split-20_source-all_class-all_well-all_train/0/WELL-00002_20170613170000.parquet', timestamp=Timestamp('2017-06-13 17:00:00'), file_size=494664, num_timesteps=17932), EventMetadata(hash_id='72c320415a6a761496b63fc769a77bd755090b2bfe6cc42b4656bfe5af5927cf', class_type='NORMAL', source='REAL', well_id=6, path='/home/ubuntu/lemi_3w/data/dataset_converted_v10101_split-20_source-all_class-all_well-all_train/0/WELL-00006_20170826170103.parquet', timestamp=Timestamp('2017-08-26 17:01:03'), file_size=408509, num_timesteps=17938), EventMetadata(hash_id='967bef0e0587780dd460c54ca247e8b24639155c9dcc60fd003811291bd8208c', class_type='NORMAL', source='REAL', well_id=2, path='/home/ubuntu/lemi_3w/data/dataset_converted_v10101_split-20_source-all_class-all_well-all_train/0/WELL-00002_20170210130152.parquet', timestamp=Timestamp('2017-02-10 13:01:52'), file_size=490286, num_timesteps=17889), EventMetadata(hash_id='940e8abeb6f36f0f90654fdd996c9016abdb36d7e458ad5189e54d9b09679dc1', class_type='NORMAL', source='REAL', well_id=2, path='/home/ubuntu/lemi_3w/data/dataset_converted_v10101_split-20_source-all_class-all_well-all_train/0/WELL-00002_20170310080518.parquet', timestamp=Timestamp('2017-03-10 08:05:18'), file_size=480680, num_timesteps=17683), EventMetadata(hash_id='650e29a9fe587702fb88903e8ee61b12e6ec044ce189cc58a1f75c3785fbf306', class_type='NORMAL', source='REAL', well_id=3, path='/home/ubuntu/lemi_3w/data/dataset_converted_v10101_split-20_source-all_class-all_well-all_train/0/WELL-00003_20170812170025.parquet', timestamp=Timestamp('2017-08-12 17:00:25'), file_size=220357, num_timesteps=17858), EventMetadata(hash_id='113b87af226a18f9707f65c135d06af25ab21ff9b3728bd6c30f7f3a62778ae5', class_type='NORMAL', source='REAL', well_id=2, path='/home/ubuntu/lemi_3w/data/dataset_converted_v10101_split-20_source-all_class-all_well-all_train/0/WELL-00002_20170219170203.parquet', timestamp=Timestamp('2017-02-19 17:02:03'), file_size=549411, num_timesteps=17878), EventMetadata(hash_id='a0fe091f959dfacb9b7f0b8362e21659c677cf19d8b0440e9bc02bf4f0c224d9', class_type='NORMAL', source='REAL', well_id=8, path='/home/ubuntu/lemi_3w/data/dataset_converted_v10101_split-20_source-all_class-all_well-all_train/0/WELL-00008_20170614180123.parquet', timestamp=Timestamp('2017-06-14 18:01:23'), file_size=205702, num_timesteps=17799), EventMetadata(hash_id='5860ab719bd28c6c198b48017fb2454d87bf5f1b7d32848c8f8965c4a48fd364', class_type='NORMAL', source='REAL', well_id=8, path='/home/ubuntu/lemi_3w/data/dataset_converted_v10101_split-20_source-all_class-all_well-all_train/0/WELL-00008_20170612140047.parquet', timestamp=Timestamp('2017-06-12 14:00:47'), file_size=227929, num_timesteps=17870), EventMetadata(hash_id='0462d1c1f0b73b47290b367f6023f72b98c80fdf38bb7d10d5140eafabe2b47f', class_type='NORMAL', source='REAL', well_id=6, path='/home/ubuntu/lemi_3w/data/dataset_converted_v10101_split-20_source-all_class-all_well-all_train/0/WELL-00006_20170825010042.parquet', timestamp=Timestamp('2017-08-25 01:00:42'), file_size=364317, num_timesteps=17959), EventMetadata(hash_id='7ef235918c48d90784d797d88a935fa9ebcaa19e774c11e877851cd897130060', class_type='NORMAL', source='REAL', well_id=1, path='/home/ubuntu/lemi_3w/data/dataset_converted_v10101_split-20_source-all_class-all_well-all_train/0/WELL-00001_20170528220000.parquet', timestamp=Timestamp('2017-05-28 22:00:00'), file_size=448236, num_timesteps=17821), EventMetadata(hash_id='6d820f9dc253430cbb236d94cf34ddec556f6bad19d01377658d9eabd271ef48', class_type='NORMAL', source='REAL', well_id=5, path='/home/ubuntu/lemi_3w/data/dataset_converted_v10101_split-20_source-all_class-all_well-all_train/0/WELL-00005_20170402230127.parquet', timestamp=Timestamp('2017-04-02 23:01:27'), file_size=288778, num_timesteps=17841), EventMetadata(hash_id='96783a047e6008b37080e321e9e1789c919fd15ec7cefe650c83c06488c5fd08', class_type='NORMAL', source='REAL', well_id=2, path='/home/ubuntu/lemi_3w/data/dataset_converted_v10101_split-20_source-all_class-all_well-all_train/0/WELL-00002_20170614130000.parquet', timestamp=Timestamp('2017-06-14 13:00:00'), file_size=489040, num_timesteps=17883), EventMetadata(hash_id='50d17ceaaa96d4021d21020fad3feb4d591f1b6948b4ca3c0a39772b9114efe4', class_type='NORMAL', source='REAL', well_id=2, path='/home/ubuntu/lemi_3w/data/dataset_converted_v10101_split-20_source-all_class-all_well-all_train/0/WELL-00002_20170625120032.parquet', timestamp=Timestamp('2017-06-25 12:00:32'), file_size=493286, num_timesteps=17969), EventMetadata(hash_id='b43e2285f7410a6b1d3d2d12247644d61161f7f8d156d23d3a94311bb4c22199', class_type='NORMAL', source='REAL', well_id=8, path='/home/ubuntu/lemi_3w/data/dataset_converted_v10101_split-20_source-all_class-all_well-all_train/0/WELL-00008_20170614230333.parquet', timestamp=Timestamp('2017-06-14 23:03:33'), file_size=228820, num_timesteps=17586), EventMetadata(hash_id='b2a3127eef97c2afcacedce3bf455407441be1458b119f08afd2d82764d7a7b6', class_type='NORMAL', source='REAL', well_id=2, path='/home/ubuntu/lemi_3w/data/dataset_converted_v10101_split-20_source-all_class-all_well-all_train/0/WELL-00002_20170212050225.parquet', timestamp=Timestamp('2017-02-12 05:02:25'), file_size=513312, num_timesteps=17856), EventMetadata(hash_id='45ebc973329446d6019668dfa01399d38c58ce04f843e55a1f3677ef0a8530e5', class_type='NORMAL', source='REAL', well_id=2, path='/home/ubuntu/lemi_3w/data/dataset_converted_v10101_split-20_source-all_class-all_well-all_train/0/WELL-00002_20170617010127.parquet', timestamp=Timestamp('2017-06-17 01:01:27'), file_size=470490, num_timesteps=17914), EventMetadata(hash_id='b468f02c26be00493777533da97b121c0c2ee61a791fcfc5e449ee58c9cbf88b', class_type='NORMAL', source='REAL', well_id=8, path='/home/ubuntu/lemi_3w/data/dataset_converted_v10101_split-20_source-all_class-all_well-all_train/0/WELL-00008_20170702150532.parquet', timestamp=Timestamp('2017-07-02 15:05:32'), file_size=221572, num_timesteps=17360), EventMetadata(hash_id='f827edae8ff3d4853d7d281765106af28f16411b9c2a106f1aeeaf5cd40efab3', class_type='NORMAL', source='REAL', well_id=6, path='/home/ubuntu/lemi_3w/data/dataset_converted_v10101_split-20_source-all_class-all_well-all_train/0/WELL-00006_20170224070000.parquet', timestamp=Timestamp('2017-02-24 07:00:00'), file_size=239763, num_timesteps=17871), EventMetadata(hash_id='996aa303cae1128a1a42b86c1088f0c7d214e4344794685e41ec7656f54b474e', class_type='NORMAL', source='REAL', well_id=1, path='/home/ubuntu/lemi_3w/data/dataset_converted_v10101_split-20_source-all_class-all_well-all_train/0/WELL-00001_20170825070000.parquet', timestamp=Timestamp('2017-08-25 07:00:00'), file_size=574208, num_timesteps=17870), EventMetadata(hash_id='5a0a37939d41d4261c2eafc089a21141162c00c25fd76d22e1e38d64f09a3b8c', class_type='NORMAL', source='REAL', well_id=6, path='/home/ubuntu/lemi_3w/data/dataset_converted_v10101_split-20_source-all_class-all_well-all_train/0/WELL-00006_20170827130321.parquet', timestamp=Timestamp('2017-08-27 13:03:21'), file_size=360407, num_timesteps=17800), EventMetadata(hash_id='36d67db4276eed23ef2b9572245844604051998fb5e2afa37555216d3eaee244', class_type='NORMAL', source='REAL', well_id=8, path='/home/ubuntu/lemi_3w/data/dataset_converted_v10101_split-20_source-all_class-all_well-all_train/0/WELL-00008_20170817200123.parquet', timestamp=Timestamp('2017-08-17 20:01:23'), file_size=196165, num_timesteps=17751), EventMetadata(hash_id='2d808633f39843563120b9573e8b1a44f83d4d7f6117c9a6aff5995e93e389b9', class_type='NORMAL', source='REAL', well_id=2, path='/home/ubuntu/lemi_3w/data/dataset_converted_v10101_split-20_source-all_class-all_well-all_train/0/WELL-00002_20170309020218.parquet', timestamp=Timestamp('2017-03-09 02:02:18'), file_size=509439, num_timesteps=17863), EventMetadata(hash_id='abd1379f6417f4d9b6333a20c515702cca835b86f803375e9a98d1c69007a0c4', class_type='NORMAL', source='REAL', well_id=2, path='/home/ubuntu/lemi_3w/data/dataset_converted_v10101_split-20_source-all_class-all_well-all_train/0/WELL-00002_20170214070141.parquet', timestamp=Timestamp('2017-02-14 07:01:41'), file_size=485458, num_timesteps=17900), EventMetadata(hash_id='3ea9deea8f34a86e8b8e76479d83b1e5a56843e15b1cdf1259102edcaa6be697', class_type='NORMAL', source='REAL', well_id=4, path='/home/ubuntu/lemi_3w/data/dataset_converted_v10101_split-20_source-all_class-all_well-all_train/0/WELL-00004_20140807000129.parquet', timestamp=Timestamp('2014-08-07 00:01:29'), file_size=151319, num_timesteps=7112), EventMetadata(hash_id='756d9e6b115a0793fb2f68ccf0ae2b26d408b2b599415f9e95f8d9f707e82c7d', class_type='NORMAL', source='REAL', well_id=6, path='/home/ubuntu/lemi_3w/data/dataset_converted_v10101_split-20_source-all_class-all_well-all_train/0/WELL-00006_20170208090053.parquet', timestamp=Timestamp('2017-02-08 09:00:53'), file_size=329156, num_timesteps=17948), EventMetadata(hash_id='caacd2d72a5ed2120deadf43dfefee8905ddedf5cb68e76aa7de8b55ce6f6c5a', class_type='NORMAL', source='REAL', well_id=2, path='/home/ubuntu/lemi_3w/data/dataset_converted_v10101_split-20_source-all_class-all_well-all_train/0/WELL-00002_20170626030043.parquet', timestamp=Timestamp('2017-06-26 03:00:43'), file_size=456152, num_timesteps=17958), EventMetadata(hash_id='b3b788190ffda7438cc26d9b2cd7c4ba2d93ad2a30b61f8cfc85a02ad6070ad1', class_type='NORMAL', source='REAL', well_id=1, path='/home/ubuntu/lemi_3w/data/dataset_converted_v10101_split-20_source-all_class-all_well-all_train/0/WELL-00001_20170522210000.parquet', timestamp=Timestamp('2017-05-22 21:00:00'), file_size=479193, num_timesteps=17924), EventMetadata(hash_id='376a5ddbf631528d637f6c8e0cbefe153fba5d2670bd1e189f024ced617c5690', class_type='NORMAL', source='REAL', well_id=5, path='/home/ubuntu/lemi_3w/data/dataset_converted_v10101_split-20_source-all_class-all_well-all_train/0/WELL-00005_20170516050046.parquet', timestamp=Timestamp('2017-05-16 05:00:46'), file_size=168643, num_timesteps=10669), EventMetadata(hash_id='f22510ba40bca8c3d5fae029b3e58a3def1454a8af0f641e8eb17859e84677d3', class_type='NORMAL', source='REAL', well_id=8, path='/home/ubuntu/lemi_3w/data/dataset_converted_v10101_split-20_source-all_class-all_well-all_train/0/WELL-00008_20170703010445.parquet', timestamp=Timestamp('2017-07-03 01:04:45'), file_size=247740, num_timesteps=17620), EventMetadata(hash_id='d53cb5d805c8894d1ac803e8b369e711d7ad9c9550adc301cf366b3ba20781f8', class_type='NORMAL', source='REAL', well_id=8, path='/home/ubuntu/lemi_3w/data/dataset_converted_v10101_split-20_source-all_class-all_well-all_train/0/WELL-00008_20170610220246.parquet', timestamp=Timestamp('2017-06-10 22:02:46'), file_size=220037, num_timesteps=17609), EventMetadata(hash_id='14ac0a23dc8c33d23b1ca662883fdd1bd669444c200a741cb0dba0ece56aade2', class_type='NORMAL', source='REAL', well_id=1, path='/home/ubuntu/lemi_3w/data/dataset_converted_v10101_split-20_source-all_class-all_well-all_train/0/WELL-00001_20170524230000.parquet', timestamp=Timestamp('2017-05-24 23:00:00'), file_size=465255, num_timesteps=17898), EventMetadata(hash_id='391cf317f09a68da209782c7713aea54c6dc78597eb263576c22051e7f2d20b4', class_type='NORMAL', source='REAL', well_id=1, path='/home/ubuntu/lemi_3w/data/dataset_converted_v10101_split-20_source-all_class-all_well-all_train/0/WELL-00001_20170627010333.parquet', timestamp=Timestamp('2017-06-27 01:03:33'), file_size=538077, num_timesteps=17574), EventMetadata(hash_id='c18088b284e563344ecfc2254e43d0f68bef59c9e81cdb0a2403eb7982f65e32', class_type='NORMAL', source='REAL', well_id=2, path='/home/ubuntu/lemi_3w/data/dataset_converted_v10101_split-20_source-all_class-all_well-all_train/0/WELL-00002_20170209170152.parquet', timestamp=Timestamp('2017-02-09 17:01:52'), file_size=507477, num_timesteps=17889), EventMetadata(hash_id='76b96c00c6fd274c3bf016d53565fb3d2f62c83dd66eef634f329f0e95be5e73', class_type='NORMAL', source='REAL', well_id=5, path='/home/ubuntu/lemi_3w/data/dataset_converted_v10101_split-20_source-all_class-all_well-all_train/0/WELL-00005_20170815170000.parquet', timestamp=Timestamp('2017-08-15 17:00:00'), file_size=192056, num_timesteps=10658), EventMetadata(hash_id='5941b4106c315c7b1b06f82ac33af89d07a591d41fb8c3431b15791959e230e4', class_type='NORMAL', source='REAL', well_id=1, path='/home/ubuntu/lemi_3w/data/dataset_converted_v10101_split-20_source-all_class-all_well-all_train/0/WELL-00001_20170424180042.parquet', timestamp=Timestamp('2017-04-24 18:00:42'), file_size=460206, num_timesteps=17959), EventMetadata(hash_id='addb1c7fca504cd22531ca61ec67503dbcb9407920592a524cc3655ee65c3f35', class_type='NORMAL', source='REAL', well_id=3, path='/home/ubuntu/lemi_3w/data/dataset_converted_v10101_split-20_source-all_class-all_well-all_train/0/WELL-00003_20170915120000.parquet', timestamp=Timestamp('2017-09-15 12:00:00'), file_size=213938, num_timesteps=17832), EventMetadata(hash_id='1f97383783e280eb9bc48663c1f9b47fa4ee635355759bca604d0f08fc463ca9', class_type='NORMAL', source='REAL', well_id=1, path='/home/ubuntu/lemi_3w/data/dataset_converted_v10101_split-20_source-all_class-all_well-all_train/0/WELL-00001_20170219120021.parquet', timestamp=Timestamp('2017-02-19 12:00:21'), file_size=446816, num_timesteps=17980), EventMetadata(hash_id='1fb50cc2a9b09827798db11b2234436caff76fefc1440e0841f10bb63388415d', class_type='NORMAL', source='REAL', well_id=1, path='/home/ubuntu/lemi_3w/data/dataset_converted_v10101_split-20_source-all_class-all_well-all_train/0/WELL-00001_20170626100246.parquet', timestamp=Timestamp('2017-06-26 10:02:46'), file_size=508171, num_timesteps=17644), EventMetadata(hash_id='df8bcaad901afd4ce118cf66afee872f3e4154f7f0334b5aeeac25476f902f1a', class_type='NORMAL', source='REAL', well_id=8, path='/home/ubuntu/lemi_3w/data/dataset_converted_v10101_split-20_source-all_class-all_well-all_train/0/WELL-00008_20170701190222.parquet', timestamp=Timestamp('2017-07-01 19:02:22'), file_size=233959, num_timesteps=17561), EventMetadata(hash_id='da694965334a886e8ae4b46d58d4456096d141b9e3be2407fa99ac404b8d6c62', class_type='NORMAL', source='REAL', well_id=3, path='/home/ubuntu/lemi_3w/data/dataset_converted_v10101_split-20_source-all_class-all_well-all_train/0/WELL-00003_20170807100000.parquet', timestamp=Timestamp('2017-08-07 10:00:00'), file_size=205435, num_timesteps=17975), EventMetadata(hash_id='887ee04fc131b63e5753615dfdf20905d86f9ec7091ac5c80b15f36c26962f51', class_type='NORMAL', source='REAL', well_id=8, path='/home/ubuntu/lemi_3w/data/dataset_converted_v10101_split-20_source-all_class-all_well-all_train/0/WELL-00008_20170818160123.parquet', timestamp=Timestamp('2017-08-18 16:01:23'), file_size=228654, num_timesteps=17751), EventMetadata(hash_id='2231f8443b812d760d0c83284573e79a30dd55c53280ffb241b3dfcbebe3e6aa', class_type='NORMAL', source='REAL', well_id=1, path='/home/ubuntu/lemi_3w/data/dataset_converted_v10101_split-20_source-all_class-all_well-all_train/0/WELL-00001_20170827190000.parquet', timestamp=Timestamp('2017-08-27 19:00:00'), file_size=454542, num_timesteps=17844), EventMetadata(hash_id='933c0f8940835242f561be8c8ba14b51fa35ead4d171211d7baca2c8fb62b0c4', class_type='NORMAL', source='REAL', well_id=8, path='/home/ubuntu/lemi_3w/data/dataset_converted_v10101_split-20_source-all_class-all_well-all_train/0/WELL-00008_20170613220222.parquet', timestamp=Timestamp('2017-06-13 22:02:22'), file_size=249699, num_timesteps=17692), EventMetadata(hash_id='9bdb59a719b4b7e2a0e96c679048061708d919a37bf4b1e493cdcae2735ba20e', class_type='NORMAL', source='REAL', well_id=8, path='/home/ubuntu/lemi_3w/data/dataset_converted_v10101_split-20_source-all_class-all_well-all_train/0/WELL-00008_20170816140222.parquet', timestamp=Timestamp('2017-08-16 14:02:22'), file_size=216598, num_timesteps=17633), EventMetadata(hash_id='f2c4bde62e39af1445cdbf2570346362798795fd324331e062a07443ebf21741', class_type='NORMAL', source='REAL', well_id=1, path='/home/ubuntu/lemi_3w/data/dataset_converted_v10101_split-20_source-all_class-all_well-all_train/0/WELL-00001_20170823150000.parquet', timestamp=Timestamp('2017-08-23 15:00:00'), file_size=451309, num_timesteps=18001), EventMetadata(hash_id='7128c67431a0ee144046d2163fbdbed6825ab48fc421af1139ed2dcad7a3f99a', class_type='NORMAL', source='REAL', well_id=2, path='/home/ubuntu/lemi_3w/data/dataset_converted_v10101_split-20_source-all_class-all_well-all_train/0/WELL-00002_20170813000000.parquet', timestamp=Timestamp('2017-08-13 00:00:00'), file_size=441609, num_timesteps=17906), EventMetadata(hash_id='f53bbf504d4bd449000f08fb1c4876d7bba14f2bb62c66b260d044c60bce7214', class_type='NORMAL', source='REAL', well_id=3, path='/home/ubuntu/lemi_3w/data/dataset_converted_v10101_split-20_source-all_class-all_well-all_train/0/WELL-00003_20170915070000.parquet', timestamp=Timestamp('2017-09-15 07:00:00'), file_size=218916, num_timesteps=17858), EventMetadata(hash_id='610992e163fa810565d584cccb55efe17083609363f7c494a69a0ccdb4e966b8', class_type='NORMAL', source='REAL', well_id=2, path='/home/ubuntu/lemi_3w/data/dataset_converted_v10101_split-20_source-all_class-all_well-all_train/0/WELL-00002_20170309070218.parquet', timestamp=Timestamp('2017-03-09 07:02:18'), file_size=545494, num_timesteps=17863), EventMetadata(hash_id='304921c7fdc3c9470ccf18b496fa89d29c8a4444f462ec99b4248a3f27ade873', class_type='NORMAL', source='REAL', well_id=2, path='/home/ubuntu/lemi_3w/data/dataset_converted_v10101_split-20_source-all_class-all_well-all_train/0/WELL-00002_20170621080422.parquet', timestamp=Timestamp('2017-06-21 08:04:22'), file_size=458253, num_timesteps=17739), EventMetadata(hash_id='b4227ee92a07e2494c8a7d86be8497f387d6fe2da899af0f1406c50635548e27', class_type='NORMAL', source='REAL', well_id=2, path='/home/ubuntu/lemi_3w/data/dataset_converted_v10101_split-20_source-all_class-all_well-all_train/0/WELL-00002_20170808050000.parquet', timestamp=Timestamp('2017-08-08 05:00:00'), file_size=454664, num_timesteps=17960), EventMetadata(hash_id='b9ef01333b91b9205414e5b319ac0476c8bc490bb06ac6d12832ae9f4bab04de', class_type='NORMAL', source='REAL', well_id=5, path='/home/ubuntu/lemi_3w/data/dataset_converted_v10101_split-20_source-all_class-all_well-all_train/0/WELL-00005_20170401020000.parquet', timestamp=Timestamp('2017-04-01 02:00:00'), file_size=203090, num_timesteps=17899), EventMetadata(hash_id='0a6950b6104329127d4323dec761a5982d44385434714ae73ccd710afd9a93c9', class_type='NORMAL', source='REAL', well_id=6, path='/home/ubuntu/lemi_3w/data/dataset_converted_v10101_split-20_source-all_class-all_well-all_train/0/WELL-00006_20170822130000.parquet', timestamp=Timestamp('2017-08-22 13:00:00'), file_size=353849, num_timesteps=17974), EventMetadata(hash_id='c976cd18149995b28e7af907152e214ee0e82a69588301eaf6052ef08eee85d8', class_type='NORMAL', source='REAL', well_id=2, path='/home/ubuntu/lemi_3w/data/dataset_converted_v10101_split-20_source-all_class-all_well-all_train/0/WELL-00002_20170308210218.parquet', timestamp=Timestamp('2017-03-08 21:02:18'), file_size=489127, num_timesteps=17863), EventMetadata(hash_id='d8a67e8460af160b3b6941e6c78673d8f9bdea3de26d258b359101c105f93a68', class_type='NORMAL', source='REAL', well_id=2, path='/home/ubuntu/lemi_3w/data/dataset_converted_v10101_split-20_source-all_class-all_well-all_train/0/WELL-00002_20170406150000.parquet', timestamp=Timestamp('2017-04-06 15:00:00'), file_size=501404, num_timesteps=17966), EventMetadata(hash_id='82e6fb6038ea34a3bf995ae47df1d7fba6c924ba2314c16e0c16b37dd1c8951b', class_type='NORMAL', source='REAL', well_id=8, path='/home/ubuntu/lemi_3w/data/dataset_converted_v10101_split-20_source-all_class-all_well-all_train/0/WELL-00008_20170612190111.parquet', timestamp=Timestamp('2017-06-12 19:01:11'), file_size=227470, num_timesteps=17858), EventMetadata(hash_id='20a89f5645d9530deba9aaf051447c97791ea13114b9411123d133cf6ce03ddb', class_type='NORMAL', source='REAL', well_id=2, path='/home/ubuntu/lemi_3w/data/dataset_converted_v10101_split-20_source-all_class-all_well-all_train/0/WELL-00002_20170811080000.parquet', timestamp=Timestamp('2017-08-11 08:00:00'), file_size=416614, num_timesteps=17866), EventMetadata(hash_id='606844067321e1cc47cfad56ef792495e7701eb1828fea78adff79a5a3fa5da5', class_type='NORMAL', source='REAL', well_id=2, path='/home/ubuntu/lemi_3w/data/dataset_converted_v10101_split-20_source-all_class-all_well-all_train/0/WELL-00002_20170809160026.parquet', timestamp=Timestamp('2017-08-09 16:00:26'), file_size=511185, num_timesteps=17975), EventMetadata(hash_id='43c2051f669d95a75173be54cb634b89f8477f6b54dc3c1efa9d8bee2923eb52', class_type='NORMAL', source='REAL', well_id=6, path='/home/ubuntu/lemi_3w/data/dataset_converted_v10101_split-20_source-all_class-all_well-all_train/0/WELL-00006_20170207180042.parquet', timestamp=Timestamp('2017-02-07 18:00:42'), file_size=306497, num_timesteps=17959), EventMetadata(hash_id='dde1a91bd1afd6c637cbf38f40cc2dd91c3cb463b1a10c298ffb7e967deacf86', class_type='NORMAL', source='REAL', well_id=2, path='/home/ubuntu/lemi_3w/data/dataset_converted_v10101_split-20_source-all_class-all_well-all_train/0/WELL-00002_20170614230200.parquet', timestamp=Timestamp('2017-06-14 23:02:00'), file_size=462103, num_timesteps=17881), EventMetadata(hash_id='95e649fe904ea68f2c5bfabd307b3e84fcd21f190cfff5402ca0c75fe92f0a5c', class_type='NORMAL', source='REAL', well_id=2, path='/home/ubuntu/lemi_3w/data/dataset_converted_v10101_split-20_source-all_class-all_well-all_train/0/WELL-00002_20170613220000.parquet', timestamp=Timestamp('2017-06-13 22:00:00'), file_size=459823, num_timesteps=17829), EventMetadata(hash_id='1bf4f1c32b8ec85b24802b8ffecd291eb12e2703f955924e727295e0c899f23d', class_type='NORMAL', source='REAL', well_id=6, path='/home/ubuntu/lemi_3w/data/dataset_converted_v10101_split-20_source-all_class-all_well-all_train/0/WELL-00006_20170210010135.parquet', timestamp=Timestamp('2017-02-10 01:01:35'), file_size=256309, num_timesteps=17906), EventMetadata(hash_id='a3a43f979522f127f3f33dcf1480bb8855c8ef728c1c2c65e91d4bec0cd3cf76', class_type='NORMAL', source='REAL', well_id=1, path='/home/ubuntu/lemi_3w/data/dataset_converted_v10101_split-20_source-all_class-all_well-all_train/0/WELL-00001_20170525190000.parquet', timestamp=Timestamp('2017-05-25 19:00:00'), file_size=514403, num_timesteps=17898), EventMetadata(hash_id='a6ba7d67c867c3b35d51758d92a22c5e3c74a4bb893fdf599eac34e0faee6319', class_type='NORMAL', source='REAL', well_id=2, path='/home/ubuntu/lemi_3w/data/dataset_converted_v10101_split-20_source-all_class-all_well-all_train/0/WELL-00002_20131212070005.parquet', timestamp=Timestamp('2013-12-12 07:00:05'), file_size=157171, num_timesteps=7154), EventMetadata(hash_id='11d35441585e4ee1ddf8e4e7fc41823dd449ea89d0c6c80dc429b223844df2d0', class_type='NORMAL', source='REAL', well_id=2, path='/home/ubuntu/lemi_3w/data/dataset_converted_v10101_split-20_source-all_class-all_well-all_train/0/WELL-00002_20170308060042.parquet', timestamp=Timestamp('2017-03-08 06:00:42'), file_size=488856, num_timesteps=17959), EventMetadata(hash_id='8984515e7e7ee9aaf89a90e30d2c827446641d9f67e886683e41890c8de7e9ac', class_type='NORMAL', source='REAL', well_id=3, path='/home/ubuntu/lemi_3w/data/dataset_converted_v10101_split-20_source-all_class-all_well-all_train/0/WELL-00003_20170813030000.parquet', timestamp=Timestamp('2017-08-13 03:00:00'), file_size=240589, num_timesteps=17756), EventMetadata(hash_id='63b76ac3f66183e084b1b9577f34002f43d977de1a7895ac551d9dc34dc1be85', class_type='NORMAL', source='REAL', well_id=6, path='/home/ubuntu/lemi_3w/data/dataset_converted_v10101_split-20_source-all_class-all_well-all_train/0/WELL-00006_20170821020000.parquet', timestamp=Timestamp('2017-08-21 02:00:00'), file_size=342280, num_timesteps=17936), EventMetadata(hash_id='c51a96c8187ecdf115222e51897489f8f47f3174b98a6676d5ad9b00d5af76a3', class_type='NORMAL', source='REAL', well_id=1, path='/home/ubuntu/lemi_3w/data/dataset_converted_v10101_split-20_source-all_class-all_well-all_train/0/WELL-00001_20170525090000.parquet', timestamp=Timestamp('2017-05-25 09:00:00'), file_size=479318, num_timesteps=17924), EventMetadata(hash_id='0382883931a0827274467c11bdc398dc8afe8211dd819c9aca709698852a3a23', class_type='NORMAL', source='REAL', well_id=4, path='/home/ubuntu/lemi_3w/data/dataset_converted_v10101_split-20_source-all_class-all_well-all_train/0/WELL-00004_20140807120112.parquet', timestamp=Timestamp('2014-08-07 12:01:12'), file_size=149866, num_timesteps=7129), EventMetadata(hash_id='57e7206e86c0ebccad41c6e1e28fc78fea96152511af017f5bc424c212be2993', class_type='NORMAL', source='REAL', well_id=1, path='/home/ubuntu/lemi_3w/data/dataset_converted_v10101_split-20_source-all_class-all_well-all_train/0/WELL-00001_20170828050000.parquet', timestamp=Timestamp('2017-08-28 05:00:00'), file_size=515101, num_timesteps=17844), EventMetadata(hash_id='e124e568242e95d7d8d4b1cbf5d511184d9da25a57b3aa7da92beb3baa297584', class_type='NORMAL', source='REAL', well_id=1, path='/home/ubuntu/lemi_3w/data/dataset_converted_v10101_split-20_source-all_class-all_well-all_train/0/WELL-00001_20170626150123.parquet', timestamp=Timestamp('2017-06-26 15:01:23'), file_size=519248, num_timesteps=17632), EventMetadata(hash_id='405d727f001317612db8cf1f840122705a4e449d81ef335f5b32ff8aed7043ee', class_type='NORMAL', source='REAL', well_id=2, path='/home/ubuntu/lemi_3w/data/dataset_converted_v10101_split-20_source-all_class-all_well-all_train/0/WELL-00002_20170812040000.parquet', timestamp=Timestamp('2017-08-12 04:00:00'), file_size=472582, num_timesteps=17960), EventMetadata(hash_id='e98c94e516168a0d5a139029e66e28eb21e1b2982d0f8843f3b21ea80e578c86', class_type='NORMAL', source='REAL', well_id=1, path='/home/ubuntu/lemi_3w/data/dataset_converted_v10101_split-20_source-all_class-all_well-all_train/0/WELL-00001_20170521150000.parquet', timestamp=Timestamp('2017-05-21 15:00:00'), file_size=485895, num_timesteps=17898), EventMetadata(hash_id='b2e3b704a4d724ab7c5cbbeaed828ddc2aa86807de72bfa13ac0ad2ed45a8868', class_type='NORMAL', source='REAL', well_id=2, path='/home/ubuntu/lemi_3w/data/dataset_converted_v10101_split-20_source-all_class-all_well-all_train/0/WELL-00002_20170614080057.parquet', timestamp=Timestamp('2017-06-14 08:00:57'), file_size=480647, num_timesteps=17932), EventMetadata(hash_id='18ea80fa34c208c1ecb1bf57cf962cdd8e9a7b65476ca6966c6e87d077a9d541', class_type='NORMAL', source='REAL', well_id=5, path='/home/ubuntu/lemi_3w/data/dataset_converted_v10101_split-20_source-all_class-all_well-all_train/0/WELL-00005_20170812200000.parquet', timestamp=Timestamp('2017-08-12 20:00:00'), file_size=200190, num_timesteps=10533), EventMetadata(hash_id='41b402b03aa4aa7ff05541f2eb8667e989a888c70181177833db03a5edfbbce0', class_type='NORMAL', source='REAL', well_id=2, path='/home/ubuntu/lemi_3w/data/dataset_converted_v10101_split-20_source-all_class-all_well-all_train/0/WELL-00002_20170616200349.parquet', timestamp=Timestamp('2017-06-16 20:03:49'), file_size=502900, num_timesteps=17772), EventMetadata(hash_id='5f860f84aaa7c83743f79324c1c7902cf75a66c68208e0f5b9e392c098de0014', class_type='NORMAL', source='REAL', well_id=2, path='/home/ubuntu/lemi_3w/data/dataset_converted_v10101_split-20_source-all_class-all_well-all_train/0/WELL-00002_20170308110124.parquet', timestamp=Timestamp('2017-03-08 11:01:24'), file_size=486068, num_timesteps=17917), EventMetadata(hash_id='3e1dfec31445e82f6e6e0401fe6cbbee473509db81a9b54b4b438dacd48a4e1d', class_type='NORMAL', source='REAL', well_id=5, path='/home/ubuntu/lemi_3w/data/dataset_converted_v10101_split-20_source-all_class-all_well-all_train/0/WELL-00005_20170816140000.parquet', timestamp=Timestamp('2017-08-16 14:00:00'), file_size=177676, num_timesteps=10497), EventMetadata(hash_id='74229c01ea2c3df409c6c6c712794e995e7535dd5bb8a1b575ce3e633d3540b8', class_type='NORMAL', source='REAL', well_id=1, path='/home/ubuntu/lemi_3w/data/dataset_converted_v10101_split-20_source-all_class-all_well-all_train/0/WELL-00001_20170201170311.parquet', timestamp=Timestamp('2017-02-01 17:03:11'), file_size=452336, num_timesteps=17810), EventMetadata(hash_id='478f6e24ebf8661b4e2fa5cf8ece7916a7b38e611a6da7517b459d7ec179fa83', class_type='NORMAL', source='REAL', well_id=2, path='/home/ubuntu/lemi_3w/data/dataset_converted_v10101_split-20_source-all_class-all_well-all_train/0/WELL-00002_20170406200000.parquet', timestamp=Timestamp('2017-04-06 20:00:00'), file_size=439386, num_timesteps=17978), EventMetadata(hash_id='e721202ddc2b1f0e06a4b33ce31dd94ddb2d1e7ebdb8e22eda6377fa57a6fe13', class_type='NORMAL', source='REAL', well_id=6, path='/home/ubuntu/lemi_3w/data/dataset_converted_v10101_split-20_source-all_class-all_well-all_train/0/WELL-00006_20170817080000.parquet', timestamp=Timestamp('2017-08-17 08:00:00'), file_size=416872, num_timesteps=17626), EventMetadata(hash_id='acde595710a7fa035a15f21d18af59c8543a390d230f5382553ed21ef79bad78', class_type='NORMAL', source='REAL', well_id=2, path='/home/ubuntu/lemi_3w/data/dataset_converted_v10101_split-20_source-all_class-all_well-all_train/0/WELL-00002_20170308160353.parquet', timestamp=Timestamp('2017-03-08 16:03:53'), file_size=511544, num_timesteps=17768), EventMetadata(hash_id='49e631984f7de0c1ae7607293533564c286a92b4efda08ae6024ef5a07efb969', class_type='NORMAL', source='REAL', well_id=5, path='/home/ubuntu/lemi_3w/data/dataset_converted_v10101_split-20_source-all_class-all_well-all_train/0/WELL-00005_20170816080000.parquet', timestamp=Timestamp('2017-08-16 08:00:00'), file_size=194040, num_timesteps=10711), EventMetadata(hash_id='14867740b8de0e2c7437173f39826b8c27b96c3c7a52b1da7808291a523f8821', class_type='NORMAL', source='REAL', well_id=6, path='/home/ubuntu/lemi_3w/data/dataset_converted_v10101_split-20_source-all_class-all_well-all_train/0/WELL-00006_20170828140031.parquet', timestamp=Timestamp('2017-08-28 14:00:31'), file_size=362907, num_timesteps=17970), EventMetadata(hash_id='ebc0becdf16846d8dc7654ef6f77464ebd1e398de3970985011a441d3ffb7561', class_type='NORMAL', source='REAL', well_id=2, path='/home/ubuntu/lemi_3w/data/dataset_converted_v10101_split-20_source-all_class-all_well-all_train/0/WELL-00002_20170619230043.parquet', timestamp=Timestamp('2017-06-19 23:00:43'), file_size=467177, num_timesteps=17958), EventMetadata(hash_id='e459e5633fad6c2dbfa47574c2fc7c14e365e07b5d4f9f0027a41d5dbe65f02c', class_type='NORMAL', source='REAL', well_id=6, path='/home/ubuntu/lemi_3w/data/dataset_converted_v10101_split-20_source-all_class-all_well-all_train/0/WELL-00006_20170222200000.parquet', timestamp=Timestamp('2017-02-22 20:00:00'), file_size=293440, num_timesteps=17962), EventMetadata(hash_id='0d5ccf92a0c612994849bafe0901e3d9ec8a4c25b139534614826ea727b74a91', class_type='NORMAL', source='REAL', well_id=6, path='/home/ubuntu/lemi_3w/data/dataset_converted_v10101_split-20_source-all_class-all_well-all_train/0/WELL-00006_20170509000053.parquet', timestamp=Timestamp('2017-05-09 00:00:53'), file_size=364508, num_timesteps=17948), EventMetadata(hash_id='45f0ddffee9bd813271ac8fb1cb3359bf2e38c43021476b9473a43469f80bcf6', class_type='NORMAL', source='REAL', well_id=6, path='/home/ubuntu/lemi_3w/data/dataset_converted_v10101_split-20_source-all_class-all_well-all_train/0/WELL-00006_20170819050000.parquet', timestamp=Timestamp('2017-08-19 05:00:00'), file_size=330118, num_timesteps=17730), EventMetadata(hash_id='559c461ed9599d884c181a8637220ec4efce9a9214f6cad9fe1293edb668d433', class_type='NORMAL', source='REAL', well_id=5, path='/home/ubuntu/lemi_3w/data/dataset_converted_v10101_split-20_source-all_class-all_well-all_train/0/WELL-00005_20170816170000.parquet', timestamp=Timestamp('2017-08-16 17:00:00'), file_size=154066, num_timesteps=10604), EventMetadata(hash_id='5fd4846c839eabd7e083946f62350c26479aa764447f715144935405a67d821f', class_type='NORMAL', source='REAL', well_id=5, path='/home/ubuntu/lemi_3w/data/dataset_converted_v10101_split-20_source-all_class-all_well-all_train/0/WELL-00005_20170910070000.parquet', timestamp=Timestamp('2017-09-10 07:00:00'), file_size=102007, num_timesteps=7142), EventMetadata(hash_id='58b793844fdf77e9904fc2288b8af54e416247df423ecdb581d22349d4f6bf20', class_type='NORMAL', source='REAL', well_id=2, path='/home/ubuntu/lemi_3w/data/dataset_converted_v10101_split-20_source-all_class-all_well-all_train/0/WELL-00002_20170215030259.parquet', timestamp=Timestamp('2017-02-15 03:02:59'), file_size=488330, num_timesteps=17822), EventMetadata(hash_id='25295cfd35caaf3d355279dcc768668bf0f4cd818e9d8333ba0791d7a0ce2830', class_type='NORMAL', source='REAL', well_id=5, path='/home/ubuntu/lemi_3w/data/dataset_converted_v10101_split-20_source-all_class-all_well-all_train/0/WELL-00005_20170830150000.parquet', timestamp=Timestamp('2017-08-30 15:00:00'), file_size=180104, num_timesteps=10777), EventMetadata(hash_id='8edcc8371b81e118c03be1b8f05f75e145928bfe5d2c8beb921eaee7c149b045', class_type='NORMAL', source='REAL', well_id=1, path='/home/ubuntu/lemi_3w/data/dataset_converted_v10101_split-20_source-all_class-all_well-all_train/0/WELL-00001_20170218160135.parquet', timestamp=Timestamp('2017-02-18 16:01:35'), file_size=487842, num_timesteps=17906), EventMetadata(hash_id='43280493edc781a9ff9771ea974e0c5bc43cb4e9cc7c5825593644e2f3928589', class_type='NORMAL', source='REAL', well_id=5, path='/home/ubuntu/lemi_3w/data/dataset_converted_v10101_split-20_source-all_class-all_well-all_train/0/WELL-00005_20170813230000.parquet', timestamp=Timestamp('2017-08-13 23:00:00'), file_size=162947, num_timesteps=10756), EventMetadata(hash_id='b30a092072ba3b0395f5b6c63b1876ef31b9e6cd9edb90e43e37885314a6ac7f', class_type='NORMAL', source='REAL', well_id=6, path='/home/ubuntu/lemi_3w/data/dataset_converted_v10101_split-20_source-all_class-all_well-all_train/0/WELL-00006_20170818040000.parquet', timestamp=Timestamp('2017-08-18 04:00:00'), file_size=380902, num_timesteps=17846), EventMetadata(hash_id='c911866b8433acc4e7521331bf3b5af59ff9c6e66370c7b476976babb589a1c1', class_type='NORMAL', source='REAL', well_id=8, path='/home/ubuntu/lemi_3w/data/dataset_converted_v10101_split-20_source-all_class-all_well-all_train/0/WELL-00008_20170701040210.parquet', timestamp=Timestamp('2017-07-01 04:02:10'), file_size=219220, num_timesteps=17680), EventMetadata(hash_id='26547637056cd68fcef5f4c043e13182935b0062fc33c72b0287ad561c687ec6', class_type='NORMAL', source='REAL', well_id=5, path='/home/ubuntu/lemi_3w/data/dataset_converted_v10101_split-20_source-all_class-all_well-all_train/0/WELL-00005_20170516230000.parquet', timestamp=Timestamp('2017-05-16 23:00:00'), file_size=199511, num_timesteps=10754), EventMetadata(hash_id='ce05fda9e4263576ee953075003d8bed770f8fb9a67d91f650c9c9d05161ce64', class_type='NORMAL', source='REAL', well_id=2, path='/home/ubuntu/lemi_3w/data/dataset_converted_v10101_split-20_source-all_class-all_well-all_train/0/WELL-00002_20170616000149.parquet', timestamp=Timestamp('2017-06-16 00:01:49'), file_size=500057, num_timesteps=17892), EventMetadata(hash_id='98d882ea59facbfb07d9daa7ae7a004eb5d3e162f70119b578f76b194588a1ab', class_type='NORMAL', source='REAL', well_id=3, path='/home/ubuntu/lemi_3w/data/dataset_converted_v10101_split-20_source-all_class-all_well-all_train/0/WELL-00003_20170812120000.parquet', timestamp=Timestamp('2017-08-12 12:00:00'), file_size=229149, num_timesteps=17884), EventMetadata(hash_id='8ef1a6a43a9107bdbbddf3a0e2d14df51b6601d317e53c936bc3346653d697d8', class_type='NORMAL', source='REAL', well_id=1, path='/home/ubuntu/lemi_3w/data/dataset_converted_v10101_split-20_source-all_class-all_well-all_train/0/WELL-00001_20170523070000.parquet', timestamp=Timestamp('2017-05-23 07:00:00'), file_size=417150, num_timesteps=17834), EventMetadata(hash_id='0ecf2de773d88c7da85ce51fa5683002f94f4e8b04ecd15af99f18a0eba064d5', class_type='NORMAL', source='REAL', well_id=2, path='/home/ubuntu/lemi_3w/data/dataset_converted_v10101_split-20_source-all_class-all_well-all_train/0/WELL-00002_20170216190214.parquet', timestamp=Timestamp('2017-02-16 19:02:14'), file_size=497282, num_timesteps=17867), EventMetadata(hash_id='9cfc87004d67890d61833046633c6486878e5b83ddd2848e59043be1a87d525f', class_type='NORMAL', source='REAL', well_id=1, path='/home/ubuntu/lemi_3w/data/dataset_converted_v10101_split-20_source-all_class-all_well-all_train/0/WELL-00001_20170422040000.parquet', timestamp=Timestamp('2017-04-22 04:00:00'), file_size=669753, num_timesteps=21458), EventMetadata(hash_id='cdb058d6ec6f7dc5fce7b3777d21ab8d741dad70b89e3b0b54d270bc0d2da132', class_type='NORMAL', source='REAL', well_id=6, path='/home/ubuntu/lemi_3w/data/dataset_converted_v10101_split-20_source-all_class-all_well-all_train/0/WELL-00006_20170827080114.parquet', timestamp=Timestamp('2017-08-27 08:01:14'), file_size=422901, num_timesteps=17927), EventMetadata(hash_id='259816346463215b5b15b91a11e5bee264960d0b0c70b06d75f2d742fa0ea977', class_type='NORMAL', source='REAL', well_id=2, path='/home/ubuntu/lemi_3w/data/dataset_converted_v10101_split-20_source-all_class-all_well-all_train/0/WELL-00002_20170217050451.parquet', timestamp=Timestamp('2017-02-17 05:04:51'), file_size=496526, num_timesteps=17710), EventMetadata(hash_id='afa9506cd26a337080358f15bf60c15751e0882c50e1cae22eb136157fa4251b', class_type='NORMAL', source='REAL', well_id=5, path='/home/ubuntu/lemi_3w/data/dataset_converted_v10101_split-20_source-all_class-all_well-all_train/0/WELL-00005_20170816230000.parquet', timestamp=Timestamp('2017-08-16 23:00:00'), file_size=159411, num_timesteps=10783), EventMetadata(hash_id='e9d25b515eea0aa809dfd15304e2c3b19686deeca73814a707e5203854a52f3a', class_type='NORMAL', source='REAL', well_id=1, path='/home/ubuntu/lemi_3w/data/dataset_converted_v10101_split-20_source-all_class-all_well-all_train/0/WELL-00001_20170522110000.parquet', timestamp=Timestamp('2017-05-22 11:00:00'), file_size=464395, num_timesteps=17975), EventMetadata(hash_id='a3ffd45d1c565a7ec2a884b150515082d279b7f8b725e4c25770eb4254bec60f', class_type='NORMAL', source='REAL', well_id=1, path='/home/ubuntu/lemi_3w/data/dataset_converted_v10101_split-20_source-all_class-all_well-all_train/0/WELL-00001_20170824010000.parquet', timestamp=Timestamp('2017-08-24 01:00:00'), file_size=520044, num_timesteps=17896), EventMetadata(hash_id='9a828715ac556ef130d848b37149e8f796d47630c4425b5f64536cd473475af5', class_type='NORMAL', source='REAL', well_id=2, path='/home/ubuntu/lemi_3w/data/dataset_converted_v10101_split-20_source-all_class-all_well-all_train/0/WELL-00002_20170405040000.parquet', timestamp=Timestamp('2017-04-05 04:00:00'), file_size=502952, num_timesteps=17966), EventMetadata(hash_id='283637784239d8b916b0e6a379ed3414a9817246a7df1715b6ab43c45f033092', class_type='NORMAL', source='REAL', well_id=2, path='/home/ubuntu/lemi_3w/data/dataset_converted_v10101_split-20_source-all_class-all_well-all_train/0/WELL-00002_20170811030000.parquet', timestamp=Timestamp('2017-08-11 03:00:00'), file_size=449419, num_timesteps=17920), EventMetadata(hash_id='f451a49b4e523e454b71721abbd2ba995a8d40250a7c4af9da76640637bd5c00', class_type='NORMAL', source='REAL', well_id=2, path='/home/ubuntu/lemi_3w/data/dataset_converted_v10101_split-20_source-all_class-all_well-all_train/0/WELL-00002_20170806230000.parquet', timestamp=Timestamp('2017-08-06 23:00:00'), file_size=458070, num_timesteps=17947), EventMetadata(hash_id='8c00266434d56082872211ca5d8d845fc1822d01689d0994c5df4fee8bf78159', class_type='NORMAL', source='REAL', well_id=6, path='/home/ubuntu/lemi_3w/data/dataset_converted_v10101_split-20_source-all_class-all_well-all_train/0/WELL-00006_20170224120025.parquet', timestamp=Timestamp('2017-02-24 12:00:25'), file_size=222125, num_timesteps=17976), EventMetadata(hash_id='cfd2d7d424614ba4ffcd3a7b305dec29a274d9b1db1dd3b8ba6e8b96b694d69f', class_type='NORMAL', source='REAL', well_id=2, path='/home/ubuntu/lemi_3w/data/dataset_converted_v10101_split-20_source-all_class-all_well-all_train/0/WELL-00002_20170615040032.parquet', timestamp=Timestamp('2017-06-15 04:00:32'), file_size=450535, num_timesteps=17969), EventMetadata(hash_id='bf7eaa04ff6384e255c156eb30e98221e0a8ff0fa9fce14286442c2e461b4c3e', class_type='NORMAL', source='REAL', well_id=2, path='/home/ubuntu/lemi_3w/data/dataset_converted_v10101_split-20_source-all_class-all_well-all_train/0/WELL-00002_20170612160022.parquet', timestamp=Timestamp('2017-06-12 16:00:22'), file_size=508704, num_timesteps=17979), EventMetadata(hash_id='78034dc46120e6a2606f14e60292e5686bc6f46370673facda3cd499972bb50b', class_type='NORMAL', source='REAL', well_id=4, path='/home/ubuntu/lemi_3w/data/dataset_converted_v10101_split-20_source-all_class-all_well-all_train/0/WELL-00004_20140807200042.parquet', timestamp=Timestamp('2014-08-07 20:00:42'), file_size=137815, num_timesteps=7159), EventMetadata(hash_id='a8237722e9a983d52aaeb633f70f22a83b42d2d0798cdada9a3aa8102847247c', class_type='NORMAL', source='REAL', well_id=6, path='/home/ubuntu/lemi_3w/data/dataset_converted_v10101_split-20_source-all_class-all_well-all_train/0/WELL-00006_20170818090000.parquet', timestamp=Timestamp('2017-08-18 09:00:00'), file_size=389132, num_timesteps=17949), EventMetadata(hash_id='ffc01e8171967aa42dda0a76d4ab936230e2c8fc5558f3d8af149151a192b706', class_type='NORMAL', source='REAL', well_id=1, path='/home/ubuntu/lemi_3w/data/dataset_converted_v10101_split-20_source-all_class-all_well-all_train/0/WELL-00001_20170528070000.parquet', timestamp=Timestamp('2017-05-28 07:00:00'), file_size=460285, num_timesteps=17936), EventMetadata(hash_id='c1548925abdd173935d1e6af8f6aa4c73009ae15dfe5d5b7e412cc47f77171b5', class_type='NORMAL', source='REAL', well_id=2, path='/home/ubuntu/lemi_3w/data/dataset_converted_v10101_split-20_source-all_class-all_well-all_train/0/WELL-00002_20170626230316.parquet', timestamp=Timestamp('2017-06-26 23:03:16'), file_size=480149, num_timesteps=17805), EventMetadata(hash_id='f49a9a1729809d0ed470266d856fa1d416867f700e54e5b358a198e412c63ef9', class_type='NORMAL', source='REAL', well_id=2, path='/home/ubuntu/lemi_3w/data/dataset_converted_v10101_split-20_source-all_class-all_well-all_train/0/WELL-00002_20170618020105.parquet', timestamp=Timestamp('2017-06-18 02:01:05'), file_size=456664, num_timesteps=17936), EventMetadata(hash_id='e7966eda78f66b78051bbc7830c08dc0762187ca3ba97f1cf92b92ed5d04361c', class_type='NORMAL', source='REAL', well_id=4, path='/home/ubuntu/lemi_3w/data/dataset_converted_v10101_split-20_source-all_class-all_well-all_train/0/WELL-00004_20140806220033.parquet', timestamp=Timestamp('2014-08-06 22:00:33'), file_size=156866, num_timesteps=7168), EventMetadata(hash_id='bf405642f3821d6efb6d515156fa9ff5e0c475cb5c2325d724ad649f5e9e5e55', class_type='NORMAL', source='REAL', well_id=3, path='/home/ubuntu/lemi_3w/data/dataset_converted_v10101_split-20_source-all_class-all_well-all_train/0/WELL-00003_20170812070038.parquet', timestamp=Timestamp('2017-08-12 07:00:38'), file_size=242929, num_timesteps=17711), EventMetadata(hash_id='ebacf4ba33e405fa8dc10a2bbcf1afd9481c35f496fb52da1bcc9b4f5ce33370', class_type='NORMAL', source='REAL', well_id=6, path='/home/ubuntu/lemi_3w/data/dataset_converted_v10101_split-20_source-all_class-all_well-all_train/0/WELL-00006_20170826020207.parquet', timestamp=Timestamp('2017-08-26 02:02:07'), file_size=380017, num_timesteps=17874), EventMetadata(hash_id='6756d8e0f4a3dbf078823dbccb77d8008d0dbbe728497d82f9ed8467d900f003', class_type='NORMAL', source='REAL', well_id=5, path='/home/ubuntu/lemi_3w/data/dataset_converted_v10101_split-20_source-all_class-all_well-all_train/0/WELL-00005_20170814080000.parquet', timestamp=Timestamp('2017-08-14 08:00:00'), file_size=168078, num_timesteps=10720), EventMetadata(hash_id='62e6139fdf4bd24618fd9f33ca29ecb7ae86238079929a08e830a74131a4aa21', class_type='NORMAL', source='REAL', well_id=1, path='/home/ubuntu/lemi_3w/data/dataset_converted_v10101_split-20_source-all_class-all_well-all_train/0/WELL-00001_20170526150000.parquet', timestamp=Timestamp('2017-05-26 15:00:00'), file_size=508971, num_timesteps=17834), EventMetadata(hash_id='b12833c25608bade885307ac819928cbb47b3db44b2bb676b01a85b6b3e88cbd', class_type='NORMAL', source='REAL', well_id=5, path='/home/ubuntu/lemi_3w/data/dataset_converted_v10101_split-20_source-all_class-all_well-all_train/0/WELL-00005_20170817080000.parquet', timestamp=Timestamp('2017-08-17 08:00:00'), file_size=210200, num_timesteps=10774), EventMetadata(hash_id='6ab3870990a0bd8ef9832771d86dbcb3fa7bc37b44aa5d1cba22f8c79007c11b', class_type='NORMAL', source='REAL', well_id=5, path='/home/ubuntu/lemi_3w/data/dataset_converted_v10101_split-20_source-all_class-all_well-all_train/0/WELL-00005_20170516080038.parquet', timestamp=Timestamp('2017-05-16 08:00:38'), file_size=167362, num_timesteps=10763), EventMetadata(hash_id='3c0cd175e0f1cefcea0b71852f9e5ea5af59b59f410cdca8707bbbc0850ba731', class_type='NORMAL', source='REAL', well_id=5, path='/home/ubuntu/lemi_3w/data/dataset_converted_v10101_split-20_source-all_class-all_well-all_train/0/WELL-00005_20170812170000.parquet', timestamp=Timestamp('2017-08-12 17:00:00'), file_size=185495, num_timesteps=10364), EventMetadata(hash_id='3734454dab6d6ccbde8fe0bcba788a423d2ad0e06f4048c9f9f2656b925b9af3', class_type='NORMAL', source='REAL', well_id=2, path='/home/ubuntu/lemi_3w/data/dataset_converted_v10101_split-20_source-all_class-all_well-all_train/0/WELL-00002_20170212150407.parquet', timestamp=Timestamp('2017-02-12 15:04:07'), file_size=517074, num_timesteps=17754), EventMetadata(hash_id='898245d418544a4d135f756589ccc7eff74190f89450c7533cd54eec0cc2d3b0', class_type='NORMAL', source='REAL', well_id=1, path='/home/ubuntu/lemi_3w/data/dataset_converted_v10101_split-20_source-all_class-all_well-all_train/0/WELL-00001_20170823050000.parquet', timestamp=Timestamp('2017-08-23 05:00:00'), file_size=509670, num_timesteps=17846), EventMetadata(hash_id='f784abe96c36673dad25d5badcf7a129ebe899d985d93cdf673182073e349ecd', class_type='NORMAL', source='REAL', well_id=5, path='/home/ubuntu/lemi_3w/data/dataset_converted_v10101_split-20_source-all_class-all_well-all_train/0/WELL-00005_20170830090000.parquet', timestamp=Timestamp('2017-08-30 09:00:00'), file_size=190406, num_timesteps=10682), EventMetadata(hash_id='951a40b3c80e02df363d541ca8f20c6994f94f6f0cded6e85d1eb3ec2726f3e7', class_type='NORMAL', source='REAL', well_id=1, path='/home/ubuntu/lemi_3w/data/dataset_converted_v10101_split-20_source-all_class-all_well-all_train/0/WELL-00001_20170525140000.parquet', timestamp=Timestamp('2017-05-25 14:00:00'), file_size=490736, num_timesteps=17949), EventMetadata(hash_id='c328bdc1870efddfdbbb87d5e4c43f31bcbdf6913904233c2ab54055fadb24ad', class_type='NORMAL', source='REAL', well_id=2, path='/home/ubuntu/lemi_3w/data/dataset_converted_v10101_split-20_source-all_class-all_well-all_train/0/WELL-00002_20170217000107.parquet', timestamp=Timestamp('2017-02-17 00:01:07'), file_size=522728, num_timesteps=17934), EventMetadata(hash_id='98280dabd49ae26ac224a487fc87f4b5c49d43a1e5ed5cfd11a5eef16b7e0712', class_type='NORMAL', source='REAL', well_id=1, path='/home/ubuntu/lemi_3w/data/dataset_converted_v10101_split-20_source-all_class-all_well-all_train/0/WELL-00001_20170528170000.parquet', timestamp=Timestamp('2017-05-28 17:00:00'), file_size=438318, num_timesteps=17962), EventMetadata(hash_id='5b53cfc11c81325df214faf2fe266ebf49d481308f2832a8d4355289712efbcb', class_type='NORMAL', source='REAL', well_id=6, path='/home/ubuntu/lemi_3w/data/dataset_converted_v10101_split-20_source-all_class-all_well-all_train/0/WELL-00006_20170509050031.parquet', timestamp=Timestamp('2017-05-09 05:00:31'), file_size=348708, num_timesteps=17970), EventMetadata(hash_id='9befd019447c0374cec44d0877c9f9da2fffb929322b7300414f9b9f8fd94051', class_type='NORMAL', source='REAL', well_id=5, path='/home/ubuntu/lemi_3w/data/dataset_converted_v10101_split-20_source-all_class-all_well-all_train/0/WELL-00005_20170814110000.parquet', timestamp=Timestamp('2017-08-14 11:00:00'), file_size=168935, num_timesteps=10346), EventMetadata(hash_id='ef8fedde98274b143291b676504edac063cb752e30e174c19082a5b1dfdf5ff9', class_type='NORMAL', source='REAL', well_id=2, path='/home/ubuntu/lemi_3w/data/dataset_converted_v10101_split-20_source-all_class-all_well-all_train/0/WELL-00002_20170623000305.parquet', timestamp=Timestamp('2017-06-23 00:03:05'), file_size=472254, num_timesteps=17816), EventMetadata(hash_id='b06dd7d18224af622754feeb1b634578337801d484b9585e3e6bed4cfce6cb8e', class_type='NORMAL', source='REAL', well_id=2, path='/home/ubuntu/lemi_3w/data/dataset_converted_v10101_split-20_source-all_class-all_well-all_train/0/WELL-00002_20170624160054.parquet', timestamp=Timestamp('2017-06-24 16:00:54'), file_size=467433, num_timesteps=17947), EventMetadata(hash_id='d79ea0af777885e69864d54ec9b73094dc01666c9b629b70c8842c281e130227', class_type='NORMAL', source='REAL', well_id=8, path='/home/ubuntu/lemi_3w/data/dataset_converted_v10101_split-20_source-all_class-all_well-all_train/0/WELL-00008_20170817150222.parquet', timestamp=Timestamp('2017-08-17 15:02:22'), file_size=202518, num_timesteps=17692), EventMetadata(hash_id='972d9a08aaac7f7167830c6a52a5551232de8e44f897c369fe0992156020d601', class_type='NORMAL', source='REAL', well_id=8, path='/home/ubuntu/lemi_3w/data/dataset_converted_v10101_split-20_source-all_class-all_well-all_train/0/WELL-00008_20170615090234.parquet', timestamp=Timestamp('2017-06-15 09:02:34'), file_size=232092, num_timesteps=17692), EventMetadata(hash_id='3a163ed8388563dc224c7bf9b79544e5d5519e5b8fe224a34dadcb123d30780f', class_type='NORMAL', source='REAL', well_id=3, path='/home/ubuntu/lemi_3w/data/dataset_converted_v10101_split-20_source-all_class-all_well-all_train/0/WELL-00003_20170813080105.parquet', timestamp=Timestamp('2017-08-13 08:01:05'), file_size=246649, num_timesteps=17848), EventMetadata(hash_id='c8dd8b1aeb924b152ab049ea26b70877ebce853dd9374177a292d699cb79aef4', class_type='NORMAL', source='REAL', well_id=1, path='/home/ubuntu/lemi_3w/data/dataset_converted_v10101_split-20_source-all_class-all_well-all_train/0/WELL-00001_20170522010000.parquet', timestamp=Timestamp('2017-05-22 01:00:00'), file_size=464643, num_timesteps=17962), EventMetadata(hash_id='c21d6296a7daa8220bda690185660bfffbc0b744834ab37ccd003e91210dfb8e', class_type='NORMAL', source='REAL', well_id=8, path='/home/ubuntu/lemi_3w/data/dataset_converted_v10101_split-20_source-all_class-all_well-all_train/0/WELL-00008_20170816190321.parquet', timestamp=Timestamp('2017-08-16 19:03:21'), file_size=201126, num_timesteps=17669), EventMetadata(hash_id='6b4266e1daf023cd6620dd34d94c8f8df5bcd4ba28747ba3b8e43f4fadefcf04', class_type='NORMAL', source='REAL', well_id=2, path='/home/ubuntu/lemi_3w/data/dataset_converted_v10101_split-20_source-all_class-all_well-all_train/0/WELL-00002_20170624210211.parquet', timestamp=Timestamp('2017-06-24 21:02:11'), file_size=446438, num_timesteps=17870), EventMetadata(hash_id='ac69b8add08c77ee57d10abc3871b3d68ffd329e345835dd7eca64190979f339', class_type='NORMAL', source='REAL', well_id=1, path='/home/ubuntu/lemi_3w/data/dataset_converted_v10101_split-20_source-all_class-all_well-all_train/0/WELL-00001_20170523220000.parquet', timestamp=Timestamp('2017-05-23 22:00:00'), file_size=486064, num_timesteps=17975), EventMetadata(hash_id='a50530937fe85d2181da0b6d0995138f6d5567a9e5d0eb8dfb6a9eaeac1352c2', class_type='NORMAL', source='REAL', well_id=6, path='/home/ubuntu/lemi_3w/data/dataset_converted_v10101_split-20_source-all_class-all_well-all_train/0/WELL-00006_20170823140000.parquet', timestamp=Timestamp('2017-08-23 14:00:00'), file_size=283039, num_timesteps=17781), EventMetadata(hash_id='e5288923a175508585711d71641e9682a2d61354f678dd3c2218bb6e8701ac25', class_type='NORMAL', source='REAL', well_id=8, path='/home/ubuntu/lemi_3w/data/dataset_converted_v10101_split-20_source-all_class-all_well-all_train/0/WELL-00008_20170818060210.parquet', timestamp=Timestamp('2017-08-18 06:02:10'), file_size=231848, num_timesteps=17680), EventMetadata(hash_id='9ff71f60ae43100c135dfb9436036ae60dffb64dd2d62c7f51d7a092a6407b71', class_type='NORMAL', source='REAL', well_id=5, path='/home/ubuntu/lemi_3w/data/dataset_converted_v10101_split-20_source-all_class-all_well-all_train/0/WELL-00005_20170403190000.parquet', timestamp=Timestamp('2017-04-03 19:00:00'), file_size=278933, num_timesteps=17884), EventMetadata(hash_id='ef3fed7b6e215052c82ff20c0515606bc7fa5f366619cd1c031a3d888c197183', class_type='NORMAL', source='REAL', well_id=8, path='/home/ubuntu/lemi_3w/data/dataset_converted_v10101_split-20_source-all_class-all_well-all_train/0/WELL-00008_20170612040000.parquet', timestamp=Timestamp('2017-06-12 04:00:00'), file_size=210956, num_timesteps=17917), EventMetadata(hash_id='576d637efbd82b37ce6c1d8466f2782214760fc7f1d9b4eeead43f46e734abc7', class_type='NORMAL', source='REAL', well_id=2, path='/home/ubuntu/lemi_3w/data/dataset_converted_v10101_split-20_source-all_class-all_well-all_train/0/WELL-00002_20170808200026.parquet', timestamp=Timestamp('2017-08-08 20:00:26'), file_size=454290, num_timesteps=17975), EventMetadata(hash_id='1ac25ec9f609aab63540690777577543dc6034c72b8d026b15e22a60d559bc59', class_type='NORMAL', source='REAL', well_id=1, path='/home/ubuntu/lemi_3w/data/dataset_converted_v10101_split-20_source-all_class-all_well-all_train/0/WELL-00001_20170521050000.parquet', timestamp=Timestamp('2017-05-21 05:00:00'), file_size=458195, num_timesteps=17872), EventMetadata(hash_id='89dc3b09ecf2f1f6a1141b091ddb991bb20d4ff2d469a60cd02fe848d185720d', class_type='NORMAL', source='REAL', well_id=5, path='/home/ubuntu/lemi_3w/data/dataset_converted_v10101_split-20_source-all_class-all_well-all_train/0/WELL-00005_20170403140000.parquet', timestamp=Timestamp('2017-04-03 14:00:00'), file_size=227339, num_timesteps=17913), EventMetadata(hash_id='60a1fa47ed35c6bef5e4d41b2cf1537ba7bd9552a59a954d3826523c14c28e2d', class_type='NORMAL', source='REAL', well_id=8, path='/home/ubuntu/lemi_3w/data/dataset_converted_v10101_split-20_source-all_class-all_well-all_train/0/WELL-00008_20170611130123.parquet', timestamp=Timestamp('2017-06-11 13:01:23'), file_size=224681, num_timesteps=17680), EventMetadata(hash_id='487fcb72d1cb1fc083bbc9634a01d41c24385d720485e1c2bddea647f3c83ed7', class_type='NORMAL', source='REAL', well_id=2, path='/home/ubuntu/lemi_3w/data/dataset_converted_v10101_split-20_source-all_class-all_well-all_train/0/WELL-00002_20170812190000.parquet', timestamp=Timestamp('2017-08-12 19:00:00'), file_size=407490, num_timesteps=17839), EventMetadata(hash_id='f8589cef4f893cbcbe03a087a3ecff0b6d30dec4bdec379e61ff68b4ab5bc96f', class_type='NORMAL', source='REAL', well_id=5, path='/home/ubuntu/lemi_3w/data/dataset_converted_v10101_split-20_source-all_class-all_well-all_train/0/WELL-00005_20170401220156.parquet', timestamp=Timestamp('2017-04-01 22:01:56'), file_size=223710, num_timesteps=17855), EventMetadata(hash_id='44a490efb5811b4bfafeb980a593f18989a0a33d2e9c703c647b5532d37694fa', class_type='NORMAL', source='REAL', well_id=2, path='/home/ubuntu/lemi_3w/data/dataset_converted_v10101_split-20_source-all_class-all_well-all_train/0/WELL-00002_20170806030000.parquet', timestamp=Timestamp('2017-08-06 03:00:00'), file_size=472736, num_timesteps=17879), EventMetadata(hash_id='84874bcec527408f5c68242a93a9e7d25783d4875336e00949d72677b06256c9', class_type='NORMAL', source='REAL', well_id=1, path='/home/ubuntu/lemi_3w/data/dataset_converted_v10101_split-20_source-all_class-all_well-all_train/0/WELL-00001_20170201020207.parquet', timestamp=Timestamp('2017-02-01 02:02:07'), file_size=470604, num_timesteps=17874), EventMetadata(hash_id='0a8bf8bfd5645dcf7250fbd0a6513c3cd018b7c6ac5f7d55395e2e0f85d970c2', class_type='NORMAL', source='REAL', well_id=2, path='/home/ubuntu/lemi_3w/data/dataset_converted_v10101_split-20_source-all_class-all_well-all_train/0/WELL-00002_20170808100000.parquet', timestamp=Timestamp('2017-08-08 10:00:00'), file_size=449151, num_timesteps=17852), EventMetadata(hash_id='c1903f2cd4c3a0d23de3302323378c5cd8ac65a99f82352f39d9d71faefb74bb', class_type='NORMAL', source='REAL', well_id=8, path='/home/ubuntu/lemi_3w/data/dataset_converted_v10101_split-20_source-all_class-all_well-all_train/0/WELL-00008_20170615040123.parquet', timestamp=Timestamp('2017-06-15 04:01:23'), file_size=229192, num_timesteps=17846), EventMetadata(hash_id='68c1228e4aa71e52d3388228a33c26cd05ff6dc3675d866d81812853c3e0e3a0', class_type='NORMAL', source='REAL', well_id=2, path='/home/ubuntu/lemi_3w/data/dataset_converted_v10101_split-20_source-all_class-all_well-all_train/0/WELL-00002_20170404080045.parquet', timestamp=Timestamp('2017-04-04 08:00:45'), file_size=466639, num_timesteps=17956), EventMetadata(hash_id='28a0223d58bc1d0af88a0b873248fcbb97811adc3968e13a0496929f97bba833', class_type='NORMAL', source='REAL', well_id=2, path='/home/ubuntu/lemi_3w/data/dataset_converted_v10101_split-20_source-all_class-all_well-all_train/0/WELL-00002_20170808150000.parquet', timestamp=Timestamp('2017-08-08 15:00:00'), file_size=478758, num_timesteps=17974), EventMetadata(hash_id='4647a329c1311aee4a487b8e1e77929743b164bfc766e3977c37184206edb081', class_type='NORMAL', source='REAL', well_id=6, path='/home/ubuntu/lemi_3w/data/dataset_converted_v10101_split-20_source-all_class-all_well-all_train/0/WELL-00006_20170507180103.parquet', timestamp=Timestamp('2017-05-07 18:01:03'), file_size=371091, num_timesteps=17938), EventMetadata(hash_id='6677380aa1dc2ee587dce7b9d1a003d2e4f9cf77c873dabe808e1f270132953e', class_type='NORMAL', source='REAL', well_id=8, path='/home/ubuntu/lemi_3w/data/dataset_converted_v10101_split-20_source-all_class-all_well-all_train/0/WELL-00008_20170630180321.parquet', timestamp=Timestamp('2017-06-30 18:03:21'), file_size=238435, num_timesteps=17526), EventMetadata(hash_id='d61ebf0b044922dcff93f2ffe425133b2fbd1f0f340d7f9ed95501a9156a3252', class_type='NORMAL', source='REAL', well_id=3, path='/home/ubuntu/lemi_3w/data/dataset_converted_v10101_split-20_source-all_class-all_well-all_train/0/WELL-00003_20170813130131.parquet', timestamp=Timestamp('2017-08-13 13:01:31'), file_size=233663, num_timesteps=17796), EventMetadata(hash_id='9683135d1d852c6c49bd4eeb2f98f9132b3d02dc3e126468df64c60abb530b10', class_type='NORMAL', source='REAL', well_id=8, path='/home/ubuntu/lemi_3w/data/dataset_converted_v10101_split-20_source-all_class-all_well-all_train/0/WELL-00008_20170615140310.parquet', timestamp=Timestamp('2017-06-15 14:03:10'), file_size=220093, num_timesteps=17597), EventMetadata(hash_id='c7b3489b94746d90e427fdef1045c9f129bee47130ed8d0046ae7d8b0988271e', class_type='NORMAL', source='REAL', well_id=5, path='/home/ubuntu/lemi_3w/data/dataset_converted_v10101_split-20_source-all_class-all_well-all_train/0/WELL-00005_20170910050000.parquet', timestamp=Timestamp('2017-09-10 05:00:00'), file_size=97482, num_timesteps=7132), EventMetadata(hash_id='4ade63037340e218ea2df876a2d4c9bedbcba9159d10897ee7fec829a7a76afa', class_type='NORMAL', source='REAL', well_id=6, path='/home/ubuntu/lemi_3w/data/dataset_converted_v10101_split-20_source-all_class-all_well-all_train/0/WELL-00006_20170509100135.parquet', timestamp=Timestamp('2017-05-09 10:01:35'), file_size=362070, num_timesteps=17906), EventMetadata(hash_id='53f0ecfa3dcaf3b3e852acfe6908e3b3d51069c938285296d422758ec2753d79', class_type='NORMAL', source='REAL', well_id=2, path='/home/ubuntu/lemi_3w/data/dataset_converted_v10101_split-20_source-all_class-all_well-all_train/0/WELL-00002_20170213110344.parquet', timestamp=Timestamp('2017-02-13 11:03:44'), file_size=492969, num_timesteps=17777), EventMetadata(hash_id='037e826a64a28467a5ebd82a891cd17631e67c110afc8433e56eafd7f8d908ca', class_type='NORMAL', source='REAL', well_id=6, path='/home/ubuntu/lemi_3w/data/dataset_converted_v10101_split-20_source-all_class-all_well-all_train/0/WELL-00006_20170222150000.parquet', timestamp=Timestamp('2017-02-22 15:00:00'), file_size=259414, num_timesteps=17962), EventMetadata(hash_id='0380da5fd6e4e9b4712ecc1b099ee59a336a1dc7f239ccd9f71ba113bbbb86b6', class_type='NORMAL', source='REAL', well_id=3, path='/home/ubuntu/lemi_3w/data/dataset_converted_v10101_split-20_source-all_class-all_well-all_train/0/WELL-00003_20170514060000.parquet', timestamp=Timestamp('2017-05-14 06:00:00'), file_size=241406, num_timesteps=17566), EventMetadata(hash_id='5fcd75bcd0b6fcb3cc833f5a04dd38cb4c44591fc9b888a509dfc521ed7f3bbf', class_type='NORMAL', source='REAL', well_id=2, path='/home/ubuntu/lemi_3w/data/dataset_converted_v10101_split-20_source-all_class-all_well-all_train/0/WELL-00002_20170213160107.parquet', timestamp=Timestamp('2017-02-13 16:01:07'), file_size=547358, num_timesteps=17934), EventMetadata(hash_id='22743c3bd346f39c8bada3dafaf312f7ce8fd5fbb7e4bc22c778b6bc0338ee69', class_type='NORMAL', source='REAL', well_id=3, path='/home/ubuntu/lemi_3w/data/dataset_converted_v10101_split-20_source-all_class-all_well-all_train/0/WELL-00003_20170514010000.parquet', timestamp=Timestamp('2017-05-14 01:00:00'), file_size=236393, num_timesteps=17932)]\n",
      "INFO:absl:Processing 119 events of class type 0.\n"
     ]
    },
    {
     "data": {
      "application/vnd.jupyter.widget-view+json": {
       "model_id": "bbf32af717c94f2290bc27e86f6e5046",
       "version_major": 2,
       "version_minor": 0
      },
      "text/plain": [
       "DONE:   0%|          | 0/119 [00:00<?, ?it/s]"
      ]
     },
     "metadata": {},
     "output_type": "display_data"
    },
    {
     "name": "stderr",
     "output_type": "stream",
     "text": [
      "INFO:absl:Processing 69 events of class type 4.\n"
     ]
    },
    {
     "data": {
      "application/vnd.jupyter.widget-view+json": {
       "model_id": "e4665e0807bd4fefa7272288ffeebec5",
       "version_major": 2,
       "version_minor": 0
      },
      "text/plain": [
       "DONE:   0%|          | 0/69 [00:00<?, ?it/s]"
      ]
     },
     "metadata": {},
     "output_type": "display_data"
    },
    {
     "name": "stderr",
     "output_type": "stream",
     "text": [
      "INFO:absl:Processing 90 events of class type 5.\n"
     ]
    },
    {
     "data": {
      "application/vnd.jupyter.widget-view+json": {
       "model_id": "fd765a898cea4371a7b262cfd212c322",
       "version_major": 2,
       "version_minor": 0
      },
      "text/plain": [
       "DONE:   0%|          | 0/90 [00:00<?, ?it/s]"
      ]
     },
     "metadata": {},
     "output_type": "display_data"
    },
    {
     "name": "stderr",
     "output_type": "stream",
     "text": [
      "INFO:absl:Processing 26 events of class type 1.\n"
     ]
    },
    {
     "data": {
      "application/vnd.jupyter.widget-view+json": {
       "model_id": "6a01750c98c34f949a4189e2a9860e7e",
       "version_major": 2,
       "version_minor": 0
      },
      "text/plain": [
       "DONE:   0%|          | 0/26 [00:00<?, ?it/s]"
      ]
     },
     "metadata": {},
     "output_type": "display_data"
    },
    {
     "name": "stderr",
     "output_type": "stream",
     "text": [
      "INFO:absl:Processing 3 events of class type 7.\n"
     ]
    },
    {
     "data": {
      "application/vnd.jupyter.widget-view+json": {
       "model_id": "9b4219882e264cb5b5dabc58da2980f8",
       "version_major": 2,
       "version_minor": 0
      },
      "text/plain": [
       "DONE:   0%|          | 0/3 [00:00<?, ?it/s]"
      ]
     },
     "metadata": {},
     "output_type": "display_data"
    },
    {
     "name": "stderr",
     "output_type": "stream",
     "text": [
      "INFO:absl:Processing 44 events of class type 6.\n"
     ]
    },
    {
     "data": {
      "application/vnd.jupyter.widget-view+json": {
       "model_id": "cb4b76a9602c4b4bb05c6a418f258860",
       "version_major": 2,
       "version_minor": 0
      },
      "text/plain": [
       "DONE:   0%|          | 0/44 [00:00<?, ?it/s]"
      ]
     },
     "metadata": {},
     "output_type": "display_data"
    },
    {
     "name": "stderr",
     "output_type": "stream",
     "text": [
      "INFO:absl:Processing 16 events of class type 8.\n"
     ]
    },
    {
     "data": {
      "application/vnd.jupyter.widget-view+json": {
       "model_id": "19eed1b57ec2455daeffccd67d94d6ac",
       "version_major": 2,
       "version_minor": 0
      },
      "text/plain": [
       "DONE:   0%|          | 0/16 [00:00<?, ?it/s]"
      ]
     },
     "metadata": {},
     "output_type": "display_data"
    },
    {
     "name": "stderr",
     "output_type": "stream",
     "text": [
      "INFO:absl:Processing 7 events of class type 2.\n"
     ]
    },
    {
     "data": {
      "application/vnd.jupyter.widget-view+json": {
       "model_id": "05f9d839cc62420c8106c60f546376d7",
       "version_major": 2,
       "version_minor": 0
      },
      "text/plain": [
       "DONE:   0%|          | 0/7 [00:00<?, ?it/s]"
      ]
     },
     "metadata": {},
     "output_type": "display_data"
    },
    {
     "name": "stderr",
     "output_type": "stream",
     "text": [
      "INFO:absl:Processing 22 events of class type 3.\n"
     ]
    },
    {
     "data": {
      "application/vnd.jupyter.widget-view+json": {
       "model_id": "99517f1390a84a17918823b326fba144",
       "version_major": 2,
       "version_minor": 0
      },
      "text/plain": [
       "DONE:   0%|          | 0/22 [00:00<?, ?it/s]"
      ]
     },
     "metadata": {},
     "output_type": "display_data"
    },
    {
     "name": "stderr",
     "output_type": "stream",
     "text": [
      "INFO:absl:Found 9. The first one is [EventMetadata(hash_id='42afe910143a182e986ae8692f7dfdc5ec7f5874ce368c4524b5ce67782e74f6', class_type='NORMAL', source='REAL', well_id=8, path='/home/ubuntu/lemi_3w/data/dataset_converted_v10101_split-20_source-all_class-all_well-all_test/0/WELL-00008_20170701140135.parquet', timestamp=Timestamp('2017-07-01 14:01:35'), file_size=251880, num_timesteps=17799), EventMetadata(hash_id='4f339b10715248cb64ced140489482fbd06d7df82b5cb0f789b668f7cc04cc12', class_type='NORMAL', source='REAL', well_id=8, path='/home/ubuntu/lemi_3w/data/dataset_converted_v10101_split-20_source-all_class-all_well-all_test/0/WELL-00008_20170914020321.parquet', timestamp=Timestamp('2017-09-14 02:03:21'), file_size=240749, num_timesteps=17704), EventMetadata(hash_id='982b4a6a524b424a59f775ccaf0e7e05e86124805832f4865896e2f76403b937', class_type='NORMAL', source='REAL', well_id=1, path='/home/ubuntu/lemi_3w/data/dataset_converted_v10101_split-20_source-all_class-all_well-all_test/0/WELL-00001_20170528020000.parquet', timestamp=Timestamp('2017-05-28 02:00:00'), file_size=455756, num_timesteps=17936), EventMetadata(hash_id='49ab5116939d3a5c2d9c1bf97805c2794804dd90f203f5aa33a10f51464c576f', class_type='NORMAL', source='REAL', well_id=5, path='/home/ubuntu/lemi_3w/data/dataset_converted_v10101_split-20_source-all_class-all_well-all_test/0/WELL-00005_20170817020000.parquet', timestamp=Timestamp('2017-08-17 02:00:00'), file_size=174605, num_timesteps=10747), EventMetadata(hash_id='4dc9110411da3faea9375353ce15aec9aa30403eda8ea86458e29fa8a0ca15a6', class_type='NORMAL', source='REAL', well_id=4, path='/home/ubuntu/lemi_3w/data/dataset_converted_v10101_split-20_source-all_class-all_well-all_test/0/WELL-00004_20140807140038.parquet', timestamp=Timestamp('2014-08-07 14:00:38'), file_size=143211, num_timesteps=7163), EventMetadata(hash_id='d537387679bdc94d673fee175ee9f9dfc6d85491a55e470ea3adc187269a5635', class_type='NORMAL', source='REAL', well_id=5, path='/home/ubuntu/lemi_3w/data/dataset_converted_v10101_split-20_source-all_class-all_well-all_test/0/WELL-00005_20170814050000.parquet', timestamp=Timestamp('2017-08-14 05:00:00'), file_size=158008, num_timesteps=10685), EventMetadata(hash_id='e93d950b819f108b9b6ce01fe77b2af978290266b86ad410a9b22530bde1b952', class_type='NORMAL', source='REAL', well_id=2, path='/home/ubuntu/lemi_3w/data/dataset_converted_v10101_split-20_source-all_class-all_well-all_test/0/WELL-00002_20170626130032.parquet', timestamp=Timestamp('2017-06-26 13:00:32'), file_size=507994, num_timesteps=17969), EventMetadata(hash_id='06220eeaad26f6f3dff281eb34fd6fe895d298daf5f451eec35cba689caddfd6', class_type='NORMAL', source='REAL', well_id=8, path='/home/ubuntu/lemi_3w/data/dataset_converted_v10101_split-20_source-all_class-all_well-all_test/0/WELL-00008_20170611180123.parquet', timestamp=Timestamp('2017-06-11 18:01:23'), file_size=201971, num_timesteps=17775), EventMetadata(hash_id='09db5de4143b43bd6b9f7d78c03e218388c53baa6345946e0951de5f599b6039', class_type='NORMAL', source='REAL', well_id=8, path='/home/ubuntu/lemi_3w/data/dataset_converted_v10101_split-20_source-all_class-all_well-all_test/0/WELL-00008_20170702200135.parquet', timestamp=Timestamp('2017-07-02 20:01:35'), file_size=255563, num_timesteps=17680), EventMetadata(hash_id='0d87ffb14bdda1607c0b382e37e03947756b0e81baedbf40cb6f11fa04b75cc8', class_type='NORMAL', source='REAL', well_id=6, path='/home/ubuntu/lemi_3w/data/dataset_converted_v10101_split-20_source-all_class-all_well-all_test/0/WELL-00006_20170223060000.parquet', timestamp=Timestamp('2017-02-23 06:00:00'), file_size=345088, num_timesteps=17936), EventMetadata(hash_id='ceb93e8adee43e4a754ffce190d10d8b0d06e534c9ee54688834d32c2e0bb8a4', class_type='NORMAL', source='REAL', well_id=1, path='/home/ubuntu/lemi_3w/data/dataset_converted_v10101_split-20_source-all_class-all_well-all_test/0/WELL-00001_20170218110218.parquet', timestamp=Timestamp('2017-02-18 11:02:18'), file_size=485126, num_timesteps=17863), EventMetadata(hash_id='629f3c5861f905101d8f1be8a2c4925122f421b8638c93716d3d68f83c49d1dc', class_type='NORMAL', source='REAL', well_id=2, path='/home/ubuntu/lemi_3w/data/dataset_converted_v10101_split-20_source-all_class-all_well-all_test/0/WELL-00002_20170617110221.parquet', timestamp=Timestamp('2017-06-17 11:02:21'), file_size=466985, num_timesteps=17860), EventMetadata(hash_id='a7374d8e6051decebdc81ba9dd926c1e0e4eb3127e45b594b98d65a26d1e36cb', class_type='NORMAL', source='REAL', well_id=2, path='/home/ubuntu/lemi_3w/data/dataset_converted_v10101_split-20_source-all_class-all_well-all_test/0/WELL-00002_20170810070000.parquet', timestamp=Timestamp('2017-08-10 07:00:00'), file_size=455455, num_timesteps=17933), EventMetadata(hash_id='e9b1e2742317a606beb75f1ac8819feccc06e5057f8cf6048af9a43fb704ba4e', class_type='NORMAL', source='REAL', well_id=5, path='/home/ubuntu/lemi_3w/data/dataset_converted_v10101_split-20_source-all_class-all_well-all_test/0/WELL-00005_20170401120141.parquet', timestamp=Timestamp('2017-04-01 12:01:41'), file_size=242853, num_timesteps=17870), EventMetadata(hash_id='2b197ccbe4ac10c3d92b51bd07e71c9beab3217873648526d9324009d888f078', class_type='NORMAL', source='REAL', well_id=1, path='/home/ubuntu/lemi_3w/data/dataset_converted_v10101_split-20_source-all_class-all_well-all_test/0/WELL-00001_20170826180000.parquet', timestamp=Timestamp('2017-08-26 18:00:00'), file_size=435749, num_timesteps=17948), EventMetadata(hash_id='692baf1820f618cb08313c1c6a52c7065bae39c023ac8caffe289afb2582ad47', class_type='NORMAL', source='REAL', well_id=8, path='/home/ubuntu/lemi_3w/data/dataset_converted_v10101_split-20_source-all_class-all_well-all_test/0/WELL-00008_20170615190111.parquet', timestamp=Timestamp('2017-06-15 19:01:11'), file_size=204494, num_timesteps=17716), EventMetadata(hash_id='ce9a9fcc7757d8fef3d087e2f9bb00248281cccc03a51af5b332648cb446b41c', class_type='NORMAL', source='REAL', well_id=5, path='/home/ubuntu/lemi_3w/data/dataset_converted_v10101_split-20_source-all_class-all_well-all_test/0/WELL-00005_20170816050000.parquet', timestamp=Timestamp('2017-08-16 05:00:00'), file_size=215561, num_timesteps=10783), EventMetadata(hash_id='9f4108ff1a133e8242195b9e0f9b7e5ae72275076e4919d22fab6059da251edc', class_type='NORMAL', source='REAL', well_id=2, path='/home/ubuntu/lemi_3w/data/dataset_converted_v10101_split-20_source-all_class-all_well-all_test/0/WELL-00002_20170209120022.parquet', timestamp=Timestamp('2017-02-09 12:00:22'), file_size=457398, num_timesteps=17979), EventMetadata(hash_id='b1f4445a278a639cad39612247d8a23d3213fc66414f370bede519e07a910db0', class_type='NORMAL', source='REAL', well_id=2, path='/home/ubuntu/lemi_3w/data/dataset_converted_v10101_split-20_source-all_class-all_well-all_test/0/WELL-00002_20170213210214.parquet', timestamp=Timestamp('2017-02-13 21:02:14'), file_size=483503, num_timesteps=17867), EventMetadata(hash_id='0ae0d27e8a8b3899da7ba524816ac68017aec7aabcd399619c2d6cf19b71b9d6', class_type='NORMAL', source='REAL', well_id=6, path='/home/ubuntu/lemi_3w/data/dataset_converted_v10101_split-20_source-all_class-all_well-all_test/0/WELL-00006_20170508190053.parquet', timestamp=Timestamp('2017-05-08 19:00:53'), file_size=300881, num_timesteps=17948), EventMetadata(hash_id='0a98c4d220f560365908d5272ee5b23c12773834e258569d84ab8dd890e1bee8', class_type='NORMAL', source='REAL', well_id=1, path='/home/ubuntu/lemi_3w/data/dataset_converted_v10101_split-20_source-all_class-all_well-all_test/0/WELL-00001_20170826080000.parquet', timestamp=Timestamp('2017-08-26 08:00:00'), file_size=517218, num_timesteps=17922), EventMetadata(hash_id='e642ac8da2b3443ac92b5dfecb78db19d1b6076dfa48905db8b7a8432ef22b70', class_type='NORMAL', source='REAL', well_id=2, path='/home/ubuntu/lemi_3w/data/dataset_converted_v10101_split-20_source-all_class-all_well-all_test/0/WELL-00002_20131214160127.parquet', timestamp=Timestamp('2013-12-14 16:01:27'), file_size=157930, num_timesteps=7114), EventMetadata(hash_id='f467f41415749df13bcbe79d66adf75112620dce6b34ba00a8b5e9ec27fcfe1d', class_type='NORMAL', source='REAL', well_id=2, path='/home/ubuntu/lemi_3w/data/dataset_converted_v10101_split-20_source-all_class-all_well-all_test/0/WELL-00002_20170804210000.parquet', timestamp=Timestamp('2017-08-04 21:00:00'), file_size=466354, num_timesteps=17906), EventMetadata(hash_id='7239666f15bdc31ffb34555206d4bf0a32e1bd912289659bd1c09f38d4d3e8e4', class_type='NORMAL', source='REAL', well_id=1, path='/home/ubuntu/lemi_3w/data/dataset_converted_v10101_split-20_source-all_class-all_well-all_test/0/WELL-00001_20170526200000.parquet', timestamp=Timestamp('2017-05-26 20:00:00'), file_size=531753, num_timesteps=17924), EventMetadata(hash_id='a50ede5eb18e796cdfdd670099304044096533bb0da232fc872e9b38afd1ffe9', class_type='NORMAL', source='REAL', well_id=8, path='/home/ubuntu/lemi_3w/data/dataset_converted_v10101_split-20_source-all_class-all_well-all_test/0/WELL-00008_20170629220321.parquet', timestamp=Timestamp('2017-06-29 22:03:21'), file_size=230995, num_timesteps=17574), EventMetadata(hash_id='c59e0f4296203fe6a3eff8d06fbaeea77ccbfea41f4dd2df8f66fbc7ce92f450', class_type='NORMAL', source='REAL', well_id=2, path='/home/ubuntu/lemi_3w/data/dataset_converted_v10101_split-20_source-all_class-all_well-all_test/0/WELL-00002_20170215180118.parquet', timestamp=Timestamp('2017-02-15 18:01:18'), file_size=495307, num_timesteps=17923), EventMetadata(hash_id='b30ca61eeca8f93efee56d5fb2d7d1ec1622b991354d6e9327d8740de9d35b39', class_type='NORMAL', source='REAL', well_id=6, path='/home/ubuntu/lemi_3w/data/dataset_converted_v10101_split-20_source-all_class-all_well-all_test/0/WELL-00006_20170817180000.parquet', timestamp=Timestamp('2017-08-17 18:00:00'), file_size=403108, num_timesteps=17936), EventMetadata(hash_id='c2b338aacedfc2793bbead5e8422ddfa1af503d424c4303e2d9d44ec498586e5', class_type='NORMAL', source='REAL', well_id=1, path='/home/ubuntu/lemi_3w/data/dataset_converted_v10101_split-20_source-all_class-all_well-all_test/0/WELL-00001_20170526050000.parquet', timestamp=Timestamp('2017-05-26 05:00:00'), file_size=479437, num_timesteps=17847), EventMetadata(hash_id='226c624f3467bc29a3e694012a16570a7b47dd78b76f517ce6988a62cad0dcc5', class_type='NORMAL', source='REAL', well_id=6, path='/home/ubuntu/lemi_3w/data/dataset_converted_v10101_split-20_source-all_class-all_well-all_test/0/WELL-00006_20170823040000.parquet', timestamp=Timestamp('2017-08-23 04:00:00'), file_size=285910, num_timesteps=17975), EventMetadata(hash_id='374ff18b86cfd4b335856e8dc03cac7608ad6466969408a103b18924ef1dd040', class_type='NORMAL', source='REAL', well_id=2, path='/home/ubuntu/lemi_3w/data/dataset_converted_v10101_split-20_source-all_class-all_well-all_test/0/WELL-00002_20170615190127.parquet', timestamp=Timestamp('2017-06-15 19:01:27'), file_size=509839, num_timesteps=17914), EventMetadata(hash_id='2273131913fc601ce7d0ff64f5dfb4a55e1b1bc7e270c9903461cf1ad7e4c119', class_type='NORMAL', source='REAL', well_id=2, path='/home/ubuntu/lemi_3w/data/dataset_converted_v10101_split-20_source-all_class-all_well-all_test/0/WELL-00002_20170619180149.parquet', timestamp=Timestamp('2017-06-19 18:01:49'), file_size=497628, num_timesteps=17892), EventMetadata(hash_id='f28d308597af5802f948fb01c52bd9371d0262b39cc3c6a51f957c5581e4da5a', class_type='NORMAL', source='REAL', well_id=2, path='/home/ubuntu/lemi_3w/data/dataset_converted_v10101_split-20_source-all_class-all_well-all_test/0/WELL-00002_20170615140021.parquet', timestamp=Timestamp('2017-06-15 14:00:21'), file_size=525709, num_timesteps=17980), EventMetadata(hash_id='157d64b71a1681f2ba37d6864deca8f64cc80464e17e37a85764bfd23b07cb82', class_type='NORMAL', source='REAL', well_id=2, path='/home/ubuntu/lemi_3w/data/dataset_converted_v10101_split-20_source-all_class-all_well-all_test/0/WELL-00002_20170616050043.parquet', timestamp=Timestamp('2017-06-16 05:00:43'), file_size=472902, num_timesteps=17958), EventMetadata(hash_id='3f5cbbf21d7b26c7e406209f5bc673d4bdd3321f709de589b8e0bdb59bfe461b', class_type='NORMAL', source='REAL', well_id=2, path='/home/ubuntu/lemi_3w/data/dataset_converted_v10101_split-20_source-all_class-all_well-all_test/0/WELL-00002_20170211140152.parquet', timestamp=Timestamp('2017-02-11 14:01:52'), file_size=472067, num_timesteps=17889), EventMetadata(hash_id='893cc0fc3fba88ac329e17e25201687f59e5fa7393f55af4bc0ab3ae5e32b5e7', class_type='NORMAL', source='REAL', well_id=6, path='/home/ubuntu/lemi_3w/data/dataset_converted_v10101_split-20_source-all_class-all_well-all_test/0/WELL-00006_20170224020000.parquet', timestamp=Timestamp('2017-02-24 02:00:00'), file_size=211964, num_timesteps=17833), EventMetadata(hash_id='bf02665d594f076222dbfca4b3cacfe562d340fa0566a5a6c5f8cc6bc4bbb66e', class_type='NORMAL', source='REAL', well_id=2, path='/home/ubuntu/lemi_3w/data/dataset_converted_v10101_split-20_source-all_class-all_well-all_test/0/WELL-00002_20170212000141.parquet', timestamp=Timestamp('2017-02-12 00:01:41'), file_size=501778, num_timesteps=17900), EventMetadata(hash_id='3a73fe1750c97afa501f5f51e3e12a8bf86a7b7ffe736f731cc43dc840dae9ed', class_type='NORMAL', source='REAL', well_id=2, path='/home/ubuntu/lemi_3w/data/dataset_converted_v10101_split-20_source-all_class-all_well-all_test/0/WELL-00002_20170613020022.parquet', timestamp=Timestamp('2017-06-13 02:00:22'), file_size=471746, num_timesteps=17921), EventMetadata(hash_id='e6b3475ac27916e826acde1207abae6178fb812dc20854b3b5695d7f3f06b9db', class_type='NORMAL', source='REAL', well_id=6, path='/home/ubuntu/lemi_3w/data/dataset_converted_v10101_split-20_source-all_class-all_well-all_test/0/WELL-00006_20170825060135.parquet', timestamp=Timestamp('2017-08-25 06:01:35'), file_size=382222, num_timesteps=17906), EventMetadata(hash_id='0bb1a53104908a09754c84d1c2fe0362b51df4d0f04ce5c35c2de27073c3fb48', class_type='NORMAL', source='REAL', well_id=6, path='/home/ubuntu/lemi_3w/data/dataset_converted_v10101_split-20_source-all_class-all_well-all_test/0/WELL-00006_20170825160135.parquet', timestamp=Timestamp('2017-08-25 16:01:35'), file_size=373073, num_timesteps=17906), EventMetadata(hash_id='d4fe8ab8aa83e5f2721085c5108d5e400469d9ab219757ff08573bcf6ac52e42', class_type='NORMAL', source='REAL', well_id=2, path='/home/ubuntu/lemi_3w/data/dataset_converted_v10101_split-20_source-all_class-all_well-all_test/0/WELL-00002_20170617220127.parquet', timestamp=Timestamp('2017-06-17 22:01:27'), file_size=413265, num_timesteps=14314), EventMetadata(hash_id='228e55539d002c2a1df385e74a148b748570e541ff846ce1c740271f6c475530', class_type='NORMAL', source='REAL', well_id=4, path='/home/ubuntu/lemi_3w/data/dataset_converted_v10101_split-20_source-all_class-all_well-all_test/0/WELL-00004_20140807080055.parquet', timestamp=Timestamp('2014-08-07 08:00:55'), file_size=151525, num_timesteps=7146), EventMetadata(hash_id='dcb0ebd198ae272fd0f9c246680a215cd7cfba022a26f0ecfbfba8dc1459ae83', class_type='NORMAL', source='REAL', well_id=5, path='/home/ubuntu/lemi_3w/data/dataset_converted_v10101_split-20_source-all_class-all_well-all_test/0/WELL-00005_20170402030029.parquet', timestamp=Timestamp('2017-04-02 03:00:29'), file_size=221012, num_timesteps=17870), EventMetadata(hash_id='9dc2684c35d566ec9971fe99baf58435c73daaca3a504fdf7d7de1c4ef7c8455', class_type='NORMAL', source='REAL', well_id=2, path='/home/ubuntu/lemi_3w/data/dataset_converted_v10101_split-20_source-all_class-all_well-all_test/0/WELL-00002_20170618170211.parquet', timestamp=Timestamp('2017-06-18 17:02:11'), file_size=485403, num_timesteps=17870), EventMetadata(hash_id='0c5a188ea2e5761963f1aeed07b3d5d0b1a4cbf26e47877ac4245cb213ba9573', class_type='NORMAL', source='REAL', well_id=2, path='/home/ubuntu/lemi_3w/data/dataset_converted_v10101_split-20_source-all_class-all_well-all_test/0/WELL-00002_20170211090129.parquet', timestamp=Timestamp('2017-02-11 09:01:29'), file_size=534730, num_timesteps=17912), EventMetadata(hash_id='6a65bd1bb8b3ed9dbb88f91d511b570186e018e9764c59fe39aa26d257520ad8', class_type='NORMAL', source='REAL', well_id=2, path='/home/ubuntu/lemi_3w/data/dataset_converted_v10101_split-20_source-all_class-all_well-all_test/0/WELL-00002_20170622190316.parquet', timestamp=Timestamp('2017-06-22 19:03:16'), file_size=448566, num_timesteps=17805), EventMetadata(hash_id='caf0ce65b7b19e0b873bf58caf95f28e82d6024aa61cbf2e361046a1c174d03f', class_type='NORMAL', source='REAL', well_id=6, path='/home/ubuntu/lemi_3w/data/dataset_converted_v10101_split-20_source-all_class-all_well-all_test/0/WELL-00006_20170509150042.parquet', timestamp=Timestamp('2017-05-09 15:00:42'), file_size=351981, num_timesteps=17959), EventMetadata(hash_id='0401a22418f34c6a4b88cccc88128bc73a221eecb7c838ac11067a55d7dd3b9e', class_type='NORMAL', source='REAL', well_id=2, path='/home/ubuntu/lemi_3w/data/dataset_converted_v10101_split-20_source-all_class-all_well-all_test/0/WELL-00002_20170310130321.parquet', timestamp=Timestamp('2017-03-10 13:03:21'), file_size=446330, num_timesteps=17800), EventMetadata(hash_id='b411211113b21d7efc7fddbbe033d66fb200761349f023076016aec4e0d59956', class_type='NORMAL', source='REAL', well_id=2, path='/home/ubuntu/lemi_3w/data/dataset_converted_v10101_split-20_source-all_class-all_well-all_test/0/WELL-00002_20131214200030.parquet', timestamp=Timestamp('2013-12-14 20:00:30'), file_size=149372, num_timesteps=7171), EventMetadata(hash_id='71892a1b7f2871ac1ef0a29bc79425ab1d7108679445ae4d116fb4a38663d894', class_type='NORMAL', source='REAL', well_id=2, path='/home/ubuntu/lemi_3w/data/dataset_converted_v10101_split-20_source-all_class-all_well-all_test/0/WELL-00002_20170622090043.parquet', timestamp=Timestamp('2017-06-22 09:00:43'), file_size=462510, num_timesteps=17958), EventMetadata(hash_id='5239049e0f9227ffcca8fb7d93503ac481cb690bbd5e35c2a005254038120300', class_type='NORMAL', source='REAL', well_id=2, path='/home/ubuntu/lemi_3w/data/dataset_converted_v10101_split-20_source-all_class-all_well-all_test/0/WELL-00002_20170209220033.parquet', timestamp=Timestamp('2017-02-09 22:00:33'), file_size=517042, num_timesteps=17968), EventMetadata(hash_id='64920936399857ef503be244f28b5ec50ef10e47becd8fba8f1fe8939944c1bb', class_type='NORMAL', source='REAL', well_id=6, path='/home/ubuntu/lemi_3w/data/dataset_converted_v10101_split-20_source-all_class-all_well-all_test/0/WELL-00006_20170815110000.parquet', timestamp=Timestamp('2017-08-15 11:00:00'), file_size=390496, num_timesteps=17910), EventMetadata(hash_id='97acafa20695b6399b34d7ce114b3338e8f8a54e2001f38d158a5d6de00d2735', class_type='NORMAL', source='REAL', well_id=2, path='/home/ubuntu/lemi_3w/data/dataset_converted_v10101_split-20_source-all_class-all_well-all_test/0/WELL-00002_20170811230000.parquet', timestamp=Timestamp('2017-08-11 23:00:00'), file_size=445105, num_timesteps=17906), EventMetadata(hash_id='5c8dd52af14ab3c38f2681f6ea9cb850304317f8347def71a2620b90459211a5', class_type='NORMAL', source='REAL', well_id=1, path='/home/ubuntu/lemi_3w/data/dataset_converted_v10101_split-20_source-all_class-all_well-all_test/0/WELL-00001_20170824210000.parquet', timestamp=Timestamp('2017-08-24 21:00:00'), file_size=513635, num_timesteps=17974), EventMetadata(hash_id='f382a1c6866d8fb037b116ba2a710dda8a0142a1a1c89209e4e90a2da188dc6c', class_type='NORMAL', source='REAL', well_id=2, path='/home/ubuntu/lemi_3w/data/dataset_converted_v10101_split-20_source-all_class-all_well-all_test/0/WELL-00002_20170624110021.parquet', timestamp=Timestamp('2017-06-24 11:00:21'), file_size=508736, num_timesteps=17980), EventMetadata(hash_id='6e662a96209b382868855797658259f06598b8fcaf64f4ef0e92ce33d54ae77c', class_type='NORMAL', source='REAL', well_id=6, path='/home/ubuntu/lemi_3w/data/dataset_converted_v10101_split-20_source-all_class-all_well-all_test/0/WELL-00006_20170506070114.parquet', timestamp=Timestamp('2017-05-06 07:01:14'), file_size=457390, num_timesteps=17927), EventMetadata(hash_id='a7d6826249c303dce9ff9c04c7dea4befd8e3f2a65eb6088ba12608860da882f', class_type='NORMAL', source='REAL', well_id=2, path='/home/ubuntu/lemi_3w/data/dataset_converted_v10101_split-20_source-all_class-all_well-all_test/0/WELL-00002_20170811130000.parquet', timestamp=Timestamp('2017-08-11 13:00:00'), file_size=431158, num_timesteps=17475), EventMetadata(hash_id='e17954100b5a973bea2f1309b8822df2c06319d0041ed75f5370c3de89d1df79', class_type='NORMAL', source='REAL', well_id=2, path='/home/ubuntu/lemi_3w/data/dataset_converted_v10101_split-20_source-all_class-all_well-all_test/0/WELL-00002_20170810120000.parquet', timestamp=Timestamp('2017-08-10 12:00:00'), file_size=417579, num_timesteps=17300), EventMetadata(hash_id='2706723544f37c8a607da094d2c0c0ba198e936ff241dc7ad63bae76b22be8b6', class_type='NORMAL', source='REAL', well_id=5, path='/home/ubuntu/lemi_3w/data/dataset_converted_v10101_split-20_source-all_class-all_well-all_test/0/WELL-00005_20170815050000.parquet', timestamp=Timestamp('2017-08-15 05:00:00'), file_size=144434, num_timesteps=10666), EventMetadata(hash_id='311ba5566a8312d1c5cded149fd679ad6fff32d88c912d1e69f63fd8c0cecd8e', class_type='NORMAL', source='REAL', well_id=6, path='/home/ubuntu/lemi_3w/data/dataset_converted_v10101_split-20_source-all_class-all_well-all_test/0/WELL-00006_20170209050042.parquet', timestamp=Timestamp('2017-02-09 05:00:42'), file_size=275499, num_timesteps=17959), EventMetadata(hash_id='fe13935ee709091e2a19332e7dd229d8e9b5c856719e84763cf8fc2ab81c9658', class_type='NORMAL', source='REAL', well_id=6, path='/home/ubuntu/lemi_3w/data/dataset_converted_v10101_split-20_source-all_class-all_well-all_test/0/WELL-00006_20170223110000.parquet', timestamp=Timestamp('2017-02-23 11:00:00'), file_size=279408, num_timesteps=17936), EventMetadata(hash_id='dde3b20e45ce523fcdb667dc559bed3d1e30ed69b8817b2ff836d6e156d10022', class_type='NORMAL', source='REAL', well_id=1, path='/home/ubuntu/lemi_3w/data/dataset_converted_v10101_split-20_source-all_class-all_well-all_test/0/WELL-00001_20170528120000.parquet', timestamp=Timestamp('2017-05-28 12:00:00'), file_size=464343, num_timesteps=17936), EventMetadata(hash_id='fa72ffe68f81d26f9cf8bb5bff40191ec06599031c8bbd9fac282526ba61bb37', class_type='NORMAL', source='REAL', well_id=8, path='/home/ubuntu/lemi_3w/data/dataset_converted_v10101_split-20_source-all_class-all_well-all_test/0/WELL-00008_20170703060123.parquet', timestamp=Timestamp('2017-07-03 06:01:23'), file_size=218245, num_timesteps=17727), EventMetadata(hash_id='50325687da3dd5e45db6b4615042281c07f389d6a4df72646e62e934310db372', class_type='NORMAL', source='REAL', well_id=6, path='/home/ubuntu/lemi_3w/data/dataset_converted_v10101_split-20_source-all_class-all_well-all_test/0/WELL-00006_20170820060000.parquet', timestamp=Timestamp('2017-08-20 06:00:00'), file_size=305926, num_timesteps=17962), EventMetadata(hash_id='f00bd479e8c59976c42e2164bd6a757d94948caa9d0069068cf9b7ea356ca597', class_type='NORMAL', source='REAL', well_id=2, path='/home/ubuntu/lemi_3w/data/dataset_converted_v10101_split-20_source-all_class-all_well-all_test/0/WELL-00002_20170404230000.parquet', timestamp=Timestamp('2017-04-04 23:00:00'), file_size=491705, num_timesteps=17863), EventMetadata(hash_id='c614a3c62d44b4986600db6306689bcd2200bf06e7733fe20e225427f784cb56', class_type='NORMAL', source='REAL', well_id=2, path='/home/ubuntu/lemi_3w/data/dataset_converted_v10101_split-20_source-all_class-all_well-all_test/0/WELL-00002_20170809010000.parquet', timestamp=Timestamp('2017-08-09 01:00:00'), file_size=504695, num_timesteps=17947), EventMetadata(hash_id='3795ebc9223c7b94788d91ba0def0262a625cc1fcc8e1c6f095f017a3e2a20f4', class_type='NORMAL', source='REAL', well_id=5, path='/home/ubuntu/lemi_3w/data/dataset_converted_v10101_split-20_source-all_class-all_well-all_test/0/WELL-00005_20170813110000.parquet', timestamp=Timestamp('2017-08-13 11:00:00'), file_size=213572, num_timesteps=10658), EventMetadata(hash_id='9f4dac23018e457c99aec753eaf8a6edc9d169adcb936111c433a5840957268a', class_type='NORMAL', source='REAL', well_id=2, path='/home/ubuntu/lemi_3w/data/dataset_converted_v10101_split-20_source-all_class-all_well-all_test/0/WELL-00002_20170809110000.parquet', timestamp=Timestamp('2017-08-09 11:00:00'), file_size=463578, num_timesteps=17933), EventMetadata(hash_id='411ec8b684208f6942610288a7381361e0193f664fb5c844c98f449ef67fa898', class_type='NORMAL', source='REAL', well_id=6, path='/home/ubuntu/lemi_3w/data/dataset_converted_v10101_split-20_source-all_class-all_well-all_test/0/WELL-00006_20170826120103.parquet', timestamp=Timestamp('2017-08-26 12:01:03'), file_size=404645, num_timesteps=17938), EventMetadata(hash_id='53cdbdb95c7ce43b316210ebd088d2f2e94973e9508c698a301fc71ff84e55b4', class_type='NORMAL', source='REAL', well_id=6, path='/home/ubuntu/lemi_3w/data/dataset_converted_v10101_split-20_source-all_class-all_well-all_test/0/WELL-00006_20170827230218.parquet', timestamp=Timestamp('2017-08-27 23:02:18'), file_size=357014, num_timesteps=17863), EventMetadata(hash_id='69abb631e79f41684d3affc839fcd910abd2d7f156b5f6f0808cf08528edacfa', class_type='NORMAL', source='REAL', well_id=3, path='/home/ubuntu/lemi_3w/data/dataset_converted_v10101_split-20_source-all_class-all_well-all_test/0/WELL-00003_20170813180118.parquet', timestamp=Timestamp('2017-08-13 18:01:18'), file_size=230741, num_timesteps=17844), EventMetadata(hash_id='3145d4df137f339c948c939692327bc6988d99b563f7ec64e83e18dad1d3e4d2', class_type='NORMAL', source='REAL', well_id=2, path='/home/ubuntu/lemi_3w/data/dataset_converted_v10101_split-20_source-all_class-all_well-all_test/0/WELL-00002_20170611000108.parquet', timestamp=Timestamp('2017-06-11 00:01:08'), file_size=472405, num_timesteps=17841), EventMetadata(hash_id='8617ce9243b59bf443dc40ad87f1fece7e88c0a09fbd1b8c1b106a121eb65ee6', class_type='NORMAL', source='REAL', well_id=2, path='/home/ubuntu/lemi_3w/data/dataset_converted_v10101_split-20_source-all_class-all_well-all_test/0/WELL-00002_20170613120000.parquet', timestamp=Timestamp('2017-06-13 12:00:00'), file_size=461396, num_timesteps=17932), EventMetadata(hash_id='bdbf37ace6172f32f5f965fca6205b79061116c0a9db4e5119b699c5a1e2dbdf', class_type='NORMAL', source='REAL', well_id=8, path='/home/ubuntu/lemi_3w/data/dataset_converted_v10101_split-20_source-all_class-all_well-all_test/0/WELL-00008_20170701090222.parquet', timestamp=Timestamp('2017-07-01 09:02:22'), file_size=231034, num_timesteps=17621), EventMetadata(hash_id='944e7da20d5eb552f313108ea58d17777b7c41d2b384af96ab9a31a2713849c1', class_type='NORMAL', source='REAL', well_id=6, path='/home/ubuntu/lemi_3w/data/dataset_converted_v10101_split-20_source-all_class-all_well-all_test/0/WELL-00006_20170209000114.parquet', timestamp=Timestamp('2017-02-09 00:01:14'), file_size=351888, num_timesteps=17927), EventMetadata(hash_id='c9d8655a45cceb06ef4efd1c100e476a89ce9095fca63773c8c80de1a0aa6d1b', class_type='NORMAL', source='REAL', well_id=6, path='/home/ubuntu/lemi_3w/data/dataset_converted_v10101_split-20_source-all_class-all_well-all_test/0/WELL-00006_20170208040124.parquet', timestamp=Timestamp('2017-02-08 04:01:24'), file_size=314785, num_timesteps=17917), EventMetadata(hash_id='58eb5da03bd93c1d3d3b16c14203970dcbf5f6acd688d0a4b739e65bbc68e8de', class_type='NORMAL', source='REAL', well_id=5, path='/home/ubuntu/lemi_3w/data/dataset_converted_v10101_split-20_source-all_class-all_well-all_test/0/WELL-00005_20170830120000.parquet', timestamp=Timestamp('2017-08-30 12:00:00'), file_size=184335, num_timesteps=10674), EventMetadata(hash_id='e1d18776ffddeea0ad2035571e56f2c66b0611558f013c8177fde9e789bd0463', class_type='NORMAL', source='REAL', well_id=3, path='/home/ubuntu/lemi_3w/data/dataset_converted_v10101_split-20_source-all_class-all_well-all_test/0/WELL-00003_20170821140207.parquet', timestamp=Timestamp('2017-08-21 14:02:07'), file_size=205466, num_timesteps=17874), EventMetadata(hash_id='cbcdff6b2abdacbe70a7004a4eaf99a1e74e1fe7114ee78313eb0ff66ffcd9c6', class_type='NORMAL', source='REAL', well_id=5, path='/home/ubuntu/lemi_3w/data/dataset_converted_v10101_split-20_source-all_class-all_well-all_test/0/WELL-00005_20170401170000.parquet', timestamp=Timestamp('2017-04-01 17:00:00'), file_size=252298, num_timesteps=17957), EventMetadata(hash_id='e5e34d7702856ca1130ec526ed54863d33132776822662e9f1c158e528460655', class_type='NORMAL', source='REAL', well_id=2, path='/home/ubuntu/lemi_3w/data/dataset_converted_v10101_split-20_source-all_class-all_well-all_test/0/WELL-00002_20170611050011.parquet', timestamp=Timestamp('2017-06-11 05:00:11'), file_size=508302, num_timesteps=17875), EventMetadata(hash_id='09c93a3c8939e9d515751617ecb9c3caf779b0b67c791f3bbb7dd60d4cf9f6c9', class_type='NORMAL', source='REAL', well_id=6, path='/home/ubuntu/lemi_3w/data/dataset_converted_v10101_split-20_source-all_class-all_well-all_test/0/WELL-00006_20170207030135.parquet', timestamp=Timestamp('2017-02-07 03:01:35'), file_size=324538, num_timesteps=17906), EventMetadata(hash_id='b8b67adebfeb31d96315463c1a23371201bf731df185557f7f25583f1d7fb3f6', class_type='NORMAL', source='REAL', well_id=5, path='/home/ubuntu/lemi_3w/data/dataset_converted_v10101_split-20_source-all_class-all_well-all_test/0/WELL-00005_20170910130000.parquet', timestamp=Timestamp('2017-09-10 13:00:00'), file_size=134022, num_timesteps=7068), EventMetadata(hash_id='8aa195cd3c38729df22fd76e0e9f4abec757ef2f27ab6c994aeec58f5cfa7075', class_type='NORMAL', source='REAL', well_id=2, path='/home/ubuntu/lemi_3w/data/dataset_converted_v10101_split-20_source-all_class-all_well-all_test/0/WELL-00002_20170612210000.parquet', timestamp=Timestamp('2017-06-12 21:00:00'), file_size=484317, num_timesteps=17932), EventMetadata(hash_id='abb9428d14d6009f68fc0af335fe6df44cffd59dd012e1789a4924a3157b8fdc', class_type='NORMAL', source='REAL', well_id=2, path='/home/ubuntu/lemi_3w/data/dataset_converted_v10101_split-20_source-all_class-all_well-all_test/0/WELL-00002_20170404180000.parquet', timestamp=Timestamp('2017-04-04 18:00:00'), file_size=462989, num_timesteps=17932), EventMetadata(hash_id='ce592cfaf7f5cdf2ce2e07c6e46281597eccd3d9f726da0c8fdcdd870d78d675', class_type='NORMAL', source='REAL', well_id=2, path='/home/ubuntu/lemi_3w/data/dataset_converted_v10101_split-20_source-all_class-all_well-all_test/0/WELL-00002_20170214170044.parquet', timestamp=Timestamp('2017-02-14 17:00:44'), file_size=536698, num_timesteps=17957), EventMetadata(hash_id='be9a6d2e3219cb3d90a7a162d292a216bf2d2c0e6fb59e3ea1bc679624c94b92', class_type='NORMAL', source='REAL', well_id=6, path='/home/ubuntu/lemi_3w/data/dataset_converted_v10101_split-20_source-all_class-all_well-all_test/0/WELL-00006_20170819150000.parquet', timestamp=Timestamp('2017-08-19 15:00:00'), file_size=274962, num_timesteps=17768), EventMetadata(hash_id='d7a0023d0fed5af73e843827e157f9f148fdfb1e26e264f0ca2c8f54a91ecf36', class_type='NORMAL', source='REAL', well_id=2, path='/home/ubuntu/lemi_3w/data/dataset_converted_v10101_split-20_source-all_class-all_well-all_test/0/WELL-00002_20170625170232.parquet', timestamp=Timestamp('2017-06-25 17:02:32'), file_size=495783, num_timesteps=17849), EventMetadata(hash_id='1058ced5386a4cbffe56e085930d7b4312782a3c1eec11661270d8a1bb568970', class_type='NORMAL', source='REAL', well_id=8, path='/home/ubuntu/lemi_3w/data/dataset_converted_v10101_split-20_source-all_class-all_well-all_test/0/WELL-00008_20170612090246.parquet', timestamp=Timestamp('2017-06-12 09:02:46'), file_size=241570, num_timesteps=17692), EventMetadata(hash_id='d90da801e869f571b2ec676bdf034df311705b2c41de35319fcdfa2ceca9dfe6', class_type='NORMAL', source='REAL', well_id=8, path='/home/ubuntu/lemi_3w/data/dataset_converted_v10101_split-20_source-all_class-all_well-all_test/0/WELL-00008_20170702100222.parquet', timestamp=Timestamp('2017-07-02 10:02:22'), file_size=238587, num_timesteps=17716), EventMetadata(hash_id='22d18d8bf47d76a6c9eb6d7aa8fb864c75919067f2b5307cd1e57a284d31a20c', class_type='NORMAL', source='REAL', well_id=2, path='/home/ubuntu/lemi_3w/data/dataset_converted_v10101_split-20_source-all_class-all_well-all_test/0/WELL-00002_20170626180138.parquet', timestamp=Timestamp('2017-06-26 18:01:38'), file_size=448796, num_timesteps=17903), EventMetadata(hash_id='3035b919ab0d1aaca9453df57b2c183aee2a6322e10bbed42c2f94c59abc4d4d', class_type='NORMAL', source='REAL', well_id=2, path='/home/ubuntu/lemi_3w/data/dataset_converted_v10101_split-20_source-all_class-all_well-all_test/0/WELL-00002_20170811180000.parquet', timestamp=Timestamp('2017-08-11 18:00:00'), file_size=477756, num_timesteps=17947), EventMetadata(hash_id='bc7692c3bef5558e2140e9b37cdf12c9fdf166aa7bd5bcb4da64b56460408bc7', class_type='NORMAL', source='REAL', well_id=1, path='/home/ubuntu/lemi_3w/data/dataset_converted_v10101_split-20_source-all_class-all_well-all_test/0/WELL-00001_20170521200000.parquet', timestamp=Timestamp('2017-05-21 20:00:00'), file_size=488848, num_timesteps=17808), EventMetadata(hash_id='234243103bcfbf5e58b5fb5b36112ff0d21c0a4c25ba0c02ded07f6cfec83749', class_type='NORMAL', source='REAL', well_id=2, path='/home/ubuntu/lemi_3w/data/dataset_converted_v10101_split-20_source-all_class-all_well-all_test/0/WELL-00002_20170219020033.parquet', timestamp=Timestamp('2017-02-19 02:00:33'), file_size=541115, num_timesteps=17968), EventMetadata(hash_id='4dbc4f66cabf61ee015030ff10b2d61da88b8b48b4bc52b1fe244b5d91992dd7', class_type='NORMAL', source='REAL', well_id=1, path='/home/ubuntu/lemi_3w/data/dataset_converted_v10101_split-20_source-all_class-all_well-all_test/0/WELL-00001_20170521100000.parquet', timestamp=Timestamp('2017-05-21 10:00:00'), file_size=442181, num_timesteps=17872), EventMetadata(hash_id='fba25719aabc0e7e404bb72facb4409aed58a3d84aa481e3772fd43a95797bab', class_type='NORMAL', source='REAL', well_id=2, path='/home/ubuntu/lemi_3w/data/dataset_converted_v10101_split-20_source-all_class-all_well-all_test/0/WELL-00002_20170806080000.parquet', timestamp=Timestamp('2017-08-06 08:00:00'), file_size=461982, num_timesteps=17960), EventMetadata(hash_id='231bb4b0280a5162c87847b429cfaa9607754be50bed6bff4531da6f8cc0ebbe', class_type='NORMAL', source='REAL', well_id=3, path='/home/ubuntu/lemi_3w/data/dataset_converted_v10101_split-20_source-all_class-all_well-all_test/0/WELL-00003_20170914210000.parquet', timestamp=Timestamp('2017-09-14 21:00:00'), file_size=220564, num_timesteps=17936), EventMetadata(hash_id='2c579c16b1eda864fef62fd5bc1c1eb58e7a0b4353a23f53ab9f4254b4c206f5', class_type='NORMAL', source='REAL', well_id=2, path='/home/ubuntu/lemi_3w/data/dataset_converted_v10101_split-20_source-all_class-all_well-all_test/0/WELL-00002_20170617060043.parquet', timestamp=Timestamp('2017-06-17 06:00:43'), file_size=461148, num_timesteps=17958), EventMetadata(hash_id='f99e32253ea16c7809f6e03f4661f9a7de4990723c01150dcf62428c4994e352', class_type='NORMAL', source='REAL', well_id=2, path='/home/ubuntu/lemi_3w/data/dataset_converted_v10101_split-20_source-all_class-all_well-all_test/0/WELL-00002_20170620090254.parquet', timestamp=Timestamp('2017-06-20 09:02:54'), file_size=525129, num_timesteps=17827), EventMetadata(hash_id='6e42dd37880b37f925ba3503fa30cad3125c23281d00a4f6d8f5c964bcf08877', class_type='NORMAL', source='REAL', well_id=2, path='/home/ubuntu/lemi_3w/data/dataset_converted_v10101_split-20_source-all_class-all_well-all_test/0/WELL-00002_20170813150000.parquet', timestamp=Timestamp('2017-08-13 15:00:00'), file_size=451981, num_timesteps=17928), EventMetadata(hash_id='266702d5a210146b77f2e69c63fae8211c17a3062f3846e0073b3219232abc83', class_type='NORMAL', source='REAL', well_id=2, path='/home/ubuntu/lemi_3w/data/dataset_converted_v10101_split-20_source-all_class-all_well-all_test/0/WELL-00002_20170805020000.parquet', timestamp=Timestamp('2017-08-05 02:00:00'), file_size=464224, num_timesteps=17933), EventMetadata(hash_id='9258d5b2b3b08c71cfe14f5ed4add452c166f1629353aa2116f0205c7773930c', class_type='NORMAL', source='REAL', well_id=2, path='/home/ubuntu/lemi_3w/data/dataset_converted_v10101_split-20_source-all_class-all_well-all_test/0/WELL-00002_20170622140127.parquet', timestamp=Timestamp('2017-06-22 14:01:27'), file_size=517208, num_timesteps=17914), EventMetadata(hash_id='a4d7444ad895180e1814dd9127ec9c4a291c92243b21757f16a51b5fac29a288', class_type='NORMAL', source='REAL', well_id=6, path='/home/ubuntu/lemi_3w/data/dataset_converted_v10101_split-20_source-all_class-all_well-all_test/0/WELL-00006_20170507080124.parquet', timestamp=Timestamp('2017-05-07 08:01:24'), file_size=381428, num_timesteps=17917), EventMetadata(hash_id='9c95d3108a0032a0bd9ceb85a696fe442e601cf79527da964f8d75204bdb6367', class_type='NORMAL', source='REAL', well_id=5, path='/home/ubuntu/lemi_3w/data/dataset_converted_v10101_split-20_source-all_class-all_well-all_test/0/WELL-00005_20170813140000.parquet', timestamp=Timestamp('2017-08-13 14:00:00'), file_size=184086, num_timesteps=10747), EventMetadata(hash_id='4cabb0c5b3266a03b70244c33ba453426dc515edeecd5b9c297203f685826682', class_type='NORMAL', source='REAL', well_id=1, path='/home/ubuntu/lemi_3w/data/dataset_converted_v10101_split-20_source-all_class-all_well-all_test/0/WELL-00001_20170424230156.parquet', timestamp=Timestamp('2017-04-24 23:01:56'), file_size=508675, num_timesteps=17885), EventMetadata(hash_id='7f61e59df880b5844fcb4ef0dbea57b80b68c801c30325d3385c40c18d9e9a9c', class_type='NORMAL', source='REAL', well_id=6, path='/home/ubuntu/lemi_3w/data/dataset_converted_v10101_split-20_source-all_class-all_well-all_test/0/WELL-00006_20170826070135.parquet', timestamp=Timestamp('2017-08-26 07:01:35'), file_size=434718, num_timesteps=17906), EventMetadata(hash_id='d8f75e3267d56b1bbdd4b92b962ac68a441ee6302b4d4ad0a6d36001181ea7aa', class_type='NORMAL', source='REAL', well_id=3, path='/home/ubuntu/lemi_3w/data/dataset_converted_v10101_split-20_source-all_class-all_well-all_test/0/WELL-00003_20170914110000.parquet', timestamp=Timestamp('2017-09-14 11:00:00'), file_size=232703, num_timesteps=17910), EventMetadata(hash_id='41d64a9c6249a316c153d9059434e8bb1f675d5f446476e1ff77dd441ce2032b', class_type='NORMAL', source='REAL', well_id=6, path='/home/ubuntu/lemi_3w/data/dataset_converted_v10101_split-20_source-all_class-all_well-all_test/0/WELL-00006_20170820010000.parquet', timestamp=Timestamp('2017-08-20 01:00:00'), file_size=368107, num_timesteps=17755), EventMetadata(hash_id='12fa8405b928651b31d2a03fca1169cdfc0a2c0bf8392551400beca75cdd4d0b', class_type='NORMAL', source='REAL', well_id=6, path='/home/ubuntu/lemi_3w/data/dataset_converted_v10101_split-20_source-all_class-all_well-all_test/0/WELL-00006_20170820210000.parquet', timestamp=Timestamp('2017-08-20 21:00:00'), file_size=392131, num_timesteps=17846), EventMetadata(hash_id='40533b5b82c327e8f1beab3fa3990f237283fbf8d048c991b6f2d1565054b002', class_type='NORMAL', source='REAL', well_id=6, path='/home/ubuntu/lemi_3w/data/dataset_converted_v10101_split-20_source-all_class-all_well-all_test/0/WELL-00006_20170817030000.parquet', timestamp=Timestamp('2017-08-17 03:00:00'), file_size=435876, num_timesteps=17949), EventMetadata(hash_id='0b170f49d7992aa610ad54c7e80f6be60c77a3fe1293318dc81bc9a8ab2fcfa1', class_type='NORMAL', source='REAL', well_id=2, path='/home/ubuntu/lemi_3w/data/dataset_converted_v10101_split-20_source-all_class-all_well-all_test/0/WELL-00002_20170619130021.parquet', timestamp=Timestamp('2017-06-19 13:00:21'), file_size=476456, num_timesteps=17980), EventMetadata(hash_id='7ad1158478c52db595ec59f98557a0b59092fb76f1be4768267792c27b6f3c9a', class_type='NORMAL', source='REAL', well_id=8, path='/home/ubuntu/lemi_3w/data/dataset_converted_v10101_split-20_source-all_class-all_well-all_test/0/WELL-00008_20170614130135.parquet', timestamp=Timestamp('2017-06-14 13:01:35'), file_size=231733, num_timesteps=17620), EventMetadata(hash_id='b3f653c0e799ab90c5504edd3d7ecd5ac963c183eb2526af1dc6ece97ed80ff4', class_type='NORMAL', source='REAL', well_id=4, path='/home/ubuntu/lemi_3w/data/dataset_converted_v10101_split-20_source-all_class-all_well-all_test/0/WELL-00004_20140807020107.parquet', timestamp=Timestamp('2014-08-07 02:01:07'), file_size=152479, num_timesteps=7134), EventMetadata(hash_id='b955a887147d60c6735e2bb152fd37691ad3cd021786baec0774a62c52cfba1d', class_type='NORMAL', source='REAL', well_id=5, path='/home/ubuntu/lemi_3w/data/dataset_converted_v10101_split-20_source-all_class-all_well-all_test/0/WELL-00005_20170516140007.parquet', timestamp=Timestamp('2017-05-16 14:00:07'), file_size=156309, num_timesteps=10700), EventMetadata(hash_id='65bcb9cd75034e7a12fffcf66adabacedf0f7bc9c8b6307e89aa413f2e562b9a', class_type='NORMAL', source='REAL', well_id=1, path='/home/ubuntu/lemi_3w/data/dataset_converted_v10101_split-20_source-all_class-all_well-all_test/0/WELL-00001_20170826230000.parquet', timestamp=Timestamp('2017-08-26 23:00:00'), file_size=424762, num_timesteps=17922), EventMetadata(hash_id='76a03f12c4f5fb28c79278e3bd0ade978c27a9eb7302524784f6db27cc591f62', class_type='NORMAL', source='REAL', well_id=2, path='/home/ubuntu/lemi_3w/data/dataset_converted_v10101_split-20_source-all_class-all_well-all_test/0/WELL-00002_20170619080054.parquet', timestamp=Timestamp('2017-06-19 08:00:54'), file_size=512835, num_timesteps=17947), EventMetadata(hash_id='fe8576983a69b2731b54d29443eca42d7e08a4cf0fe792a6107fa1768efa23c7', class_type='NORMAL', source='REAL', well_id=2, path='/home/ubuntu/lemi_3w/data/dataset_converted_v10101_split-20_source-all_class-all_well-all_test/0/WELL-00002_20170217150248.parquet', timestamp=Timestamp('2017-02-17 15:02:48'), file_size=555664, num_timesteps=17833), EventMetadata(hash_id='b23df9a1fa2adc7417558f05322dce696eed1811080f565231659f16110810f1', class_type='NORMAL', source='REAL', well_id=4, path='/home/ubuntu/lemi_3w/data/dataset_converted_v10101_split-20_source-all_class-all_well-all_test/0/WELL-00004_20140807060141.parquet', timestamp=Timestamp('2014-08-07 06:01:41'), file_size=152585, num_timesteps=7100), EventMetadata(hash_id='8e4222c70e6be9c2ef5c8b96475d59087a4f86e48da0985f27ee594675e549ed', class_type='NORMAL', source='REAL', well_id=1, path='/home/ubuntu/lemi_3w/data/dataset_converted_v10101_split-20_source-all_class-all_well-all_test/0/WELL-00001_20170825020000.parquet', timestamp=Timestamp('2017-08-25 02:00:00'), file_size=561937, num_timesteps=17883), EventMetadata(hash_id='0b76d3b275ed900a35c2c6d3cadbda61c70aa71ff3a1305b271f94601a04d0f0', class_type='NORMAL', source='REAL', well_id=6, path='/home/ubuntu/lemi_3w/data/dataset_converted_v10101_split-20_source-all_class-all_well-all_test/0/WELL-00006_20170223010000.parquet', timestamp=Timestamp('2017-02-23 01:00:00'), file_size=312960, num_timesteps=17923), EventMetadata(hash_id='9011b09eb66f2890021947e35c3fd69326e43720f258e5306a04348d355d2699', class_type='NORMAL', source='REAL', well_id=5, path='/home/ubuntu/lemi_3w/data/dataset_converted_v10101_split-20_source-all_class-all_well-all_test/0/WELL-00005_20170401070000.parquet', timestamp=Timestamp('2017-04-01 07:00:00'), file_size=219191, num_timesteps=17942)]\n"
     ]
    }
   ],
   "source": [
    "# splits data, from the selected well, into train and test datasets\n",
    "splitter = rds.RawDataSplitter(metadata_all_data, latest_converted_data_version)\n",
    "split_train_dir, split_test_dir = splitter.stratefy_split_of_data(\n",
    "    data_dir=config.DIR_PROJECT_DATA, \n",
    "    test_size=0.20,\n",
    ")\n",
    "\n",
    "# generates metadata tables for split data\n",
    "train_metadata = rdi.RawDataInspector(\n",
    "    dataset_dir=split_train_dir,\n",
    "    cache_file_path=config.DIR_PROJECT_CACHE / \"train_metadata_all_data.parquet\",\n",
    "    use_cached=True\n",
    ")\n",
    "test_metadata = rdi.RawDataInspector(\n",
    "    dataset_dir=split_test_dir,\n",
    "    cache_file_path=config.DIR_PROJECT_CACHE / \"test_metadata_all_data.parquet\",\n",
    "    use_cached=True\n",
    ")"
   ]
  },
  {
   "attachments": {},
   "cell_type": "markdown",
   "metadata": {},
   "source": [
    "Tabela de anomalias por tipo de fonte - treinamento."
   ]
  },
  {
   "cell_type": "code",
   "execution_count": 4,
   "metadata": {},
   "outputs": [
    {
     "data": {
      "text/html": [
       "<div>\n",
       "<style scoped>\n",
       "    .dataframe tbody tr th:only-of-type {\n",
       "        vertical-align: middle;\n",
       "    }\n",
       "\n",
       "    .dataframe tbody tr th {\n",
       "        vertical-align: top;\n",
       "    }\n",
       "\n",
       "    .dataframe thead th {\n",
       "        text-align: right;\n",
       "    }\n",
       "</style>\n",
       "<table border=\"1\" class=\"dataframe\">\n",
       "  <thead>\n",
       "    <tr style=\"text-align: right;\">\n",
       "      <th></th>\n",
       "      <th>real_count</th>\n",
       "      <th>simul_count</th>\n",
       "      <th>drawn_count</th>\n",
       "      <th>soma</th>\n",
       "    </tr>\n",
       "    <tr>\n",
       "      <th>anomaly</th>\n",
       "      <th></th>\n",
       "      <th></th>\n",
       "      <th></th>\n",
       "      <th></th>\n",
       "    </tr>\n",
       "  </thead>\n",
       "  <tbody>\n",
       "    <tr>\n",
       "      <th>NORMAL</th>\n",
       "      <td>475</td>\n",
       "      <td>0</td>\n",
       "      <td>0</td>\n",
       "      <td>475</td>\n",
       "    </tr>\n",
       "    <tr>\n",
       "      <th>ABRUPT_INCREASE_BSW</th>\n",
       "      <td>4</td>\n",
       "      <td>91</td>\n",
       "      <td>8</td>\n",
       "      <td>103</td>\n",
       "    </tr>\n",
       "    <tr>\n",
       "      <th>SPURIOUS_CLOSURE_DHSV</th>\n",
       "      <td>18</td>\n",
       "      <td>13</td>\n",
       "      <td>0</td>\n",
       "      <td>31</td>\n",
       "    </tr>\n",
       "    <tr>\n",
       "      <th>SEVERE_SLUGGING</th>\n",
       "      <td>25</td>\n",
       "      <td>59</td>\n",
       "      <td>0</td>\n",
       "      <td>84</td>\n",
       "    </tr>\n",
       "    <tr>\n",
       "      <th>FLOW_INSTABILITY</th>\n",
       "      <td>275</td>\n",
       "      <td>0</td>\n",
       "      <td>0</td>\n",
       "      <td>275</td>\n",
       "    </tr>\n",
       "    <tr>\n",
       "      <th>RAPID_PRODUCTIVITY_LOSS</th>\n",
       "      <td>9</td>\n",
       "      <td>351</td>\n",
       "      <td>0</td>\n",
       "      <td>360</td>\n",
       "    </tr>\n",
       "    <tr>\n",
       "      <th>QUICK_RESTRICTION_PCK</th>\n",
       "      <td>5</td>\n",
       "      <td>172</td>\n",
       "      <td>0</td>\n",
       "      <td>177</td>\n",
       "    </tr>\n",
       "    <tr>\n",
       "      <th>SCALING_IN_PCK</th>\n",
       "      <td>4</td>\n",
       "      <td>0</td>\n",
       "      <td>8</td>\n",
       "      <td>12</td>\n",
       "    </tr>\n",
       "    <tr>\n",
       "      <th>HYDRATE_IN_PRODUCTION_LINE</th>\n",
       "      <td>0</td>\n",
       "      <td>65</td>\n",
       "      <td>0</td>\n",
       "      <td>65</td>\n",
       "    </tr>\n",
       "    <tr>\n",
       "      <th>Total</th>\n",
       "      <td>815</td>\n",
       "      <td>751</td>\n",
       "      <td>16</td>\n",
       "      <td>1582</td>\n",
       "    </tr>\n",
       "  </tbody>\n",
       "</table>\n",
       "</div>"
      ],
      "text/plain": [
       "                            real_count  simul_count  drawn_count  soma\n",
       "anomaly                                                               \n",
       "NORMAL                             475            0            0   475\n",
       "ABRUPT_INCREASE_BSW                  4           91            8   103\n",
       "SPURIOUS_CLOSURE_DHSV               18           13            0    31\n",
       "SEVERE_SLUGGING                     25           59            0    84\n",
       "FLOW_INSTABILITY                   275            0            0   275\n",
       "RAPID_PRODUCTIVITY_LOSS              9          351            0   360\n",
       "QUICK_RESTRICTION_PCK                5          172            0   177\n",
       "SCALING_IN_PCK                       4            0            8    12\n",
       "HYDRATE_IN_PRODUCTION_LINE           0           65            0    65\n",
       "Total                              815          751           16  1582"
      ]
     },
     "execution_count": 4,
     "metadata": {},
     "output_type": "execute_result"
    }
   ],
   "source": [
    "rdi.RawDataInspector.generate_table_by_anomaly_source(train_metadata.get_metadata_table())"
   ]
  },
  {
   "attachments": {},
   "cell_type": "markdown",
   "metadata": {},
   "source": [
    "Tabela de anomalias por tipo de fonte - teste."
   ]
  },
  {
   "cell_type": "code",
   "execution_count": 5,
   "metadata": {},
   "outputs": [
    {
     "data": {
      "text/html": [
       "<div>\n",
       "<style scoped>\n",
       "    .dataframe tbody tr th:only-of-type {\n",
       "        vertical-align: middle;\n",
       "    }\n",
       "\n",
       "    .dataframe tbody tr th {\n",
       "        vertical-align: top;\n",
       "    }\n",
       "\n",
       "    .dataframe thead th {\n",
       "        text-align: right;\n",
       "    }\n",
       "</style>\n",
       "<table border=\"1\" class=\"dataframe\">\n",
       "  <thead>\n",
       "    <tr style=\"text-align: right;\">\n",
       "      <th></th>\n",
       "      <th>real_count</th>\n",
       "      <th>simul_count</th>\n",
       "      <th>drawn_count</th>\n",
       "      <th>soma</th>\n",
       "    </tr>\n",
       "    <tr>\n",
       "      <th>anomaly</th>\n",
       "      <th></th>\n",
       "      <th></th>\n",
       "      <th></th>\n",
       "      <th></th>\n",
       "    </tr>\n",
       "  </thead>\n",
       "  <tbody>\n",
       "    <tr>\n",
       "      <th>NORMAL</th>\n",
       "      <td>119</td>\n",
       "      <td>0</td>\n",
       "      <td>0</td>\n",
       "      <td>119</td>\n",
       "    </tr>\n",
       "    <tr>\n",
       "      <th>ABRUPT_INCREASE_BSW</th>\n",
       "      <td>1</td>\n",
       "      <td>23</td>\n",
       "      <td>2</td>\n",
       "      <td>26</td>\n",
       "    </tr>\n",
       "    <tr>\n",
       "      <th>SPURIOUS_CLOSURE_DHSV</th>\n",
       "      <td>4</td>\n",
       "      <td>3</td>\n",
       "      <td>0</td>\n",
       "      <td>7</td>\n",
       "    </tr>\n",
       "    <tr>\n",
       "      <th>SEVERE_SLUGGING</th>\n",
       "      <td>7</td>\n",
       "      <td>15</td>\n",
       "      <td>0</td>\n",
       "      <td>22</td>\n",
       "    </tr>\n",
       "    <tr>\n",
       "      <th>FLOW_INSTABILITY</th>\n",
       "      <td>69</td>\n",
       "      <td>0</td>\n",
       "      <td>0</td>\n",
       "      <td>69</td>\n",
       "    </tr>\n",
       "    <tr>\n",
       "      <th>RAPID_PRODUCTIVITY_LOSS</th>\n",
       "      <td>2</td>\n",
       "      <td>88</td>\n",
       "      <td>0</td>\n",
       "      <td>90</td>\n",
       "    </tr>\n",
       "    <tr>\n",
       "      <th>QUICK_RESTRICTION_PCK</th>\n",
       "      <td>1</td>\n",
       "      <td>43</td>\n",
       "      <td>0</td>\n",
       "      <td>44</td>\n",
       "    </tr>\n",
       "    <tr>\n",
       "      <th>SCALING_IN_PCK</th>\n",
       "      <td>1</td>\n",
       "      <td>0</td>\n",
       "      <td>2</td>\n",
       "      <td>3</td>\n",
       "    </tr>\n",
       "    <tr>\n",
       "      <th>HYDRATE_IN_PRODUCTION_LINE</th>\n",
       "      <td>0</td>\n",
       "      <td>16</td>\n",
       "      <td>0</td>\n",
       "      <td>16</td>\n",
       "    </tr>\n",
       "    <tr>\n",
       "      <th>Total</th>\n",
       "      <td>204</td>\n",
       "      <td>188</td>\n",
       "      <td>4</td>\n",
       "      <td>396</td>\n",
       "    </tr>\n",
       "  </tbody>\n",
       "</table>\n",
       "</div>"
      ],
      "text/plain": [
       "                            real_count  simul_count  drawn_count  soma\n",
       "anomaly                                                               \n",
       "NORMAL                             119            0            0   119\n",
       "ABRUPT_INCREASE_BSW                  1           23            2    26\n",
       "SPURIOUS_CLOSURE_DHSV                4            3            0     7\n",
       "SEVERE_SLUGGING                      7           15            0    22\n",
       "FLOW_INSTABILITY                    69            0            0    69\n",
       "RAPID_PRODUCTIVITY_LOSS              2           88            0    90\n",
       "QUICK_RESTRICTION_PCK                1           43            0    44\n",
       "SCALING_IN_PCK                       1            0            2     3\n",
       "HYDRATE_IN_PRODUCTION_LINE           0           16            0    16\n",
       "Total                              204          188            4   396"
      ]
     },
     "execution_count": 5,
     "metadata": {},
     "output_type": "execute_result"
    }
   ],
   "source": [
    "rdi.RawDataInspector.generate_table_by_anomaly_source(test_metadata.get_metadata_table())"
   ]
  },
  {
   "attachments": {},
   "cell_type": "markdown",
   "metadata": {},
   "source": [
    "# Procesamento de dados"
   ]
  },
  {
   "attachments": {},
   "cell_type": "markdown",
   "metadata": {},
   "source": [
    "Pegar valores da média dos valores e do desvio padrão. Foram calculados préviamente."
   ]
  },
  {
   "cell_type": "code",
   "execution_count": 6,
   "metadata": {},
   "outputs": [
    {
     "data": {
      "text/html": [
       "<div>\n",
       "<style scoped>\n",
       "    .dataframe tbody tr th:only-of-type {\n",
       "        vertical-align: middle;\n",
       "    }\n",
       "\n",
       "    .dataframe tbody tr th {\n",
       "        vertical-align: top;\n",
       "    }\n",
       "\n",
       "    .dataframe thead th {\n",
       "        text-align: right;\n",
       "    }\n",
       "</style>\n",
       "<table border=\"1\" class=\"dataframe\">\n",
       "  <thead>\n",
       "    <tr style=\"text-align: right;\">\n",
       "      <th></th>\n",
       "      <th>mean_of_means</th>\n",
       "      <th>mean_of_stds</th>\n",
       "    </tr>\n",
       "  </thead>\n",
       "  <tbody>\n",
       "    <tr>\n",
       "      <th>P-PDG</th>\n",
       "      <td>1.650749e+07</td>\n",
       "      <td>1.201552e+07</td>\n",
       "    </tr>\n",
       "    <tr>\n",
       "      <th>P-TPT</th>\n",
       "      <td>1.517584e+07</td>\n",
       "      <td>3.687992e+06</td>\n",
       "    </tr>\n",
       "    <tr>\n",
       "      <th>T-TPT</th>\n",
       "      <td>1.061237e+02</td>\n",
       "      <td>1.629953e+01</td>\n",
       "    </tr>\n",
       "    <tr>\n",
       "      <th>P-MON-CKP</th>\n",
       "      <td>4.729793e+06</td>\n",
       "      <td>3.068575e+06</td>\n",
       "    </tr>\n",
       "    <tr>\n",
       "      <th>T-JUS-CKP</th>\n",
       "      <td>7.843213e+01</td>\n",
       "      <td>1.830099e+01</td>\n",
       "    </tr>\n",
       "    <tr>\n",
       "      <th>P-JUS-CKGL</th>\n",
       "      <td>3.501117e+08</td>\n",
       "      <td>2.450589e+08</td>\n",
       "    </tr>\n",
       "    <tr>\n",
       "      <th>QGL</th>\n",
       "      <td>2.603752e-01</td>\n",
       "      <td>1.638849e-01</td>\n",
       "    </tr>\n",
       "  </tbody>\n",
       "</table>\n",
       "</div>"
      ],
      "text/plain": [
       "            mean_of_means  mean_of_stds\n",
       "P-PDG        1.650749e+07  1.201552e+07\n",
       "P-TPT        1.517584e+07  3.687992e+06\n",
       "T-TPT        1.061237e+02  1.629953e+01\n",
       "P-MON-CKP    4.729793e+06  3.068575e+06\n",
       "T-JUS-CKP    7.843213e+01  1.830099e+01\n",
       "P-JUS-CKGL   3.501117e+08  2.450589e+08\n",
       "QGL          2.603752e-01  1.638849e-01"
      ]
     },
     "execution_count": 6,
     "metadata": {},
     "output_type": "execute_result"
    }
   ],
   "source": [
    "# Get cached metrics---standard deviation and average---to be used for data transformation\n",
    "mean_and_std_metric_cache_file_name = config.CACHE_NAME_TRAIN_MEAN_STD_DEV\n",
    "mean_and_std_metric_table = MetricAcquisition.get_mean_and_std_metric_from_cache(\n",
    "    mean_and_std_metric_cache_file_name\n",
    ")\n",
    "mean_metric_list = mean_and_std_metric_table['mean_of_means']\n",
    "std_metric_list = mean_and_std_metric_table['mean_of_stds']\n",
    "\n",
    "mean_and_std_metric_table"
   ]
  },
  {
   "cell_type": "code",
   "execution_count": null,
   "metadata": {},
   "outputs": [],
   "source": [
    "train_tranformed_folder_name = split_train_dir.name\n",
    "\n",
    "train_transformation_manager = TransformationManager(\n",
    "    train_metadata.get_metadata_table(), \n",
    "    output_folder_base_name=train_tranformed_folder_name\n",
    ")\n",
    "\n",
    "transformation_param_sample_interval_seconds=60\n",
    "transformation_param_num_timesteps_for_window=20\n",
    "\n",
    "train_transformation_manager.apply_transformations_to_table(\n",
    "    output_parent_dir=config.DIR_PROJECT_DATA,\n",
    "    sample_interval_seconds=transformation_param_sample_interval_seconds,\n",
    "    num_timesteps_for_window=transformation_param_num_timesteps_for_window,\n",
    "    avg_variable_mean=mean_metric_list,\n",
    "    avg_variable_std_dev=std_metric_list,\n",
    ")"
   ]
  },
  {
   "attachments": {},
   "cell_type": "markdown",
   "metadata": {},
   "source": [
    "## Modelagem"
   ]
  },
  {
   "cell_type": "code",
   "execution_count": null,
   "metadata": {},
   "outputs": [],
   "source": [
    "# Get transformed files paths\n",
    "tranformed_train_single_well_dataset_dir = (\n",
    "    config.DIR_PROJECT_DATA / \n",
    "    (TransformationManager.TRANSFORMATION_NAME_PREFIX + train_tranformed_folder_name))\n",
    "\n",
    "inspector_test_single_well_transformed = rdi.RawDataInspector(\n",
    "    tranformed_train_single_well_dataset_dir,\n",
    "    config.DIR_PROJECT_CACHE / \"single_well_transformed.parquet\",\n",
    "    True\n",
    ")\n",
    "metadata_train_single_well_transformed = inspector_test_single_well_transformed.get_metadata_table()\n",
    "transformed_train_data_single_well_file_path_list = metadata_train_single_well_transformed[\"path\"]\n",
    "\n",
    "\n",
    "def data_generator_loop(file_path_list):\n",
    "    \"\"\"Generator returning batches of data for each file path\"\"\"\n",
    "    while True:\n",
    "        for file_path in file_path_list:\n",
    "            X, y = TransformationManager.retrieve_pair_array(pathlib.Path(file_path))\n",
    "            yield X, y\n",
    "\n",
    "def data_generator_non_loop(file_path_list):\n",
    "    \"\"\"Generator returning batches of data for each file path\"\"\"\n",
    "    \n",
    "    for file_path in file_path_list:\n",
    "        X, y = TransformationManager.retrieve_pair_array(pathlib.Path(file_path))\n",
    "        yield X, y"
   ]
  },
  {
   "cell_type": "code",
   "execution_count": null,
   "metadata": {},
   "outputs": [],
   "source": [
    "from tensorflow.keras import Sequential\n",
    "from tensorflow.keras.layers import LSTM, Dense, Dropout\n",
    "from constants import module_constants\n",
    "\n",
    "num_features = X.shape[2]\n",
    "num_outputs = module_constants.num_class_types\n",
    "\n",
    "model = Sequential()\n",
    "model.add(LSTM(50, activation='relu', input_shape=(transformation_param_num_timesteps_for_window, num_features)))\n",
    "model.add(Dropout(0.5))\n",
    "model.add(Dense(100, activation='relu'))\n",
    "model.add(Dense(num_outputs, activation='softmax'))\n",
    "\n",
    "model.compile(loss='categorical_crossentropy', optimizer='adam', metrics=['accuracy'])\n",
    "model.summary()"
   ]
  }
 ],
 "metadata": {
  "kernelspec": {
   "display_name": ".venv",
   "language": "python",
   "name": "python3"
  },
  "language_info": {
   "codemirror_mode": {
    "name": "ipython",
    "version": 3
   },
   "file_extension": ".py",
   "mimetype": "text/x-python",
   "name": "python",
   "nbconvert_exporter": "python",
   "pygments_lexer": "ipython3",
   "version": "3.10.12"
  },
  "orig_nbformat": 4,
  "vscode": {
   "interpreter": {
    "hash": "f76451b3a7719b8fd32adab79b436fd06da7a0268f14fa2684341b59d3c3b3e7"
   }
  }
 },
 "nbformat": 4,
 "nbformat_minor": 2
}
